{
 "cells": [
  {
   "cell_type": "markdown",
   "metadata": {},
   "source": [
    "# Pandas Test - Real life exercise"
   ]
  },
  {
   "cell_type": "code",
   "execution_count": 1,
   "metadata": {},
   "outputs": [],
   "source": [
    "import pandas as pd\n",
    "import numpy as np"
   ]
  },
  {
   "cell_type": "markdown",
   "metadata": {},
   "source": [
    "For visualizations:"
   ]
  },
  {
   "cell_type": "code",
   "execution_count": 2,
   "metadata": {},
   "outputs": [
    {
     "data": {
      "text/html": [
       "        <script type=\"text/javascript\">\n",
       "        window.PlotlyConfig = {MathJaxConfig: 'local'};\n",
       "        if (window.MathJax) {MathJax.Hub.Config({SVG: {font: \"STIX-Web\"}});}\n",
       "        if (typeof require !== 'undefined') {\n",
       "        require.undef(\"plotly\");\n",
       "        requirejs.config({\n",
       "            paths: {\n",
       "                'plotly': ['https://cdn.plot.ly/plotly-2.9.0.min']\n",
       "            }\n",
       "        });\n",
       "        require(['plotly'], function(Plotly) {\n",
       "            window._Plotly = Plotly;\n",
       "        });\n",
       "        }\n",
       "        </script>\n",
       "        "
      ]
     },
     "metadata": {},
     "output_type": "display_data"
    }
   ],
   "source": [
    "import cufflinks as cf; cf.go_offline()\n",
    "import plotly_express as px"
   ]
  },
  {
   "cell_type": "markdown",
   "metadata": {},
   "source": [
    "## About the data"
   ]
  },
  {
   "cell_type": "markdown",
   "metadata": {},
   "source": [
    "The data you are about to load is coming from an Ad recommentation system of the company InBrain. InBrain is a adTech company and specalize in next-level ad recommendation.  \n",
    "The company has two major products - one giving high quality recommendation while the other is giving an highly yielding recommendation. Inbrain custormers are sending requests, asking for either of the products. \n",
    "\n",
    "Once a week, the company is doing an internal quality assements, and sends a sample of its traffic requests to external annotation process, in which the annotators are trained to manually decided whether the recommended Ad is a succes or not. The data contains information about the ad (**ad_id**), the sampled week (**week_id**), the requester company (**requester**), the region of operation (**region**), the recommendation type (Quality/Yield, **recommendation_type**) and the recommendation provider algorithm (**rec_provider**). The annotators are marking whether the recommendation is meeting the Quality/Yield standards (**is_success**) and whether or not the recommendation is severly defected (**is_sever**)\n",
    "\n",
    "See a sample below:"
   ]
  },
  {
   "cell_type": "code",
   "execution_count": 3,
   "metadata": {},
   "outputs": [
    {
     "data": {
      "text/html": [
       "<div>\n",
       "<style scoped>\n",
       "    .dataframe tbody tr th:only-of-type {\n",
       "        vertical-align: middle;\n",
       "    }\n",
       "\n",
       "    .dataframe tbody tr th {\n",
       "        vertical-align: top;\n",
       "    }\n",
       "\n",
       "    .dataframe thead th {\n",
       "        text-align: right;\n",
       "    }\n",
       "</style>\n",
       "<table border=\"1\" class=\"dataframe\">\n",
       "  <thead>\n",
       "    <tr style=\"text-align: right;\">\n",
       "      <th></th>\n",
       "      <th>week_id</th>\n",
       "      <th>ad_id</th>\n",
       "      <th>requester</th>\n",
       "      <th>region</th>\n",
       "      <th>is_success</th>\n",
       "      <th>is_sever</th>\n",
       "      <th>recommendation_type</th>\n",
       "      <th>rec_provider</th>\n",
       "    </tr>\n",
       "  </thead>\n",
       "  <tbody>\n",
       "    <tr>\n",
       "      <th>66199</th>\n",
       "      <td>2021-week_37</td>\n",
       "      <td>AD09DPDCNT</td>\n",
       "      <td>Search Million Culture</td>\n",
       "      <td>IN</td>\n",
       "      <td>yes</td>\n",
       "      <td>NaN</td>\n",
       "      <td>Qality</td>\n",
       "      <td>UserPopQ</td>\n",
       "    </tr>\n",
       "    <tr>\n",
       "      <th>96794</th>\n",
       "      <td>2021-week_39</td>\n",
       "      <td>AD008QVZVA</td>\n",
       "      <td>Tab Solutions</td>\n",
       "      <td>US</td>\n",
       "      <td>no</td>\n",
       "      <td>True</td>\n",
       "      <td>Qality</td>\n",
       "      <td>XGBQ</td>\n",
       "    </tr>\n",
       "    <tr>\n",
       "      <th>357601</th>\n",
       "      <td>2022-week_06</td>\n",
       "      <td>AD86886988</td>\n",
       "      <td>Extreme DA</td>\n",
       "      <td>US</td>\n",
       "      <td>yes</td>\n",
       "      <td>NaN</td>\n",
       "      <td>Yield</td>\n",
       "      <td>BooksY</td>\n",
       "    </tr>\n",
       "    <tr>\n",
       "      <th>29530</th>\n",
       "      <td>2021-week_35</td>\n",
       "      <td>AD88788878</td>\n",
       "      <td>Search Million Culture</td>\n",
       "      <td>DE</td>\n",
       "      <td>yes</td>\n",
       "      <td>NaN</td>\n",
       "      <td>Qality</td>\n",
       "      <td>BooksQ</td>\n",
       "    </tr>\n",
       "    <tr>\n",
       "      <th>56075</th>\n",
       "      <td>2021-week_36</td>\n",
       "      <td>AD0879QC8O</td>\n",
       "      <td>RelayFoods</td>\n",
       "      <td>US</td>\n",
       "      <td>yes</td>\n",
       "      <td>NaN</td>\n",
       "      <td>Qality</td>\n",
       "      <td>DNNQ</td>\n",
       "    </tr>\n",
       "  </tbody>\n",
       "</table>\n",
       "</div>"
      ],
      "text/plain": [
       "             week_id       ad_id               requester region is_success  \\\n",
       "66199   2021-week_37  AD09DPDCNT  Search Million Culture     IN        yes   \n",
       "96794   2021-week_39  AD008QVZVA           Tab Solutions     US         no   \n",
       "357601  2022-week_06  AD86886988              Extreme DA     US        yes   \n",
       "29530   2021-week_35  AD88788878  Search Million Culture     DE        yes   \n",
       "56075   2021-week_36  AD0879QC8O              RelayFoods     US        yes   \n",
       "\n",
       "       is_sever recommendation_type rec_provider  \n",
       "66199       NaN              Qality     UserPopQ  \n",
       "96794      True              Qality         XGBQ  \n",
       "357601      NaN               Yield       BooksY  \n",
       "29530       NaN              Qality       BooksQ  \n",
       "56075       NaN              Qality         DNNQ  "
      ]
     },
     "execution_count": 3,
     "metadata": {},
     "output_type": "execute_result"
    }
   ],
   "source": [
    "ad_recs_annotated = pd.read_csv('ad_annotations.csv')\n",
    "ad_recs_annotated.sample(5)"
   ]
  },
  {
   "cell_type": "markdown",
   "metadata": {},
   "source": [
    "Your job, as the new and only data scientist of the company, is to get familiar with the the data, show week-over-week trends and produce insightfull graphs as a preparation to a full blown BI dashboard."
   ]
  },
  {
   "cell_type": "markdown",
   "metadata": {},
   "source": [
    "## Questions"
   ]
  },
  {
   "cell_type": "markdown",
   "metadata": {},
   "source": [
    "### Data Modifications"
   ]
  },
  {
   "cell_type": "markdown",
   "metadata": {},
   "source": [
    "* Add a column with the sample year\n",
    "\n",
    "* TODO :Add a column with the sample quarter (google how to)\n",
    "\n",
    "* Add a new success column with values 1 and 0 for yes and no \n",
    "\n",
    "* TODO: Are there duplicated ads? To compac the data, remove duplicated ads and instead add an ad_count column **(pay attention, this is not trivial at all)**\n",
    "\n",
    "* Are there any NaNs in the is_sever column? Count how many and create a new column with NaNs filled as False. Check that indeed the new column contaion no NaNs. \n",
    "* Capitlize (first letter only) the is_success column"
   ]
  },
  {
   "cell_type": "markdown",
   "metadata": {},
   "source": [
    " Trunc Week"
   ]
  },
  {
   "cell_type": "code",
   "execution_count": 4,
   "metadata": {},
   "outputs": [],
   "source": [
    "#Trunc Week\n",
    "ad_recs_annotated['week']=ad_recs_annotated['week_id'].apply(lambda x: int(x[-2:]))"
   ]
  },
  {
   "cell_type": "markdown",
   "metadata": {},
   "source": [
    "### Q1"
   ]
  },
  {
   "cell_type": "code",
   "execution_count": 5,
   "metadata": {},
   "outputs": [
    {
     "data": {
      "text/html": [
       "<div>\n",
       "<style scoped>\n",
       "    .dataframe tbody tr th:only-of-type {\n",
       "        vertical-align: middle;\n",
       "    }\n",
       "\n",
       "    .dataframe tbody tr th {\n",
       "        vertical-align: top;\n",
       "    }\n",
       "\n",
       "    .dataframe thead th {\n",
       "        text-align: right;\n",
       "    }\n",
       "</style>\n",
       "<table border=\"1\" class=\"dataframe\">\n",
       "  <thead>\n",
       "    <tr style=\"text-align: right;\">\n",
       "      <th></th>\n",
       "      <th>week_id</th>\n",
       "      <th>ad_id</th>\n",
       "      <th>requester</th>\n",
       "      <th>region</th>\n",
       "      <th>is_success</th>\n",
       "      <th>is_sever</th>\n",
       "      <th>recommendation_type</th>\n",
       "      <th>rec_provider</th>\n",
       "      <th>week</th>\n",
       "      <th>year</th>\n",
       "    </tr>\n",
       "  </thead>\n",
       "  <tbody>\n",
       "    <tr>\n",
       "      <th>0</th>\n",
       "      <td>2021-week_33</td>\n",
       "      <td>AD0088VOS</td>\n",
       "      <td>Search Million Culture</td>\n",
       "      <td>DE</td>\n",
       "      <td>yes</td>\n",
       "      <td>NaN</td>\n",
       "      <td>Qality</td>\n",
       "      <td>DNNQ</td>\n",
       "      <td>33</td>\n",
       "      <td>2021</td>\n",
       "    </tr>\n",
       "    <tr>\n",
       "      <th>1</th>\n",
       "      <td>2021-week_33</td>\n",
       "      <td>AD07KYS8JM</td>\n",
       "      <td>MoJoe Brewing Company</td>\n",
       "      <td>DE</td>\n",
       "      <td>yes</td>\n",
       "      <td>NaN</td>\n",
       "      <td>Yield</td>\n",
       "      <td>DNNY</td>\n",
       "      <td>33</td>\n",
       "      <td>2021</td>\n",
       "    </tr>\n",
       "    <tr>\n",
       "      <th>2</th>\n",
       "      <td>2021-week_33</td>\n",
       "      <td>AD08PDP6Y9</td>\n",
       "      <td>Search Million Culture</td>\n",
       "      <td>DE</td>\n",
       "      <td>yes</td>\n",
       "      <td>NaN</td>\n",
       "      <td>Qality</td>\n",
       "      <td>DNNQ</td>\n",
       "      <td>33</td>\n",
       "      <td>2021</td>\n",
       "    </tr>\n",
       "    <tr>\n",
       "      <th>3</th>\n",
       "      <td>2021-week_33</td>\n",
       "      <td>AD89608808</td>\n",
       "      <td>Search Million Culture</td>\n",
       "      <td>DE</td>\n",
       "      <td>yes</td>\n",
       "      <td>NaN</td>\n",
       "      <td>Qality</td>\n",
       "      <td>BooksQ</td>\n",
       "      <td>33</td>\n",
       "      <td>2021</td>\n",
       "    </tr>\n",
       "    <tr>\n",
       "      <th>4</th>\n",
       "      <td>2021-week_33</td>\n",
       "      <td>AD07CMVHP6</td>\n",
       "      <td>Search Million Culture</td>\n",
       "      <td>DE</td>\n",
       "      <td>yes</td>\n",
       "      <td>NaN</td>\n",
       "      <td>Qality</td>\n",
       "      <td>DNNQ</td>\n",
       "      <td>33</td>\n",
       "      <td>2021</td>\n",
       "    </tr>\n",
       "  </tbody>\n",
       "</table>\n",
       "</div>"
      ],
      "text/plain": [
       "        week_id       ad_id               requester region is_success  \\\n",
       "0  2021-week_33   AD0088VOS  Search Million Culture     DE        yes   \n",
       "1  2021-week_33  AD07KYS8JM   MoJoe Brewing Company     DE        yes   \n",
       "2  2021-week_33  AD08PDP6Y9  Search Million Culture     DE        yes   \n",
       "3  2021-week_33  AD89608808  Search Million Culture     DE        yes   \n",
       "4  2021-week_33  AD07CMVHP6  Search Million Culture     DE        yes   \n",
       "\n",
       "  is_sever recommendation_type rec_provider  week  year  \n",
       "0      NaN              Qality         DNNQ    33  2021  \n",
       "1      NaN               Yield         DNNY    33  2021  \n",
       "2      NaN              Qality         DNNQ    33  2021  \n",
       "3      NaN              Qality       BooksQ    33  2021  \n",
       "4      NaN              Qality         DNNQ    33  2021  "
      ]
     },
     "execution_count": 5,
     "metadata": {},
     "output_type": "execute_result"
    }
   ],
   "source": [
    "#column with sample year\n",
    "ad_recs_annotated['year']=ad_recs_annotated['week_id'].apply(lambda x: int(x[:4]))\n",
    "ad_recs_annotated.head()"
   ]
  },
  {
   "cell_type": "markdown",
   "metadata": {},
   "source": [
    "### Q2"
   ]
  },
  {
   "cell_type": "code",
   "execution_count": 6,
   "metadata": {},
   "outputs": [],
   "source": [
    "ad_recs_annotated['quarter']=ad_recs_annotated['week'].apply(lambda x: ((x-1)//13)+1)"
   ]
  },
  {
   "cell_type": "markdown",
   "metadata": {},
   "source": [
    "### Q3"
   ]
  },
  {
   "cell_type": "code",
   "execution_count": 7,
   "metadata": {},
   "outputs": [],
   "source": [
    "ad_recs_annotated['success']=ad_recs_annotated['is_success'].apply(lambda x: 1 if x=='yes' else 0)\n",
    "#ad_recs_annotated.sample(10)"
   ]
  },
  {
   "cell_type": "markdown",
   "metadata": {},
   "source": [
    "### Q5"
   ]
  },
  {
   "cell_type": "code",
   "execution_count": 8,
   "metadata": {},
   "outputs": [
    {
     "name": "stdout",
     "output_type": "stream",
     "text": [
      "304195 (373788, 12)\n"
     ]
    }
   ],
   "source": [
    "#Are there any nuns\n",
    "print(ad_recs_annotated['is_sever'].isna().sum(),ad_recs_annotated.shape)"
   ]
  },
  {
   "cell_type": "markdown",
   "metadata": {},
   "source": [
    "### Q5 - Another way"
   ]
  },
  {
   "cell_type": "code",
   "execution_count": 9,
   "metadata": {},
   "outputs": [],
   "source": [
    "import numpy as np"
   ]
  },
  {
   "cell_type": "code",
   "execution_count": 10,
   "metadata": {},
   "outputs": [],
   "source": [
    "\n",
    "ad_recs_annotated['is_sever_new']=ad_recs_annotated['is_sever'].apply(lambda x: x if x is not np.nan else False)\n",
    "\n",
    "#ad_recs_annotated[0:1].is_sever.isna()"
   ]
  },
  {
   "cell_type": "code",
   "execution_count": 11,
   "metadata": {},
   "outputs": [
    {
     "data": {
      "text/plain": [
       "0"
      ]
     },
     "execution_count": 11,
     "metadata": {},
     "output_type": "execute_result"
    }
   ],
   "source": [
    "ad_recs_annotated.is_sever_new.isna().sum()"
   ]
  },
  {
   "cell_type": "code",
   "execution_count": 12,
   "metadata": {},
   "outputs": [],
   "source": [
    "#another way - Nan doesn't equal to itself\n",
    "ad_recs_annotated['is_sever_new_2']=ad_recs_annotated['is_sever'].apply(lambda x: x if x==x else False)\n"
   ]
  },
  {
   "cell_type": "code",
   "execution_count": 13,
   "metadata": {},
   "outputs": [
    {
     "data": {
      "text/plain": [
       "False    329099\n",
       "True      44689\n",
       "Name: is_sever_new, dtype: int64"
      ]
     },
     "execution_count": 13,
     "metadata": {},
     "output_type": "execute_result"
    }
   ],
   "source": [
    "ad_recs_annotated.is_sever_new.value_counts()"
   ]
  },
  {
   "cell_type": "markdown",
   "metadata": {},
   "source": [
    "### Q6"
   ]
  },
  {
   "cell_type": "code",
   "execution_count": 14,
   "metadata": {},
   "outputs": [
    {
     "data": {
      "text/html": [
       "<div>\n",
       "<style scoped>\n",
       "    .dataframe tbody tr th:only-of-type {\n",
       "        vertical-align: middle;\n",
       "    }\n",
       "\n",
       "    .dataframe tbody tr th {\n",
       "        vertical-align: top;\n",
       "    }\n",
       "\n",
       "    .dataframe thead th {\n",
       "        text-align: right;\n",
       "    }\n",
       "</style>\n",
       "<table border=\"1\" class=\"dataframe\">\n",
       "  <thead>\n",
       "    <tr style=\"text-align: right;\">\n",
       "      <th></th>\n",
       "      <th>week_id</th>\n",
       "      <th>ad_id</th>\n",
       "      <th>requester</th>\n",
       "      <th>region</th>\n",
       "      <th>is_success</th>\n",
       "      <th>is_sever</th>\n",
       "      <th>recommendation_type</th>\n",
       "      <th>rec_provider</th>\n",
       "      <th>week</th>\n",
       "      <th>year</th>\n",
       "      <th>quarter</th>\n",
       "      <th>success</th>\n",
       "      <th>is_sever_new</th>\n",
       "      <th>is_sever_new_2</th>\n",
       "    </tr>\n",
       "  </thead>\n",
       "  <tbody>\n",
       "    <tr>\n",
       "      <th>36856</th>\n",
       "      <td>2021-week_35</td>\n",
       "      <td>AD07SSTGV8</td>\n",
       "      <td>Puentes Company</td>\n",
       "      <td>IN</td>\n",
       "      <td>Yes</td>\n",
       "      <td>NaN</td>\n",
       "      <td>Yield</td>\n",
       "      <td>UserPopY</td>\n",
       "      <td>35</td>\n",
       "      <td>2021</td>\n",
       "      <td>3</td>\n",
       "      <td>1</td>\n",
       "      <td>False</td>\n",
       "      <td>False</td>\n",
       "    </tr>\n",
       "    <tr>\n",
       "      <th>289679</th>\n",
       "      <td>2022-week_02</td>\n",
       "      <td>AD000F88O7</td>\n",
       "      <td>MoJoe Brewing Company</td>\n",
       "      <td>GB</td>\n",
       "      <td>Yes</td>\n",
       "      <td>NaN</td>\n",
       "      <td>Yield</td>\n",
       "      <td>RNNY</td>\n",
       "      <td>2</td>\n",
       "      <td>2022</td>\n",
       "      <td>1</td>\n",
       "      <td>1</td>\n",
       "      <td>False</td>\n",
       "      <td>False</td>\n",
       "    </tr>\n",
       "    <tr>\n",
       "      <th>115176</th>\n",
       "      <td>2021-week_41</td>\n",
       "      <td>AD000QDY9X</td>\n",
       "      <td>Search Million Culture</td>\n",
       "      <td>DE</td>\n",
       "      <td>No</td>\n",
       "      <td>True</td>\n",
       "      <td>Qality</td>\n",
       "      <td>UserPopQ</td>\n",
       "      <td>41</td>\n",
       "      <td>2021</td>\n",
       "      <td>4</td>\n",
       "      <td>0</td>\n",
       "      <td>True</td>\n",
       "      <td>True</td>\n",
       "    </tr>\n",
       "    <tr>\n",
       "      <th>226963</th>\n",
       "      <td>2021-week_48</td>\n",
       "      <td>AD08GMXSNW</td>\n",
       "      <td>Extreme DA</td>\n",
       "      <td>US</td>\n",
       "      <td>Yes</td>\n",
       "      <td>NaN</td>\n",
       "      <td>Yield</td>\n",
       "      <td>RNNY</td>\n",
       "      <td>48</td>\n",
       "      <td>2021</td>\n",
       "      <td>4</td>\n",
       "      <td>1</td>\n",
       "      <td>False</td>\n",
       "      <td>False</td>\n",
       "    </tr>\n",
       "    <tr>\n",
       "      <th>116948</th>\n",
       "      <td>2021-week_41</td>\n",
       "      <td>AD88667668</td>\n",
       "      <td>Search Million Culture</td>\n",
       "      <td>DE</td>\n",
       "      <td>Yes</td>\n",
       "      <td>NaN</td>\n",
       "      <td>Qality</td>\n",
       "      <td>BooksQ</td>\n",
       "      <td>41</td>\n",
       "      <td>2021</td>\n",
       "      <td>4</td>\n",
       "      <td>1</td>\n",
       "      <td>False</td>\n",
       "      <td>False</td>\n",
       "    </tr>\n",
       "  </tbody>\n",
       "</table>\n",
       "</div>"
      ],
      "text/plain": [
       "             week_id       ad_id               requester region is_success  \\\n",
       "36856   2021-week_35  AD07SSTGV8         Puentes Company     IN        Yes   \n",
       "289679  2022-week_02  AD000F88O7   MoJoe Brewing Company     GB        Yes   \n",
       "115176  2021-week_41  AD000QDY9X  Search Million Culture     DE         No   \n",
       "226963  2021-week_48  AD08GMXSNW              Extreme DA     US        Yes   \n",
       "116948  2021-week_41  AD88667668  Search Million Culture     DE        Yes   \n",
       "\n",
       "       is_sever recommendation_type rec_provider  week  year  quarter  \\\n",
       "36856       NaN               Yield     UserPopY    35  2021        3   \n",
       "289679      NaN               Yield         RNNY     2  2022        1   \n",
       "115176     True              Qality     UserPopQ    41  2021        4   \n",
       "226963      NaN               Yield         RNNY    48  2021        4   \n",
       "116948      NaN              Qality       BooksQ    41  2021        4   \n",
       "\n",
       "        success  is_sever_new  is_sever_new_2  \n",
       "36856         1         False           False  \n",
       "289679        1         False           False  \n",
       "115176        0          True            True  \n",
       "226963        1         False           False  \n",
       "116948        1         False           False  "
      ]
     },
     "execution_count": 14,
     "metadata": {},
     "output_type": "execute_result"
    }
   ],
   "source": [
    "#ad_recs_annotated.is_success[0].capitalize()\n",
    "ad_recs_annotated['is_success']=ad_recs_annotated['is_success'].apply(lambda x: x.capitalize())\n",
    "ad_recs_annotated.sample(5)"
   ]
  },
  {
   "cell_type": "code",
   "execution_count": null,
   "metadata": {},
   "outputs": [],
   "source": []
  },
  {
   "cell_type": "markdown",
   "metadata": {},
   "source": [
    "### Subset selection"
   ]
  },
  {
   "cell_type": "markdown",
   "metadata": {},
   "source": [
    "for each question, sub-select the data by using the conditional selection (`[]`) and the `.query` API. Use `.shape` on the subselection to obtain the result.  \n",
    "For example:\n",
    "`df.query('some_condition').shape`"
   ]
  },
  {
   "cell_type": "markdown",
   "metadata": {},
   "source": [
    "1. How many requests are there in US region? \n",
    "1. How many **successful** requests are there in US region? \n",
    "1. How many **successful** requests are there in US region, on week 52?\n",
    "1. How many requests where delivered by DDNQ, RRNY and UserPopQ together? \n",
    "1. How many requests where delivered by rule based providers? \n",
    "1. Select only the requests from 2021 - How many are there? \n",
    "1. Select the reqeusts from week 30 to week 40 - How many are there? \n",
    "1. Select all the data that comes from the most popular Ad\n",
    "--Q : Why query doesn't work here?\n",
    "\n",
    "9. Select all the data that comes from the least popular provider\n",
    "1. Select the data in which is_sever is None. How big is it? \n",
    "1. Select the data in which the requester is a 3 word company\n",
    "1. Select the data in which the requester is a 3 word company, and the ad_id has the letter 6 in it\n",
    "1. Select the data in which the requester is a 3 word company, and the multiplication of all the numbers in the ad_id is bigger than 30"
   ]
  },
  {
   "cell_type": "markdown",
   "metadata": {},
   "source": [
    "### Q1"
   ]
  },
  {
   "cell_type": "code",
   "execution_count": 15,
   "metadata": {},
   "outputs": [
    {
     "data": {
      "text/plain": [
       "(103846, 14)"
      ]
     },
     "execution_count": 15,
     "metadata": {},
     "output_type": "execute_result"
    }
   ],
   "source": [
    "#1. How many requests are there in US region? \n",
    "ad_recs_annotated[ad_recs_annotated.region=='US'].shape"
   ]
  },
  {
   "cell_type": "code",
   "execution_count": 16,
   "metadata": {},
   "outputs": [
    {
     "data": {
      "text/plain": [
       "(103846, 14)"
      ]
     },
     "execution_count": 16,
     "metadata": {},
     "output_type": "execute_result"
    }
   ],
   "source": [
    "ad_recs_annotated.query('region==\"US\"').shape"
   ]
  },
  {
   "cell_type": "markdown",
   "metadata": {},
   "source": [
    "### Q2"
   ]
  },
  {
   "cell_type": "code",
   "execution_count": 17,
   "metadata": {},
   "outputs": [
    {
     "data": {
      "text/plain": [
       "(88918, 14)"
      ]
     },
     "execution_count": 17,
     "metadata": {},
     "output_type": "execute_result"
    }
   ],
   "source": [
    "#2 How many **successful** requests are there in US region? \n",
    "ad_recs_annotated[(ad_recs_annotated.region=='US') &(ad_recs_annotated.success==1)].shape"
   ]
  },
  {
   "cell_type": "code",
   "execution_count": 18,
   "metadata": {},
   "outputs": [
    {
     "data": {
      "text/plain": [
       "(88918, 14)"
      ]
     },
     "execution_count": 18,
     "metadata": {},
     "output_type": "execute_result"
    }
   ],
   "source": [
    "ad_recs_annotated.query('region==\"US\" and success==1').shape"
   ]
  },
  {
   "cell_type": "markdown",
   "metadata": {},
   "source": [
    "### Q3"
   ]
  },
  {
   "cell_type": "code",
   "execution_count": 19,
   "metadata": {},
   "outputs": [
    {
     "data": {
      "text/plain": [
       "(3342, 14)"
      ]
     },
     "execution_count": 19,
     "metadata": {},
     "output_type": "execute_result"
    }
   ],
   "source": [
    "#3 How many **successful** requests are there in US region, on week 52?\n",
    "ad_recs_annotated[(ad_recs_annotated.region=='US') &(ad_recs_annotated.success==1) & (ad_recs_annotated.week_id=='2022-week_52')].shape"
   ]
  },
  {
   "cell_type": "code",
   "execution_count": 20,
   "metadata": {},
   "outputs": [
    {
     "data": {
      "text/plain": [
       "(3342, 14)"
      ]
     },
     "execution_count": 20,
     "metadata": {},
     "output_type": "execute_result"
    }
   ],
   "source": [
    "ad_recs_annotated.query('region==\"US\" and success==1 and week_id==\"2022-week_52\"').shape"
   ]
  },
  {
   "cell_type": "markdown",
   "metadata": {},
   "source": [
    "### Q4"
   ]
  },
  {
   "cell_type": "code",
   "execution_count": 21,
   "metadata": {},
   "outputs": [
    {
     "data": {
      "text/plain": [
       "(69937, 14)"
      ]
     },
     "execution_count": 21,
     "metadata": {},
     "output_type": "execute_result"
    }
   ],
   "source": [
    "#4 How many requests where delivered by DDNQ, RRNY and UserPopQ together? \n",
    "ad_recs_annotated[ad_recs_annotated.rec_provider.isin(['DDNQ','RRNY','UserPopQ'])].shape\n",
    "#ad_recs_annotated.rec_provider.isin(['DDNQ','RRNY','UserPopQ'])"
   ]
  },
  {
   "cell_type": "code",
   "execution_count": 22,
   "metadata": {},
   "outputs": [
    {
     "data": {
      "text/plain": [
       "(69937, 14)"
      ]
     },
     "execution_count": 22,
     "metadata": {},
     "output_type": "execute_result"
    }
   ],
   "source": [
    "ad_recs_annotated.query('rec_provider.isin([\"DDNQ\",\"RRNY\",\"UserPopQ\"])').shape"
   ]
  },
  {
   "cell_type": "markdown",
   "metadata": {},
   "source": [
    "### Q5"
   ]
  },
  {
   "cell_type": "code",
   "execution_count": 23,
   "metadata": {},
   "outputs": [
    {
     "data": {
      "text/plain": [
       "(28336, 14)"
      ]
     },
     "execution_count": 23,
     "metadata": {},
     "output_type": "execute_result"
    }
   ],
   "source": [
    "#5How many requests where delivered by rule based providers? \n",
    "ad_recs_annotated[ad_recs_annotated.rec_provider.isin(['RuleBasedY','RuleBased'])].shape\n",
    "\n",
    "#pd.unique(ad_recs_annotated.rec_provider)"
   ]
  },
  {
   "cell_type": "code",
   "execution_count": 24,
   "metadata": {},
   "outputs": [
    {
     "data": {
      "text/plain": [
       "(28336, 14)"
      ]
     },
     "execution_count": 24,
     "metadata": {},
     "output_type": "execute_result"
    }
   ],
   "source": [
    "ad_recs_annotated[ad_recs_annotated.rec_provider.str.contains('RuleBased', regex=False)].shape\n"
   ]
  },
  {
   "cell_type": "code",
   "execution_count": 25,
   "metadata": {},
   "outputs": [
    {
     "data": {
      "text/plain": [
       "(28336, 14)"
      ]
     },
     "execution_count": 25,
     "metadata": {},
     "output_type": "execute_result"
    }
   ],
   "source": [
    "ad_recs_annotated.query('rec_provider.str.contains(\"RuleBased\", regex=False)').shape"
   ]
  },
  {
   "cell_type": "markdown",
   "metadata": {},
   "source": [
    "### Q6"
   ]
  },
  {
   "cell_type": "code",
   "execution_count": 26,
   "metadata": {},
   "outputs": [
    {
     "data": {
      "text/plain": [
       "(271615, 14)"
      ]
     },
     "execution_count": 26,
     "metadata": {},
     "output_type": "execute_result"
    }
   ],
   "source": [
    "#6 Only requests from 2021\n",
    "ad_recs_annotated[(ad_recs_annotated.year==2021)].shape"
   ]
  },
  {
   "cell_type": "code",
   "execution_count": 27,
   "metadata": {},
   "outputs": [
    {
     "data": {
      "text/plain": [
       "(271615, 14)"
      ]
     },
     "execution_count": 27,
     "metadata": {},
     "output_type": "execute_result"
    }
   ],
   "source": [
    "ad_recs_annotated.query('year==2021').shape"
   ]
  },
  {
   "cell_type": "markdown",
   "metadata": {},
   "source": [
    "### Q7"
   ]
  },
  {
   "cell_type": "code",
   "execution_count": 28,
   "metadata": {},
   "outputs": [
    {
     "data": {
      "text/plain": [
       "(115051, 14)"
      ]
     },
     "execution_count": 28,
     "metadata": {},
     "output_type": "execute_result"
    }
   ],
   "source": [
    "#Weeks 30-40\n",
    "ad_recs_annotated[ad_recs_annotated['week'].apply(lambda x: 30<=x<=40)].shape\n"
   ]
  },
  {
   "cell_type": "code",
   "execution_count": 29,
   "metadata": {},
   "outputs": [
    {
     "data": {
      "text/plain": [
       "(115051, 14)"
      ]
     },
     "execution_count": 29,
     "metadata": {},
     "output_type": "execute_result"
    }
   ],
   "source": [
    "ad_recs_annotated.query('30<=week<=40').shape"
   ]
  },
  {
   "cell_type": "markdown",
   "metadata": {},
   "source": [
    "### Q8"
   ]
  },
  {
   "cell_type": "code",
   "execution_count": 30,
   "metadata": {},
   "outputs": [
    {
     "data": {
      "text/plain": [
       "(247, 14)"
      ]
     },
     "execution_count": 30,
     "metadata": {},
     "output_type": "execute_result"
    }
   ],
   "source": [
    "#8 Select all the data that comes from the most popular Ad\n",
    "ad_recs_annotated[ad_recs_annotated.ad_id==ad_recs_annotated.groupby('ad_id').count().week_id.idxmax()].shape\n",
    "\n"
   ]
  },
  {
   "cell_type": "markdown",
   "metadata": {},
   "source": [
    "#Is there a way to have the query part without using another column - Yes ! Since query takes text I can use an F string! "
   ]
  },
  {
   "cell_type": "code",
   "execution_count": 31,
   "metadata": {},
   "outputs": [],
   "source": [
    "most_pop_ad=ad_recs_annotated.ad_id.value_counts().idxmax()\n",
    "q=f'ad_id==\"{most_pop_ad}\"'"
   ]
  },
  {
   "cell_type": "code",
   "execution_count": 32,
   "metadata": {},
   "outputs": [],
   "source": [
    "most_pop_ad=ad_recs_annotated.ad_id.value_counts().idxmax()"
   ]
  },
  {
   "cell_type": "code",
   "execution_count": 33,
   "metadata": {},
   "outputs": [
    {
     "data": {
      "text/plain": [
       "(247, 14)"
      ]
     },
     "execution_count": 33,
     "metadata": {},
     "output_type": "execute_result"
    }
   ],
   "source": [
    "ad_recs_annotated.query(q).shape"
   ]
  },
  {
   "cell_type": "code",
   "execution_count": 34,
   "metadata": {},
   "outputs": [
    {
     "data": {
      "text/html": [
       "<div>\n",
       "<style scoped>\n",
       "    .dataframe tbody tr th:only-of-type {\n",
       "        vertical-align: middle;\n",
       "    }\n",
       "\n",
       "    .dataframe tbody tr th {\n",
       "        vertical-align: top;\n",
       "    }\n",
       "\n",
       "    .dataframe thead th {\n",
       "        text-align: right;\n",
       "    }\n",
       "</style>\n",
       "<table border=\"1\" class=\"dataframe\">\n",
       "  <thead>\n",
       "    <tr style=\"text-align: right;\">\n",
       "      <th></th>\n",
       "      <th>week_id</th>\n",
       "      <th>ad_id</th>\n",
       "      <th>requester</th>\n",
       "      <th>region</th>\n",
       "      <th>is_success</th>\n",
       "      <th>is_sever</th>\n",
       "      <th>recommendation_type</th>\n",
       "      <th>rec_provider</th>\n",
       "      <th>week</th>\n",
       "      <th>year</th>\n",
       "      <th>quarter</th>\n",
       "      <th>success</th>\n",
       "      <th>is_sever_new</th>\n",
       "      <th>is_sever_new_2</th>\n",
       "    </tr>\n",
       "  </thead>\n",
       "  <tbody>\n",
       "    <tr>\n",
       "      <th>7031</th>\n",
       "      <td>2021-week_33</td>\n",
       "      <td>AD07PFFMP9</td>\n",
       "      <td>Puentes Company</td>\n",
       "      <td>IN</td>\n",
       "      <td>Yes</td>\n",
       "      <td>NaN</td>\n",
       "      <td>Yield</td>\n",
       "      <td>ManualQ</td>\n",
       "      <td>33</td>\n",
       "      <td>2021</td>\n",
       "      <td>3</td>\n",
       "      <td>1</td>\n",
       "      <td>False</td>\n",
       "      <td>False</td>\n",
       "    </tr>\n",
       "    <tr>\n",
       "      <th>7032</th>\n",
       "      <td>2021-week_33</td>\n",
       "      <td>AD07PFFMP9</td>\n",
       "      <td>Puentes Company</td>\n",
       "      <td>IN</td>\n",
       "      <td>Yes</td>\n",
       "      <td>NaN</td>\n",
       "      <td>Yield</td>\n",
       "      <td>ManualQ</td>\n",
       "      <td>33</td>\n",
       "      <td>2021</td>\n",
       "      <td>3</td>\n",
       "      <td>1</td>\n",
       "      <td>False</td>\n",
       "      <td>False</td>\n",
       "    </tr>\n",
       "    <tr>\n",
       "      <th>20010</th>\n",
       "      <td>2021-week_34</td>\n",
       "      <td>AD07PFFMP9</td>\n",
       "      <td>Bizanga</td>\n",
       "      <td>IN</td>\n",
       "      <td>Yes</td>\n",
       "      <td>NaN</td>\n",
       "      <td>Yield</td>\n",
       "      <td>ManualQ</td>\n",
       "      <td>34</td>\n",
       "      <td>2021</td>\n",
       "      <td>3</td>\n",
       "      <td>1</td>\n",
       "      <td>False</td>\n",
       "      <td>False</td>\n",
       "    </tr>\n",
       "    <tr>\n",
       "      <th>20011</th>\n",
       "      <td>2021-week_34</td>\n",
       "      <td>AD07PFFMP9</td>\n",
       "      <td>Puentes Company</td>\n",
       "      <td>IN</td>\n",
       "      <td>Yes</td>\n",
       "      <td>NaN</td>\n",
       "      <td>Yield</td>\n",
       "      <td>ManualQ</td>\n",
       "      <td>34</td>\n",
       "      <td>2021</td>\n",
       "      <td>3</td>\n",
       "      <td>1</td>\n",
       "      <td>False</td>\n",
       "      <td>False</td>\n",
       "    </tr>\n",
       "    <tr>\n",
       "      <th>35214</th>\n",
       "      <td>2021-week_35</td>\n",
       "      <td>AD07PFFMP9</td>\n",
       "      <td>Bizanga</td>\n",
       "      <td>IN</td>\n",
       "      <td>Yes</td>\n",
       "      <td>NaN</td>\n",
       "      <td>Yield</td>\n",
       "      <td>ManualQ</td>\n",
       "      <td>35</td>\n",
       "      <td>2021</td>\n",
       "      <td>3</td>\n",
       "      <td>1</td>\n",
       "      <td>False</td>\n",
       "      <td>False</td>\n",
       "    </tr>\n",
       "    <tr>\n",
       "      <th>...</th>\n",
       "      <td>...</td>\n",
       "      <td>...</td>\n",
       "      <td>...</td>\n",
       "      <td>...</td>\n",
       "      <td>...</td>\n",
       "      <td>...</td>\n",
       "      <td>...</td>\n",
       "      <td>...</td>\n",
       "      <td>...</td>\n",
       "      <td>...</td>\n",
       "      <td>...</td>\n",
       "      <td>...</td>\n",
       "      <td>...</td>\n",
       "      <td>...</td>\n",
       "    </tr>\n",
       "    <tr>\n",
       "      <th>363533</th>\n",
       "      <td>2022-week_52</td>\n",
       "      <td>AD07PFFMP9</td>\n",
       "      <td>MoJoe Brewing Company</td>\n",
       "      <td>IN</td>\n",
       "      <td>Yes</td>\n",
       "      <td>NaN</td>\n",
       "      <td>Yield</td>\n",
       "      <td>ManualQ</td>\n",
       "      <td>52</td>\n",
       "      <td>2022</td>\n",
       "      <td>4</td>\n",
       "      <td>1</td>\n",
       "      <td>False</td>\n",
       "      <td>False</td>\n",
       "    </tr>\n",
       "    <tr>\n",
       "      <th>363534</th>\n",
       "      <td>2022-week_52</td>\n",
       "      <td>AD07PFFMP9</td>\n",
       "      <td>MoJoe Brewing Company</td>\n",
       "      <td>IN</td>\n",
       "      <td>Yes</td>\n",
       "      <td>NaN</td>\n",
       "      <td>Yield</td>\n",
       "      <td>ManualQ</td>\n",
       "      <td>52</td>\n",
       "      <td>2022</td>\n",
       "      <td>4</td>\n",
       "      <td>1</td>\n",
       "      <td>False</td>\n",
       "      <td>False</td>\n",
       "    </tr>\n",
       "    <tr>\n",
       "      <th>363535</th>\n",
       "      <td>2022-week_52</td>\n",
       "      <td>AD07PFFMP9</td>\n",
       "      <td>Bizanga</td>\n",
       "      <td>IN</td>\n",
       "      <td>Yes</td>\n",
       "      <td>NaN</td>\n",
       "      <td>Yield</td>\n",
       "      <td>ManualQ</td>\n",
       "      <td>52</td>\n",
       "      <td>2022</td>\n",
       "      <td>4</td>\n",
       "      <td>1</td>\n",
       "      <td>False</td>\n",
       "      <td>False</td>\n",
       "    </tr>\n",
       "    <tr>\n",
       "      <th>363536</th>\n",
       "      <td>2022-week_52</td>\n",
       "      <td>AD07PFFMP9</td>\n",
       "      <td>MoJoe Brewing Company</td>\n",
       "      <td>IN</td>\n",
       "      <td>Yes</td>\n",
       "      <td>NaN</td>\n",
       "      <td>Yield</td>\n",
       "      <td>ManualQ</td>\n",
       "      <td>52</td>\n",
       "      <td>2022</td>\n",
       "      <td>4</td>\n",
       "      <td>1</td>\n",
       "      <td>False</td>\n",
       "      <td>False</td>\n",
       "    </tr>\n",
       "    <tr>\n",
       "      <th>365817</th>\n",
       "      <td>2022-week_52</td>\n",
       "      <td>AD07PFFMP9</td>\n",
       "      <td>Allthetopbananas.com</td>\n",
       "      <td>IN</td>\n",
       "      <td>Yes</td>\n",
       "      <td>NaN</td>\n",
       "      <td>Qality</td>\n",
       "      <td>ManualQ</td>\n",
       "      <td>52</td>\n",
       "      <td>2022</td>\n",
       "      <td>4</td>\n",
       "      <td>1</td>\n",
       "      <td>False</td>\n",
       "      <td>False</td>\n",
       "    </tr>\n",
       "  </tbody>\n",
       "</table>\n",
       "<p>247 rows × 14 columns</p>\n",
       "</div>"
      ],
      "text/plain": [
       "             week_id       ad_id              requester region is_success  \\\n",
       "7031    2021-week_33  AD07PFFMP9        Puentes Company     IN        Yes   \n",
       "7032    2021-week_33  AD07PFFMP9        Puentes Company     IN        Yes   \n",
       "20010   2021-week_34  AD07PFFMP9                Bizanga     IN        Yes   \n",
       "20011   2021-week_34  AD07PFFMP9        Puentes Company     IN        Yes   \n",
       "35214   2021-week_35  AD07PFFMP9                Bizanga     IN        Yes   \n",
       "...              ...         ...                    ...    ...        ...   \n",
       "363533  2022-week_52  AD07PFFMP9  MoJoe Brewing Company     IN        Yes   \n",
       "363534  2022-week_52  AD07PFFMP9  MoJoe Brewing Company     IN        Yes   \n",
       "363535  2022-week_52  AD07PFFMP9                Bizanga     IN        Yes   \n",
       "363536  2022-week_52  AD07PFFMP9  MoJoe Brewing Company     IN        Yes   \n",
       "365817  2022-week_52  AD07PFFMP9   Allthetopbananas.com     IN        Yes   \n",
       "\n",
       "       is_sever recommendation_type rec_provider  week  year  quarter  \\\n",
       "7031        NaN               Yield      ManualQ    33  2021        3   \n",
       "7032        NaN               Yield      ManualQ    33  2021        3   \n",
       "20010       NaN               Yield      ManualQ    34  2021        3   \n",
       "20011       NaN               Yield      ManualQ    34  2021        3   \n",
       "35214       NaN               Yield      ManualQ    35  2021        3   \n",
       "...         ...                 ...          ...   ...   ...      ...   \n",
       "363533      NaN               Yield      ManualQ    52  2022        4   \n",
       "363534      NaN               Yield      ManualQ    52  2022        4   \n",
       "363535      NaN               Yield      ManualQ    52  2022        4   \n",
       "363536      NaN               Yield      ManualQ    52  2022        4   \n",
       "365817      NaN              Qality      ManualQ    52  2022        4   \n",
       "\n",
       "        success  is_sever_new  is_sever_new_2  \n",
       "7031          1         False           False  \n",
       "7032          1         False           False  \n",
       "20010         1         False           False  \n",
       "20011         1         False           False  \n",
       "35214         1         False           False  \n",
       "...         ...           ...             ...  \n",
       "363533        1         False           False  \n",
       "363534        1         False           False  \n",
       "363535        1         False           False  \n",
       "363536        1         False           False  \n",
       "365817        1         False           False  \n",
       "\n",
       "[247 rows x 14 columns]"
      ]
     },
     "execution_count": 34,
     "metadata": {},
     "output_type": "execute_result"
    }
   ],
   "source": [
    "ad_recs_annotated.query(\"ad_id==@most_pop_ad\")"
   ]
  },
  {
   "cell_type": "markdown",
   "metadata": {},
   "source": [
    "### Q9"
   ]
  },
  {
   "cell_type": "code",
   "execution_count": 35,
   "metadata": {},
   "outputs": [
    {
     "data": {
      "text/plain": [
       "(21, 14)"
      ]
     },
     "execution_count": 35,
     "metadata": {},
     "output_type": "execute_result"
    }
   ],
   "source": [
    "# #9 Select all the data that comes from the least popular provider\n",
    "\n",
    "ad_recs_annotated[ad_recs_annotated.rec_provider==ad_recs_annotated.groupby('rec_provider').count().week_id.idxmin()].shape"
   ]
  },
  {
   "cell_type": "code",
   "execution_count": 36,
   "metadata": {},
   "outputs": [],
   "source": [
    "ad_recs_annotated['is_min_provider']=ad_recs_annotated.groupby(\"rec_provider\").count().week_id.idxmin()==ad_recs_annotated.rec_provider"
   ]
  },
  {
   "cell_type": "code",
   "execution_count": 37,
   "metadata": {},
   "outputs": [
    {
     "data": {
      "text/plain": [
       "(21, 15)"
      ]
     },
     "execution_count": 37,
     "metadata": {},
     "output_type": "execute_result"
    }
   ],
   "source": [
    "ad_recs_annotated.query('is_min_provider==True').shape"
   ]
  },
  {
   "cell_type": "markdown",
   "metadata": {},
   "source": [
    "### Q10"
   ]
  },
  {
   "cell_type": "code",
   "execution_count": 38,
   "metadata": {},
   "outputs": [
    {
     "data": {
      "text/plain": [
       "(304195, 15)"
      ]
     },
     "execution_count": 38,
     "metadata": {},
     "output_type": "execute_result"
    }
   ],
   "source": [
    "#10 Select the data in which is_sever is None. How big is it? \n",
    "ad_recs_annotated[ad_recs_annotated.is_sever.isna()==True].shape"
   ]
  },
  {
   "cell_type": "code",
   "execution_count": 39,
   "metadata": {},
   "outputs": [
    {
     "data": {
      "text/plain": [
       "(304195, 15)"
      ]
     },
     "execution_count": 39,
     "metadata": {},
     "output_type": "execute_result"
    }
   ],
   "source": [
    "ad_recs_annotated.query('is_sever.isna()==True').shape"
   ]
  },
  {
   "cell_type": "markdown",
   "metadata": {},
   "source": [
    "### Q11"
   ]
  },
  {
   "cell_type": "code",
   "execution_count": 40,
   "metadata": {},
   "outputs": [
    {
     "data": {
      "text/plain": [
       "(118141, 15)"
      ]
     },
     "execution_count": 40,
     "metadata": {},
     "output_type": "execute_result"
    }
   ],
   "source": [
    "# 11 Select the data in which the requester is a 3 word company\n",
    "ad_recs_annotated[ad_recs_annotated['requester'].apply(lambda x: len(x.split()))==3].shape\n",
    "\n"
   ]
  },
  {
   "cell_type": "code",
   "execution_count": 41,
   "metadata": {},
   "outputs": [
    {
     "data": {
      "text/plain": [
       "(24197, 15)"
      ]
     },
     "execution_count": 41,
     "metadata": {},
     "output_type": "execute_result"
    }
   ],
   "source": [
    "#Select the data in which the requester is a 3 word company, and the ad_id has the letter 6 in it\n",
    "ad_recs_annotated[(ad_recs_annotated['requester'].apply(lambda x: len(x.split()))==3) & (ad_recs_annotated.ad_id.str.contains('6', regex=False))].shape"
   ]
  },
  {
   "cell_type": "markdown",
   "metadata": {},
   "source": [
    "### Q12"
   ]
  },
  {
   "cell_type": "code",
   "execution_count": 42,
   "metadata": {},
   "outputs": [
    {
     "data": {
      "text/plain": [
       "(38390, 15)"
      ]
     },
     "execution_count": 42,
     "metadata": {},
     "output_type": "execute_result"
    }
   ],
   "source": [
    "#12 Select the data in which the requester is a 3 word company, and the ad_id has 6 letters in it\n",
    "ad_recs_annotated[(ad_recs_annotated['requester'].apply(lambda x: len(x.split()))==3) & (ad_recs_annotated['ad_id'].apply(lambda x: sum(c.isalpha() for c in x))==6) ].shape\n"
   ]
  },
  {
   "cell_type": "markdown",
   "metadata": {},
   "source": [
    "### Q13"
   ]
  },
  {
   "cell_type": "code",
   "execution_count": 43,
   "metadata": {},
   "outputs": [],
   "source": [
    "#Select the data in which the requester is a 3 word company, and the multiplication of all the numbers in the ad_id is bigger than 30\n",
    "from functools import reduce"
   ]
  },
  {
   "cell_type": "code",
   "execution_count": 44,
   "metadata": {},
   "outputs": [],
   "source": [
    "import numpy as np"
   ]
  },
  {
   "cell_type": "code",
   "execution_count": 45,
   "metadata": {},
   "outputs": [
    {
     "name": "stdout",
     "output_type": "stream",
     "text": [
      "14155776\n"
     ]
    }
   ],
   "source": [
    "def if_not(x):\n",
    "    if x.isalpha()==True:\n",
    "        return int(1)\n",
    "    else:\n",
    "        return int(x)\n",
    "change_test = list(map(if_not,ad_recs_annotated.ad_id[15926]))\n",
    "result1 = reduce((lambda x, y: x * y), change_test)\n",
    "print(result1)"
   ]
  },
  {
   "cell_type": "code",
   "execution_count": 46,
   "metadata": {},
   "outputs": [],
   "source": [
    "#Order :\n",
    "#    1. Create funcion that transfroms letter to the number 1\n",
    "#    2. run a map - for each character in ad_id run function 1\n",
    "#    3. with reduce - multiply all the values in the new ad_id"
   ]
  },
  {
   "cell_type": "code",
   "execution_count": 47,
   "metadata": {},
   "outputs": [
    {
     "data": {
      "text/html": [
       "<div>\n",
       "<style scoped>\n",
       "    .dataframe tbody tr th:only-of-type {\n",
       "        vertical-align: middle;\n",
       "    }\n",
       "\n",
       "    .dataframe tbody tr th {\n",
       "        vertical-align: top;\n",
       "    }\n",
       "\n",
       "    .dataframe thead th {\n",
       "        text-align: right;\n",
       "    }\n",
       "</style>\n",
       "<table border=\"1\" class=\"dataframe\">\n",
       "  <thead>\n",
       "    <tr style=\"text-align: right;\">\n",
       "      <th></th>\n",
       "      <th>week_id</th>\n",
       "      <th>ad_id</th>\n",
       "      <th>requester</th>\n",
       "      <th>region</th>\n",
       "      <th>is_success</th>\n",
       "      <th>is_sever</th>\n",
       "      <th>recommendation_type</th>\n",
       "      <th>rec_provider</th>\n",
       "      <th>week</th>\n",
       "      <th>year</th>\n",
       "      <th>quarter</th>\n",
       "      <th>success</th>\n",
       "      <th>is_sever_new</th>\n",
       "      <th>is_sever_new_2</th>\n",
       "      <th>is_min_provider</th>\n",
       "    </tr>\n",
       "  </thead>\n",
       "  <tbody>\n",
       "    <tr>\n",
       "      <th>37</th>\n",
       "      <td>2021-week_33</td>\n",
       "      <td>AD88898888</td>\n",
       "      <td>Search Million Culture</td>\n",
       "      <td>DE</td>\n",
       "      <td>Yes</td>\n",
       "      <td>NaN</td>\n",
       "      <td>Qality</td>\n",
       "      <td>BooksQ</td>\n",
       "      <td>33</td>\n",
       "      <td>2021</td>\n",
       "      <td>3</td>\n",
       "      <td>1</td>\n",
       "      <td>False</td>\n",
       "      <td>False</td>\n",
       "      <td>False</td>\n",
       "    </tr>\n",
       "    <tr>\n",
       "      <th>76</th>\n",
       "      <td>2021-week_33</td>\n",
       "      <td>AD88898786</td>\n",
       "      <td>MoJoe Brewing Company</td>\n",
       "      <td>DE</td>\n",
       "      <td>Yes</td>\n",
       "      <td>NaN</td>\n",
       "      <td>Yield</td>\n",
       "      <td>BooksY</td>\n",
       "      <td>33</td>\n",
       "      <td>2021</td>\n",
       "      <td>3</td>\n",
       "      <td>1</td>\n",
       "      <td>False</td>\n",
       "      <td>False</td>\n",
       "      <td>False</td>\n",
       "    </tr>\n",
       "    <tr>\n",
       "      <th>112</th>\n",
       "      <td>2021-week_33</td>\n",
       "      <td>AD88788887</td>\n",
       "      <td>Search Million Culture</td>\n",
       "      <td>DE</td>\n",
       "      <td>Yes</td>\n",
       "      <td>NaN</td>\n",
       "      <td>Qality</td>\n",
       "      <td>BooksQ</td>\n",
       "      <td>33</td>\n",
       "      <td>2021</td>\n",
       "      <td>3</td>\n",
       "      <td>1</td>\n",
       "      <td>False</td>\n",
       "      <td>False</td>\n",
       "      <td>False</td>\n",
       "    </tr>\n",
       "    <tr>\n",
       "      <th>162</th>\n",
       "      <td>2021-week_33</td>\n",
       "      <td>AD88887688</td>\n",
       "      <td>Search Million Culture</td>\n",
       "      <td>DE</td>\n",
       "      <td>Yes</td>\n",
       "      <td>NaN</td>\n",
       "      <td>Qality</td>\n",
       "      <td>BooksQ</td>\n",
       "      <td>33</td>\n",
       "      <td>2021</td>\n",
       "      <td>3</td>\n",
       "      <td>1</td>\n",
       "      <td>False</td>\n",
       "      <td>False</td>\n",
       "      <td>False</td>\n",
       "    </tr>\n",
       "    <tr>\n",
       "      <th>174</th>\n",
       "      <td>2021-week_33</td>\n",
       "      <td>AD88888876</td>\n",
       "      <td>Search Million Culture</td>\n",
       "      <td>DE</td>\n",
       "      <td>Yes</td>\n",
       "      <td>NaN</td>\n",
       "      <td>Qality</td>\n",
       "      <td>BooksQ</td>\n",
       "      <td>33</td>\n",
       "      <td>2021</td>\n",
       "      <td>3</td>\n",
       "      <td>1</td>\n",
       "      <td>False</td>\n",
       "      <td>False</td>\n",
       "      <td>False</td>\n",
       "    </tr>\n",
       "    <tr>\n",
       "      <th>...</th>\n",
       "      <td>...</td>\n",
       "      <td>...</td>\n",
       "      <td>...</td>\n",
       "      <td>...</td>\n",
       "      <td>...</td>\n",
       "      <td>...</td>\n",
       "      <td>...</td>\n",
       "      <td>...</td>\n",
       "      <td>...</td>\n",
       "      <td>...</td>\n",
       "      <td>...</td>\n",
       "      <td>...</td>\n",
       "      <td>...</td>\n",
       "      <td>...</td>\n",
       "      <td>...</td>\n",
       "    </tr>\n",
       "    <tr>\n",
       "      <th>360315</th>\n",
       "      <td>2022-week_52</td>\n",
       "      <td>AD89888888</td>\n",
       "      <td>MoJoe Brewing Company</td>\n",
       "      <td>GB</td>\n",
       "      <td>Yes</td>\n",
       "      <td>NaN</td>\n",
       "      <td>Yield</td>\n",
       "      <td>ManualQ</td>\n",
       "      <td>52</td>\n",
       "      <td>2022</td>\n",
       "      <td>4</td>\n",
       "      <td>1</td>\n",
       "      <td>False</td>\n",
       "      <td>False</td>\n",
       "      <td>False</td>\n",
       "    </tr>\n",
       "    <tr>\n",
       "      <th>362075</th>\n",
       "      <td>2022-week_52</td>\n",
       "      <td>AD88888997</td>\n",
       "      <td>Search Million Culture</td>\n",
       "      <td>GB</td>\n",
       "      <td>Yes</td>\n",
       "      <td>NaN</td>\n",
       "      <td>Qality</td>\n",
       "      <td>UserPopQ</td>\n",
       "      <td>52</td>\n",
       "      <td>2022</td>\n",
       "      <td>4</td>\n",
       "      <td>1</td>\n",
       "      <td>False</td>\n",
       "      <td>False</td>\n",
       "      <td>False</td>\n",
       "    </tr>\n",
       "    <tr>\n",
       "      <th>362199</th>\n",
       "      <td>2022-week_52</td>\n",
       "      <td>AD88688888</td>\n",
       "      <td>Mission Street Manufacturing</td>\n",
       "      <td>GB</td>\n",
       "      <td>No</td>\n",
       "      <td>False</td>\n",
       "      <td>Qality</td>\n",
       "      <td>UserPopQ</td>\n",
       "      <td>52</td>\n",
       "      <td>2022</td>\n",
       "      <td>4</td>\n",
       "      <td>0</td>\n",
       "      <td>False</td>\n",
       "      <td>False</td>\n",
       "      <td>False</td>\n",
       "    </tr>\n",
       "    <tr>\n",
       "      <th>363286</th>\n",
       "      <td>2022-week_52</td>\n",
       "      <td>AD88887888</td>\n",
       "      <td>Search Million Culture</td>\n",
       "      <td>GB</td>\n",
       "      <td>Yes</td>\n",
       "      <td>NaN</td>\n",
       "      <td>Qality</td>\n",
       "      <td>UserPopQ</td>\n",
       "      <td>52</td>\n",
       "      <td>2022</td>\n",
       "      <td>4</td>\n",
       "      <td>1</td>\n",
       "      <td>False</td>\n",
       "      <td>False</td>\n",
       "      <td>False</td>\n",
       "    </tr>\n",
       "    <tr>\n",
       "      <th>372189</th>\n",
       "      <td>2022-week_52</td>\n",
       "      <td>AD88888888</td>\n",
       "      <td>MoJoe Brewing Company</td>\n",
       "      <td>US</td>\n",
       "      <td>Yes</td>\n",
       "      <td>NaN</td>\n",
       "      <td>Yield</td>\n",
       "      <td>BooksY</td>\n",
       "      <td>52</td>\n",
       "      <td>2022</td>\n",
       "      <td>4</td>\n",
       "      <td>1</td>\n",
       "      <td>False</td>\n",
       "      <td>False</td>\n",
       "      <td>False</td>\n",
       "    </tr>\n",
       "  </tbody>\n",
       "</table>\n",
       "<p>983 rows × 15 columns</p>\n",
       "</div>"
      ],
      "text/plain": [
       "             week_id       ad_id                     requester region  \\\n",
       "37      2021-week_33  AD88898888        Search Million Culture     DE   \n",
       "76      2021-week_33  AD88898786         MoJoe Brewing Company     DE   \n",
       "112     2021-week_33  AD88788887        Search Million Culture     DE   \n",
       "162     2021-week_33  AD88887688        Search Million Culture     DE   \n",
       "174     2021-week_33  AD88888876        Search Million Culture     DE   \n",
       "...              ...         ...                           ...    ...   \n",
       "360315  2022-week_52  AD89888888         MoJoe Brewing Company     GB   \n",
       "362075  2022-week_52  AD88888997        Search Million Culture     GB   \n",
       "362199  2022-week_52  AD88688888  Mission Street Manufacturing     GB   \n",
       "363286  2022-week_52  AD88887888        Search Million Culture     GB   \n",
       "372189  2022-week_52  AD88888888         MoJoe Brewing Company     US   \n",
       "\n",
       "       is_success is_sever recommendation_type rec_provider  week  year  \\\n",
       "37            Yes      NaN              Qality       BooksQ    33  2021   \n",
       "76            Yes      NaN               Yield       BooksY    33  2021   \n",
       "112           Yes      NaN              Qality       BooksQ    33  2021   \n",
       "162           Yes      NaN              Qality       BooksQ    33  2021   \n",
       "174           Yes      NaN              Qality       BooksQ    33  2021   \n",
       "...           ...      ...                 ...          ...   ...   ...   \n",
       "360315        Yes      NaN               Yield      ManualQ    52  2022   \n",
       "362075        Yes      NaN              Qality     UserPopQ    52  2022   \n",
       "362199         No    False              Qality     UserPopQ    52  2022   \n",
       "363286        Yes      NaN              Qality     UserPopQ    52  2022   \n",
       "372189        Yes      NaN               Yield       BooksY    52  2022   \n",
       "\n",
       "        quarter  success  is_sever_new  is_sever_new_2  is_min_provider  \n",
       "37            3        1         False           False            False  \n",
       "76            3        1         False           False            False  \n",
       "112           3        1         False           False            False  \n",
       "162           3        1         False           False            False  \n",
       "174           3        1         False           False            False  \n",
       "...         ...      ...           ...             ...              ...  \n",
       "360315        4        1         False           False            False  \n",
       "362075        4        1         False           False            False  \n",
       "362199        4        0         False           False            False  \n",
       "363286        4        1         False           False            False  \n",
       "372189        4        1         False           False            False  \n",
       "\n",
       "[983 rows x 15 columns]"
      ]
     },
     "execution_count": 47,
     "metadata": {},
     "output_type": "execute_result"
    }
   ],
   "source": [
    "ad_recs_annotated[(ad_recs_annotated['requester'].apply(lambda x: len(x.split()))==3) & (ad_recs_annotated['ad_id'].apply(lambda x:reduce((lambda x, y: x * y),list(map(lambda x: int(1) if x.isalpha()==True else int(x),x))))>=30)]"
   ]
  },
  {
   "cell_type": "markdown",
   "metadata": {},
   "source": [
    "### Analysis"
   ]
  },
  {
   "cell_type": "markdown",
   "metadata": {},
   "source": [
    "1. How many weeks available in the data? Are there any missing weeks? \n",
    "1. How many regions available in the data? Are there any missing weeks per region? \n",
    "1. How many ads are being sent to annotation in each region per week?\n",
    "1. How many None values are there in is_sever column? \n",
    "1. Are ads being sent more than one time in a given week? what is the ad_id that was sent the most in a given week? (e.g. ad X where sent 50 times in week Y)\n",
    "1. Are there ads that are being sent in more than one week?\n",
    "   1. Which is the ad that was sent in most amount of weeks (e.g. ad X where sent in Y different weeks)\n",
    "   2. What are the weeks that the ad from above was sent in? \n",
    "   3. Is there an Ad that was succsefull in one week, but not succesfful in a different week? Show one.\n",
    "   ----Q : If I have more than 1 ad that sent X weeks ( max) - How can I show all of them?\n",
    "1. When is_sever is None, what is the number of successful requests? What is the number of non-successful requests? What do you learn from it about the reason for Nones in the first place? \n",
    "1. Per each region, What is the Quality/Yield traffic proportion WoW? \n",
    "--Q : WoW is the diff between weeks? No - Only show the proportion in week\n",
    "\n",
    "9. How many different reqeusters are there? \n",
    "1. Which are the top 5 requesters per region? \n",
    "1. Which are the different rec_proivders?\n",
    "1. Are there different rec providers per region? \n",
    "1. Are there different rec providers per rec type?\n",
    "1. What are the notation rules distinguishing between quality vs yielding providers?\n",
    "1. Which is the most successful region of operation? \n",
    "1. Which is the most successful rec provider per each region? \n",
    "1. Present a table with a success rate, sever defects rate and CI (for each metric) per region\n",
    "1. Present a table with a success rate, sever defects rate and CI (for each metric) per rec provider\n",
    "1. Present a table with a success rate, sever defects rate and CI (for each metric) per region and rec provider combinations\n",
    "1. Present a table with a success rate, sever defects rate and CI (for each metric) per rec type (Q/Y)\n",
    "1. Present a table with a success rate, sever defects rate and CI (for each metric) per rec type and region\n",
    "1. Present WoW table/graph with success rate and CI (see image below) per region\n",
    "1. Present WoW table/graph with success rate and CI (see image below) per region and rec type\n",
    "1. Present WoW table/graph with success rate and CI (see image below) per region and rec provider\n",
    "1. Which are the requester to which we succeed the most?\n",
    "1. Which are the requester to which we produce the most critical defects?\n",
    "1. What is the overall success rate trend over time? \n",
    "1. What is the overall sever defect rate trend over time? \n",
    "1. Preset a WoW graph showing the number of requests per customer in each region (hint: [use stacked bars](https://plotly.com/python/bar-charts/)), from it:\n",
    "  1. Identify major traffic shape changes (addition/removal) of major clients\n",
    "1. Preset a WoW graph showing the **requests proportion** per customer in each region (hint: [use stacked bars](https://plotly.com/python/bar-charts/)), from it:\n",
    "  1. Identify major traffic shape changes (addition/removal) of major clients\n"
   ]
  },
  {
   "cell_type": "markdown",
   "metadata": {},
   "source": [
    "#2 for each region - See what week doesn't appear"
   ]
  },
  {
   "cell_type": "markdown",
   "metadata": {},
   "source": [
    "### Q2"
   ]
  },
  {
   "cell_type": "code",
   "execution_count": 48,
   "metadata": {},
   "outputs": [],
   "source": [
    "#2 How many weeks available in the data? Are there any missing weeks? \n",
    "weeks=pd.unique(ad_recs_annotated.week_id)\n",
    "get_unique=ad_recs_annotated[['region','week_id']].drop_duplicates()\n",
    "get_unique_regions=ad_recs_annotated[['region']].drop_duplicates()"
   ]
  },
  {
   "cell_type": "code",
   "execution_count": 49,
   "metadata": {},
   "outputs": [
    {
     "name": "stdout",
     "output_type": "stream",
     "text": [
      "[{'JP': {'2021-week_51'}}]\n"
     ]
    }
   ],
   "source": [
    "for i in get_unique_regions.region:\n",
    "    l=[]\n",
    "    dict={}\n",
    "    if set(ad_recs_annotated[ad_recs_annotated.region==i].week_id.unique()).issuperset(set(weeks))==False:\n",
    "        dict[i]=set(weeks)-set(ad_recs_annotated[ad_recs_annotated.region==i].week_id.unique())\n",
    "        l.append(dict)\n",
    "        print(l)\n"
   ]
  },
  {
   "cell_type": "markdown",
   "metadata": {},
   "source": [
    "### Q3"
   ]
  },
  {
   "cell_type": "code",
   "execution_count": 50,
   "metadata": {},
   "outputs": [
    {
     "data": {
      "text/html": [
       "<div>\n",
       "<style scoped>\n",
       "    .dataframe tbody tr th:only-of-type {\n",
       "        vertical-align: middle;\n",
       "    }\n",
       "\n",
       "    .dataframe tbody tr th {\n",
       "        vertical-align: top;\n",
       "    }\n",
       "\n",
       "    .dataframe thead th {\n",
       "        text-align: right;\n",
       "    }\n",
       "</style>\n",
       "<table border=\"1\" class=\"dataframe\">\n",
       "  <thead>\n",
       "    <tr style=\"text-align: right;\">\n",
       "      <th></th>\n",
       "      <th>region</th>\n",
       "      <th>week_id</th>\n",
       "      <th>ad_id</th>\n",
       "    </tr>\n",
       "  </thead>\n",
       "  <tbody>\n",
       "    <tr>\n",
       "      <th>0</th>\n",
       "      <td>DE</td>\n",
       "      <td>2021-week_33</td>\n",
       "      <td>2395</td>\n",
       "    </tr>\n",
       "    <tr>\n",
       "      <th>1</th>\n",
       "      <td>DE</td>\n",
       "      <td>2021-week_34</td>\n",
       "      <td>2360</td>\n",
       "    </tr>\n",
       "    <tr>\n",
       "      <th>2</th>\n",
       "      <td>DE</td>\n",
       "      <td>2021-week_35</td>\n",
       "      <td>2393</td>\n",
       "    </tr>\n",
       "    <tr>\n",
       "      <th>3</th>\n",
       "      <td>DE</td>\n",
       "      <td>2021-week_36</td>\n",
       "      <td>2401</td>\n",
       "    </tr>\n",
       "    <tr>\n",
       "      <th>4</th>\n",
       "      <td>DE</td>\n",
       "      <td>2021-week_37</td>\n",
       "      <td>2404</td>\n",
       "    </tr>\n",
       "    <tr>\n",
       "      <th>...</th>\n",
       "      <td>...</td>\n",
       "      <td>...</td>\n",
       "      <td>...</td>\n",
       "    </tr>\n",
       "    <tr>\n",
       "      <th>124</th>\n",
       "      <td>US</td>\n",
       "      <td>2022-week_03</td>\n",
       "      <td>3979</td>\n",
       "    </tr>\n",
       "    <tr>\n",
       "      <th>125</th>\n",
       "      <td>US</td>\n",
       "      <td>2022-week_04</td>\n",
       "      <td>3999</td>\n",
       "    </tr>\n",
       "    <tr>\n",
       "      <th>126</th>\n",
       "      <td>US</td>\n",
       "      <td>2022-week_05</td>\n",
       "      <td>3998</td>\n",
       "    </tr>\n",
       "    <tr>\n",
       "      <th>127</th>\n",
       "      <td>US</td>\n",
       "      <td>2022-week_06</td>\n",
       "      <td>3992</td>\n",
       "    </tr>\n",
       "    <tr>\n",
       "      <th>128</th>\n",
       "      <td>US</td>\n",
       "      <td>2022-week_52</td>\n",
       "      <td>3998</td>\n",
       "    </tr>\n",
       "  </tbody>\n",
       "</table>\n",
       "<p>129 rows × 3 columns</p>\n",
       "</div>"
      ],
      "text/plain": [
       "    region       week_id  ad_id\n",
       "0       DE  2021-week_33   2395\n",
       "1       DE  2021-week_34   2360\n",
       "2       DE  2021-week_35   2393\n",
       "3       DE  2021-week_36   2401\n",
       "4       DE  2021-week_37   2404\n",
       "..     ...           ...    ...\n",
       "124     US  2022-week_03   3979\n",
       "125     US  2022-week_04   3999\n",
       "126     US  2022-week_05   3998\n",
       "127     US  2022-week_06   3992\n",
       "128     US  2022-week_52   3998\n",
       "\n",
       "[129 rows x 3 columns]"
      ]
     },
     "execution_count": 50,
     "metadata": {},
     "output_type": "execute_result"
    }
   ],
   "source": [
    "#3How many ads are being sent to annotation in each region per week\n",
    "ad_recs_annotated.groupby(['region','week_id']).ad_id.count().to_frame().reset_index()"
   ]
  },
  {
   "cell_type": "markdown",
   "metadata": {},
   "source": [
    "### Q4"
   ]
  },
  {
   "cell_type": "code",
   "execution_count": 51,
   "metadata": {},
   "outputs": [
    {
     "data": {
      "text/plain": [
       "304195"
      ]
     },
     "execution_count": 51,
     "metadata": {},
     "output_type": "execute_result"
    }
   ],
   "source": [
    "#4How many None values are there in is_sever column?\n",
    "ad_recs_annotated['is_sever'].isna().sum()"
   ]
  },
  {
   "cell_type": "markdown",
   "metadata": {},
   "source": [
    "### Q5"
   ]
  },
  {
   "cell_type": "code",
   "execution_count": 52,
   "metadata": {},
   "outputs": [
    {
     "data": {
      "text/html": [
       "<div>\n",
       "<style scoped>\n",
       "    .dataframe tbody tr th:only-of-type {\n",
       "        vertical-align: middle;\n",
       "    }\n",
       "\n",
       "    .dataframe tbody tr th {\n",
       "        vertical-align: top;\n",
       "    }\n",
       "\n",
       "    .dataframe thead th {\n",
       "        text-align: right;\n",
       "    }\n",
       "</style>\n",
       "<table border=\"1\" class=\"dataframe\">\n",
       "  <thead>\n",
       "    <tr style=\"text-align: right;\">\n",
       "      <th></th>\n",
       "      <th>ad_id</th>\n",
       "      <th>week_id</th>\n",
       "      <th>requester</th>\n",
       "    </tr>\n",
       "  </thead>\n",
       "  <tbody>\n",
       "    <tr>\n",
       "      <th>335036</th>\n",
       "      <td>AD098SWYF6</td>\n",
       "      <td>2021-week_40</td>\n",
       "      <td>81</td>\n",
       "    </tr>\n",
       "  </tbody>\n",
       "</table>\n",
       "</div>"
      ],
      "text/plain": [
       "             ad_id       week_id  requester\n",
       "335036  AD098SWYF6  2021-week_40         81"
      ]
     },
     "execution_count": 52,
     "metadata": {},
     "output_type": "execute_result"
    }
   ],
   "source": [
    "# 5 Are ads being sent more than one time in a given week? what is the ad_id that was sent the most in a given week? (e.g. ad X where sent 50 times in week Y)\n",
    "ad_recs_annotated.groupby(['ad_id','week_id']).requester.count().reset_index().sort_values(by='requester',ascending=False).head(1)"
   ]
  },
  {
   "cell_type": "markdown",
   "metadata": {},
   "source": [
    "### Q6"
   ]
  },
  {
   "cell_type": "code",
   "execution_count": 53,
   "metadata": {},
   "outputs": [
    {
     "data": {
      "text/html": [
       "<div>\n",
       "<style scoped>\n",
       "    .dataframe tbody tr th:only-of-type {\n",
       "        vertical-align: middle;\n",
       "    }\n",
       "\n",
       "    .dataframe tbody tr th {\n",
       "        vertical-align: top;\n",
       "    }\n",
       "\n",
       "    .dataframe thead th {\n",
       "        text-align: right;\n",
       "    }\n",
       "</style>\n",
       "<table border=\"1\" class=\"dataframe\">\n",
       "  <thead>\n",
       "    <tr style=\"text-align: right;\">\n",
       "      <th></th>\n",
       "      <th>ad_id</th>\n",
       "      <th>week_id</th>\n",
       "    </tr>\n",
       "  </thead>\n",
       "  <tbody>\n",
       "    <tr>\n",
       "      <th>118808</th>\n",
       "      <td>AD07PFFMP9</td>\n",
       "      <td>26</td>\n",
       "    </tr>\n",
       "    <tr>\n",
       "      <th>282865</th>\n",
       "      <td>AD098ZJV6Z</td>\n",
       "      <td>26</td>\n",
       "    </tr>\n",
       "    <tr>\n",
       "      <th>84779</th>\n",
       "      <td>AD079VP6DH</td>\n",
       "      <td>26</td>\n",
       "    </tr>\n",
       "    <tr>\n",
       "      <th>153895</th>\n",
       "      <td>AD08697N88</td>\n",
       "      <td>25</td>\n",
       "    </tr>\n",
       "    <tr>\n",
       "      <th>300084</th>\n",
       "      <td>AD88888888</td>\n",
       "      <td>25</td>\n",
       "    </tr>\n",
       "    <tr>\n",
       "      <th>...</th>\n",
       "      <td>...</td>\n",
       "      <td>...</td>\n",
       "    </tr>\n",
       "    <tr>\n",
       "      <th>107278</th>\n",
       "      <td>AD07KN8K7C</td>\n",
       "      <td>1</td>\n",
       "    </tr>\n",
       "    <tr>\n",
       "      <th>107279</th>\n",
       "      <td>AD07KN8K8M</td>\n",
       "      <td>1</td>\n",
       "    </tr>\n",
       "    <tr>\n",
       "      <th>107280</th>\n",
       "      <td>AD07KN8M88</td>\n",
       "      <td>1</td>\n",
       "    </tr>\n",
       "    <tr>\n",
       "      <th>107281</th>\n",
       "      <td>AD07KN8M8J</td>\n",
       "      <td>1</td>\n",
       "    </tr>\n",
       "    <tr>\n",
       "      <th>150363</th>\n",
       "      <td>AD07ZFY86L</td>\n",
       "      <td>1</td>\n",
       "    </tr>\n",
       "  </tbody>\n",
       "</table>\n",
       "<p>300727 rows × 2 columns</p>\n",
       "</div>"
      ],
      "text/plain": [
       "             ad_id  week_id\n",
       "118808  AD07PFFMP9       26\n",
       "282865  AD098ZJV6Z       26\n",
       "84779   AD079VP6DH       26\n",
       "153895  AD08697N88       25\n",
       "300084  AD88888888       25\n",
       "...            ...      ...\n",
       "107278  AD07KN8K7C        1\n",
       "107279  AD07KN8K8M        1\n",
       "107280  AD07KN8M88        1\n",
       "107281  AD07KN8M8J        1\n",
       "150363  AD07ZFY86L        1\n",
       "\n",
       "[300727 rows x 2 columns]"
      ]
     },
     "execution_count": 53,
     "metadata": {},
     "output_type": "execute_result"
    }
   ],
   "source": [
    "#6 Number of weeks an ad is sent\n",
    "ad_recs_annotated.groupby(['ad_id']).week_id.nunique().reset_index().sort_values(by='week_id',ascending=False)"
   ]
  },
  {
   "cell_type": "markdown",
   "metadata": {},
   "source": [
    "### Q 6B"
   ]
  },
  {
   "cell_type": "code",
   "execution_count": 54,
   "metadata": {},
   "outputs": [
    {
     "name": "stderr",
     "output_type": "stream",
     "text": [
      "C:\\Users\\YARDEN~1.AYA\\AppData\\Local\\Temp/ipykernel_22324/1436694545.py:2: UserWarning:\n",
      "\n",
      "Boolean Series key will be reindexed to match DataFrame index.\n",
      "\n"
     ]
    }
   ],
   "source": [
    "#Set of all top ads\n",
    "s=set(ad_recs_annotated.groupby(['ad_id']).week_id.nunique().reset_index()[ad_recs_annotated.groupby(['ad_id']).week_id.nunique().reset_index().week_id.sort_values(ascending=False)==ad_recs_annotated.groupby(['ad_id']).week_id.nunique().reset_index().sort_values(by='week_id',ascending=False).week_id.iloc[0]].ad_id)"
   ]
  },
  {
   "cell_type": "code",
   "execution_count": 55,
   "metadata": {},
   "outputs": [
    {
     "data": {
      "text/html": [
       "<div>\n",
       "<style scoped>\n",
       "    .dataframe tbody tr th:only-of-type {\n",
       "        vertical-align: middle;\n",
       "    }\n",
       "\n",
       "    .dataframe tbody tr th {\n",
       "        vertical-align: top;\n",
       "    }\n",
       "\n",
       "    .dataframe thead th {\n",
       "        text-align: right;\n",
       "    }\n",
       "</style>\n",
       "<table border=\"1\" class=\"dataframe\">\n",
       "  <thead>\n",
       "    <tr style=\"text-align: right;\">\n",
       "      <th></th>\n",
       "      <th>ad_id</th>\n",
       "      <th>week_id</th>\n",
       "    </tr>\n",
       "  </thead>\n",
       "  <tbody>\n",
       "    <tr>\n",
       "      <th>6064</th>\n",
       "      <td>AD098ZJV6Z</td>\n",
       "      <td>2021-week_33</td>\n",
       "    </tr>\n",
       "    <tr>\n",
       "      <th>7031</th>\n",
       "      <td>AD07PFFMP9</td>\n",
       "      <td>2021-week_33</td>\n",
       "    </tr>\n",
       "    <tr>\n",
       "      <th>11605</th>\n",
       "      <td>AD079VP6DH</td>\n",
       "      <td>2021-week_33</td>\n",
       "    </tr>\n",
       "    <tr>\n",
       "      <th>20010</th>\n",
       "      <td>AD07PFFMP9</td>\n",
       "      <td>2021-week_34</td>\n",
       "    </tr>\n",
       "    <tr>\n",
       "      <th>20374</th>\n",
       "      <td>AD098ZJV6Z</td>\n",
       "      <td>2021-week_34</td>\n",
       "    </tr>\n",
       "    <tr>\n",
       "      <th>...</th>\n",
       "      <td>...</td>\n",
       "      <td>...</td>\n",
       "    </tr>\n",
       "    <tr>\n",
       "      <th>351601</th>\n",
       "      <td>AD07PFFMP9</td>\n",
       "      <td>2022-week_06</td>\n",
       "    </tr>\n",
       "    <tr>\n",
       "      <th>353947</th>\n",
       "      <td>AD079VP6DH</td>\n",
       "      <td>2022-week_06</td>\n",
       "    </tr>\n",
       "    <tr>\n",
       "      <th>363522</th>\n",
       "      <td>AD07PFFMP9</td>\n",
       "      <td>2022-week_52</td>\n",
       "    </tr>\n",
       "    <tr>\n",
       "      <th>363982</th>\n",
       "      <td>AD098ZJV6Z</td>\n",
       "      <td>2022-week_52</td>\n",
       "    </tr>\n",
       "    <tr>\n",
       "      <th>370254</th>\n",
       "      <td>AD079VP6DH</td>\n",
       "      <td>2022-week_52</td>\n",
       "    </tr>\n",
       "  </tbody>\n",
       "</table>\n",
       "<p>78 rows × 2 columns</p>\n",
       "</div>"
      ],
      "text/plain": [
       "             ad_id       week_id\n",
       "6064    AD098ZJV6Z  2021-week_33\n",
       "7031    AD07PFFMP9  2021-week_33\n",
       "11605   AD079VP6DH  2021-week_33\n",
       "20010   AD07PFFMP9  2021-week_34\n",
       "20374   AD098ZJV6Z  2021-week_34\n",
       "...            ...           ...\n",
       "351601  AD07PFFMP9  2022-week_06\n",
       "353947  AD079VP6DH  2022-week_06\n",
       "363522  AD07PFFMP9  2022-week_52\n",
       "363982  AD098ZJV6Z  2022-week_52\n",
       "370254  AD079VP6DH  2022-week_52\n",
       "\n",
       "[78 rows x 2 columns]"
      ]
     },
     "execution_count": 55,
     "metadata": {},
     "output_type": "execute_result"
    }
   ],
   "source": [
    "ad_recs_annotated[ad_recs_annotated.ad_id.apply(lambda x: x in s)][['ad_id','week_id']].drop_duplicates()"
   ]
  },
  {
   "cell_type": "markdown",
   "metadata": {},
   "source": [
    "### Q6C"
   ]
  },
  {
   "cell_type": "code",
   "execution_count": 56,
   "metadata": {},
   "outputs": [
    {
     "data": {
      "text/html": [
       "<div>\n",
       "<style scoped>\n",
       "    .dataframe tbody tr th:only-of-type {\n",
       "        vertical-align: middle;\n",
       "    }\n",
       "\n",
       "    .dataframe tbody tr th {\n",
       "        vertical-align: top;\n",
       "    }\n",
       "\n",
       "    .dataframe thead th {\n",
       "        text-align: right;\n",
       "    }\n",
       "</style>\n",
       "<table border=\"1\" class=\"dataframe\">\n",
       "  <thead>\n",
       "    <tr style=\"text-align: right;\">\n",
       "      <th></th>\n",
       "      <th>week_id</th>\n",
       "      <th>ad_id</th>\n",
       "      <th>is_sever_new</th>\n",
       "    </tr>\n",
       "  </thead>\n",
       "  <tbody>\n",
       "    <tr>\n",
       "      <th>149662</th>\n",
       "      <td>2021-week_43</td>\n",
       "      <td>AD098D6TVG</td>\n",
       "      <td>2</td>\n",
       "    </tr>\n",
       "    <tr>\n",
       "      <th>145530</th>\n",
       "      <td>2021-week_43</td>\n",
       "      <td>AD088S8XZY</td>\n",
       "      <td>2</td>\n",
       "    </tr>\n",
       "    <tr>\n",
       "      <th>121118</th>\n",
       "      <td>2021-week_41</td>\n",
       "      <td>AD08T88HSD</td>\n",
       "      <td>2</td>\n",
       "    </tr>\n",
       "    <tr>\n",
       "      <th>176831</th>\n",
       "      <td>2021-week_45</td>\n",
       "      <td>AD08WRWPM8</td>\n",
       "      <td>2</td>\n",
       "    </tr>\n",
       "    <tr>\n",
       "      <th>220555</th>\n",
       "      <td>2021-week_49</td>\n",
       "      <td>AD008RPMHE</td>\n",
       "      <td>2</td>\n",
       "    </tr>\n",
       "    <tr>\n",
       "      <th>...</th>\n",
       "      <td>...</td>\n",
       "      <td>...</td>\n",
       "      <td>...</td>\n",
       "    </tr>\n",
       "    <tr>\n",
       "      <th>119667</th>\n",
       "      <td>2021-week_41</td>\n",
       "      <td>AD08JGX89K</td>\n",
       "      <td>1</td>\n",
       "    </tr>\n",
       "    <tr>\n",
       "      <th>119666</th>\n",
       "      <td>2021-week_41</td>\n",
       "      <td>AD08JGWJV8</td>\n",
       "      <td>1</td>\n",
       "    </tr>\n",
       "    <tr>\n",
       "      <th>119665</th>\n",
       "      <td>2021-week_41</td>\n",
       "      <td>AD08JGSHYW</td>\n",
       "      <td>1</td>\n",
       "    </tr>\n",
       "    <tr>\n",
       "      <th>119664</th>\n",
       "      <td>2021-week_41</td>\n",
       "      <td>AD08JGPGHT</td>\n",
       "      <td>1</td>\n",
       "    </tr>\n",
       "    <tr>\n",
       "      <th>358762</th>\n",
       "      <td>2022-week_52</td>\n",
       "      <td>AD98908668</td>\n",
       "      <td>1</td>\n",
       "    </tr>\n",
       "  </tbody>\n",
       "</table>\n",
       "<p>358763 rows × 3 columns</p>\n",
       "</div>"
      ],
      "text/plain": [
       "             week_id       ad_id  is_sever_new\n",
       "149662  2021-week_43  AD098D6TVG             2\n",
       "145530  2021-week_43  AD088S8XZY             2\n",
       "121118  2021-week_41  AD08T88HSD             2\n",
       "176831  2021-week_45  AD08WRWPM8             2\n",
       "220555  2021-week_49  AD008RPMHE             2\n",
       "...              ...         ...           ...\n",
       "119667  2021-week_41  AD08JGX89K             1\n",
       "119666  2021-week_41  AD08JGWJV8             1\n",
       "119665  2021-week_41  AD08JGSHYW             1\n",
       "119664  2021-week_41  AD08JGPGHT             1\n",
       "358762  2022-week_52  AD98908668             1\n",
       "\n",
       "[358763 rows x 3 columns]"
      ]
     },
     "execution_count": 56,
     "metadata": {},
     "output_type": "execute_result"
    }
   ],
   "source": [
    "#6C was there an ad that was succesfull in one week but not in the other?\n",
    "ad_recs_annotated.groupby(['week_id','ad_id']).is_sever_new.nunique().reset_index().sort_values(by='is_sever_new',ascending=False)"
   ]
  },
  {
   "cell_type": "markdown",
   "metadata": {},
   "source": [
    "### Q7"
   ]
  },
  {
   "cell_type": "code",
   "execution_count": 57,
   "metadata": {},
   "outputs": [
    {
     "data": {
      "text/html": [
       "<div>\n",
       "<style scoped>\n",
       "    .dataframe tbody tr th:only-of-type {\n",
       "        vertical-align: middle;\n",
       "    }\n",
       "\n",
       "    .dataframe tbody tr th {\n",
       "        vertical-align: top;\n",
       "    }\n",
       "\n",
       "    .dataframe thead th {\n",
       "        text-align: right;\n",
       "    }\n",
       "</style>\n",
       "<table border=\"1\" class=\"dataframe\">\n",
       "  <thead>\n",
       "    <tr style=\"text-align: right;\">\n",
       "      <th></th>\n",
       "      <th>is_success</th>\n",
       "      <th>ad_id</th>\n",
       "    </tr>\n",
       "  </thead>\n",
       "  <tbody>\n",
       "    <tr>\n",
       "      <th>0</th>\n",
       "      <td>No</td>\n",
       "      <td>6</td>\n",
       "    </tr>\n",
       "    <tr>\n",
       "      <th>1</th>\n",
       "      <td>Yes</td>\n",
       "      <td>304189</td>\n",
       "    </tr>\n",
       "  </tbody>\n",
       "</table>\n",
       "</div>"
      ],
      "text/plain": [
       "  is_success   ad_id\n",
       "0         No       6\n",
       "1        Yes  304189"
      ]
     },
     "execution_count": 57,
     "metadata": {},
     "output_type": "execute_result"
    }
   ],
   "source": [
    "#7When is_sever is None, what is the number of successful requests? What is the number of non-successful requests? What do you learn from it about the reason for Nones in the first place?\n",
    "ad_recs_annotated[ad_recs_annotated.is_sever!=ad_recs_annotated.is_sever].groupby('is_success').ad_id.count().reset_index()\n",
    "#.groupby(['week_id','ad_id']).is_sever_new.nunique().reset_index().sort_values(by='is_sever_new',ascending=False)\n",
    "#Is sever will be the first condition for is_success. It is none since there wan't any value for defects - hence giving none in the calculatio"
   ]
  },
  {
   "cell_type": "markdown",
   "metadata": {},
   "source": [
    "### Q8"
   ]
  },
  {
   "cell_type": "code",
   "execution_count": 58,
   "metadata": {
    "tags": []
   },
   "outputs": [
    {
     "data": {
      "text/html": [
       "<div>\n",
       "<style scoped>\n",
       "    .dataframe tbody tr th:only-of-type {\n",
       "        vertical-align: middle;\n",
       "    }\n",
       "\n",
       "    .dataframe tbody tr th {\n",
       "        vertical-align: top;\n",
       "    }\n",
       "\n",
       "    .dataframe thead th {\n",
       "        text-align: right;\n",
       "    }\n",
       "</style>\n",
       "<table border=\"1\" class=\"dataframe\">\n",
       "  <thead>\n",
       "    <tr style=\"text-align: right;\">\n",
       "      <th></th>\n",
       "      <th>region</th>\n",
       "      <th>week_id</th>\n",
       "      <th>prop</th>\n",
       "    </tr>\n",
       "  </thead>\n",
       "  <tbody>\n",
       "    <tr>\n",
       "      <th>1</th>\n",
       "      <td>DE</td>\n",
       "      <td>2021-week_33</td>\n",
       "      <td>0.796660</td>\n",
       "    </tr>\n",
       "    <tr>\n",
       "      <th>3</th>\n",
       "      <td>DE</td>\n",
       "      <td>2021-week_34</td>\n",
       "      <td>0.836864</td>\n",
       "    </tr>\n",
       "    <tr>\n",
       "      <th>5</th>\n",
       "      <td>DE</td>\n",
       "      <td>2021-week_35</td>\n",
       "      <td>0.773088</td>\n",
       "    </tr>\n",
       "    <tr>\n",
       "      <th>7</th>\n",
       "      <td>DE</td>\n",
       "      <td>2021-week_36</td>\n",
       "      <td>0.802999</td>\n",
       "    </tr>\n",
       "    <tr>\n",
       "      <th>9</th>\n",
       "      <td>DE</td>\n",
       "      <td>2021-week_37</td>\n",
       "      <td>0.788270</td>\n",
       "    </tr>\n",
       "    <tr>\n",
       "      <th>...</th>\n",
       "      <td>...</td>\n",
       "      <td>...</td>\n",
       "      <td>...</td>\n",
       "    </tr>\n",
       "    <tr>\n",
       "      <th>249</th>\n",
       "      <td>US</td>\n",
       "      <td>2022-week_03</td>\n",
       "      <td>0.338527</td>\n",
       "    </tr>\n",
       "    <tr>\n",
       "      <th>251</th>\n",
       "      <td>US</td>\n",
       "      <td>2022-week_04</td>\n",
       "      <td>0.363841</td>\n",
       "    </tr>\n",
       "    <tr>\n",
       "      <th>253</th>\n",
       "      <td>US</td>\n",
       "      <td>2022-week_05</td>\n",
       "      <td>0.348924</td>\n",
       "    </tr>\n",
       "    <tr>\n",
       "      <th>255</th>\n",
       "      <td>US</td>\n",
       "      <td>2022-week_06</td>\n",
       "      <td>0.367986</td>\n",
       "    </tr>\n",
       "    <tr>\n",
       "      <th>257</th>\n",
       "      <td>US</td>\n",
       "      <td>2022-week_52</td>\n",
       "      <td>0.324912</td>\n",
       "    </tr>\n",
       "  </tbody>\n",
       "</table>\n",
       "<p>129 rows × 3 columns</p>\n",
       "</div>"
      ],
      "text/plain": [
       "    region       week_id      prop\n",
       "1       DE  2021-week_33  0.796660\n",
       "3       DE  2021-week_34  0.836864\n",
       "5       DE  2021-week_35  0.773088\n",
       "7       DE  2021-week_36  0.802999\n",
       "9       DE  2021-week_37  0.788270\n",
       "..     ...           ...       ...\n",
       "249     US  2022-week_03  0.338527\n",
       "251     US  2022-week_04  0.363841\n",
       "253     US  2022-week_05  0.348924\n",
       "255     US  2022-week_06  0.367986\n",
       "257     US  2022-week_52  0.324912\n",
       "\n",
       "[129 rows x 3 columns]"
      ]
     },
     "execution_count": 58,
     "metadata": {},
     "output_type": "execute_result"
    }
   ],
   "source": [
    "#8Per each region, What is the Quality/Yield traffic proportion WoW?\n",
    "grouped=ad_recs_annotated.groupby(['region','week_id','recommendation_type']).ad_id.count().reset_index()\n",
    "l=[]\n",
    "for i in grouped.index:\n",
    "    if (i>0 and i%2!=0):\n",
    "        l.append(grouped.ad_id[i-1]/(grouped.ad_id[i]+grouped.ad_id[i-1]))\n",
    "    else:\n",
    "        l.append(0)\n",
    "grouped['prop']=l\n",
    "grouped[grouped.recommendation_type=='Yield'].drop(['recommendation_type','ad_id'],axis=1)"
   ]
  },
  {
   "cell_type": "code",
   "execution_count": 59,
   "metadata": {},
   "outputs": [
    {
     "data": {
      "text/plain": [
       "region  week_id       recommendation_type\n",
       "DE      2021-week_33  Qality                 0.796660\n",
       "                      Yield                  0.203340\n",
       "        2021-week_34  Qality                 0.836864\n",
       "                      Yield                  0.163136\n",
       "        2021-week_35  Qality                 0.773088\n",
       "                                               ...   \n",
       "US      2022-week_05  Qality                 0.348924\n",
       "        2022-week_06  Yield                  0.632014\n",
       "                      Qality                 0.367986\n",
       "        2022-week_52  Yield                  0.675088\n",
       "                      Qality                 0.324912\n",
       "Name: recommendation_type, Length: 258, dtype: float64"
      ]
     },
     "execution_count": 59,
     "metadata": {},
     "output_type": "execute_result"
    }
   ],
   "source": [
    "ad_recs_annotated.groupby(['region','week_id']).recommendation_type.value_counts(normalize=True)"
   ]
  },
  {
   "cell_type": "markdown",
   "metadata": {},
   "source": [
    "#Question - Didvide values by other column value"
   ]
  },
  {
   "cell_type": "markdown",
   "metadata": {},
   "source": [
    "### Q9"
   ]
  },
  {
   "cell_type": "code",
   "execution_count": 60,
   "metadata": {},
   "outputs": [
    {
     "data": {
      "text/plain": [
       "364144"
      ]
     },
     "execution_count": 60,
     "metadata": {},
     "output_type": "execute_result"
    }
   ],
   "source": [
    "#9 How many different reqeusters are there?\n",
    "ad_recs_annotated.groupby(['week_id','ad_id','requester','recommendation_type','rec_provider','region','is_success','is_sever_new']).success.nunique().sum()"
   ]
  },
  {
   "cell_type": "code",
   "execution_count": 61,
   "metadata": {},
   "outputs": [],
   "source": [
    "#ad_recs_annotated.groupby(['requester']).success.count().sum()"
   ]
  },
  {
   "cell_type": "code",
   "execution_count": 62,
   "metadata": {},
   "outputs": [],
   "source": [
    "#ad_recs_annotated[(ad_recs_annotated.requester=='Modanisa') & (ad_recs_annotated.ad_id=='AD000AP9A6') & (ad_recs_annotated.week_id=='2021-week_40')].shape"
   ]
  },
  {
   "cell_type": "markdown",
   "metadata": {},
   "source": [
    "### Q10"
   ]
  },
  {
   "cell_type": "code",
   "execution_count": 63,
   "metadata": {},
   "outputs": [],
   "source": [
    "#10 Which are the top 5 requesters per region?"
   ]
  },
  {
   "cell_type": "code",
   "execution_count": 64,
   "metadata": {},
   "outputs": [
    {
     "data": {
      "text/plain": [
       "region  region  rec_provider     \n",
       "DE      DE      DNNQ                 32433\n",
       "                UserPopQ             15179\n",
       "                DNNY                  5417\n",
       "                UserPopY              3351\n",
       "                RuleBasedY            1614\n",
       "GB      GB      DNNQ                 39675\n",
       "                RNNQ                 11369\n",
       "                XGBQ                  9136\n",
       "                DNNY                  7273\n",
       "                UserPopQ              6781\n",
       "IN      IN      UserPopQ             38225\n",
       "                UserPopY             25297\n",
       "                RuleBasedY           14107\n",
       "                ManualQ               5293\n",
       "                ManualY                225\n",
       "JP      JP      DNNQ                 24574\n",
       "                UserPopQ              7930\n",
       "                DNNY                  3859\n",
       "                UserPopSelectionQ     2417\n",
       "                UserPopY              1377\n",
       "US      US      DNNY                 28567\n",
       "                DNNQ                 20742\n",
       "                RNNY                 11184\n",
       "                RuleBasedY            9957\n",
       "                RNNQ                  9614\n",
       "Name: week_id, dtype: int64"
      ]
     },
     "execution_count": 64,
     "metadata": {},
     "output_type": "execute_result"
    }
   ],
   "source": [
    "ad_recs_annotated.groupby(['region','rec_provider']).count().week_id.groupby('region').nlargest(5)"
   ]
  },
  {
   "cell_type": "markdown",
   "metadata": {},
   "source": [
    "### Q11"
   ]
  },
  {
   "cell_type": "code",
   "execution_count": 65,
   "metadata": {},
   "outputs": [
    {
     "data": {
      "text/plain": [
       "array(['DNNQ', 'DNNY', 'BooksQ', 'UserPopQ', 'UserPopY', 'RuleBasedY',\n",
       "       'ManualY', 'ManualQ', 'BooksY', 'XGBQ', 'XGBY', 'RNNQ', 'RNNY',\n",
       "       'RuleBased', 'UserPopSelectionQ', 'UserPopSelectionY'],\n",
       "      dtype=object)"
      ]
     },
     "execution_count": 65,
     "metadata": {},
     "output_type": "execute_result"
    }
   ],
   "source": [
    "#11 Different rec_providers\n",
    "ad_recs_annotated['rec_provider'].unique()"
   ]
  },
  {
   "cell_type": "markdown",
   "metadata": {},
   "source": [
    "### Q12"
   ]
  },
  {
   "cell_type": "code",
   "execution_count": 66,
   "metadata": {},
   "outputs": [
    {
     "name": "stdout",
     "output_type": "stream",
     "text": [
      "[{'DE': {'UserPopSelectionQ', 'XGBY', 'XGBQ', 'RNNQ', 'RuleBased', 'RNNY', 'UserPopSelectionY'}}]\n",
      "[{'GB': {'UserPopSelectionQ', 'BooksY', 'UserPopSelectionY', 'BooksQ'}}]\n",
      "[{'IN': {'BooksQ', 'UserPopSelectionQ', 'BooksY', 'XGBY', 'XGBQ', 'RNNQ', 'DNNQ', 'RNNY', 'UserPopSelectionY', 'DNNY'}}]\n",
      "[{'JP': {'BooksQ', 'BooksY', 'XGBY', 'XGBQ', 'RNNQ', 'RuleBased', 'RNNY'}}]\n",
      "[{'US': {'UserPopSelectionQ', 'UserPopSelectionY'}}]\n"
     ]
    }
   ],
   "source": [
    "#12 Which are the different rec_proivders - I listed all the providers that each region doesn't have!\n",
    "recs=pd.unique(ad_recs_annotated.rec_provider)\n",
    "get_unique_recs=ad_recs_annotated[['region','rec_provider']].drop_duplicates()\n",
    "get_unique_regions=ad_recs_annotated[['region']].drop_duplicates()\n",
    "\n",
    "for i in get_unique_regions.region:\n",
    "    l=[]\n",
    "    dict={}\n",
    "    if set(ad_recs_annotated[ad_recs_annotated.region==i].rec_provider.unique()).issuperset(set(recs))==False:\n",
    "        dict[i]=set(recs)-set(ad_recs_annotated[ad_recs_annotated.region==i].rec_provider.unique())\n",
    "        l.append(dict)\n",
    "        print(l)\n"
   ]
  },
  {
   "cell_type": "markdown",
   "metadata": {},
   "source": [
    "### Q13"
   ]
  },
  {
   "cell_type": "code",
   "execution_count": 67,
   "metadata": {},
   "outputs": [
    {
     "name": "stdout",
     "output_type": "stream",
     "text": [
      "[{'Qality': {'RuleBasedY', 'UserPopY', 'BooksY', 'XGBY', 'RNNY', 'UserPopSelectionY', 'DNNY'}}]\n",
      "[{'Yield': {'UserPopQ', 'BooksQ', 'UserPopSelectionQ', 'XGBQ', 'RNNQ', 'RuleBased', 'DNNQ'}}]\n"
     ]
    }
   ],
   "source": [
    "#13 Which are the different rec_proivders\n",
    "recs=pd.unique(ad_recs_annotated.rec_provider)\n",
    "get_unique_recs=ad_recs_annotated[['recommendation_type','rec_provider']].drop_duplicates()\n",
    "get_unique_rec_type=ad_recs_annotated[['recommendation_type']].drop_duplicates()\n",
    "\n",
    "for i in get_unique_rec_type.recommendation_type:\n",
    "    l=[]\n",
    "    dict={}\n",
    "    if set(ad_recs_annotated[ad_recs_annotated.recommendation_type==i].rec_provider.unique()).issuperset(set(recs))==False:\n",
    "        dict[i]=set(recs)-set(ad_recs_annotated[ad_recs_annotated.recommendation_type==i].rec_provider.unique())\n",
    "        l.append(dict)\n",
    "        print(l)\n",
    "\n"
   ]
  },
  {
   "cell_type": "code",
   "execution_count": 68,
   "metadata": {},
   "outputs": [
    {
     "data": {
      "text/html": [
       "<div>\n",
       "<style scoped>\n",
       "    .dataframe tbody tr th:only-of-type {\n",
       "        vertical-align: middle;\n",
       "    }\n",
       "\n",
       "    .dataframe tbody tr th {\n",
       "        vertical-align: top;\n",
       "    }\n",
       "\n",
       "    .dataframe thead th {\n",
       "        text-align: right;\n",
       "    }\n",
       "</style>\n",
       "<table border=\"1\" class=\"dataframe\">\n",
       "  <thead>\n",
       "    <tr style=\"text-align: right;\">\n",
       "      <th></th>\n",
       "      <th>recommendation_type</th>\n",
       "      <th>rec_provider</th>\n",
       "    </tr>\n",
       "  </thead>\n",
       "  <tbody>\n",
       "    <tr>\n",
       "      <th>3</th>\n",
       "      <td>Qality</td>\n",
       "      <td>BooksQ</td>\n",
       "    </tr>\n",
       "    <tr>\n",
       "      <th>76</th>\n",
       "      <td>Yield</td>\n",
       "      <td>BooksY</td>\n",
       "    </tr>\n",
       "    <tr>\n",
       "      <th>0</th>\n",
       "      <td>Qality</td>\n",
       "      <td>DNNQ</td>\n",
       "    </tr>\n",
       "    <tr>\n",
       "      <th>1</th>\n",
       "      <td>Yield</td>\n",
       "      <td>DNNY</td>\n",
       "    </tr>\n",
       "    <tr>\n",
       "      <th>27</th>\n",
       "      <td>Qality</td>\n",
       "      <td>ManualQ</td>\n",
       "    </tr>\n",
       "    <tr>\n",
       "      <th>852</th>\n",
       "      <td>Yield</td>\n",
       "      <td>ManualQ</td>\n",
       "    </tr>\n",
       "    <tr>\n",
       "      <th>24</th>\n",
       "      <td>Qality</td>\n",
       "      <td>ManualY</td>\n",
       "    </tr>\n",
       "    <tr>\n",
       "      <th>199</th>\n",
       "      <td>Yield</td>\n",
       "      <td>ManualY</td>\n",
       "    </tr>\n",
       "    <tr>\n",
       "      <th>2409</th>\n",
       "      <td>Qality</td>\n",
       "      <td>RNNQ</td>\n",
       "    </tr>\n",
       "    <tr>\n",
       "      <th>2450</th>\n",
       "      <td>Yield</td>\n",
       "      <td>RNNY</td>\n",
       "    </tr>\n",
       "    <tr>\n",
       "      <th>4981</th>\n",
       "      <td>Qality</td>\n",
       "      <td>RuleBased</td>\n",
       "    </tr>\n",
       "    <tr>\n",
       "      <th>22</th>\n",
       "      <td>Yield</td>\n",
       "      <td>RuleBasedY</td>\n",
       "    </tr>\n",
       "    <tr>\n",
       "      <th>6</th>\n",
       "      <td>Qality</td>\n",
       "      <td>UserPopQ</td>\n",
       "    </tr>\n",
       "    <tr>\n",
       "      <th>309185</th>\n",
       "      <td>Qality</td>\n",
       "      <td>UserPopSelectionQ</td>\n",
       "    </tr>\n",
       "    <tr>\n",
       "      <th>352263</th>\n",
       "      <td>Yield</td>\n",
       "      <td>UserPopSelectionY</td>\n",
       "    </tr>\n",
       "    <tr>\n",
       "      <th>17</th>\n",
       "      <td>Yield</td>\n",
       "      <td>UserPopY</td>\n",
       "    </tr>\n",
       "    <tr>\n",
       "      <th>2396</th>\n",
       "      <td>Qality</td>\n",
       "      <td>XGBQ</td>\n",
       "    </tr>\n",
       "    <tr>\n",
       "      <th>2399</th>\n",
       "      <td>Yield</td>\n",
       "      <td>XGBY</td>\n",
       "    </tr>\n",
       "  </tbody>\n",
       "</table>\n",
       "</div>"
      ],
      "text/plain": [
       "       recommendation_type       rec_provider\n",
       "3                   Qality             BooksQ\n",
       "76                   Yield             BooksY\n",
       "0                   Qality               DNNQ\n",
       "1                    Yield               DNNY\n",
       "27                  Qality            ManualQ\n",
       "852                  Yield            ManualQ\n",
       "24                  Qality            ManualY\n",
       "199                  Yield            ManualY\n",
       "2409                Qality               RNNQ\n",
       "2450                 Yield               RNNY\n",
       "4981                Qality          RuleBased\n",
       "22                   Yield         RuleBasedY\n",
       "6                   Qality           UserPopQ\n",
       "309185              Qality  UserPopSelectionQ\n",
       "352263               Yield  UserPopSelectionY\n",
       "17                   Yield           UserPopY\n",
       "2396                Qality               XGBQ\n",
       "2399                 Yield               XGBY"
      ]
     },
     "execution_count": 68,
     "metadata": {},
     "output_type": "execute_result"
    }
   ],
   "source": [
    "get_unique_recs.sort_values(by='rec_provider')"
   ]
  },
  {
   "cell_type": "markdown",
   "metadata": {},
   "source": [
    "### Q14"
   ]
  },
  {
   "cell_type": "code",
   "execution_count": 69,
   "metadata": {},
   "outputs": [],
   "source": [
    "#14What are the notation rules distinguishing between quality vs yielding providers?"
   ]
  },
  {
   "cell_type": "code",
   "execution_count": 70,
   "metadata": {},
   "outputs": [
    {
     "data": {
      "text/html": [
       "<div>\n",
       "<style scoped>\n",
       "    .dataframe tbody tr th:only-of-type {\n",
       "        vertical-align: middle;\n",
       "    }\n",
       "\n",
       "    .dataframe tbody tr th {\n",
       "        vertical-align: top;\n",
       "    }\n",
       "\n",
       "    .dataframe thead th {\n",
       "        text-align: right;\n",
       "    }\n",
       "</style>\n",
       "<table border=\"1\" class=\"dataframe\">\n",
       "  <thead>\n",
       "    <tr style=\"text-align: right;\">\n",
       "      <th></th>\n",
       "      <th>recommendation_type</th>\n",
       "      <th>rec_provider</th>\n",
       "      <th>week_id</th>\n",
       "    </tr>\n",
       "  </thead>\n",
       "  <tbody>\n",
       "    <tr>\n",
       "      <th>0</th>\n",
       "      <td>Qality</td>\n",
       "      <td>BooksQ</td>\n",
       "      <td>1720</td>\n",
       "    </tr>\n",
       "    <tr>\n",
       "      <th>1</th>\n",
       "      <td>Qality</td>\n",
       "      <td>DNNQ</td>\n",
       "      <td>117424</td>\n",
       "    </tr>\n",
       "    <tr>\n",
       "      <th>2</th>\n",
       "      <td>Qality</td>\n",
       "      <td>ManualQ</td>\n",
       "      <td>10220</td>\n",
       "    </tr>\n",
       "    <tr>\n",
       "      <th>3</th>\n",
       "      <td>Qality</td>\n",
       "      <td>ManualY</td>\n",
       "      <td>1439</td>\n",
       "    </tr>\n",
       "    <tr>\n",
       "      <th>4</th>\n",
       "      <td>Qality</td>\n",
       "      <td>RNNQ</td>\n",
       "      <td>20983</td>\n",
       "    </tr>\n",
       "    <tr>\n",
       "      <th>5</th>\n",
       "      <td>Qality</td>\n",
       "      <td>RuleBased</td>\n",
       "      <td>182</td>\n",
       "    </tr>\n",
       "    <tr>\n",
       "      <th>6</th>\n",
       "      <td>Qality</td>\n",
       "      <td>UserPopQ</td>\n",
       "      <td>69937</td>\n",
       "    </tr>\n",
       "    <tr>\n",
       "      <th>7</th>\n",
       "      <td>Qality</td>\n",
       "      <td>UserPopSelectionQ</td>\n",
       "      <td>2417</td>\n",
       "    </tr>\n",
       "    <tr>\n",
       "      <th>8</th>\n",
       "      <td>Qality</td>\n",
       "      <td>XGBQ</td>\n",
       "      <td>12250</td>\n",
       "    </tr>\n",
       "    <tr>\n",
       "      <th>9</th>\n",
       "      <td>Yield</td>\n",
       "      <td>BooksY</td>\n",
       "      <td>4150</td>\n",
       "    </tr>\n",
       "    <tr>\n",
       "      <th>10</th>\n",
       "      <td>Yield</td>\n",
       "      <td>DNNY</td>\n",
       "      <td>45116</td>\n",
       "    </tr>\n",
       "    <tr>\n",
       "      <th>11</th>\n",
       "      <td>Yield</td>\n",
       "      <td>ManualQ</td>\n",
       "      <td>3624</td>\n",
       "    </tr>\n",
       "    <tr>\n",
       "      <th>12</th>\n",
       "      <td>Yield</td>\n",
       "      <td>ManualY</td>\n",
       "      <td>543</td>\n",
       "    </tr>\n",
       "    <tr>\n",
       "      <th>13</th>\n",
       "      <td>Yield</td>\n",
       "      <td>RNNY</td>\n",
       "      <td>12732</td>\n",
       "    </tr>\n",
       "    <tr>\n",
       "      <th>14</th>\n",
       "      <td>Yield</td>\n",
       "      <td>RuleBasedY</td>\n",
       "      <td>28154</td>\n",
       "    </tr>\n",
       "    <tr>\n",
       "      <th>15</th>\n",
       "      <td>Yield</td>\n",
       "      <td>UserPopSelectionY</td>\n",
       "      <td>21</td>\n",
       "    </tr>\n",
       "    <tr>\n",
       "      <th>16</th>\n",
       "      <td>Yield</td>\n",
       "      <td>UserPopY</td>\n",
       "      <td>38600</td>\n",
       "    </tr>\n",
       "    <tr>\n",
       "      <th>17</th>\n",
       "      <td>Yield</td>\n",
       "      <td>XGBY</td>\n",
       "      <td>4276</td>\n",
       "    </tr>\n",
       "  </tbody>\n",
       "</table>\n",
       "</div>"
      ],
      "text/plain": [
       "   recommendation_type       rec_provider  week_id\n",
       "0               Qality             BooksQ     1720\n",
       "1               Qality               DNNQ   117424\n",
       "2               Qality            ManualQ    10220\n",
       "3               Qality            ManualY     1439\n",
       "4               Qality               RNNQ    20983\n",
       "5               Qality          RuleBased      182\n",
       "6               Qality           UserPopQ    69937\n",
       "7               Qality  UserPopSelectionQ     2417\n",
       "8               Qality               XGBQ    12250\n",
       "9                Yield             BooksY     4150\n",
       "10               Yield               DNNY    45116\n",
       "11               Yield            ManualQ     3624\n",
       "12               Yield            ManualY      543\n",
       "13               Yield               RNNY    12732\n",
       "14               Yield         RuleBasedY    28154\n",
       "15               Yield  UserPopSelectionY       21\n",
       "16               Yield           UserPopY    38600\n",
       "17               Yield               XGBY     4276"
      ]
     },
     "execution_count": 70,
     "metadata": {},
     "output_type": "execute_result"
    }
   ],
   "source": [
    "ad_recs_annotated.groupby(['recommendation_type','rec_provider']).count().reset_index()[['recommendation_type','rec_provider','week_id']]"
   ]
  },
  {
   "cell_type": "code",
   "execution_count": 71,
   "metadata": {},
   "outputs": [
    {
     "data": {
      "text/plain": [
       "recommendation_type  success\n",
       "Qality               1          0.830910\n",
       "                     0          0.169090\n",
       "Yield                1          0.784427\n",
       "                     0          0.215573\n",
       "Name: success, dtype: float64"
      ]
     },
     "execution_count": 71,
     "metadata": {},
     "output_type": "execute_result"
    }
   ],
   "source": [
    "ad_recs_annotated.groupby(['recommendation_type']).success.value_counts(normalize=True)"
   ]
  },
  {
   "cell_type": "markdown",
   "metadata": {},
   "source": [
    "### Q15"
   ]
  },
  {
   "cell_type": "code",
   "execution_count": 72,
   "metadata": {},
   "outputs": [
    {
     "data": {
      "text/html": [
       "<div>\n",
       "<style scoped>\n",
       "    .dataframe tbody tr th:only-of-type {\n",
       "        vertical-align: middle;\n",
       "    }\n",
       "\n",
       "    .dataframe tbody tr th {\n",
       "        vertical-align: top;\n",
       "    }\n",
       "\n",
       "    .dataframe thead th {\n",
       "        text-align: right;\n",
       "    }\n",
       "</style>\n",
       "<table border=\"1\" class=\"dataframe\">\n",
       "  <thead>\n",
       "    <tr style=\"text-align: right;\">\n",
       "      <th></th>\n",
       "      <th>region</th>\n",
       "      <th>success</th>\n",
       "    </tr>\n",
       "  </thead>\n",
       "  <tbody>\n",
       "    <tr>\n",
       "      <th>4</th>\n",
       "      <td>US</td>\n",
       "      <td>0.856249</td>\n",
       "    </tr>\n",
       "    <tr>\n",
       "      <th>1</th>\n",
       "      <td>GB</td>\n",
       "      <td>0.837619</td>\n",
       "    </tr>\n",
       "    <tr>\n",
       "      <th>0</th>\n",
       "      <td>DE</td>\n",
       "      <td>0.814192</td>\n",
       "    </tr>\n",
       "    <tr>\n",
       "      <th>3</th>\n",
       "      <td>JP</td>\n",
       "      <td>0.763927</td>\n",
       "    </tr>\n",
       "    <tr>\n",
       "      <th>2</th>\n",
       "      <td>IN</td>\n",
       "      <td>0.761900</td>\n",
       "    </tr>\n",
       "  </tbody>\n",
       "</table>\n",
       "</div>"
      ],
      "text/plain": [
       "  region   success\n",
       "4     US  0.856249\n",
       "1     GB  0.837619\n",
       "0     DE  0.814192\n",
       "3     JP  0.763927\n",
       "2     IN  0.761900"
      ]
     },
     "execution_count": 72,
     "metadata": {},
     "output_type": "execute_result"
    }
   ],
   "source": [
    "#15 Which is the most successful region of operation - Who has the best success rate?\n",
    "(ad_recs_annotated.groupby('region').success.sum()/ad_recs_annotated.groupby('region').success.count()).reset_index().sort_values(by='success',ascending=False)"
   ]
  },
  {
   "cell_type": "markdown",
   "metadata": {},
   "source": [
    "### Q16"
   ]
  },
  {
   "cell_type": "code",
   "execution_count": 73,
   "metadata": {},
   "outputs": [
    {
     "data": {
      "text/html": [
       "<div>\n",
       "<style scoped>\n",
       "    .dataframe tbody tr th:only-of-type {\n",
       "        vertical-align: middle;\n",
       "    }\n",
       "\n",
       "    .dataframe tbody tr th {\n",
       "        vertical-align: top;\n",
       "    }\n",
       "\n",
       "    .dataframe thead th {\n",
       "        text-align: right;\n",
       "    }\n",
       "</style>\n",
       "<table border=\"1\" class=\"dataframe\">\n",
       "  <thead>\n",
       "    <tr style=\"text-align: right;\">\n",
       "      <th></th>\n",
       "      <th>region</th>\n",
       "      <th>rec_provider</th>\n",
       "      <th>success</th>\n",
       "    </tr>\n",
       "  </thead>\n",
       "  <tbody>\n",
       "    <tr>\n",
       "      <th>37</th>\n",
       "      <td>US</td>\n",
       "      <td>BooksY</td>\n",
       "      <td>0.985482</td>\n",
       "    </tr>\n",
       "    <tr>\n",
       "      <th>36</th>\n",
       "      <td>US</td>\n",
       "      <td>BooksQ</td>\n",
       "      <td>0.972752</td>\n",
       "    </tr>\n",
       "    <tr>\n",
       "      <th>40</th>\n",
       "      <td>US</td>\n",
       "      <td>ManualQ</td>\n",
       "      <td>0.970414</td>\n",
       "    </tr>\n",
       "    <tr>\n",
       "      <th>44</th>\n",
       "      <td>US</td>\n",
       "      <td>RuleBased</td>\n",
       "      <td>0.970370</td>\n",
       "    </tr>\n",
       "    <tr>\n",
       "      <th>41</th>\n",
       "      <td>US</td>\n",
       "      <td>ManualY</td>\n",
       "      <td>0.951477</td>\n",
       "    </tr>\n",
       "  </tbody>\n",
       "</table>\n",
       "</div>"
      ],
      "text/plain": [
       "   region rec_provider   success\n",
       "37     US       BooksY  0.985482\n",
       "36     US       BooksQ  0.972752\n",
       "40     US      ManualQ  0.970414\n",
       "44     US    RuleBased  0.970370\n",
       "41     US      ManualY  0.951477"
      ]
     },
     "execution_count": 73,
     "metadata": {},
     "output_type": "execute_result"
    }
   ],
   "source": [
    "#16 Which is the most successful rec provider per each region?\n",
    "(ad_recs_annotated.groupby(['region','rec_provider']).success.sum()/ad_recs_annotated.groupby(['region','rec_provider']).success.count()).reset_index().sort_values(['region','success'],ascending=False).head(5)\n"
   ]
  },
  {
   "cell_type": "markdown",
   "metadata": {},
   "source": [
    "### Q17"
   ]
  },
  {
   "cell_type": "code",
   "execution_count": 84,
   "metadata": {},
   "outputs": [],
   "source": [
    "##Present a table with a success rate, sever defects rate and CI (for each metric) per region"
   ]
  },
  {
   "cell_type": "code",
   "execution_count": 198,
   "metadata": {},
   "outputs": [],
   "source": [
    "def calc_succes_ci(prop):\n",
    "    estimated_standard_error = (prop * (1-prop) / ad_recs_annotated.groupby(['region']).success.count())**(0.5)\n",
    "    return (prop+2*estimated_standard_error)-(prop-2*estimated_standard_error)\n",
    "\n",
    "                                                                             \n",
    "def calc_success_prop(df):\n",
    "    return ad_recs_annotated.groupby('region').success.mean()\n",
    "\n",
    "def calc_defects_prop(df):\n",
    "    return ad_recs_annotated.groupby('region').is_sever_new_2.mean()\n",
    "\n",
    "def calc_metrics(df):\n",
    "    succes_prop = calc_success_prop(df)\n",
    "    success_prop_ci = calc_succes_ci(succes_prop)\n",
    "    defects_prop = calc_defects_prop(df)      \n",
    "    defects_prop_ci = calc_succes_ci(defects_prop)                                                                         \n",
    "    return pd.DataFrame({'succes_prop': succes_prop,\n",
    "                      'sucees_prop_ci': success_prop_ci,\n",
    "                      'defects_prop':defects_prop,\n",
    "                      'defects_prop_ci':defects_prop_ci\n",
    "                     })"
   ]
  },
  {
   "cell_type": "code",
   "execution_count": 210,
   "metadata": {},
   "outputs": [
    {
     "data": {
      "text/html": [
       "<div>\n",
       "<style scoped>\n",
       "    .dataframe tbody tr th:only-of-type {\n",
       "        vertical-align: middle;\n",
       "    }\n",
       "\n",
       "    .dataframe tbody tr th {\n",
       "        vertical-align: top;\n",
       "    }\n",
       "\n",
       "    .dataframe thead th {\n",
       "        text-align: right;\n",
       "    }\n",
       "</style>\n",
       "<table border=\"1\" class=\"dataframe\">\n",
       "  <thead>\n",
       "    <tr style=\"text-align: right;\">\n",
       "      <th></th>\n",
       "      <th>region</th>\n",
       "      <th>week_id</th>\n",
       "      <th>succes_prop</th>\n",
       "      <th>sucees_prop_ci</th>\n",
       "      <th>defects_prop</th>\n",
       "      <th>defects_prop_ci</th>\n",
       "    </tr>\n",
       "  </thead>\n",
       "  <tbody>\n",
       "    <tr>\n",
       "      <th>0</th>\n",
       "      <td>DE</td>\n",
       "      <td>2021-week_33</td>\n",
       "      <td>0.805846</td>\n",
       "      <td>0.032330</td>\n",
       "      <td>0.115658</td>\n",
       "      <td>0.026140</td>\n",
       "    </tr>\n",
       "    <tr>\n",
       "      <th>1</th>\n",
       "      <td>DE</td>\n",
       "      <td>2021-week_34</td>\n",
       "      <td>0.797881</td>\n",
       "      <td>0.033066</td>\n",
       "      <td>0.131356</td>\n",
       "      <td>0.027813</td>\n",
       "    </tr>\n",
       "    <tr>\n",
       "      <th>2</th>\n",
       "      <td>DE</td>\n",
       "      <td>2021-week_35</td>\n",
       "      <td>0.806937</td>\n",
       "      <td>0.032274</td>\n",
       "      <td>0.116172</td>\n",
       "      <td>0.026201</td>\n",
       "    </tr>\n",
       "    <tr>\n",
       "      <th>3</th>\n",
       "      <td>DE</td>\n",
       "      <td>2021-week_36</td>\n",
       "      <td>0.795085</td>\n",
       "      <td>0.032950</td>\n",
       "      <td>0.116618</td>\n",
       "      <td>0.026201</td>\n",
       "    </tr>\n",
       "    <tr>\n",
       "      <th>4</th>\n",
       "      <td>DE</td>\n",
       "      <td>2021-week_37</td>\n",
       "      <td>0.806156</td>\n",
       "      <td>0.032250</td>\n",
       "      <td>0.112313</td>\n",
       "      <td>0.025759</td>\n",
       "    </tr>\n",
       "    <tr>\n",
       "      <th>...</th>\n",
       "      <td>...</td>\n",
       "      <td>...</td>\n",
       "      <td>...</td>\n",
       "      <td>...</td>\n",
       "      <td>...</td>\n",
       "      <td>...</td>\n",
       "    </tr>\n",
       "    <tr>\n",
       "      <th>124</th>\n",
       "      <td>US</td>\n",
       "      <td>2022-week_03</td>\n",
       "      <td>0.832621</td>\n",
       "      <td>0.023673</td>\n",
       "      <td>0.098015</td>\n",
       "      <td>0.018855</td>\n",
       "    </tr>\n",
       "    <tr>\n",
       "      <th>125</th>\n",
       "      <td>US</td>\n",
       "      <td>2022-week_04</td>\n",
       "      <td>0.830458</td>\n",
       "      <td>0.023735</td>\n",
       "      <td>0.109277</td>\n",
       "      <td>0.019734</td>\n",
       "    </tr>\n",
       "    <tr>\n",
       "      <th>126</th>\n",
       "      <td>US</td>\n",
       "      <td>2022-week_05</td>\n",
       "      <td>0.835918</td>\n",
       "      <td>0.023429</td>\n",
       "      <td>0.102051</td>\n",
       "      <td>0.019150</td>\n",
       "    </tr>\n",
       "    <tr>\n",
       "      <th>127</th>\n",
       "      <td>US</td>\n",
       "      <td>2022-week_06</td>\n",
       "      <td>0.840180</td>\n",
       "      <td>0.023199</td>\n",
       "      <td>0.104208</td>\n",
       "      <td>0.019343</td>\n",
       "    </tr>\n",
       "    <tr>\n",
       "      <th>128</th>\n",
       "      <td>US</td>\n",
       "      <td>2022-week_52</td>\n",
       "      <td>0.835918</td>\n",
       "      <td>0.023429</td>\n",
       "      <td>0.109305</td>\n",
       "      <td>0.019739</td>\n",
       "    </tr>\n",
       "  </tbody>\n",
       "</table>\n",
       "<p>129 rows × 6 columns</p>\n",
       "</div>"
      ],
      "text/plain": [
       "    region       week_id  succes_prop  sucees_prop_ci  defects_prop  \\\n",
       "0       DE  2021-week_33     0.805846        0.032330      0.115658   \n",
       "1       DE  2021-week_34     0.797881        0.033066      0.131356   \n",
       "2       DE  2021-week_35     0.806937        0.032274      0.116172   \n",
       "3       DE  2021-week_36     0.795085        0.032950      0.116618   \n",
       "4       DE  2021-week_37     0.806156        0.032250      0.112313   \n",
       "..     ...           ...          ...             ...           ...   \n",
       "124     US  2022-week_03     0.832621        0.023673      0.098015   \n",
       "125     US  2022-week_04     0.830458        0.023735      0.109277   \n",
       "126     US  2022-week_05     0.835918        0.023429      0.102051   \n",
       "127     US  2022-week_06     0.840180        0.023199      0.104208   \n",
       "128     US  2022-week_52     0.835918        0.023429      0.109305   \n",
       "\n",
       "     defects_prop_ci  \n",
       "0           0.026140  \n",
       "1           0.027813  \n",
       "2           0.026201  \n",
       "3           0.026201  \n",
       "4           0.025759  \n",
       "..               ...  \n",
       "124         0.018855  \n",
       "125         0.019734  \n",
       "126         0.019150  \n",
       "127         0.019343  \n",
       "128         0.019739  \n",
       "\n",
       "[129 rows x 6 columns]"
      ]
     },
     "execution_count": 210,
     "metadata": {},
     "output_type": "execute_result"
    }
   ],
   "source": [
    "calc_metrics(ad_recs_annotated).reset_index()"
   ]
  },
  {
   "cell_type": "markdown",
   "metadata": {},
   "source": [
    "### Q22"
   ]
  },
  {
   "cell_type": "code",
   "execution_count": null,
   "metadata": {},
   "outputs": [],
   "source": [
    "#Present WoW table/graph with success rate and CI (see image below) per region"
   ]
  },
  {
   "cell_type": "code",
   "execution_count": 295,
   "metadata": {},
   "outputs": [],
   "source": [
    "def calc_succes_ci(prop):\n",
    "    estimated_standard_error = ((prop * (1-prop)) / (ad_recs_annotated.groupby(['region','week_id']).success.count()))**(0.5)\n",
    "    return (prop+2*estimated_standard_error)-(prop-2*estimated_standard_error)\n",
    "\n",
    "                                                                             \n",
    "def calc_success_prop(df):\n",
    "    return ad_recs_annotated.groupby(['region','week_id']).success.mean()\n",
    "\n",
    "def calc_defects_prop(df):\n",
    "    return ad_recs_annotated.groupby(['region','week_id']).is_sever_new_2.mean()\n",
    "\n",
    "def calc_metrics(df):\n",
    "    succes_prop = calc_success_prop(df)\n",
    "    success_prop_ci = calc_succes_ci(succes_prop)\n",
    "    defects_prop = calc_defects_prop(df)      \n",
    "    defects_prop_ci = calc_succes_ci(defects_prop)                                                                         \n",
    "    return pd.DataFrame({'success_prop': succes_prop,\n",
    "                      'success_prop_ci': success_prop_ci,\n",
    "                      'defects_prop':defects_prop,\n",
    "                      'defects_prop_ci':defects_prop_ci\n",
    "                     })"
   ]
  },
  {
   "cell_type": "code",
   "execution_count": 296,
   "metadata": {},
   "outputs": [],
   "source": [
    "region_week_CI=calc_metrics(ad_recs_annotated).reset_index()\n"
   ]
  },
  {
   "cell_type": "markdown",
   "metadata": {},
   "source": [
    "Analysis Bonus questions:\n",
    "1. Compute the per region success rate and CI in trailing weeks, Say, 4 weeks instead of 1 week - to allow for smoother estimations and smaller CIs"
   ]
  },
  {
   "cell_type": "code",
   "execution_count": null,
   "metadata": {},
   "outputs": [],
   "source": []
  },
  {
   "cell_type": "code",
   "execution_count": 298,
   "metadata": {},
   "outputs": [],
   "source": [
    "def calc_succes_ci(prop,pop):\n",
    "    estimated_standard_error = ((prop * (1-prop)) / pop)**(0.5)\n",
    "    return (prop+2*estimated_standard_error)-(prop-2*estimated_standard_error)\n",
    "\n",
    "                                                                             \n",
    "def calc_success_prop(df):\n",
    "    return ad_recs_annotated.groupby(['region','week_id']).success.mean().rolling(4,min_periods=0).mean()\n",
    "\n",
    "def calc_pop(df):\n",
    "    return ad_recs_annotated.groupby(['region','week_id']).success.count().rolling(4,min_periods=0).sum()\n",
    "\n",
    "\n",
    "def calc_metrics(df):\n",
    "    succes_prop = calc_success_prop(df)\n",
    "    pop=calc_pop(df)\n",
    "    success_prop_ci = calc_succes_ci(succes_prop,pop)                                                                         \n",
    "    return pd.DataFrame({'success_prop': succes_prop,\n",
    "                          'success_prop_ci':success_prop_ci              \n",
    "                     })"
   ]
  },
  {
   "cell_type": "code",
   "execution_count": 299,
   "metadata": {},
   "outputs": [
    {
     "data": {
      "text/html": [
       "<div>\n",
       "<style scoped>\n",
       "    .dataframe tbody tr th:only-of-type {\n",
       "        vertical-align: middle;\n",
       "    }\n",
       "\n",
       "    .dataframe tbody tr th {\n",
       "        vertical-align: top;\n",
       "    }\n",
       "\n",
       "    .dataframe thead th {\n",
       "        text-align: right;\n",
       "    }\n",
       "</style>\n",
       "<table border=\"1\" class=\"dataframe\">\n",
       "  <thead>\n",
       "    <tr style=\"text-align: right;\">\n",
       "      <th></th>\n",
       "      <th>region</th>\n",
       "      <th>week_id</th>\n",
       "      <th>success_prop</th>\n",
       "      <th>success_prop_ci</th>\n",
       "    </tr>\n",
       "  </thead>\n",
       "  <tbody>\n",
       "    <tr>\n",
       "      <th>0</th>\n",
       "      <td>DE</td>\n",
       "      <td>2021-week_33</td>\n",
       "      <td>0.805846</td>\n",
       "      <td>0.032330</td>\n",
       "    </tr>\n",
       "    <tr>\n",
       "      <th>1</th>\n",
       "      <td>DE</td>\n",
       "      <td>2021-week_34</td>\n",
       "      <td>0.801863</td>\n",
       "      <td>0.023122</td>\n",
       "    </tr>\n",
       "    <tr>\n",
       "      <th>2</th>\n",
       "      <td>DE</td>\n",
       "      <td>2021-week_35</td>\n",
       "      <td>0.803555</td>\n",
       "      <td>0.018797</td>\n",
       "    </tr>\n",
       "    <tr>\n",
       "      <th>3</th>\n",
       "      <td>DE</td>\n",
       "      <td>2021-week_36</td>\n",
       "      <td>0.801437</td>\n",
       "      <td>0.016329</td>\n",
       "    </tr>\n",
       "    <tr>\n",
       "      <th>4</th>\n",
       "      <td>DE</td>\n",
       "      <td>2021-week_37</td>\n",
       "      <td>0.801515</td>\n",
       "      <td>0.016319</td>\n",
       "    </tr>\n",
       "    <tr>\n",
       "      <th>...</th>\n",
       "      <td>...</td>\n",
       "      <td>...</td>\n",
       "      <td>...</td>\n",
       "      <td>...</td>\n",
       "    </tr>\n",
       "    <tr>\n",
       "      <th>124</th>\n",
       "      <td>US</td>\n",
       "      <td>2022-week_03</td>\n",
       "      <td>0.830745</td>\n",
       "      <td>0.011858</td>\n",
       "    </tr>\n",
       "    <tr>\n",
       "      <th>125</th>\n",
       "      <td>US</td>\n",
       "      <td>2022-week_04</td>\n",
       "      <td>0.832591</td>\n",
       "      <td>0.011805</td>\n",
       "    </tr>\n",
       "    <tr>\n",
       "      <th>126</th>\n",
       "      <td>US</td>\n",
       "      <td>2022-week_05</td>\n",
       "      <td>0.833913</td>\n",
       "      <td>0.011772</td>\n",
       "    </tr>\n",
       "    <tr>\n",
       "      <th>127</th>\n",
       "      <td>US</td>\n",
       "      <td>2022-week_06</td>\n",
       "      <td>0.834794</td>\n",
       "      <td>0.011755</td>\n",
       "    </tr>\n",
       "    <tr>\n",
       "      <th>128</th>\n",
       "      <td>US</td>\n",
       "      <td>2022-week_52</td>\n",
       "      <td>0.835618</td>\n",
       "      <td>0.011725</td>\n",
       "    </tr>\n",
       "  </tbody>\n",
       "</table>\n",
       "<p>129 rows × 4 columns</p>\n",
       "</div>"
      ],
      "text/plain": [
       "    region       week_id  success_prop  success_prop_ci\n",
       "0       DE  2021-week_33      0.805846         0.032330\n",
       "1       DE  2021-week_34      0.801863         0.023122\n",
       "2       DE  2021-week_35      0.803555         0.018797\n",
       "3       DE  2021-week_36      0.801437         0.016329\n",
       "4       DE  2021-week_37      0.801515         0.016319\n",
       "..     ...           ...           ...              ...\n",
       "124     US  2022-week_03      0.830745         0.011858\n",
       "125     US  2022-week_04      0.832591         0.011805\n",
       "126     US  2022-week_05      0.833913         0.011772\n",
       "127     US  2022-week_06      0.834794         0.011755\n",
       "128     US  2022-week_52      0.835618         0.011725\n",
       "\n",
       "[129 rows x 4 columns]"
      ]
     },
     "execution_count": 299,
     "metadata": {},
     "output_type": "execute_result"
    }
   ],
   "source": [
    "t2=calc_metrics(ad_recs_annotated).reset_index()\n",
    "t2"
   ]
  },
  {
   "cell_type": "markdown",
   "metadata": {},
   "source": [
    "### Merges and joins"
   ]
  },
  {
   "cell_type": "markdown",
   "metadata": {},
   "source": [
    "The Wow samples and annotations task were sent and recieve seperatly, per each week. The dataset you were working on was constructed from those files. You can see the files under the `data/weekly` folder, here are the first 10 files:"
   ]
  },
  {
   "cell_type": "code",
   "execution_count": 212,
   "metadata": {},
   "outputs": [
    {
     "ename": "FileNotFoundError",
     "evalue": "[WinError 3] The system cannot find the path specified: 'data/weekly/'",
     "output_type": "error",
     "traceback": [
      "\u001b[1;31m---------------------------------------------------------------------------\u001b[0m",
      "\u001b[1;31mFileNotFoundError\u001b[0m                         Traceback (most recent call last)",
      "\u001b[1;32mC:\\Users\\YARDEN~1.AYA\\AppData\\Local\\Temp/ipykernel_22324/3900050169.py\u001b[0m in \u001b[0;36m<module>\u001b[1;34m\u001b[0m\n\u001b[0;32m      1\u001b[0m \u001b[1;32mimport\u001b[0m \u001b[0mos\u001b[0m\u001b[1;33m\u001b[0m\u001b[1;33m\u001b[0m\u001b[0m\n\u001b[1;32m----> 2\u001b[1;33m \u001b[0mweekly_files\u001b[0m \u001b[1;33m=\u001b[0m \u001b[0mos\u001b[0m\u001b[1;33m.\u001b[0m\u001b[0mlistdir\u001b[0m\u001b[1;33m(\u001b[0m\u001b[1;34m'data/weekly/'\u001b[0m\u001b[1;33m)\u001b[0m\u001b[1;33m\u001b[0m\u001b[1;33m\u001b[0m\u001b[0m\n\u001b[0m\u001b[0;32m      3\u001b[0m \u001b[0msorted\u001b[0m\u001b[1;33m(\u001b[0m\u001b[0mweekly_files\u001b[0m\u001b[1;33m)\u001b[0m\u001b[1;33m[\u001b[0m\u001b[1;33m:\u001b[0m\u001b[1;36m10\u001b[0m\u001b[1;33m]\u001b[0m\u001b[1;33m\u001b[0m\u001b[1;33m\u001b[0m\u001b[0m\n",
      "\u001b[1;31mFileNotFoundError\u001b[0m: [WinError 3] The system cannot find the path specified: 'data/weekly/'"
     ]
    }
   ],
   "source": [
    "import os\n",
    "weekly_files = os.listdir('data/weekly/')\n",
    "sorted(weekly_files)[:10]"
   ]
  },
  {
   "cell_type": "markdown",
   "metadata": {},
   "source": [
    "Your task is to reconstruct the dataset above. "
   ]
  },
  {
   "cell_type": "markdown",
   "metadata": {},
   "source": [
    "### Visualizations"
   ]
  },
  {
   "cell_type": "markdown",
   "metadata": {},
   "source": [
    "Produce the following success rate graph per region:"
   ]
  },
  {
   "cell_type": "markdown",
   "metadata": {},
   "source": [
    "### Weekly Success rate and CI per region"
   ]
  },
  {
   "cell_type": "code",
   "execution_count": 297,
   "metadata": {},
   "outputs": [
    {
     "data": {
      "application/vnd.plotly.v1+json": {
       "config": {
        "plotlyServerURL": "https://plot.ly"
       },
       "data": [
        {
         "error_y": {
          "array": [
           0.03233008494202361,
           0.033065594570873325,
           0.03227439188863146,
           0.032950140200263434,
           0.03224988282518426,
           0.03229715903112029,
           0.030738555778301757,
           0.03272270483389916,
           0.03174365310741578,
           0.03255334592809911,
           0.03429749224920653,
           0.035158310517412916,
           0.03211471079286787,
           0.031998706237999164,
           0.03119698250854075,
           0.03110412326583023,
           0.0310624073601089,
           0.03072046193876976,
           0.03227199937247005,
           0.03128874687268546,
           0.029874132552323074,
           0.030651487881819373,
           0.02913773873079295,
           0.029588156897331297,
           0.030164266374614668,
           0.03194421141423276
          ]
         },
         "hovertemplate": "region=DE<br>week_id=%{x}<br>success_prop=%{y}<extra></extra>",
         "legendgroup": "DE",
         "line": {
          "color": "#636efa",
          "dash": "solid"
         },
         "marker": {
          "symbol": "circle"
         },
         "mode": "lines",
         "name": "DE",
         "orientation": "v",
         "showlegend": true,
         "type": "scatter",
         "x": [
          "2021-week_33",
          "2021-week_34",
          "2021-week_35",
          "2021-week_36",
          "2021-week_37",
          "2021-week_38",
          "2021-week_39",
          "2021-week_40",
          "2021-week_41",
          "2021-week_42",
          "2021-week_43",
          "2021-week_44",
          "2021-week_45",
          "2021-week_46",
          "2021-week_47",
          "2021-week_48",
          "2021-week_49",
          "2021-week_50",
          "2021-week_51",
          "2022-week_01",
          "2022-week_02",
          "2022-week_03",
          "2022-week_04",
          "2022-week_05",
          "2022-week_06",
          "2022-week_52"
         ],
         "xaxis": "x",
         "y": [
          0.8058455114822547,
          0.7978813559322034,
          0.8069368992895947,
          0.795085381091212,
          0.8061564059900166,
          0.8058333333333333,
          0.8284171167428334,
          0.799082951229679,
          0.8145060441850771,
          0.8021702838063439,
          0.7714762301918265,
          0.7647058823529411,
          0.8084929225645295,
          0.8152081563296517,
          0.822037422037422,
          0.8221670802315963,
          0.8263976460697772,
          0.828761429758936,
          0.8050601410203235,
          0.8209825145711906,
          0.8412698412698413,
          0.8322119428090833,
          0.8528541226215645,
          0.8459277917716205,
          0.8354011579818031,
          0.8131821998320738
         ],
         "yaxis": "y"
        },
        {
         "error_y": {
          "array": [
           0.025349881410678288,
           0.025894680777778456,
           0.024855582511269736,
           0.026019712201528433,
           0.02516681029306267,
           0.026113479163036635,
           0.028154810931940277,
           0.02767335570452456,
           0.02648799402521318,
           0.026718867391779977,
           0.027036569202077976,
           0.026424926263990844,
           0.024945432181170624,
           0.02392904264476714,
           0.0229145571530196,
           0.02552324023736441,
           0.025967012731194394,
           0.02596387965761271,
           0.026632881374452966,
           0.026212807736735844,
           0.02659404904077589,
           0.027188779953740028,
           0.0268559545063205,
           0.02723388534311355,
           0.02517487107368188,
           0.02657572608294223
          ]
         },
         "hovertemplate": "region=GB<br>week_id=%{x}<br>success_prop=%{y}<extra></extra>",
         "legendgroup": "GB",
         "line": {
          "color": "#EF553B",
          "dash": "solid"
         },
         "marker": {
          "symbol": "circle"
         },
         "mode": "lines",
         "name": "GB",
         "orientation": "v",
         "showlegend": true,
         "type": "scatter",
         "x": [
          "2021-week_33",
          "2021-week_34",
          "2021-week_35",
          "2021-week_36",
          "2021-week_37",
          "2021-week_38",
          "2021-week_39",
          "2021-week_40",
          "2021-week_41",
          "2021-week_42",
          "2021-week_43",
          "2021-week_44",
          "2021-week_45",
          "2021-week_46",
          "2021-week_47",
          "2021-week_48",
          "2021-week_49",
          "2021-week_50",
          "2021-week_51",
          "2022-week_01",
          "2022-week_02",
          "2022-week_03",
          "2022-week_04",
          "2022-week_05",
          "2022-week_06",
          "2022-week_52"
         ],
         "xaxis": "x",
         "y": [
          0.849685534591195,
          0.8412299968622529,
          0.855095045185416,
          0.8379557494546588,
          0.8522477208425023,
          0.8378293601003765,
          0.8019338739862757,
          0.8103394581127374,
          0.8310430980637101,
          0.8297536323436513,
          0.8221875,
          0.8327067669172933,
          0.8534992223950233,
          0.8689503456945318,
          0.8810269254852849,
          0.8449347420758235,
          0.8396994364433312,
          0.839375,
          0.8301886792452831,
          0.8361015355687872,
          0.829940494832446,
          0.8214173228346456,
          0.8275426405559065,
          0.8207309388783869,
          0.8518518518518519,
          0.8307692307692308
         ],
         "yaxis": "y"
        },
        {
         "error_y": {
          "array": [
           0.031320854323032554,
           0.03040383719831974,
           0.030327156680137746,
           0.029919774643691888,
           0.030019262633318444,
           0.029798639923194647,
           0.02994137670979269,
           0.02987117025361785,
           0.029952975187560682,
           0.03012558802299714,
           0.03087471574584555,
           0.029632464564517402,
           0.028816848482983604,
           0.029364937188018247,
           0.029382492078695588,
           0.029791458719258923,
           0.029741599854134604,
           0.02996549672442317,
           0.030775605803119443,
           0.03081027423818994,
           0.030596315466242086,
           0.029994562614459763,
           0.029997702642730273,
           0.030487010960014382,
           0.03071130702017033,
           0.03015802177256055
          ]
         },
         "hovertemplate": "region=IN<br>week_id=%{x}<br>success_prop=%{y}<extra></extra>",
         "legendgroup": "IN",
         "line": {
          "color": "#00cc96",
          "dash": "solid"
         },
         "marker": {
          "symbol": "circle"
         },
         "mode": "lines",
         "name": "IN",
         "orientation": "v",
         "showlegend": true,
         "type": "scatter",
         "x": [
          "2021-week_33",
          "2021-week_34",
          "2021-week_35",
          "2021-week_36",
          "2021-week_37",
          "2021-week_38",
          "2021-week_39",
          "2021-week_40",
          "2021-week_41",
          "2021-week_42",
          "2021-week_43",
          "2021-week_44",
          "2021-week_45",
          "2021-week_46",
          "2021-week_47",
          "2021-week_48",
          "2021-week_49",
          "2021-week_50",
          "2021-week_51",
          "2022-week_01",
          "2022-week_02",
          "2022-week_03",
          "2022-week_04",
          "2022-week_05",
          "2022-week_06",
          "2022-week_52"
         ],
         "xaxis": "x",
         "y": [
          0.7324780976220275,
          0.7530288909599254,
          0.7559987535057651,
          0.7650171179582944,
          0.7659440779139177,
          0.7716535433070866,
          0.7646326276463262,
          0.7684111563773112,
          0.7641568139390168,
          0.7605107443164123,
          0.746536523929471,
          0.7755359394703657,
          0.7895065584009994,
          0.7755417956656346,
          0.780119534444794,
          0.7750556792873051,
          0.7710616974632007,
          0.7658841940532082,
          0.7439403356121814,
          0.7471733668341709,
          0.7498440424204617,
          0.7639538509510446,
          0.7591510304521686,
          0.7529668956901936,
          0.7489028213166145,
          0.7628023876845743
         ],
         "yaxis": "y"
        },
        {
         "error_y": {
          "array": [
           0.046055227744678184,
           0.04590261225914394,
           0.04550775590277101,
           0.04571187276925004,
           0.045124064979578105,
           0.04643521537137518,
           0.04541822928199957,
           0.04497323312369206,
           0.04305297553027465,
           0.041656444768777945,
           0.04108315156972653,
           0.041428998303710385,
           0.04087572577544707,
           0.04225011707651949,
           0.04118058357467169,
           0.0424493256181242,
           0.041019037861565355,
           0.03969237073408194,
           0.03910280297873414,
           0.03960233165498228,
           0.039410560354907975,
           0.04011904797315924,
           0.038186658914693083,
           0.04002784491902189,
           0.02812062075358379
          ]
         },
         "hovertemplate": "region=JP<br>week_id=%{x}<br>success_prop=%{y}<extra></extra>",
         "legendgroup": "JP",
         "line": {
          "color": "#ab63fa",
          "dash": "solid"
         },
         "marker": {
          "symbol": "circle"
         },
         "mode": "lines",
         "name": "JP",
         "orientation": "v",
         "showlegend": true,
         "type": "scatter",
         "x": [
          "2021-week_33",
          "2021-week_34",
          "2021-week_35",
          "2021-week_36",
          "2021-week_37",
          "2021-week_38",
          "2021-week_39",
          "2021-week_40",
          "2021-week_41",
          "2021-week_42",
          "2021-week_43",
          "2021-week_44",
          "2021-week_45",
          "2021-week_46",
          "2021-week_47",
          "2021-week_48",
          "2021-week_49",
          "2021-week_50",
          "2022-week_01",
          "2022-week_02",
          "2022-week_03",
          "2022-week_04",
          "2022-week_05",
          "2022-week_06",
          "2022-week_52"
         ],
         "xaxis": "x",
         "y": [
          0.6908752327746741,
          0.6985616010006254,
          0.7132911392405064,
          0.7061044682190056,
          0.7019464720194647,
          0.6875784190715182,
          0.7112366603892027,
          0.7132262051915945,
          0.7603305785123967,
          0.776735459662289,
          0.7853566958698373,
          0.7774333539987601,
          0.7833846153846153,
          0.7696664568911264,
          0.7779141104294478,
          0.7609907120743034,
          0.7901077996195307,
          0.8021091811414393,
          0.8117573483427142,
          0.8029739776951673,
          0.8111533586818758,
          0.8007566204287516,
          0.821917808219178,
          0.7991266375545851,
          0.8045254556882464
         ],
         "yaxis": "y"
        },
        {
         "error_y": {
          "array": [
           0.020028568713950756,
           0.02079752179487704,
           0.02065744957722826,
           0.01991130146428821,
           0.021316058357003786,
           0.02244690484139711,
           0.021192205585788937,
           0.020889611099203176,
           0.021326538001340767,
           0.02189241257838037,
           0.021788564808466138,
           0.0228647739658836,
           0.020590029785205077,
           0.020650135770829525,
           0.022752854172657155,
           0.022700719365263744,
           0.022251448963569453,
           0.02275307970543161,
           0.024147012984146565,
           0.02369533815340974,
           0.02333409671014941,
           0.02367265207277658,
           0.023734613822517847,
           0.02342884877277629,
           0.02319882885056468,
           0.02342884877277629
          ]
         },
         "hovertemplate": "region=US<br>week_id=%{x}<br>success_prop=%{y}<extra></extra>",
         "legendgroup": "US",
         "line": {
          "color": "#FFA15A",
          "dash": "solid"
         },
         "marker": {
          "symbol": "circle"
         },
         "mode": "lines",
         "name": "US",
         "orientation": "v",
         "showlegend": true,
         "type": "scatter",
         "x": [
          "2021-week_33",
          "2021-week_34",
          "2021-week_35",
          "2021-week_36",
          "2021-week_37",
          "2021-week_38",
          "2021-week_39",
          "2021-week_40",
          "2021-week_41",
          "2021-week_42",
          "2021-week_43",
          "2021-week_44",
          "2021-week_45",
          "2021-week_46",
          "2021-week_47",
          "2021-week_48",
          "2021-week_49",
          "2021-week_50",
          "2021-week_51",
          "2022-week_01",
          "2022-week_02",
          "2022-week_03",
          "2022-week_04",
          "2022-week_05",
          "2022-week_06",
          "2022-week_52"
         ],
         "xaxis": "x",
         "y": [
          0.8877705083039759,
          0.8764353469795307,
          0.8792064289301859,
          0.8891402714932126,
          0.8701005025125628,
          0.8526315789473684,
          0.8711855927963982,
          0.8758465011286681,
          0.8694889779559118,
          0.8606393606393606,
          0.8625782227784731,
          0.8457300275482094,
          0.8796296296296297,
          0.8788485607008761,
          0.8475212819228843,
          0.8476309226932668,
          0.8555332999499249,
          0.8476572287647206,
          0.8230730730730731,
          0.8306310800698429,
          0.8366533864541833,
          0.8326212616235235,
          0.8304576144036009,
          0.8359179589794897,
          0.8401803607214429,
          0.8359179589794897
         ],
         "yaxis": "y"
        }
       ],
       "layout": {
        "autosize": true,
        "legend": {
         "title": {
          "text": "region"
         },
         "tracegroupgap": 0
        },
        "margin": {
         "t": 60
        },
        "template": {
         "data": {
          "bar": [
           {
            "error_x": {
             "color": "#2a3f5f"
            },
            "error_y": {
             "color": "#2a3f5f"
            },
            "marker": {
             "line": {
              "color": "#E5ECF6",
              "width": 0.5
             },
             "pattern": {
              "fillmode": "overlay",
              "size": 10,
              "solidity": 0.2
             }
            },
            "type": "bar"
           }
          ],
          "barpolar": [
           {
            "marker": {
             "line": {
              "color": "#E5ECF6",
              "width": 0.5
             },
             "pattern": {
              "fillmode": "overlay",
              "size": 10,
              "solidity": 0.2
             }
            },
            "type": "barpolar"
           }
          ],
          "carpet": [
           {
            "aaxis": {
             "endlinecolor": "#2a3f5f",
             "gridcolor": "white",
             "linecolor": "white",
             "minorgridcolor": "white",
             "startlinecolor": "#2a3f5f"
            },
            "baxis": {
             "endlinecolor": "#2a3f5f",
             "gridcolor": "white",
             "linecolor": "white",
             "minorgridcolor": "white",
             "startlinecolor": "#2a3f5f"
            },
            "type": "carpet"
           }
          ],
          "choropleth": [
           {
            "colorbar": {
             "outlinewidth": 0,
             "ticks": ""
            },
            "type": "choropleth"
           }
          ],
          "contour": [
           {
            "colorbar": {
             "outlinewidth": 0,
             "ticks": ""
            },
            "colorscale": [
             [
              0,
              "#0d0887"
             ],
             [
              0.1111111111111111,
              "#46039f"
             ],
             [
              0.2222222222222222,
              "#7201a8"
             ],
             [
              0.3333333333333333,
              "#9c179e"
             ],
             [
              0.4444444444444444,
              "#bd3786"
             ],
             [
              0.5555555555555556,
              "#d8576b"
             ],
             [
              0.6666666666666666,
              "#ed7953"
             ],
             [
              0.7777777777777778,
              "#fb9f3a"
             ],
             [
              0.8888888888888888,
              "#fdca26"
             ],
             [
              1,
              "#f0f921"
             ]
            ],
            "type": "contour"
           }
          ],
          "contourcarpet": [
           {
            "colorbar": {
             "outlinewidth": 0,
             "ticks": ""
            },
            "type": "contourcarpet"
           }
          ],
          "heatmap": [
           {
            "colorbar": {
             "outlinewidth": 0,
             "ticks": ""
            },
            "colorscale": [
             [
              0,
              "#0d0887"
             ],
             [
              0.1111111111111111,
              "#46039f"
             ],
             [
              0.2222222222222222,
              "#7201a8"
             ],
             [
              0.3333333333333333,
              "#9c179e"
             ],
             [
              0.4444444444444444,
              "#bd3786"
             ],
             [
              0.5555555555555556,
              "#d8576b"
             ],
             [
              0.6666666666666666,
              "#ed7953"
             ],
             [
              0.7777777777777778,
              "#fb9f3a"
             ],
             [
              0.8888888888888888,
              "#fdca26"
             ],
             [
              1,
              "#f0f921"
             ]
            ],
            "type": "heatmap"
           }
          ],
          "heatmapgl": [
           {
            "colorbar": {
             "outlinewidth": 0,
             "ticks": ""
            },
            "colorscale": [
             [
              0,
              "#0d0887"
             ],
             [
              0.1111111111111111,
              "#46039f"
             ],
             [
              0.2222222222222222,
              "#7201a8"
             ],
             [
              0.3333333333333333,
              "#9c179e"
             ],
             [
              0.4444444444444444,
              "#bd3786"
             ],
             [
              0.5555555555555556,
              "#d8576b"
             ],
             [
              0.6666666666666666,
              "#ed7953"
             ],
             [
              0.7777777777777778,
              "#fb9f3a"
             ],
             [
              0.8888888888888888,
              "#fdca26"
             ],
             [
              1,
              "#f0f921"
             ]
            ],
            "type": "heatmapgl"
           }
          ],
          "histogram": [
           {
            "marker": {
             "pattern": {
              "fillmode": "overlay",
              "size": 10,
              "solidity": 0.2
             }
            },
            "type": "histogram"
           }
          ],
          "histogram2d": [
           {
            "colorbar": {
             "outlinewidth": 0,
             "ticks": ""
            },
            "colorscale": [
             [
              0,
              "#0d0887"
             ],
             [
              0.1111111111111111,
              "#46039f"
             ],
             [
              0.2222222222222222,
              "#7201a8"
             ],
             [
              0.3333333333333333,
              "#9c179e"
             ],
             [
              0.4444444444444444,
              "#bd3786"
             ],
             [
              0.5555555555555556,
              "#d8576b"
             ],
             [
              0.6666666666666666,
              "#ed7953"
             ],
             [
              0.7777777777777778,
              "#fb9f3a"
             ],
             [
              0.8888888888888888,
              "#fdca26"
             ],
             [
              1,
              "#f0f921"
             ]
            ],
            "type": "histogram2d"
           }
          ],
          "histogram2dcontour": [
           {
            "colorbar": {
             "outlinewidth": 0,
             "ticks": ""
            },
            "colorscale": [
             [
              0,
              "#0d0887"
             ],
             [
              0.1111111111111111,
              "#46039f"
             ],
             [
              0.2222222222222222,
              "#7201a8"
             ],
             [
              0.3333333333333333,
              "#9c179e"
             ],
             [
              0.4444444444444444,
              "#bd3786"
             ],
             [
              0.5555555555555556,
              "#d8576b"
             ],
             [
              0.6666666666666666,
              "#ed7953"
             ],
             [
              0.7777777777777778,
              "#fb9f3a"
             ],
             [
              0.8888888888888888,
              "#fdca26"
             ],
             [
              1,
              "#f0f921"
             ]
            ],
            "type": "histogram2dcontour"
           }
          ],
          "mesh3d": [
           {
            "colorbar": {
             "outlinewidth": 0,
             "ticks": ""
            },
            "type": "mesh3d"
           }
          ],
          "parcoords": [
           {
            "line": {
             "colorbar": {
              "outlinewidth": 0,
              "ticks": ""
             }
            },
            "type": "parcoords"
           }
          ],
          "pie": [
           {
            "automargin": true,
            "type": "pie"
           }
          ],
          "scatter": [
           {
            "marker": {
             "colorbar": {
              "outlinewidth": 0,
              "ticks": ""
             }
            },
            "type": "scatter"
           }
          ],
          "scatter3d": [
           {
            "line": {
             "colorbar": {
              "outlinewidth": 0,
              "ticks": ""
             }
            },
            "marker": {
             "colorbar": {
              "outlinewidth": 0,
              "ticks": ""
             }
            },
            "type": "scatter3d"
           }
          ],
          "scattercarpet": [
           {
            "marker": {
             "colorbar": {
              "outlinewidth": 0,
              "ticks": ""
             }
            },
            "type": "scattercarpet"
           }
          ],
          "scattergeo": [
           {
            "marker": {
             "colorbar": {
              "outlinewidth": 0,
              "ticks": ""
             }
            },
            "type": "scattergeo"
           }
          ],
          "scattergl": [
           {
            "marker": {
             "colorbar": {
              "outlinewidth": 0,
              "ticks": ""
             }
            },
            "type": "scattergl"
           }
          ],
          "scattermapbox": [
           {
            "marker": {
             "colorbar": {
              "outlinewidth": 0,
              "ticks": ""
             }
            },
            "type": "scattermapbox"
           }
          ],
          "scatterpolar": [
           {
            "marker": {
             "colorbar": {
              "outlinewidth": 0,
              "ticks": ""
             }
            },
            "type": "scatterpolar"
           }
          ],
          "scatterpolargl": [
           {
            "marker": {
             "colorbar": {
              "outlinewidth": 0,
              "ticks": ""
             }
            },
            "type": "scatterpolargl"
           }
          ],
          "scatterternary": [
           {
            "marker": {
             "colorbar": {
              "outlinewidth": 0,
              "ticks": ""
             }
            },
            "type": "scatterternary"
           }
          ],
          "surface": [
           {
            "colorbar": {
             "outlinewidth": 0,
             "ticks": ""
            },
            "colorscale": [
             [
              0,
              "#0d0887"
             ],
             [
              0.1111111111111111,
              "#46039f"
             ],
             [
              0.2222222222222222,
              "#7201a8"
             ],
             [
              0.3333333333333333,
              "#9c179e"
             ],
             [
              0.4444444444444444,
              "#bd3786"
             ],
             [
              0.5555555555555556,
              "#d8576b"
             ],
             [
              0.6666666666666666,
              "#ed7953"
             ],
             [
              0.7777777777777778,
              "#fb9f3a"
             ],
             [
              0.8888888888888888,
              "#fdca26"
             ],
             [
              1,
              "#f0f921"
             ]
            ],
            "type": "surface"
           }
          ],
          "table": [
           {
            "cells": {
             "fill": {
              "color": "#EBF0F8"
             },
             "line": {
              "color": "white"
             }
            },
            "header": {
             "fill": {
              "color": "#C8D4E3"
             },
             "line": {
              "color": "white"
             }
            },
            "type": "table"
           }
          ]
         },
         "layout": {
          "annotationdefaults": {
           "arrowcolor": "#2a3f5f",
           "arrowhead": 0,
           "arrowwidth": 1
          },
          "autotypenumbers": "strict",
          "coloraxis": {
           "colorbar": {
            "outlinewidth": 0,
            "ticks": ""
           }
          },
          "colorscale": {
           "diverging": [
            [
             0,
             "#8e0152"
            ],
            [
             0.1,
             "#c51b7d"
            ],
            [
             0.2,
             "#de77ae"
            ],
            [
             0.3,
             "#f1b6da"
            ],
            [
             0.4,
             "#fde0ef"
            ],
            [
             0.5,
             "#f7f7f7"
            ],
            [
             0.6,
             "#e6f5d0"
            ],
            [
             0.7,
             "#b8e186"
            ],
            [
             0.8,
             "#7fbc41"
            ],
            [
             0.9,
             "#4d9221"
            ],
            [
             1,
             "#276419"
            ]
           ],
           "sequential": [
            [
             0,
             "#0d0887"
            ],
            [
             0.1111111111111111,
             "#46039f"
            ],
            [
             0.2222222222222222,
             "#7201a8"
            ],
            [
             0.3333333333333333,
             "#9c179e"
            ],
            [
             0.4444444444444444,
             "#bd3786"
            ],
            [
             0.5555555555555556,
             "#d8576b"
            ],
            [
             0.6666666666666666,
             "#ed7953"
            ],
            [
             0.7777777777777778,
             "#fb9f3a"
            ],
            [
             0.8888888888888888,
             "#fdca26"
            ],
            [
             1,
             "#f0f921"
            ]
           ],
           "sequentialminus": [
            [
             0,
             "#0d0887"
            ],
            [
             0.1111111111111111,
             "#46039f"
            ],
            [
             0.2222222222222222,
             "#7201a8"
            ],
            [
             0.3333333333333333,
             "#9c179e"
            ],
            [
             0.4444444444444444,
             "#bd3786"
            ],
            [
             0.5555555555555556,
             "#d8576b"
            ],
            [
             0.6666666666666666,
             "#ed7953"
            ],
            [
             0.7777777777777778,
             "#fb9f3a"
            ],
            [
             0.8888888888888888,
             "#fdca26"
            ],
            [
             1,
             "#f0f921"
            ]
           ]
          },
          "colorway": [
           "#636efa",
           "#EF553B",
           "#00cc96",
           "#ab63fa",
           "#FFA15A",
           "#19d3f3",
           "#FF6692",
           "#B6E880",
           "#FF97FF",
           "#FECB52"
          ],
          "font": {
           "color": "#2a3f5f"
          },
          "geo": {
           "bgcolor": "white",
           "lakecolor": "white",
           "landcolor": "#E5ECF6",
           "showlakes": true,
           "showland": true,
           "subunitcolor": "white"
          },
          "hoverlabel": {
           "align": "left"
          },
          "hovermode": "closest",
          "mapbox": {
           "style": "light"
          },
          "paper_bgcolor": "white",
          "plot_bgcolor": "#E5ECF6",
          "polar": {
           "angularaxis": {
            "gridcolor": "white",
            "linecolor": "white",
            "ticks": ""
           },
           "bgcolor": "#E5ECF6",
           "radialaxis": {
            "gridcolor": "white",
            "linecolor": "white",
            "ticks": ""
           }
          },
          "scene": {
           "xaxis": {
            "backgroundcolor": "#E5ECF6",
            "gridcolor": "white",
            "gridwidth": 2,
            "linecolor": "white",
            "showbackground": true,
            "ticks": "",
            "zerolinecolor": "white"
           },
           "yaxis": {
            "backgroundcolor": "#E5ECF6",
            "gridcolor": "white",
            "gridwidth": 2,
            "linecolor": "white",
            "showbackground": true,
            "ticks": "",
            "zerolinecolor": "white"
           },
           "zaxis": {
            "backgroundcolor": "#E5ECF6",
            "gridcolor": "white",
            "gridwidth": 2,
            "linecolor": "white",
            "showbackground": true,
            "ticks": "",
            "zerolinecolor": "white"
           }
          },
          "shapedefaults": {
           "line": {
            "color": "#2a3f5f"
           }
          },
          "ternary": {
           "aaxis": {
            "gridcolor": "white",
            "linecolor": "white",
            "ticks": ""
           },
           "baxis": {
            "gridcolor": "white",
            "linecolor": "white",
            "ticks": ""
           },
           "bgcolor": "#E5ECF6",
           "caxis": {
            "gridcolor": "white",
            "linecolor": "white",
            "ticks": ""
           }
          },
          "title": {
           "x": 0.05
          },
          "xaxis": {
           "automargin": true,
           "gridcolor": "white",
           "linecolor": "white",
           "ticks": "",
           "title": {
            "standoff": 15
           },
           "zerolinecolor": "white",
           "zerolinewidth": 2
          },
          "yaxis": {
           "automargin": true,
           "gridcolor": "white",
           "linecolor": "white",
           "ticks": "",
           "title": {
            "standoff": 15
           },
           "zerolinecolor": "white",
           "zerolinewidth": 2
          }
         }
        },
        "xaxis": {
         "anchor": "y",
         "autorange": true,
         "domain": [
          0,
          1
         ],
         "range": [
          -1.388888888888889,
          26.38888888888889
         ],
         "title": {
          "text": "week_id"
         },
         "type": "category"
        },
        "yaxis": {
         "anchor": "x",
         "autorange": true,
         "domain": [
          0,
          1
         ],
         "range": [
          0.6262594054080676,
          0.9239353712495763
         ],
         "title": {
          "text": "success_prop"
         },
         "type": "linear"
        }
       }
      },
      "image/png": "[encoded data removed]",
      "text/html": [
       "<div>                            <div id=\"edf2b827-b1af-4b6f-a3ce-aad7556869cf\" class=\"plotly-graph-div\" style=\"height:525px; width:100%;\"></div>            <script type=\"text/javascript\">                require([\"plotly\"], function(Plotly) {                    window.PLOTLYENV=window.PLOTLYENV || {};                                    if (document.getElementById(\"edf2b827-b1af-4b6f-a3ce-aad7556869cf\")) {                    Plotly.newPlot(                        \"edf2b827-b1af-4b6f-a3ce-aad7556869cf\",                        [{\"error_y\":{\"array\":[0.03233008494202361,0.033065594570873325,0.03227439188863146,0.032950140200263434,0.03224988282518426,0.03229715903112029,0.030738555778301757,0.03272270483389916,0.03174365310741578,0.03255334592809911,0.03429749224920653,0.035158310517412916,0.03211471079286787,0.031998706237999164,0.03119698250854075,0.03110412326583023,0.0310624073601089,0.03072046193876976,0.03227199937247005,0.03128874687268546,0.029874132552323074,0.030651487881819373,0.02913773873079295,0.029588156897331297,0.030164266374614668,0.03194421141423276]},\"hovertemplate\":\"region=DE<br>week_id=%{x}<br>success_prop=%{y}<extra></extra>\",\"legendgroup\":\"DE\",\"line\":{\"color\":\"#636efa\",\"dash\":\"solid\"},\"marker\":{\"symbol\":\"circle\"},\"mode\":\"lines\",\"name\":\"DE\",\"orientation\":\"v\",\"showlegend\":true,\"x\":[\"2021-week_33\",\"2021-week_34\",\"2021-week_35\",\"2021-week_36\",\"2021-week_37\",\"2021-week_38\",\"2021-week_39\",\"2021-week_40\",\"2021-week_41\",\"2021-week_42\",\"2021-week_43\",\"2021-week_44\",\"2021-week_45\",\"2021-week_46\",\"2021-week_47\",\"2021-week_48\",\"2021-week_49\",\"2021-week_50\",\"2021-week_51\",\"2022-week_01\",\"2022-week_02\",\"2022-week_03\",\"2022-week_04\",\"2022-week_05\",\"2022-week_06\",\"2022-week_52\"],\"xaxis\":\"x\",\"y\":[0.8058455114822547,0.7978813559322034,0.8069368992895947,0.795085381091212,0.8061564059900166,0.8058333333333333,0.8284171167428334,0.799082951229679,0.8145060441850771,0.8021702838063439,0.7714762301918265,0.7647058823529411,0.8084929225645295,0.8152081563296517,0.822037422037422,0.8221670802315963,0.8263976460697772,0.828761429758936,0.8050601410203235,0.8209825145711906,0.8412698412698413,0.8322119428090833,0.8528541226215645,0.8459277917716205,0.8354011579818031,0.8131821998320738],\"yaxis\":\"y\",\"type\":\"scatter\"},{\"error_y\":{\"array\":[0.025349881410678288,0.025894680777778456,0.024855582511269736,0.026019712201528433,0.02516681029306267,0.026113479163036635,0.028154810931940277,0.02767335570452456,0.02648799402521318,0.026718867391779977,0.027036569202077976,0.026424926263990844,0.024945432181170624,0.02392904264476714,0.0229145571530196,0.02552324023736441,0.025967012731194394,0.02596387965761271,0.026632881374452966,0.026212807736735844,0.02659404904077589,0.027188779953740028,0.0268559545063205,0.02723388534311355,0.02517487107368188,0.02657572608294223]},\"hovertemplate\":\"region=GB<br>week_id=%{x}<br>success_prop=%{y}<extra></extra>\",\"legendgroup\":\"GB\",\"line\":{\"color\":\"#EF553B\",\"dash\":\"solid\"},\"marker\":{\"symbol\":\"circle\"},\"mode\":\"lines\",\"name\":\"GB\",\"orientation\":\"v\",\"showlegend\":true,\"x\":[\"2021-week_33\",\"2021-week_34\",\"2021-week_35\",\"2021-week_36\",\"2021-week_37\",\"2021-week_38\",\"2021-week_39\",\"2021-week_40\",\"2021-week_41\",\"2021-week_42\",\"2021-week_43\",\"2021-week_44\",\"2021-week_45\",\"2021-week_46\",\"2021-week_47\",\"2021-week_48\",\"2021-week_49\",\"2021-week_50\",\"2021-week_51\",\"2022-week_01\",\"2022-week_02\",\"2022-week_03\",\"2022-week_04\",\"2022-week_05\",\"2022-week_06\",\"2022-week_52\"],\"xaxis\":\"x\",\"y\":[0.849685534591195,0.8412299968622529,0.855095045185416,0.8379557494546588,0.8522477208425023,0.8378293601003765,0.8019338739862757,0.8103394581127374,0.8310430980637101,0.8297536323436513,0.8221875,0.8327067669172933,0.8534992223950233,0.8689503456945318,0.8810269254852849,0.8449347420758235,0.8396994364433312,0.839375,0.8301886792452831,0.8361015355687872,0.829940494832446,0.8214173228346456,0.8275426405559065,0.8207309388783869,0.8518518518518519,0.8307692307692308],\"yaxis\":\"y\",\"type\":\"scatter\"},{\"error_y\":{\"array\":[0.031320854323032554,0.03040383719831974,0.030327156680137746,0.029919774643691888,0.030019262633318444,0.029798639923194647,0.02994137670979269,0.02987117025361785,0.029952975187560682,0.03012558802299714,0.03087471574584555,0.029632464564517402,0.028816848482983604,0.029364937188018247,0.029382492078695588,0.029791458719258923,0.029741599854134604,0.02996549672442317,0.030775605803119443,0.03081027423818994,0.030596315466242086,0.029994562614459763,0.029997702642730273,0.030487010960014382,0.03071130702017033,0.03015802177256055]},\"hovertemplate\":\"region=IN<br>week_id=%{x}<br>success_prop=%{y}<extra></extra>\",\"legendgroup\":\"IN\",\"line\":{\"color\":\"#00cc96\",\"dash\":\"solid\"},\"marker\":{\"symbol\":\"circle\"},\"mode\":\"lines\",\"name\":\"IN\",\"orientation\":\"v\",\"showlegend\":true,\"x\":[\"2021-week_33\",\"2021-week_34\",\"2021-week_35\",\"2021-week_36\",\"2021-week_37\",\"2021-week_38\",\"2021-week_39\",\"2021-week_40\",\"2021-week_41\",\"2021-week_42\",\"2021-week_43\",\"2021-week_44\",\"2021-week_45\",\"2021-week_46\",\"2021-week_47\",\"2021-week_48\",\"2021-week_49\",\"2021-week_50\",\"2021-week_51\",\"2022-week_01\",\"2022-week_02\",\"2022-week_03\",\"2022-week_04\",\"2022-week_05\",\"2022-week_06\",\"2022-week_52\"],\"xaxis\":\"x\",\"y\":[0.7324780976220275,0.7530288909599254,0.7559987535057651,0.7650171179582944,0.7659440779139177,0.7716535433070866,0.7646326276463262,0.7684111563773112,0.7641568139390168,0.7605107443164123,0.746536523929471,0.7755359394703657,0.7895065584009994,0.7755417956656346,0.780119534444794,0.7750556792873051,0.7710616974632007,0.7658841940532082,0.7439403356121814,0.7471733668341709,0.7498440424204617,0.7639538509510446,0.7591510304521686,0.7529668956901936,0.7489028213166145,0.7628023876845743],\"yaxis\":\"y\",\"type\":\"scatter\"},{\"error_y\":{\"array\":[0.046055227744678184,0.04590261225914394,0.04550775590277101,0.04571187276925004,0.045124064979578105,0.04643521537137518,0.04541822928199957,0.04497323312369206,0.04305297553027465,0.041656444768777945,0.04108315156972653,0.041428998303710385,0.04087572577544707,0.04225011707651949,0.04118058357467169,0.0424493256181242,0.041019037861565355,0.03969237073408194,0.03910280297873414,0.03960233165498228,0.039410560354907975,0.04011904797315924,0.038186658914693083,0.04002784491902189,0.02812062075358379]},\"hovertemplate\":\"region=JP<br>week_id=%{x}<br>success_prop=%{y}<extra></extra>\",\"legendgroup\":\"JP\",\"line\":{\"color\":\"#ab63fa\",\"dash\":\"solid\"},\"marker\":{\"symbol\":\"circle\"},\"mode\":\"lines\",\"name\":\"JP\",\"orientation\":\"v\",\"showlegend\":true,\"x\":[\"2021-week_33\",\"2021-week_34\",\"2021-week_35\",\"2021-week_36\",\"2021-week_37\",\"2021-week_38\",\"2021-week_39\",\"2021-week_40\",\"2021-week_41\",\"2021-week_42\",\"2021-week_43\",\"2021-week_44\",\"2021-week_45\",\"2021-week_46\",\"2021-week_47\",\"2021-week_48\",\"2021-week_49\",\"2021-week_50\",\"2022-week_01\",\"2022-week_02\",\"2022-week_03\",\"2022-week_04\",\"2022-week_05\",\"2022-week_06\",\"2022-week_52\"],\"xaxis\":\"x\",\"y\":[0.6908752327746741,0.6985616010006254,0.7132911392405064,0.7061044682190056,0.7019464720194647,0.6875784190715182,0.7112366603892027,0.7132262051915945,0.7603305785123967,0.776735459662289,0.7853566958698373,0.7774333539987601,0.7833846153846153,0.7696664568911264,0.7779141104294478,0.7609907120743034,0.7901077996195307,0.8021091811414393,0.8117573483427142,0.8029739776951673,0.8111533586818758,0.8007566204287516,0.821917808219178,0.7991266375545851,0.8045254556882464],\"yaxis\":\"y\",\"type\":\"scatter\"},{\"error_y\":{\"array\":[0.020028568713950756,0.02079752179487704,0.02065744957722826,0.01991130146428821,0.021316058357003786,0.02244690484139711,0.021192205585788937,0.020889611099203176,0.021326538001340767,0.02189241257838037,0.021788564808466138,0.0228647739658836,0.020590029785205077,0.020650135770829525,0.022752854172657155,0.022700719365263744,0.022251448963569453,0.02275307970543161,0.024147012984146565,0.02369533815340974,0.02333409671014941,0.02367265207277658,0.023734613822517847,0.02342884877277629,0.02319882885056468,0.02342884877277629]},\"hovertemplate\":\"region=US<br>week_id=%{x}<br>success_prop=%{y}<extra></extra>\",\"legendgroup\":\"US\",\"line\":{\"color\":\"#FFA15A\",\"dash\":\"solid\"},\"marker\":{\"symbol\":\"circle\"},\"mode\":\"lines\",\"name\":\"US\",\"orientation\":\"v\",\"showlegend\":true,\"x\":[\"2021-week_33\",\"2021-week_34\",\"2021-week_35\",\"2021-week_36\",\"2021-week_37\",\"2021-week_38\",\"2021-week_39\",\"2021-week_40\",\"2021-week_41\",\"2021-week_42\",\"2021-week_43\",\"2021-week_44\",\"2021-week_45\",\"2021-week_46\",\"2021-week_47\",\"2021-week_48\",\"2021-week_49\",\"2021-week_50\",\"2021-week_51\",\"2022-week_01\",\"2022-week_02\",\"2022-week_03\",\"2022-week_04\",\"2022-week_05\",\"2022-week_06\",\"2022-week_52\"],\"xaxis\":\"x\",\"y\":[0.8877705083039759,0.8764353469795307,0.8792064289301859,0.8891402714932126,0.8701005025125628,0.8526315789473684,0.8711855927963982,0.8758465011286681,0.8694889779559118,0.8606393606393606,0.8625782227784731,0.8457300275482094,0.8796296296296297,0.8788485607008761,0.8475212819228843,0.8476309226932668,0.8555332999499249,0.8476572287647206,0.8230730730730731,0.8306310800698429,0.8366533864541833,0.8326212616235235,0.8304576144036009,0.8359179589794897,0.8401803607214429,0.8359179589794897],\"yaxis\":\"y\",\"type\":\"scatter\"}],                        {\"template\":{\"data\":{\"bar\":[{\"error_x\":{\"color\":\"#2a3f5f\"},\"error_y\":{\"color\":\"#2a3f5f\"},\"marker\":{\"line\":{\"color\":\"#E5ECF6\",\"width\":0.5},\"pattern\":{\"fillmode\":\"overlay\",\"size\":10,\"solidity\":0.2}},\"type\":\"bar\"}],\"barpolar\":[{\"marker\":{\"line\":{\"color\":\"#E5ECF6\",\"width\":0.5},\"pattern\":{\"fillmode\":\"overlay\",\"size\":10,\"solidity\":0.2}},\"type\":\"barpolar\"}],\"carpet\":[{\"aaxis\":{\"endlinecolor\":\"#2a3f5f\",\"gridcolor\":\"white\",\"linecolor\":\"white\",\"minorgridcolor\":\"white\",\"startlinecolor\":\"#2a3f5f\"},\"baxis\":{\"endlinecolor\":\"#2a3f5f\",\"gridcolor\":\"white\",\"linecolor\":\"white\",\"minorgridcolor\":\"white\",\"startlinecolor\":\"#2a3f5f\"},\"type\":\"carpet\"}],\"choropleth\":[{\"colorbar\":{\"outlinewidth\":0,\"ticks\":\"\"},\"type\":\"choropleth\"}],\"contour\":[{\"colorbar\":{\"outlinewidth\":0,\"ticks\":\"\"},\"colorscale\":[[0.0,\"#0d0887\"],[0.1111111111111111,\"#46039f\"],[0.2222222222222222,\"#7201a8\"],[0.3333333333333333,\"#9c179e\"],[0.4444444444444444,\"#bd3786\"],[0.5555555555555556,\"#d8576b\"],[0.6666666666666666,\"#ed7953\"],[0.7777777777777778,\"#fb9f3a\"],[0.8888888888888888,\"#fdca26\"],[1.0,\"#f0f921\"]],\"type\":\"contour\"}],\"contourcarpet\":[{\"colorbar\":{\"outlinewidth\":0,\"ticks\":\"\"},\"type\":\"contourcarpet\"}],\"heatmap\":[{\"colorbar\":{\"outlinewidth\":0,\"ticks\":\"\"},\"colorscale\":[[0.0,\"#0d0887\"],[0.1111111111111111,\"#46039f\"],[0.2222222222222222,\"#7201a8\"],[0.3333333333333333,\"#9c179e\"],[0.4444444444444444,\"#bd3786\"],[0.5555555555555556,\"#d8576b\"],[0.6666666666666666,\"#ed7953\"],[0.7777777777777778,\"#fb9f3a\"],[0.8888888888888888,\"#fdca26\"],[1.0,\"#f0f921\"]],\"type\":\"heatmap\"}],\"heatmapgl\":[{\"colorbar\":{\"outlinewidth\":0,\"ticks\":\"\"},\"colorscale\":[[0.0,\"#0d0887\"],[0.1111111111111111,\"#46039f\"],[0.2222222222222222,\"#7201a8\"],[0.3333333333333333,\"#9c179e\"],[0.4444444444444444,\"#bd3786\"],[0.5555555555555556,\"#d8576b\"],[0.6666666666666666,\"#ed7953\"],[0.7777777777777778,\"#fb9f3a\"],[0.8888888888888888,\"#fdca26\"],[1.0,\"#f0f921\"]],\"type\":\"heatmapgl\"}],\"histogram\":[{\"marker\":{\"pattern\":{\"fillmode\":\"overlay\",\"size\":10,\"solidity\":0.2}},\"type\":\"histogram\"}],\"histogram2d\":[{\"colorbar\":{\"outlinewidth\":0,\"ticks\":\"\"},\"colorscale\":[[0.0,\"#0d0887\"],[0.1111111111111111,\"#46039f\"],[0.2222222222222222,\"#7201a8\"],[0.3333333333333333,\"#9c179e\"],[0.4444444444444444,\"#bd3786\"],[0.5555555555555556,\"#d8576b\"],[0.6666666666666666,\"#ed7953\"],[0.7777777777777778,\"#fb9f3a\"],[0.8888888888888888,\"#fdca26\"],[1.0,\"#f0f921\"]],\"type\":\"histogram2d\"}],\"histogram2dcontour\":[{\"colorbar\":{\"outlinewidth\":0,\"ticks\":\"\"},\"colorscale\":[[0.0,\"#0d0887\"],[0.1111111111111111,\"#46039f\"],[0.2222222222222222,\"#7201a8\"],[0.3333333333333333,\"#9c179e\"],[0.4444444444444444,\"#bd3786\"],[0.5555555555555556,\"#d8576b\"],[0.6666666666666666,\"#ed7953\"],[0.7777777777777778,\"#fb9f3a\"],[0.8888888888888888,\"#fdca26\"],[1.0,\"#f0f921\"]],\"type\":\"histogram2dcontour\"}],\"mesh3d\":[{\"colorbar\":{\"outlinewidth\":0,\"ticks\":\"\"},\"type\":\"mesh3d\"}],\"parcoords\":[{\"line\":{\"colorbar\":{\"outlinewidth\":0,\"ticks\":\"\"}},\"type\":\"parcoords\"}],\"pie\":[{\"automargin\":true,\"type\":\"pie\"}],\"scatter\":[{\"marker\":{\"colorbar\":{\"outlinewidth\":0,\"ticks\":\"\"}},\"type\":\"scatter\"}],\"scatter3d\":[{\"line\":{\"colorbar\":{\"outlinewidth\":0,\"ticks\":\"\"}},\"marker\":{\"colorbar\":{\"outlinewidth\":0,\"ticks\":\"\"}},\"type\":\"scatter3d\"}],\"scattercarpet\":[{\"marker\":{\"colorbar\":{\"outlinewidth\":0,\"ticks\":\"\"}},\"type\":\"scattercarpet\"}],\"scattergeo\":[{\"marker\":{\"colorbar\":{\"outlinewidth\":0,\"ticks\":\"\"}},\"type\":\"scattergeo\"}],\"scattergl\":[{\"marker\":{\"colorbar\":{\"outlinewidth\":0,\"ticks\":\"\"}},\"type\":\"scattergl\"}],\"scattermapbox\":[{\"marker\":{\"colorbar\":{\"outlinewidth\":0,\"ticks\":\"\"}},\"type\":\"scattermapbox\"}],\"scatterpolar\":[{\"marker\":{\"colorbar\":{\"outlinewidth\":0,\"ticks\":\"\"}},\"type\":\"scatterpolar\"}],\"scatterpolargl\":[{\"marker\":{\"colorbar\":{\"outlinewidth\":0,\"ticks\":\"\"}},\"type\":\"scatterpolargl\"}],\"scatterternary\":[{\"marker\":{\"colorbar\":{\"outlinewidth\":0,\"ticks\":\"\"}},\"type\":\"scatterternary\"}],\"surface\":[{\"colorbar\":{\"outlinewidth\":0,\"ticks\":\"\"},\"colorscale\":[[0.0,\"#0d0887\"],[0.1111111111111111,\"#46039f\"],[0.2222222222222222,\"#7201a8\"],[0.3333333333333333,\"#9c179e\"],[0.4444444444444444,\"#bd3786\"],[0.5555555555555556,\"#d8576b\"],[0.6666666666666666,\"#ed7953\"],[0.7777777777777778,\"#fb9f3a\"],[0.8888888888888888,\"#fdca26\"],[1.0,\"#f0f921\"]],\"type\":\"surface\"}],\"table\":[{\"cells\":{\"fill\":{\"color\":\"#EBF0F8\"},\"line\":{\"color\":\"white\"}},\"header\":{\"fill\":{\"color\":\"#C8D4E3\"},\"line\":{\"color\":\"white\"}},\"type\":\"table\"}]},\"layout\":{\"annotationdefaults\":{\"arrowcolor\":\"#2a3f5f\",\"arrowhead\":0,\"arrowwidth\":1},\"autotypenumbers\":\"strict\",\"coloraxis\":{\"colorbar\":{\"outlinewidth\":0,\"ticks\":\"\"}},\"colorscale\":{\"diverging\":[[0,\"#8e0152\"],[0.1,\"#c51b7d\"],[0.2,\"#de77ae\"],[0.3,\"#f1b6da\"],[0.4,\"#fde0ef\"],[0.5,\"#f7f7f7\"],[0.6,\"#e6f5d0\"],[0.7,\"#b8e186\"],[0.8,\"#7fbc41\"],[0.9,\"#4d9221\"],[1,\"#276419\"]],\"sequential\":[[0.0,\"#0d0887\"],[0.1111111111111111,\"#46039f\"],[0.2222222222222222,\"#7201a8\"],[0.3333333333333333,\"#9c179e\"],[0.4444444444444444,\"#bd3786\"],[0.5555555555555556,\"#d8576b\"],[0.6666666666666666,\"#ed7953\"],[0.7777777777777778,\"#fb9f3a\"],[0.8888888888888888,\"#fdca26\"],[1.0,\"#f0f921\"]],\"sequentialminus\":[[0.0,\"#0d0887\"],[0.1111111111111111,\"#46039f\"],[0.2222222222222222,\"#7201a8\"],[0.3333333333333333,\"#9c179e\"],[0.4444444444444444,\"#bd3786\"],[0.5555555555555556,\"#d8576b\"],[0.6666666666666666,\"#ed7953\"],[0.7777777777777778,\"#fb9f3a\"],[0.8888888888888888,\"#fdca26\"],[1.0,\"#f0f921\"]]},\"colorway\":[\"#636efa\",\"#EF553B\",\"#00cc96\",\"#ab63fa\",\"#FFA15A\",\"#19d3f3\",\"#FF6692\",\"#B6E880\",\"#FF97FF\",\"#FECB52\"],\"font\":{\"color\":\"#2a3f5f\"},\"geo\":{\"bgcolor\":\"white\",\"lakecolor\":\"white\",\"landcolor\":\"#E5ECF6\",\"showlakes\":true,\"showland\":true,\"subunitcolor\":\"white\"},\"hoverlabel\":{\"align\":\"left\"},\"hovermode\":\"closest\",\"mapbox\":{\"style\":\"light\"},\"paper_bgcolor\":\"white\",\"plot_bgcolor\":\"#E5ECF6\",\"polar\":{\"angularaxis\":{\"gridcolor\":\"white\",\"linecolor\":\"white\",\"ticks\":\"\"},\"bgcolor\":\"#E5ECF6\",\"radialaxis\":{\"gridcolor\":\"white\",\"linecolor\":\"white\",\"ticks\":\"\"}},\"scene\":{\"xaxis\":{\"backgroundcolor\":\"#E5ECF6\",\"gridcolor\":\"white\",\"gridwidth\":2,\"linecolor\":\"white\",\"showbackground\":true,\"ticks\":\"\",\"zerolinecolor\":\"white\"},\"yaxis\":{\"backgroundcolor\":\"#E5ECF6\",\"gridcolor\":\"white\",\"gridwidth\":2,\"linecolor\":\"white\",\"showbackground\":true,\"ticks\":\"\",\"zerolinecolor\":\"white\"},\"zaxis\":{\"backgroundcolor\":\"#E5ECF6\",\"gridcolor\":\"white\",\"gridwidth\":2,\"linecolor\":\"white\",\"showbackground\":true,\"ticks\":\"\",\"zerolinecolor\":\"white\"}},\"shapedefaults\":{\"line\":{\"color\":\"#2a3f5f\"}},\"ternary\":{\"aaxis\":{\"gridcolor\":\"white\",\"linecolor\":\"white\",\"ticks\":\"\"},\"baxis\":{\"gridcolor\":\"white\",\"linecolor\":\"white\",\"ticks\":\"\"},\"bgcolor\":\"#E5ECF6\",\"caxis\":{\"gridcolor\":\"white\",\"linecolor\":\"white\",\"ticks\":\"\"}},\"title\":{\"x\":0.05},\"xaxis\":{\"automargin\":true,\"gridcolor\":\"white\",\"linecolor\":\"white\",\"ticks\":\"\",\"title\":{\"standoff\":15},\"zerolinecolor\":\"white\",\"zerolinewidth\":2},\"yaxis\":{\"automargin\":true,\"gridcolor\":\"white\",\"linecolor\":\"white\",\"ticks\":\"\",\"title\":{\"standoff\":15},\"zerolinecolor\":\"white\",\"zerolinewidth\":2}}},\"xaxis\":{\"anchor\":\"y\",\"domain\":[0.0,1.0],\"title\":{\"text\":\"week_id\"}},\"yaxis\":{\"anchor\":\"x\",\"domain\":[0.0,1.0],\"title\":{\"text\":\"success_prop\"}},\"legend\":{\"title\":{\"text\":\"region\"},\"tracegroupgap\":0},\"margin\":{\"t\":60}},                        {\"responsive\": true}                    ).then(function(){\n",
       "                            \n",
       "var gd = document.getElementById('edf2b827-b1af-4b6f-a3ce-aad7556869cf');\n",
       "var x = new MutationObserver(function (mutations, observer) {{\n",
       "        var display = window.getComputedStyle(gd).display;\n",
       "        if (!display || display === 'none') {{\n",
       "            console.log([gd, 'removed!']);\n",
       "            Plotly.purge(gd);\n",
       "            observer.disconnect();\n",
       "        }}\n",
       "}});\n",
       "\n",
       "// Listen for the removal of the full notebook cells\n",
       "var notebookContainer = gd.closest('#notebook-container');\n",
       "if (notebookContainer) {{\n",
       "    x.observe(notebookContainer, {childList: true});\n",
       "}}\n",
       "\n",
       "// Listen for the clearing of the current output cell\n",
       "var outputEl = gd.closest('.output');\n",
       "if (outputEl) {{\n",
       "    x.observe(outputEl, {childList: true});\n",
       "}}\n",
       "\n",
       "                        })                };                });            </script>        </div>"
      ]
     },
     "metadata": {},
     "output_type": "display_data"
    }
   ],
   "source": [
    "px.line(region_week_CI, x='week_id',y='success_prop', error_y='success_prop_ci',color='region')"
   ]
  },
  {
   "cell_type": "markdown",
   "metadata": {},
   "source": [
    "### Rolling 4 weeks success rate and CI "
   ]
  },
  {
   "cell_type": "code",
   "execution_count": 300,
   "metadata": {},
   "outputs": [
    {
     "data": {
      "application/vnd.plotly.v1+json": {
       "config": {
        "plotlyServerURL": "https://plot.ly"
       },
       "data": [
        {
         "error_y": {
          "array": [
           0.03233008494202361,
           0.02312156634694129,
           0.018797338246183237,
           0.01632919088246587,
           0.01631909770232265,
           0.01622337951621211,
           0.01604184256408847,
           0.016011393633222903,
           0.015947913390711665,
           0.015981009899280973,
           0.016433681027104186,
           0.016748122987886083,
           0.016788778324697384,
           0.01673140747264723,
           0.0163433406454625,
           0.01580367942127281,
           0.015670756520390183,
           0.015511183859407529,
           0.01565265986584352,
           0.015675796047600388,
           0.015535760825489797,
           0.01552837855349698,
           0.015133792222037812,
           0.014912612139570403,
           0.014950281437703827,
           0.01512701305134967
          ]
         },
         "hovertemplate": "region=DE<br>week_id=%{x}<br>success_prop=%{y}<extra></extra>",
         "legendgroup": "DE",
         "line": {
          "color": "#636efa",
          "dash": "solid"
         },
         "marker": {
          "symbol": "circle"
         },
         "mode": "lines",
         "name": "DE",
         "orientation": "v",
         "showlegend": true,
         "type": "scatter",
         "x": [
          "2021-week_33",
          "2021-week_34",
          "2021-week_35",
          "2021-week_36",
          "2021-week_37",
          "2021-week_38",
          "2021-week_39",
          "2021-week_40",
          "2021-week_41",
          "2021-week_42",
          "2021-week_43",
          "2021-week_44",
          "2021-week_45",
          "2021-week_46",
          "2021-week_47",
          "2021-week_48",
          "2021-week_49",
          "2021-week_50",
          "2021-week_51",
          "2022-week_01",
          "2022-week_02",
          "2022-week_03",
          "2022-week_04",
          "2022-week_05",
          "2022-week_06",
          "2022-week_52"
         ],
         "xaxis": "x",
         "y": [
          0.8058455114822547,
          0.801863433707229,
          0.8035545889013509,
          0.8014372869488162,
          0.8015150105757567,
          0.8035030049260392,
          0.8088730592893488,
          0.8098724518239655,
          0.8119598613727307,
          0.8110440989909833,
          0.7968088773532316,
          0.7882146101340473,
          0.7867113297289103,
          0.7899707978597372,
          0.8026110958211361,
          0.8169763952908,
          0.8214525761671118,
          0.8248408945244329,
          0.8205965742701582,
          0.8203004328550569,
          0.8240184816550729,
          0.8248811099176097,
          0.83682960531792,
          0.8430659246180274,
          0.8415987537960179,
          0.8368413180517655
         ],
         "yaxis": "y"
        },
        {
         "error_y": {
          "array": [
           0.014548255381013453,
           0.014054298384980957,
           0.013416890911527535,
           0.012769234904644655,
           0.012746977216582911,
           0.012775339405488362,
           0.01321097153390749,
           0.013423411315591105,
           0.013570925591191774,
           0.013641859181792837,
           0.013495191159103692,
           0.013334840169566098,
           0.013151854983293854,
           0.01282311363699562,
           0.012310926751897489,
           0.012185956359452632,
           0.012322845332062515,
           0.01257764746965817,
           0.013012922817663197,
           0.013098182838319428,
           0.01317670740421395,
           0.013330661794557663,
           0.0133584987813542,
           0.013485201648212097,
           0.01332024484921912,
           0.013241519889727549
          ]
         },
         "hovertemplate": "region=GB<br>week_id=%{x}<br>success_prop=%{y}<extra></extra>",
         "legendgroup": "GB",
         "line": {
          "color": "#EF553B",
          "dash": "solid"
         },
         "marker": {
          "symbol": "circle"
         },
         "mode": "lines",
         "name": "GB",
         "orientation": "v",
         "showlegend": true,
         "type": "scatter",
         "x": [
          "2021-week_33",
          "2021-week_34",
          "2021-week_35",
          "2021-week_36",
          "2021-week_37",
          "2021-week_38",
          "2021-week_39",
          "2021-week_40",
          "2021-week_41",
          "2021-week_42",
          "2021-week_43",
          "2021-week_44",
          "2021-week_45",
          "2021-week_46",
          "2021-week_47",
          "2021-week_48",
          "2021-week_49",
          "2021-week_50",
          "2021-week_51",
          "2022-week_01",
          "2022-week_02",
          "2022-week_03",
          "2022-week_04",
          "2022-week_05",
          "2022-week_06",
          "2022-week_52"
         ],
         "xaxis": "x",
         "y": [
          0.8360491710441731,
          0.8348747223168312,
          0.8397981941177344,
          0.8459915815233806,
          0.8466321280862075,
          0.8457819688957384,
          0.8324916760959533,
          0.825587603260473,
          0.820286447565775,
          0.8182675156265937,
          0.8233309221300247,
          0.8289227493311637,
          0.8345367804139919,
          0.8443359587517121,
          0.8590458151230332,
          0.8621028089126659,
          0.8586528624247429,
          0.8512590260011099,
          0.8385494644411094,
          0.8363411628143503,
          0.833901427411629,
          0.8294120081202905,
          0.8287504984479463,
          0.8249078492753463,
          0.8303856885301978,
          0.832723665513844
         ],
         "yaxis": "y"
        },
        {
         "error_y": {
          "array": [
           0.013931120760067861,
           0.014356952035163628,
           0.014917019760573025,
           0.015253848326734154,
           0.015085592799221281,
           0.01501000572155009,
           0.014960332587308223,
           0.014954223128857302,
           0.014946095620190558,
           0.014986863378743775,
           0.015106460220073004,
           0.015079152126789008,
           0.01494608950595433,
           0.01484971224285836,
           0.014651344280431466,
           0.014670868080942423,
           0.014785198458487914,
           0.014861732237131164,
           0.015042978901614878,
           0.01516934243991841,
           0.01527244651111026,
           0.015275216602793407,
           0.01517680798556409,
           0.015135782995358227,
           0.015150161670656193,
           0.015170392954294787
          ]
         },
         "hovertemplate": "region=IN<br>week_id=%{x}<br>success_prop=%{y}<extra></extra>",
         "legendgroup": "IN",
         "line": {
          "color": "#00cc96",
          "dash": "solid"
         },
         "marker": {
          "symbol": "circle"
         },
         "mode": "lines",
         "name": "IN",
         "orientation": "v",
         "showlegend": true,
         "type": "scatter",
         "x": [
          "2021-week_33",
          "2021-week_34",
          "2021-week_35",
          "2021-week_36",
          "2021-week_37",
          "2021-week_38",
          "2021-week_39",
          "2021-week_40",
          "2021-week_41",
          "2021-week_42",
          "2021-week_43",
          "2021-week_44",
          "2021-week_45",
          "2021-week_46",
          "2021-week_47",
          "2021-week_48",
          "2021-week_49",
          "2021-week_50",
          "2021-week_51",
          "2022-week_01",
          "2022-week_02",
          "2022-week_03",
          "2022-week_04",
          "2022-week_05",
          "2022-week_06",
          "2022-week_52"
         ],
         "xaxis": "x",
         "y": [
          0.8089575297803743,
          0.7920320178007588,
          0.7680687432142372,
          0.7516307150115031,
          0.7599972100844756,
          0.7646533731712659,
          0.7668118417064063,
          0.7676603513111605,
          0.7672135353174352,
          0.7644278355697666,
          0.7599038096405528,
          0.7616850054138165,
          0.7680224415293122,
          0.7717802043666177,
          0.7801759569954485,
          0.7800558919496833,
          0.7754446767152336,
          0.7730302763121271,
          0.7639854766039739,
          0.7570148984906903,
          0.7517104847300056,
          0.7512278989544646,
          0.7550305726644614,
          0.7564789548784672,
          0.7562436496025053,
          0.7559557837858877
         ],
         "yaxis": "y"
        },
        {
         "error_y": {
          "array": [
           0.016612153406124763,
           0.018239147312941517,
           0.020192405727247786,
           0.02290198066315141,
           0.022781331741365873,
           0.02285139602861297,
           0.022839570604499926,
           0.022748852743164072,
           0.02253517974583863,
           0.021950416855541333,
           0.021407250959746937,
           0.020908087938624975,
           0.020631343794189405,
           0.02070695512821641,
           0.020717547393238833,
           0.020849107787489274,
           0.02087205148888227,
           0.02056311491689322,
           0.020316319618968626,
           0.019931449941462898,
           0.019728087025364438,
           0.019781427212248515,
           0.019671174484034104,
           0.019725972186048546,
           0.01768940469458924
          ]
         },
         "hovertemplate": "region=JP<br>week_id=%{x}<br>success_prop=%{y}<extra></extra>",
         "legendgroup": "JP",
         "line": {
          "color": "#ab63fa",
          "dash": "solid"
         },
         "marker": {
          "symbol": "circle"
         },
         "mode": "lines",
         "name": "JP",
         "orientation": "v",
         "showlegend": true,
         "type": "scatter",
         "x": [
          "2021-week_33",
          "2021-week_34",
          "2021-week_35",
          "2021-week_36",
          "2021-week_37",
          "2021-week_38",
          "2021-week_39",
          "2021-week_40",
          "2021-week_41",
          "2021-week_42",
          "2021-week_43",
          "2021-week_44",
          "2021-week_45",
          "2021-week_46",
          "2021-week_47",
          "2021-week_48",
          "2021-week_49",
          "2021-week_50",
          "2022-week_01",
          "2022-week_02",
          "2022-week_03",
          "2022-week_04",
          "2022-week_05",
          "2022-week_06",
          "2022-week_52"
         ],
         "xaxis": "x",
         "y": [
          0.7388868343665141,
          0.7252855106941221,
          0.716382590175095,
          0.7022081103087028,
          0.7049759201199005,
          0.7022301246376237,
          0.7017165049247979,
          0.7034969391679451,
          0.7180929657911781,
          0.7403822259388707,
          0.7589122348090294,
          0.7749640220108207,
          0.7807275312288754,
          0.7789602805360848,
          0.7770996341759874,
          0.7729889736948733,
          0.774669769753602,
          0.7827804508161803,
          0.7912412602944969,
          0.8017370766997128,
          0.8069984664652992,
          0.8066603262871272,
          0.8092004412562431,
          0.8082386062210977,
          0.8065816304726903
         ],
         "yaxis": "y"
        },
        {
         "error_y": {
          "array": [
           0.014815595777807777,
           0.012914387512765524,
           0.011211234499940437,
           0.010178096219811472,
           0.01034077235054598,
           0.010560809673280769,
           0.010626136785747198,
           0.01073831423403293,
           0.010739519947054577,
           0.010665828890693785,
           0.010740955501509886,
           0.010990999194406825,
           0.010905993955384385,
           0.010755716304603924,
           0.010883149832170869,
           0.010861481637546078,
           0.011060313823628931,
           0.011308305176856326,
           0.011493483852657471,
           0.011619452814094933,
           0.011747500889337958,
           0.011857822026833276,
           0.011804965335549422,
           0.01177164776975137,
           0.011755388369341535,
           0.011724842700331806
          ]
         },
         "hovertemplate": "region=US<br>week_id=%{x}<br>success_prop=%{y}<extra></extra>",
         "legendgroup": "US",
         "line": {
          "color": "#FFA15A",
          "dash": "solid"
         },
         "marker": {
          "symbol": "circle"
         },
         "mode": "lines",
         "name": "US",
         "orientation": "v",
         "showlegend": true,
         "type": "scatter",
         "x": [
          "2021-week_33",
          "2021-week_34",
          "2021-week_35",
          "2021-week_36",
          "2021-week_37",
          "2021-week_38",
          "2021-week_39",
          "2021-week_40",
          "2021-week_41",
          "2021-week_42",
          "2021-week_43",
          "2021-week_44",
          "2021-week_45",
          "2021-week_46",
          "2021-week_47",
          "2021-week_48",
          "2021-week_49",
          "2021-week_50",
          "2021-week_51",
          "2022-week_01",
          "2022-week_02",
          "2022-week_03",
          "2022-week_04",
          "2022-week_05",
          "2022-week_06",
          "2022-week_52"
         ],
         "xaxis": "x",
         "y": [
          0.8283351024414963,
          0.8419644871315846,
          0.8619844349754847,
          0.8831381389267263,
          0.878720637478873,
          0.8727696954708324,
          0.8707644864373855,
          0.8674410438462493,
          0.8672881627070866,
          0.8692901081300848,
          0.8671382656256035,
          0.8596091472304888,
          0.8621443101489182,
          0.8666966101642971,
          0.8629323749503999,
          0.8634075987366643,
          0.857383516316738,
          0.8495856833326991,
          0.8434736311202463,
          0.8392236704643903,
          0.8345036920904549,
          0.8307447003051557,
          0.8325908356377876,
          0.8339125553651994,
          0.8347942989320143,
          0.8356184732710058
         ],
         "yaxis": "y"
        }
       ],
       "layout": {
        "autosize": true,
        "legend": {
         "title": {
          "text": "region"
         },
         "tracegroupgap": 0
        },
        "margin": {
         "t": 60
        },
        "template": {
         "data": {
          "bar": [
           {
            "error_x": {
             "color": "#2a3f5f"
            },
            "error_y": {
             "color": "#2a3f5f"
            },
            "marker": {
             "line": {
              "color": "#E5ECF6",
              "width": 0.5
             },
             "pattern": {
              "fillmode": "overlay",
              "size": 10,
              "solidity": 0.2
             }
            },
            "type": "bar"
           }
          ],
          "barpolar": [
           {
            "marker": {
             "line": {
              "color": "#E5ECF6",
              "width": 0.5
             },
             "pattern": {
              "fillmode": "overlay",
              "size": 10,
              "solidity": 0.2
             }
            },
            "type": "barpolar"
           }
          ],
          "carpet": [
           {
            "aaxis": {
             "endlinecolor": "#2a3f5f",
             "gridcolor": "white",
             "linecolor": "white",
             "minorgridcolor": "white",
             "startlinecolor": "#2a3f5f"
            },
            "baxis": {
             "endlinecolor": "#2a3f5f",
             "gridcolor": "white",
             "linecolor": "white",
             "minorgridcolor": "white",
             "startlinecolor": "#2a3f5f"
            },
            "type": "carpet"
           }
          ],
          "choropleth": [
           {
            "colorbar": {
             "outlinewidth": 0,
             "ticks": ""
            },
            "type": "choropleth"
           }
          ],
          "contour": [
           {
            "colorbar": {
             "outlinewidth": 0,
             "ticks": ""
            },
            "colorscale": [
             [
              0,
              "#0d0887"
             ],
             [
              0.1111111111111111,
              "#46039f"
             ],
             [
              0.2222222222222222,
              "#7201a8"
             ],
             [
              0.3333333333333333,
              "#9c179e"
             ],
             [
              0.4444444444444444,
              "#bd3786"
             ],
             [
              0.5555555555555556,
              "#d8576b"
             ],
             [
              0.6666666666666666,
              "#ed7953"
             ],
             [
              0.7777777777777778,
              "#fb9f3a"
             ],
             [
              0.8888888888888888,
              "#fdca26"
             ],
             [
              1,
              "#f0f921"
             ]
            ],
            "type": "contour"
           }
          ],
          "contourcarpet": [
           {
            "colorbar": {
             "outlinewidth": 0,
             "ticks": ""
            },
            "type": "contourcarpet"
           }
          ],
          "heatmap": [
           {
            "colorbar": {
             "outlinewidth": 0,
             "ticks": ""
            },
            "colorscale": [
             [
              0,
              "#0d0887"
             ],
             [
              0.1111111111111111,
              "#46039f"
             ],
             [
              0.2222222222222222,
              "#7201a8"
             ],
             [
              0.3333333333333333,
              "#9c179e"
             ],
             [
              0.4444444444444444,
              "#bd3786"
             ],
             [
              0.5555555555555556,
              "#d8576b"
             ],
             [
              0.6666666666666666,
              "#ed7953"
             ],
             [
              0.7777777777777778,
              "#fb9f3a"
             ],
             [
              0.8888888888888888,
              "#fdca26"
             ],
             [
              1,
              "#f0f921"
             ]
            ],
            "type": "heatmap"
           }
          ],
          "heatmapgl": [
           {
            "colorbar": {
             "outlinewidth": 0,
             "ticks": ""
            },
            "colorscale": [
             [
              0,
              "#0d0887"
             ],
             [
              0.1111111111111111,
              "#46039f"
             ],
             [
              0.2222222222222222,
              "#7201a8"
             ],
             [
              0.3333333333333333,
              "#9c179e"
             ],
             [
              0.4444444444444444,
              "#bd3786"
             ],
             [
              0.5555555555555556,
              "#d8576b"
             ],
             [
              0.6666666666666666,
              "#ed7953"
             ],
             [
              0.7777777777777778,
              "#fb9f3a"
             ],
             [
              0.8888888888888888,
              "#fdca26"
             ],
             [
              1,
              "#f0f921"
             ]
            ],
            "type": "heatmapgl"
           }
          ],
          "histogram": [
           {
            "marker": {
             "pattern": {
              "fillmode": "overlay",
              "size": 10,
              "solidity": 0.2
             }
            },
            "type": "histogram"
           }
          ],
          "histogram2d": [
           {
            "colorbar": {
             "outlinewidth": 0,
             "ticks": ""
            },
            "colorscale": [
             [
              0,
              "#0d0887"
             ],
             [
              0.1111111111111111,
              "#46039f"
             ],
             [
              0.2222222222222222,
              "#7201a8"
             ],
             [
              0.3333333333333333,
              "#9c179e"
             ],
             [
              0.4444444444444444,
              "#bd3786"
             ],
             [
              0.5555555555555556,
              "#d8576b"
             ],
             [
              0.6666666666666666,
              "#ed7953"
             ],
             [
              0.7777777777777778,
              "#fb9f3a"
             ],
             [
              0.8888888888888888,
              "#fdca26"
             ],
             [
              1,
              "#f0f921"
             ]
            ],
            "type": "histogram2d"
           }
          ],
          "histogram2dcontour": [
           {
            "colorbar": {
             "outlinewidth": 0,
             "ticks": ""
            },
            "colorscale": [
             [
              0,
              "#0d0887"
             ],
             [
              0.1111111111111111,
              "#46039f"
             ],
             [
              0.2222222222222222,
              "#7201a8"
             ],
             [
              0.3333333333333333,
              "#9c179e"
             ],
             [
              0.4444444444444444,
              "#bd3786"
             ],
             [
              0.5555555555555556,
              "#d8576b"
             ],
             [
              0.6666666666666666,
              "#ed7953"
             ],
             [
              0.7777777777777778,
              "#fb9f3a"
             ],
             [
              0.8888888888888888,
              "#fdca26"
             ],
             [
              1,
              "#f0f921"
             ]
            ],
            "type": "histogram2dcontour"
           }
          ],
          "mesh3d": [
           {
            "colorbar": {
             "outlinewidth": 0,
             "ticks": ""
            },
            "type": "mesh3d"
           }
          ],
          "parcoords": [
           {
            "line": {
             "colorbar": {
              "outlinewidth": 0,
              "ticks": ""
             }
            },
            "type": "parcoords"
           }
          ],
          "pie": [
           {
            "automargin": true,
            "type": "pie"
           }
          ],
          "scatter": [
           {
            "marker": {
             "colorbar": {
              "outlinewidth": 0,
              "ticks": ""
             }
            },
            "type": "scatter"
           }
          ],
          "scatter3d": [
           {
            "line": {
             "colorbar": {
              "outlinewidth": 0,
              "ticks": ""
             }
            },
            "marker": {
             "colorbar": {
              "outlinewidth": 0,
              "ticks": ""
             }
            },
            "type": "scatter3d"
           }
          ],
          "scattercarpet": [
           {
            "marker": {
             "colorbar": {
              "outlinewidth": 0,
              "ticks": ""
             }
            },
            "type": "scattercarpet"
           }
          ],
          "scattergeo": [
           {
            "marker": {
             "colorbar": {
              "outlinewidth": 0,
              "ticks": ""
             }
            },
            "type": "scattergeo"
           }
          ],
          "scattergl": [
           {
            "marker": {
             "colorbar": {
              "outlinewidth": 0,
              "ticks": ""
             }
            },
            "type": "scattergl"
           }
          ],
          "scattermapbox": [
           {
            "marker": {
             "colorbar": {
              "outlinewidth": 0,
              "ticks": ""
             }
            },
            "type": "scattermapbox"
           }
          ],
          "scatterpolar": [
           {
            "marker": {
             "colorbar": {
              "outlinewidth": 0,
              "ticks": ""
             }
            },
            "type": "scatterpolar"
           }
          ],
          "scatterpolargl": [
           {
            "marker": {
             "colorbar": {
              "outlinewidth": 0,
              "ticks": ""
             }
            },
            "type": "scatterpolargl"
           }
          ],
          "scatterternary": [
           {
            "marker": {
             "colorbar": {
              "outlinewidth": 0,
              "ticks": ""
             }
            },
            "type": "scatterternary"
           }
          ],
          "surface": [
           {
            "colorbar": {
             "outlinewidth": 0,
             "ticks": ""
            },
            "colorscale": [
             [
              0,
              "#0d0887"
             ],
             [
              0.1111111111111111,
              "#46039f"
             ],
             [
              0.2222222222222222,
              "#7201a8"
             ],
             [
              0.3333333333333333,
              "#9c179e"
             ],
             [
              0.4444444444444444,
              "#bd3786"
             ],
             [
              0.5555555555555556,
              "#d8576b"
             ],
             [
              0.6666666666666666,
              "#ed7953"
             ],
             [
              0.7777777777777778,
              "#fb9f3a"
             ],
             [
              0.8888888888888888,
              "#fdca26"
             ],
             [
              1,
              "#f0f921"
             ]
            ],
            "type": "surface"
           }
          ],
          "table": [
           {
            "cells": {
             "fill": {
              "color": "#EBF0F8"
             },
             "line": {
              "color": "white"
             }
            },
            "header": {
             "fill": {
              "color": "#C8D4E3"
             },
             "line": {
              "color": "white"
             }
            },
            "type": "table"
           }
          ]
         },
         "layout": {
          "annotationdefaults": {
           "arrowcolor": "#2a3f5f",
           "arrowhead": 0,
           "arrowwidth": 1
          },
          "autotypenumbers": "strict",
          "coloraxis": {
           "colorbar": {
            "outlinewidth": 0,
            "ticks": ""
           }
          },
          "colorscale": {
           "diverging": [
            [
             0,
             "#8e0152"
            ],
            [
             0.1,
             "#c51b7d"
            ],
            [
             0.2,
             "#de77ae"
            ],
            [
             0.3,
             "#f1b6da"
            ],
            [
             0.4,
             "#fde0ef"
            ],
            [
             0.5,
             "#f7f7f7"
            ],
            [
             0.6,
             "#e6f5d0"
            ],
            [
             0.7,
             "#b8e186"
            ],
            [
             0.8,
             "#7fbc41"
            ],
            [
             0.9,
             "#4d9221"
            ],
            [
             1,
             "#276419"
            ]
           ],
           "sequential": [
            [
             0,
             "#0d0887"
            ],
            [
             0.1111111111111111,
             "#46039f"
            ],
            [
             0.2222222222222222,
             "#7201a8"
            ],
            [
             0.3333333333333333,
             "#9c179e"
            ],
            [
             0.4444444444444444,
             "#bd3786"
            ],
            [
             0.5555555555555556,
             "#d8576b"
            ],
            [
             0.6666666666666666,
             "#ed7953"
            ],
            [
             0.7777777777777778,
             "#fb9f3a"
            ],
            [
             0.8888888888888888,
             "#fdca26"
            ],
            [
             1,
             "#f0f921"
            ]
           ],
           "sequentialminus": [
            [
             0,
             "#0d0887"
            ],
            [
             0.1111111111111111,
             "#46039f"
            ],
            [
             0.2222222222222222,
             "#7201a8"
            ],
            [
             0.3333333333333333,
             "#9c179e"
            ],
            [
             0.4444444444444444,
             "#bd3786"
            ],
            [
             0.5555555555555556,
             "#d8576b"
            ],
            [
             0.6666666666666666,
             "#ed7953"
            ],
            [
             0.7777777777777778,
             "#fb9f3a"
            ],
            [
             0.8888888888888888,
             "#fdca26"
            ],
            [
             1,
             "#f0f921"
            ]
           ]
          },
          "colorway": [
           "#636efa",
           "#EF553B",
           "#00cc96",
           "#ab63fa",
           "#FFA15A",
           "#19d3f3",
           "#FF6692",
           "#B6E880",
           "#FF97FF",
           "#FECB52"
          ],
          "font": {
           "color": "#2a3f5f"
          },
          "geo": {
           "bgcolor": "white",
           "lakecolor": "white",
           "landcolor": "#E5ECF6",
           "showlakes": true,
           "showland": true,
           "subunitcolor": "white"
          },
          "hoverlabel": {
           "align": "left"
          },
          "hovermode": "closest",
          "mapbox": {
           "style": "light"
          },
          "paper_bgcolor": "white",
          "plot_bgcolor": "#E5ECF6",
          "polar": {
           "angularaxis": {
            "gridcolor": "white",
            "linecolor": "white",
            "ticks": ""
           },
           "bgcolor": "#E5ECF6",
           "radialaxis": {
            "gridcolor": "white",
            "linecolor": "white",
            "ticks": ""
           }
          },
          "scene": {
           "xaxis": {
            "backgroundcolor": "#E5ECF6",
            "gridcolor": "white",
            "gridwidth": 2,
            "linecolor": "white",
            "showbackground": true,
            "ticks": "",
            "zerolinecolor": "white"
           },
           "yaxis": {
            "backgroundcolor": "#E5ECF6",
            "gridcolor": "white",
            "gridwidth": 2,
            "linecolor": "white",
            "showbackground": true,
            "ticks": "",
            "zerolinecolor": "white"
           },
           "zaxis": {
            "backgroundcolor": "#E5ECF6",
            "gridcolor": "white",
            "gridwidth": 2,
            "linecolor": "white",
            "showbackground": true,
            "ticks": "",
            "zerolinecolor": "white"
           }
          },
          "shapedefaults": {
           "line": {
            "color": "#2a3f5f"
           }
          },
          "ternary": {
           "aaxis": {
            "gridcolor": "white",
            "linecolor": "white",
            "ticks": ""
           },
           "baxis": {
            "gridcolor": "white",
            "linecolor": "white",
            "ticks": ""
           },
           "bgcolor": "#E5ECF6",
           "caxis": {
            "gridcolor": "white",
            "linecolor": "white",
            "ticks": ""
           }
          },
          "title": {
           "x": 0.05
          },
          "xaxis": {
           "automargin": true,
           "gridcolor": "white",
           "linecolor": "white",
           "ticks": "",
           "title": {
            "standoff": 15
           },
           "zerolinecolor": "white",
           "zerolinewidth": 2
          },
          "yaxis": {
           "automargin": true,
           "gridcolor": "white",
           "linecolor": "white",
           "ticks": "",
           "title": {
            "standoff": 15
           },
           "zerolinecolor": "white",
           "zerolinewidth": 2
          }
         }
        },
        "xaxis": {
         "anchor": "y",
         "autorange": true,
         "domain": [
          0,
          1
         ],
         "range": [
          -1.388888888888889,
          26.38888888888889
         ],
         "title": {
          "text": "week_id"
         },
         "type": "category"
        },
        "yaxis": {
         "anchor": "x",
         "autorange": true,
         "domain": [
          0,
          1
         ],
         "range": [
          0.6669636398299513,
          0.9052295296368844
         ],
         "title": {
          "text": "success_prop"
         },
         "type": "linear"
        }
       }
      },
      "image/png": "[encoded data removed]",
      "text/html": [
       "<div>                            <div id=\"320ced6e-eb11-45d1-81d5-a4fe7fac154a\" class=\"plotly-graph-div\" style=\"height:525px; width:100%;\"></div>            <script type=\"text/javascript\">                require([\"plotly\"], function(Plotly) {                    window.PLOTLYENV=window.PLOTLYENV || {};                                    if (document.getElementById(\"320ced6e-eb11-45d1-81d5-a4fe7fac154a\")) {                    Plotly.newPlot(                        \"320ced6e-eb11-45d1-81d5-a4fe7fac154a\",                        [{\"error_y\":{\"array\":[0.03233008494202361,0.02312156634694129,0.018797338246183237,0.01632919088246587,0.01631909770232265,0.01622337951621211,0.01604184256408847,0.016011393633222903,0.015947913390711665,0.015981009899280973,0.016433681027104186,0.016748122987886083,0.016788778324697384,0.01673140747264723,0.0163433406454625,0.01580367942127281,0.015670756520390183,0.015511183859407529,0.01565265986584352,0.015675796047600388,0.015535760825489797,0.01552837855349698,0.015133792222037812,0.014912612139570403,0.014950281437703827,0.01512701305134967]},\"hovertemplate\":\"region=DE<br>week_id=%{x}<br>success_prop=%{y}<extra></extra>\",\"legendgroup\":\"DE\",\"line\":{\"color\":\"#636efa\",\"dash\":\"solid\"},\"marker\":{\"symbol\":\"circle\"},\"mode\":\"lines\",\"name\":\"DE\",\"orientation\":\"v\",\"showlegend\":true,\"x\":[\"2021-week_33\",\"2021-week_34\",\"2021-week_35\",\"2021-week_36\",\"2021-week_37\",\"2021-week_38\",\"2021-week_39\",\"2021-week_40\",\"2021-week_41\",\"2021-week_42\",\"2021-week_43\",\"2021-week_44\",\"2021-week_45\",\"2021-week_46\",\"2021-week_47\",\"2021-week_48\",\"2021-week_49\",\"2021-week_50\",\"2021-week_51\",\"2022-week_01\",\"2022-week_02\",\"2022-week_03\",\"2022-week_04\",\"2022-week_05\",\"2022-week_06\",\"2022-week_52\"],\"xaxis\":\"x\",\"y\":[0.8058455114822547,0.801863433707229,0.8035545889013509,0.8014372869488162,0.8015150105757567,0.8035030049260392,0.8088730592893488,0.8098724518239655,0.8119598613727307,0.8110440989909833,0.7968088773532316,0.7882146101340473,0.7867113297289103,0.7899707978597372,0.8026110958211361,0.8169763952908,0.8214525761671118,0.8248408945244329,0.8205965742701582,0.8203004328550569,0.8240184816550729,0.8248811099176097,0.83682960531792,0.8430659246180274,0.8415987537960179,0.8368413180517655],\"yaxis\":\"y\",\"type\":\"scatter\"},{\"error_y\":{\"array\":[0.014548255381013453,0.014054298384980957,0.013416890911527535,0.012769234904644655,0.012746977216582911,0.012775339405488362,0.01321097153390749,0.013423411315591105,0.013570925591191774,0.013641859181792837,0.013495191159103692,0.013334840169566098,0.013151854983293854,0.01282311363699562,0.012310926751897489,0.012185956359452632,0.012322845332062515,0.01257764746965817,0.013012922817663197,0.013098182838319428,0.01317670740421395,0.013330661794557663,0.0133584987813542,0.013485201648212097,0.01332024484921912,0.013241519889727549]},\"hovertemplate\":\"region=GB<br>week_id=%{x}<br>success_prop=%{y}<extra></extra>\",\"legendgroup\":\"GB\",\"line\":{\"color\":\"#EF553B\",\"dash\":\"solid\"},\"marker\":{\"symbol\":\"circle\"},\"mode\":\"lines\",\"name\":\"GB\",\"orientation\":\"v\",\"showlegend\":true,\"x\":[\"2021-week_33\",\"2021-week_34\",\"2021-week_35\",\"2021-week_36\",\"2021-week_37\",\"2021-week_38\",\"2021-week_39\",\"2021-week_40\",\"2021-week_41\",\"2021-week_42\",\"2021-week_43\",\"2021-week_44\",\"2021-week_45\",\"2021-week_46\",\"2021-week_47\",\"2021-week_48\",\"2021-week_49\",\"2021-week_50\",\"2021-week_51\",\"2022-week_01\",\"2022-week_02\",\"2022-week_03\",\"2022-week_04\",\"2022-week_05\",\"2022-week_06\",\"2022-week_52\"],\"xaxis\":\"x\",\"y\":[0.8360491710441731,0.8348747223168312,0.8397981941177344,0.8459915815233806,0.8466321280862075,0.8457819688957384,0.8324916760959533,0.825587603260473,0.820286447565775,0.8182675156265937,0.8233309221300247,0.8289227493311637,0.8345367804139919,0.8443359587517121,0.8590458151230332,0.8621028089126659,0.8586528624247429,0.8512590260011099,0.8385494644411094,0.8363411628143503,0.833901427411629,0.8294120081202905,0.8287504984479463,0.8249078492753463,0.8303856885301978,0.832723665513844],\"yaxis\":\"y\",\"type\":\"scatter\"},{\"error_y\":{\"array\":[0.013931120760067861,0.014356952035163628,0.014917019760573025,0.015253848326734154,0.015085592799221281,0.01501000572155009,0.014960332587308223,0.014954223128857302,0.014946095620190558,0.014986863378743775,0.015106460220073004,0.015079152126789008,0.01494608950595433,0.01484971224285836,0.014651344280431466,0.014670868080942423,0.014785198458487914,0.014861732237131164,0.015042978901614878,0.01516934243991841,0.01527244651111026,0.015275216602793407,0.01517680798556409,0.015135782995358227,0.015150161670656193,0.015170392954294787]},\"hovertemplate\":\"region=IN<br>week_id=%{x}<br>success_prop=%{y}<extra></extra>\",\"legendgroup\":\"IN\",\"line\":{\"color\":\"#00cc96\",\"dash\":\"solid\"},\"marker\":{\"symbol\":\"circle\"},\"mode\":\"lines\",\"name\":\"IN\",\"orientation\":\"v\",\"showlegend\":true,\"x\":[\"2021-week_33\",\"2021-week_34\",\"2021-week_35\",\"2021-week_36\",\"2021-week_37\",\"2021-week_38\",\"2021-week_39\",\"2021-week_40\",\"2021-week_41\",\"2021-week_42\",\"2021-week_43\",\"2021-week_44\",\"2021-week_45\",\"2021-week_46\",\"2021-week_47\",\"2021-week_48\",\"2021-week_49\",\"2021-week_50\",\"2021-week_51\",\"2022-week_01\",\"2022-week_02\",\"2022-week_03\",\"2022-week_04\",\"2022-week_05\",\"2022-week_06\",\"2022-week_52\"],\"xaxis\":\"x\",\"y\":[0.8089575297803743,0.7920320178007588,0.7680687432142372,0.7516307150115031,0.7599972100844756,0.7646533731712659,0.7668118417064063,0.7676603513111605,0.7672135353174352,0.7644278355697666,0.7599038096405528,0.7616850054138165,0.7680224415293122,0.7717802043666177,0.7801759569954485,0.7800558919496833,0.7754446767152336,0.7730302763121271,0.7639854766039739,0.7570148984906903,0.7517104847300056,0.7512278989544646,0.7550305726644614,0.7564789548784672,0.7562436496025053,0.7559557837858877],\"yaxis\":\"y\",\"type\":\"scatter\"},{\"error_y\":{\"array\":[0.016612153406124763,0.018239147312941517,0.020192405727247786,0.02290198066315141,0.022781331741365873,0.02285139602861297,0.022839570604499926,0.022748852743164072,0.02253517974583863,0.021950416855541333,0.021407250959746937,0.020908087938624975,0.020631343794189405,0.02070695512821641,0.020717547393238833,0.020849107787489274,0.02087205148888227,0.02056311491689322,0.020316319618968626,0.019931449941462898,0.019728087025364438,0.019781427212248515,0.019671174484034104,0.019725972186048546,0.01768940469458924]},\"hovertemplate\":\"region=JP<br>week_id=%{x}<br>success_prop=%{y}<extra></extra>\",\"legendgroup\":\"JP\",\"line\":{\"color\":\"#ab63fa\",\"dash\":\"solid\"},\"marker\":{\"symbol\":\"circle\"},\"mode\":\"lines\",\"name\":\"JP\",\"orientation\":\"v\",\"showlegend\":true,\"x\":[\"2021-week_33\",\"2021-week_34\",\"2021-week_35\",\"2021-week_36\",\"2021-week_37\",\"2021-week_38\",\"2021-week_39\",\"2021-week_40\",\"2021-week_41\",\"2021-week_42\",\"2021-week_43\",\"2021-week_44\",\"2021-week_45\",\"2021-week_46\",\"2021-week_47\",\"2021-week_48\",\"2021-week_49\",\"2021-week_50\",\"2022-week_01\",\"2022-week_02\",\"2022-week_03\",\"2022-week_04\",\"2022-week_05\",\"2022-week_06\",\"2022-week_52\"],\"xaxis\":\"x\",\"y\":[0.7388868343665141,0.7252855106941221,0.716382590175095,0.7022081103087028,0.7049759201199005,0.7022301246376237,0.7017165049247979,0.7034969391679451,0.7180929657911781,0.7403822259388707,0.7589122348090294,0.7749640220108207,0.7807275312288754,0.7789602805360848,0.7770996341759874,0.7729889736948733,0.774669769753602,0.7827804508161803,0.7912412602944969,0.8017370766997128,0.8069984664652992,0.8066603262871272,0.8092004412562431,0.8082386062210977,0.8065816304726903],\"yaxis\":\"y\",\"type\":\"scatter\"},{\"error_y\":{\"array\":[0.014815595777807777,0.012914387512765524,0.011211234499940437,0.010178096219811472,0.01034077235054598,0.010560809673280769,0.010626136785747198,0.01073831423403293,0.010739519947054577,0.010665828890693785,0.010740955501509886,0.010990999194406825,0.010905993955384385,0.010755716304603924,0.010883149832170869,0.010861481637546078,0.011060313823628931,0.011308305176856326,0.011493483852657471,0.011619452814094933,0.011747500889337958,0.011857822026833276,0.011804965335549422,0.01177164776975137,0.011755388369341535,0.011724842700331806]},\"hovertemplate\":\"region=US<br>week_id=%{x}<br>success_prop=%{y}<extra></extra>\",\"legendgroup\":\"US\",\"line\":{\"color\":\"#FFA15A\",\"dash\":\"solid\"},\"marker\":{\"symbol\":\"circle\"},\"mode\":\"lines\",\"name\":\"US\",\"orientation\":\"v\",\"showlegend\":true,\"x\":[\"2021-week_33\",\"2021-week_34\",\"2021-week_35\",\"2021-week_36\",\"2021-week_37\",\"2021-week_38\",\"2021-week_39\",\"2021-week_40\",\"2021-week_41\",\"2021-week_42\",\"2021-week_43\",\"2021-week_44\",\"2021-week_45\",\"2021-week_46\",\"2021-week_47\",\"2021-week_48\",\"2021-week_49\",\"2021-week_50\",\"2021-week_51\",\"2022-week_01\",\"2022-week_02\",\"2022-week_03\",\"2022-week_04\",\"2022-week_05\",\"2022-week_06\",\"2022-week_52\"],\"xaxis\":\"x\",\"y\":[0.8283351024414963,0.8419644871315846,0.8619844349754847,0.8831381389267263,0.878720637478873,0.8727696954708324,0.8707644864373855,0.8674410438462493,0.8672881627070866,0.8692901081300848,0.8671382656256035,0.8596091472304888,0.8621443101489182,0.8666966101642971,0.8629323749503999,0.8634075987366643,0.857383516316738,0.8495856833326991,0.8434736311202463,0.8392236704643903,0.8345036920904549,0.8307447003051557,0.8325908356377876,0.8339125553651994,0.8347942989320143,0.8356184732710058],\"yaxis\":\"y\",\"type\":\"scatter\"}],                        {\"template\":{\"data\":{\"bar\":[{\"error_x\":{\"color\":\"#2a3f5f\"},\"error_y\":{\"color\":\"#2a3f5f\"},\"marker\":{\"line\":{\"color\":\"#E5ECF6\",\"width\":0.5},\"pattern\":{\"fillmode\":\"overlay\",\"size\":10,\"solidity\":0.2}},\"type\":\"bar\"}],\"barpolar\":[{\"marker\":{\"line\":{\"color\":\"#E5ECF6\",\"width\":0.5},\"pattern\":{\"fillmode\":\"overlay\",\"size\":10,\"solidity\":0.2}},\"type\":\"barpolar\"}],\"carpet\":[{\"aaxis\":{\"endlinecolor\":\"#2a3f5f\",\"gridcolor\":\"white\",\"linecolor\":\"white\",\"minorgridcolor\":\"white\",\"startlinecolor\":\"#2a3f5f\"},\"baxis\":{\"endlinecolor\":\"#2a3f5f\",\"gridcolor\":\"white\",\"linecolor\":\"white\",\"minorgridcolor\":\"white\",\"startlinecolor\":\"#2a3f5f\"},\"type\":\"carpet\"}],\"choropleth\":[{\"colorbar\":{\"outlinewidth\":0,\"ticks\":\"\"},\"type\":\"choropleth\"}],\"contour\":[{\"colorbar\":{\"outlinewidth\":0,\"ticks\":\"\"},\"colorscale\":[[0.0,\"#0d0887\"],[0.1111111111111111,\"#46039f\"],[0.2222222222222222,\"#7201a8\"],[0.3333333333333333,\"#9c179e\"],[0.4444444444444444,\"#bd3786\"],[0.5555555555555556,\"#d8576b\"],[0.6666666666666666,\"#ed7953\"],[0.7777777777777778,\"#fb9f3a\"],[0.8888888888888888,\"#fdca26\"],[1.0,\"#f0f921\"]],\"type\":\"contour\"}],\"contourcarpet\":[{\"colorbar\":{\"outlinewidth\":0,\"ticks\":\"\"},\"type\":\"contourcarpet\"}],\"heatmap\":[{\"colorbar\":{\"outlinewidth\":0,\"ticks\":\"\"},\"colorscale\":[[0.0,\"#0d0887\"],[0.1111111111111111,\"#46039f\"],[0.2222222222222222,\"#7201a8\"],[0.3333333333333333,\"#9c179e\"],[0.4444444444444444,\"#bd3786\"],[0.5555555555555556,\"#d8576b\"],[0.6666666666666666,\"#ed7953\"],[0.7777777777777778,\"#fb9f3a\"],[0.8888888888888888,\"#fdca26\"],[1.0,\"#f0f921\"]],\"type\":\"heatmap\"}],\"heatmapgl\":[{\"colorbar\":{\"outlinewidth\":0,\"ticks\":\"\"},\"colorscale\":[[0.0,\"#0d0887\"],[0.1111111111111111,\"#46039f\"],[0.2222222222222222,\"#7201a8\"],[0.3333333333333333,\"#9c179e\"],[0.4444444444444444,\"#bd3786\"],[0.5555555555555556,\"#d8576b\"],[0.6666666666666666,\"#ed7953\"],[0.7777777777777778,\"#fb9f3a\"],[0.8888888888888888,\"#fdca26\"],[1.0,\"#f0f921\"]],\"type\":\"heatmapgl\"}],\"histogram\":[{\"marker\":{\"pattern\":{\"fillmode\":\"overlay\",\"size\":10,\"solidity\":0.2}},\"type\":\"histogram\"}],\"histogram2d\":[{\"colorbar\":{\"outlinewidth\":0,\"ticks\":\"\"},\"colorscale\":[[0.0,\"#0d0887\"],[0.1111111111111111,\"#46039f\"],[0.2222222222222222,\"#7201a8\"],[0.3333333333333333,\"#9c179e\"],[0.4444444444444444,\"#bd3786\"],[0.5555555555555556,\"#d8576b\"],[0.6666666666666666,\"#ed7953\"],[0.7777777777777778,\"#fb9f3a\"],[0.8888888888888888,\"#fdca26\"],[1.0,\"#f0f921\"]],\"type\":\"histogram2d\"}],\"histogram2dcontour\":[{\"colorbar\":{\"outlinewidth\":0,\"ticks\":\"\"},\"colorscale\":[[0.0,\"#0d0887\"],[0.1111111111111111,\"#46039f\"],[0.2222222222222222,\"#7201a8\"],[0.3333333333333333,\"#9c179e\"],[0.4444444444444444,\"#bd3786\"],[0.5555555555555556,\"#d8576b\"],[0.6666666666666666,\"#ed7953\"],[0.7777777777777778,\"#fb9f3a\"],[0.8888888888888888,\"#fdca26\"],[1.0,\"#f0f921\"]],\"type\":\"histogram2dcontour\"}],\"mesh3d\":[{\"colorbar\":{\"outlinewidth\":0,\"ticks\":\"\"},\"type\":\"mesh3d\"}],\"parcoords\":[{\"line\":{\"colorbar\":{\"outlinewidth\":0,\"ticks\":\"\"}},\"type\":\"parcoords\"}],\"pie\":[{\"automargin\":true,\"type\":\"pie\"}],\"scatter\":[{\"marker\":{\"colorbar\":{\"outlinewidth\":0,\"ticks\":\"\"}},\"type\":\"scatter\"}],\"scatter3d\":[{\"line\":{\"colorbar\":{\"outlinewidth\":0,\"ticks\":\"\"}},\"marker\":{\"colorbar\":{\"outlinewidth\":0,\"ticks\":\"\"}},\"type\":\"scatter3d\"}],\"scattercarpet\":[{\"marker\":{\"colorbar\":{\"outlinewidth\":0,\"ticks\":\"\"}},\"type\":\"scattercarpet\"}],\"scattergeo\":[{\"marker\":{\"colorbar\":{\"outlinewidth\":0,\"ticks\":\"\"}},\"type\":\"scattergeo\"}],\"scattergl\":[{\"marker\":{\"colorbar\":{\"outlinewidth\":0,\"ticks\":\"\"}},\"type\":\"scattergl\"}],\"scattermapbox\":[{\"marker\":{\"colorbar\":{\"outlinewidth\":0,\"ticks\":\"\"}},\"type\":\"scattermapbox\"}],\"scatterpolar\":[{\"marker\":{\"colorbar\":{\"outlinewidth\":0,\"ticks\":\"\"}},\"type\":\"scatterpolar\"}],\"scatterpolargl\":[{\"marker\":{\"colorbar\":{\"outlinewidth\":0,\"ticks\":\"\"}},\"type\":\"scatterpolargl\"}],\"scatterternary\":[{\"marker\":{\"colorbar\":{\"outlinewidth\":0,\"ticks\":\"\"}},\"type\":\"scatterternary\"}],\"surface\":[{\"colorbar\":{\"outlinewidth\":0,\"ticks\":\"\"},\"colorscale\":[[0.0,\"#0d0887\"],[0.1111111111111111,\"#46039f\"],[0.2222222222222222,\"#7201a8\"],[0.3333333333333333,\"#9c179e\"],[0.4444444444444444,\"#bd3786\"],[0.5555555555555556,\"#d8576b\"],[0.6666666666666666,\"#ed7953\"],[0.7777777777777778,\"#fb9f3a\"],[0.8888888888888888,\"#fdca26\"],[1.0,\"#f0f921\"]],\"type\":\"surface\"}],\"table\":[{\"cells\":{\"fill\":{\"color\":\"#EBF0F8\"},\"line\":{\"color\":\"white\"}},\"header\":{\"fill\":{\"color\":\"#C8D4E3\"},\"line\":{\"color\":\"white\"}},\"type\":\"table\"}]},\"layout\":{\"annotationdefaults\":{\"arrowcolor\":\"#2a3f5f\",\"arrowhead\":0,\"arrowwidth\":1},\"autotypenumbers\":\"strict\",\"coloraxis\":{\"colorbar\":{\"outlinewidth\":0,\"ticks\":\"\"}},\"colorscale\":{\"diverging\":[[0,\"#8e0152\"],[0.1,\"#c51b7d\"],[0.2,\"#de77ae\"],[0.3,\"#f1b6da\"],[0.4,\"#fde0ef\"],[0.5,\"#f7f7f7\"],[0.6,\"#e6f5d0\"],[0.7,\"#b8e186\"],[0.8,\"#7fbc41\"],[0.9,\"#4d9221\"],[1,\"#276419\"]],\"sequential\":[[0.0,\"#0d0887\"],[0.1111111111111111,\"#46039f\"],[0.2222222222222222,\"#7201a8\"],[0.3333333333333333,\"#9c179e\"],[0.4444444444444444,\"#bd3786\"],[0.5555555555555556,\"#d8576b\"],[0.6666666666666666,\"#ed7953\"],[0.7777777777777778,\"#fb9f3a\"],[0.8888888888888888,\"#fdca26\"],[1.0,\"#f0f921\"]],\"sequentialminus\":[[0.0,\"#0d0887\"],[0.1111111111111111,\"#46039f\"],[0.2222222222222222,\"#7201a8\"],[0.3333333333333333,\"#9c179e\"],[0.4444444444444444,\"#bd3786\"],[0.5555555555555556,\"#d8576b\"],[0.6666666666666666,\"#ed7953\"],[0.7777777777777778,\"#fb9f3a\"],[0.8888888888888888,\"#fdca26\"],[1.0,\"#f0f921\"]]},\"colorway\":[\"#636efa\",\"#EF553B\",\"#00cc96\",\"#ab63fa\",\"#FFA15A\",\"#19d3f3\",\"#FF6692\",\"#B6E880\",\"#FF97FF\",\"#FECB52\"],\"font\":{\"color\":\"#2a3f5f\"},\"geo\":{\"bgcolor\":\"white\",\"lakecolor\":\"white\",\"landcolor\":\"#E5ECF6\",\"showlakes\":true,\"showland\":true,\"subunitcolor\":\"white\"},\"hoverlabel\":{\"align\":\"left\"},\"hovermode\":\"closest\",\"mapbox\":{\"style\":\"light\"},\"paper_bgcolor\":\"white\",\"plot_bgcolor\":\"#E5ECF6\",\"polar\":{\"angularaxis\":{\"gridcolor\":\"white\",\"linecolor\":\"white\",\"ticks\":\"\"},\"bgcolor\":\"#E5ECF6\",\"radialaxis\":{\"gridcolor\":\"white\",\"linecolor\":\"white\",\"ticks\":\"\"}},\"scene\":{\"xaxis\":{\"backgroundcolor\":\"#E5ECF6\",\"gridcolor\":\"white\",\"gridwidth\":2,\"linecolor\":\"white\",\"showbackground\":true,\"ticks\":\"\",\"zerolinecolor\":\"white\"},\"yaxis\":{\"backgroundcolor\":\"#E5ECF6\",\"gridcolor\":\"white\",\"gridwidth\":2,\"linecolor\":\"white\",\"showbackground\":true,\"ticks\":\"\",\"zerolinecolor\":\"white\"},\"zaxis\":{\"backgroundcolor\":\"#E5ECF6\",\"gridcolor\":\"white\",\"gridwidth\":2,\"linecolor\":\"white\",\"showbackground\":true,\"ticks\":\"\",\"zerolinecolor\":\"white\"}},\"shapedefaults\":{\"line\":{\"color\":\"#2a3f5f\"}},\"ternary\":{\"aaxis\":{\"gridcolor\":\"white\",\"linecolor\":\"white\",\"ticks\":\"\"},\"baxis\":{\"gridcolor\":\"white\",\"linecolor\":\"white\",\"ticks\":\"\"},\"bgcolor\":\"#E5ECF6\",\"caxis\":{\"gridcolor\":\"white\",\"linecolor\":\"white\",\"ticks\":\"\"}},\"title\":{\"x\":0.05},\"xaxis\":{\"automargin\":true,\"gridcolor\":\"white\",\"linecolor\":\"white\",\"ticks\":\"\",\"title\":{\"standoff\":15},\"zerolinecolor\":\"white\",\"zerolinewidth\":2},\"yaxis\":{\"automargin\":true,\"gridcolor\":\"white\",\"linecolor\":\"white\",\"ticks\":\"\",\"title\":{\"standoff\":15},\"zerolinecolor\":\"white\",\"zerolinewidth\":2}}},\"xaxis\":{\"anchor\":\"y\",\"domain\":[0.0,1.0],\"title\":{\"text\":\"week_id\"}},\"yaxis\":{\"anchor\":\"x\",\"domain\":[0.0,1.0],\"title\":{\"text\":\"success_prop\"}},\"legend\":{\"title\":{\"text\":\"region\"},\"tracegroupgap\":0},\"margin\":{\"t\":60}},                        {\"responsive\": true}                    ).then(function(){\n",
       "                            \n",
       "var gd = document.getElementById('320ced6e-eb11-45d1-81d5-a4fe7fac154a');\n",
       "var x = new MutationObserver(function (mutations, observer) {{\n",
       "        var display = window.getComputedStyle(gd).display;\n",
       "        if (!display || display === 'none') {{\n",
       "            console.log([gd, 'removed!']);\n",
       "            Plotly.purge(gd);\n",
       "            observer.disconnect();\n",
       "        }}\n",
       "}});\n",
       "\n",
       "// Listen for the removal of the full notebook cells\n",
       "var notebookContainer = gd.closest('#notebook-container');\n",
       "if (notebookContainer) {{\n",
       "    x.observe(notebookContainer, {childList: true});\n",
       "}}\n",
       "\n",
       "// Listen for the clearing of the current output cell\n",
       "var outputEl = gd.closest('.output');\n",
       "if (outputEl) {{\n",
       "    x.observe(outputEl, {childList: true});\n",
       "}}\n",
       "\n",
       "                        })                };                });            </script>        </div>"
      ]
     },
     "metadata": {},
     "output_type": "display_data"
    }
   ],
   "source": [
    "px.line(t2, x='week_id',y='success_prop', error_y='success_prop_ci',color='region')"
   ]
  },
  {
   "cell_type": "markdown",
   "metadata": {},
   "source": [
    "### Proportion  graph"
   ]
  },
  {
   "cell_type": "code",
   "execution_count": 171,
   "metadata": {},
   "outputs": [
    {
     "data": {
      "application/vnd.plotly.v1+json": {
       "config": {
        "plotlyServerURL": "https://plot.ly"
       },
       "data": [
        {
         "alignmentgroup": "True",
         "hovertemplate": "requester=Search Million Culture<br>week_id=%{x}<br>prop=%{y}<extra></extra>",
         "legendgroup": "Search Million Culture",
         "marker": {
          "color": "#636efa",
          "pattern": {
           "shape": ""
          }
         },
         "name": "Search Million Culture",
         "offsetgroup": "Search Million Culture",
         "orientation": "v",
         "showlegend": true,
         "textposition": "auto",
         "type": "bar",
         "x": [
          "2021-week_33",
          "2021-week_34",
          "2021-week_35",
          "2021-week_36",
          "2021-week_37",
          "2021-week_38",
          "2021-week_39",
          "2021-week_40",
          "2021-week_41",
          "2021-week_42",
          "2021-week_43",
          "2021-week_44",
          "2021-week_45",
          "2021-week_46",
          "2021-week_47",
          "2021-week_48",
          "2021-week_49",
          "2021-week_50",
          "2021-week_51",
          "2022-week_01",
          "2022-week_02",
          "2022-week_03",
          "2022-week_04",
          "2022-week_05",
          "2022-week_06",
          "2022-week_52"
         ],
         "xaxis": "x",
         "y": [
          0.35218723878517694,
          0.39043907870016004,
          0.35030960829332775,
          0.35392633773453785,
          0.3494302390216787,
          0.33372830556910854,
          0.3140260821309656,
          0.3306261280022213,
          0.3364394993045897,
          0.25994713411240955,
          0.24110809493979257,
          0.1897335478005455,
          0.0853185595567867,
          0.09337979094076655,
          0.09665324260519373,
          0.11538461538461539,
          0.13287298598033062,
          0.12350735906692585,
          0.12526356891839124,
          0.19443865137295793,
          0.2046730915898218,
          0.23342879094782426,
          0.25440245005916334,
          0.25163626235900294,
          0.23816804503440128,
          0.0743879472693032
         ],
         "yaxis": "y"
        },
        {
         "alignmentgroup": "True",
         "hovertemplate": "requester=RelayFoods<br>week_id=%{x}<br>prop=%{y}<extra></extra>",
         "legendgroup": "RelayFoods",
         "marker": {
          "color": "#EF553B",
          "pattern": {
           "shape": ""
          }
         },
         "name": "RelayFoods",
         "offsetgroup": "RelayFoods",
         "orientation": "v",
         "showlegend": true,
         "textposition": "auto",
         "type": "bar",
         "x": [
          "2021-week_33",
          "2021-week_34",
          "2021-week_35",
          "2021-week_36",
          "2021-week_37",
          "2021-week_38",
          "2021-week_39",
          "2021-week_40",
          "2021-week_41",
          "2021-week_42",
          "2021-week_43",
          "2021-week_44",
          "2021-week_45",
          "2021-week_46",
          "2021-week_47",
          "2021-week_48",
          "2021-week_49",
          "2021-week_50",
          "2021-week_51",
          "2022-week_01",
          "2022-week_02",
          "2022-week_03",
          "2022-week_04",
          "2022-week_05",
          "2022-week_06",
          "2022-week_52"
         ],
         "xaxis": "x",
         "y": [
          0.10929228197269435,
          0.06297404495163872,
          0.06880957350587907,
          0.06949270326615706,
          0.06663424124513619,
          0.06754025231755768,
          0.052372364039955606,
          0.04602249062890462,
          0.05660639777468707,
          0.2598775737340011,
          0.24131690680030626,
          0.2721169312539338,
          0.3479224376731302,
          0.31679442508710803,
          0.3327315650604083,
          0.2905442932518745,
          0.32370788867964007,
          0.3126214940294363,
          0.28621632174931666,
          0.26930830726451166,
          0.2656867503293351,
          0.24760773905147726,
          0.247511658662212,
          0.22629160284082997,
          0.23650010424629925,
          0.3747018204645323
         ],
         "yaxis": "y"
        },
        {
         "alignmentgroup": "True",
         "hovertemplate": "requester=Puentes Company<br>week_id=%{x}<br>prop=%{y}<extra></extra>",
         "legendgroup": "Puentes Company",
         "marker": {
          "color": "#00cc96",
          "pattern": {
           "shape": ""
          }
         },
         "name": "Puentes Company",
         "offsetgroup": "Puentes Company",
         "orientation": "v",
         "showlegend": true,
         "textposition": "auto",
         "type": "bar",
         "x": [
          "2021-week_33",
          "2021-week_34",
          "2021-week_35",
          "2021-week_36",
          "2021-week_37",
          "2021-week_38",
          "2021-week_39",
          "2021-week_40",
          "2021-week_41",
          "2021-week_42",
          "2021-week_43",
          "2021-week_44",
          "2021-week_45",
          "2021-week_46",
          "2021-week_47",
          "2021-week_48",
          "2021-week_49",
          "2021-week_50",
          "2021-week_51",
          "2022-week_01",
          "2022-week_02",
          "2022-week_03",
          "2022-week_04",
          "2022-week_05",
          "2022-week_06",
          "2022-week_52"
         ],
         "xaxis": "x",
         "y": [
          0.09452493730844247,
          0.08197063530721592,
          0.07521046406456551,
          0.07588603196664351,
          0.07406892718176765,
          0.0683069631281801,
          0.06804938956714761,
          0.06976259891711786,
          0.08817802503477051,
          0.07206455203116305,
          0.06333959768914875,
          0.07720819637736905,
          0.10297783933518005,
          0.0932404181184669,
          0.09061241494236912,
          0.0814357123021383,
          0.09130222501220618,
          0.08497639544570952,
          0.10378758297540024,
          0.09336114007646855,
          0.09061914996879983,
          0.06635468324369631,
          0.05902415257186608,
          0.05653808661746275,
          0.0583084300507332,
          0.06936597614563716
         ],
         "yaxis": "y"
        },
        {
         "alignmentgroup": "True",
         "hovertemplate": "requester=MoJoe Brewing Company<br>week_id=%{x}<br>prop=%{y}<extra></extra>",
         "legendgroup": "MoJoe Brewing Company",
         "marker": {
          "color": "#ab63fa",
          "pattern": {
           "shape": ""
          }
         },
         "name": "MoJoe Brewing Company",
         "offsetgroup": "MoJoe Brewing Company",
         "orientation": "v",
         "showlegend": true,
         "textposition": "auto",
         "type": "bar",
         "x": [
          "2021-week_33",
          "2021-week_34",
          "2021-week_35",
          "2021-week_36",
          "2021-week_37",
          "2021-week_38",
          "2021-week_39",
          "2021-week_40",
          "2021-week_41",
          "2021-week_42",
          "2021-week_43",
          "2021-week_44",
          "2021-week_45",
          "2021-week_46",
          "2021-week_47",
          "2021-week_48",
          "2021-week_49",
          "2021-week_50",
          "2021-week_51",
          "2022-week_01",
          "2022-week_02",
          "2022-week_03",
          "2022-week_04",
          "2022-week_05",
          "2022-week_06",
          "2022-week_52"
         ],
         "xaxis": "x",
         "y": [
          0.09424630816383393,
          0.07890891378470531,
          0.10387532178390037,
          0.08881167477414871,
          0.09672040022234575,
          0.0759740712344044,
          0.08011931187569367,
          0.07309454394002499,
          0.05744089012517385,
          0.041666666666666664,
          0.0680030625739542,
          0.06007413105811595,
          0.056509695290858725,
          0.09874564459930314,
          0.0611026246354673,
          0.13732296584282144,
          0.0823045267489712,
          0.12454873646209386,
          0.07169074580242094,
          0.07897115050399722,
          0.08028842820495043,
          0.10169728295033875,
          0.06507969652676272,
          0.08174348976465673,
          0.06393773021057753,
          0.14055241682360325
         ],
         "yaxis": "y"
        },
        {
         "alignmentgroup": "True",
         "hovertemplate": "requester=Tab Solutions<br>week_id=%{x}<br>prop=%{y}<extra></extra>",
         "legendgroup": "Tab Solutions",
         "marker": {
          "color": "#FFA15A",
          "pattern": {
           "shape": ""
          }
         },
         "name": "Tab Solutions",
         "offsetgroup": "Tab Solutions",
         "orientation": "v",
         "showlegend": true,
         "textposition": "auto",
         "type": "bar",
         "x": [
          "2021-week_33",
          "2021-week_34",
          "2021-week_35",
          "2021-week_36",
          "2021-week_37",
          "2021-week_38",
          "2021-week_39",
          "2021-week_40",
          "2021-week_41",
          "2021-week_42",
          "2021-week_43",
          "2021-week_44",
          "2021-week_45",
          "2021-week_46",
          "2021-week_47",
          "2021-week_48",
          "2021-week_49",
          "2021-week_50",
          "2021-week_51",
          "2022-week_01",
          "2022-week_02",
          "2022-week_03",
          "2022-week_04",
          "2022-week_05",
          "2022-week_06",
          "2022-week_52"
         ],
         "xaxis": "x",
         "y": [
          0.0672192811368069,
          0.054345557024563354,
          0.04981562652195088,
          0.055524669909659485,
          0.05885214007782101,
          0.04000836411793406,
          0.05292730299667037,
          0.06774954879911148,
          0.0672461752433936,
          0.047996661101836396,
          0.04719148047609104,
          0.05063291139240506,
          0.04113573407202216,
          0.014355400696864112,
          0.016594917372587142,
          0.0197167453485143,
          0.031317569923972936,
          0.02256317689530686,
          0.019992190550566186,
          0.010983663538408064,
          0.012618733966581155,
          0.01494726548858001,
          0.016565740934085055,
          0.01392563709789723,
          0.01709639307804573,
          0.013998744507219083
         ],
         "yaxis": "y"
        },
        {
         "alignmentgroup": "True",
         "hovertemplate": "requester=Fancy<br>week_id=%{x}<br>prop=%{y}<extra></extra>",
         "legendgroup": "Fancy",
         "marker": {
          "color": "#19d3f3",
          "pattern": {
           "shape": ""
          }
         },
         "name": "Fancy",
         "offsetgroup": "Fancy",
         "orientation": "v",
         "showlegend": true,
         "textposition": "auto",
         "type": "bar",
         "x": [
          "2021-week_33",
          "2021-week_34",
          "2021-week_35",
          "2021-week_36",
          "2021-week_37",
          "2021-week_38",
          "2021-week_39",
          "2021-week_40",
          "2021-week_41",
          "2021-week_42",
          "2021-week_43",
          "2021-week_44",
          "2021-week_45",
          "2021-week_46",
          "2021-week_47",
          "2021-week_48",
          "2021-week_49",
          "2021-week_50",
          "2021-week_51",
          "2022-week_01",
          "2022-week_02",
          "2022-week_03",
          "2022-week_04",
          "2022-week_05",
          "2022-week_06",
          "2022-week_52"
         ],
         "xaxis": "x",
         "y": [
          0.06485093340763444,
          0.05260594252313687,
          0.06129548458916023,
          0.0739402362751911,
          0.0821289605336298,
          0.08106224297762599,
          0.07450055493895671,
          0.08322921005136749,
          0.10069541029207232,
          0.07957707289927657,
          0.08561286281060765,
          0.0904259039093643,
          0.09217451523545707,
          0.0713588850174216,
          0.039786140813775864,
          0.07025826159400167,
          0.11494733905280044,
          0.11170508192168842,
          0.09160484185864896,
          0.06743135210288495,
          0.0704430423628926,
          0.09170915694628763,
          0.12382543328461057,
          0.13681938448684028,
          0.15671693654875252,
          0.08242310106716887
         ],
         "yaxis": "y"
        },
        {
         "alignmentgroup": "True",
         "hovertemplate": "requester=SOLOMO365<br>week_id=%{x}<br>prop=%{y}<extra></extra>",
         "legendgroup": "SOLOMO365",
         "marker": {
          "color": "#FF6692",
          "pattern": {
           "shape": ""
          }
         },
         "name": "SOLOMO365",
         "offsetgroup": "SOLOMO365",
         "orientation": "v",
         "showlegend": true,
         "textposition": "auto",
         "type": "bar",
         "x": [
          "2021-week_33",
          "2021-week_34",
          "2021-week_35",
          "2021-week_36",
          "2021-week_37",
          "2021-week_38",
          "2021-week_39",
          "2021-week_40"
         ],
         "xaxis": "x",
         "y": [
          0.05544719977709668,
          0.06039941548952752,
          0.05976483684686565,
          0.05573314801945796,
          0.055586436909394105,
          0.05813061964173695,
          0.049944506104328525,
          0.014993752603082049
         ],
         "yaxis": "y"
        },
        {
         "alignmentgroup": "True",
         "hovertemplate": "requester=Sensor Tower<br>week_id=%{x}<br>prop=%{y}<extra></extra>",
         "legendgroup": "Sensor Tower",
         "marker": {
          "color": "#B6E880",
          "pattern": {
           "shape": ""
          }
         },
         "name": "Sensor Tower",
         "offsetgroup": "Sensor Tower",
         "orientation": "v",
         "showlegend": true,
         "textposition": "auto",
         "type": "bar",
         "x": [
          "2021-week_33",
          "2021-week_34",
          "2021-week_35",
          "2021-week_36",
          "2021-week_37",
          "2021-week_38",
          "2021-week_39",
          "2021-week_40",
          "2021-week_41",
          "2021-week_42",
          "2021-week_43",
          "2021-week_44",
          "2021-week_45",
          "2021-week_46",
          "2021-week_47",
          "2021-week_48",
          "2021-week_49",
          "2021-week_50",
          "2021-week_51",
          "2022-week_01",
          "2022-week_02",
          "2022-week_03",
          "2022-week_04",
          "2022-week_05",
          "2022-week_06",
          "2022-week_52"
         ],
         "xaxis": "x",
         "y": [
          0.03629144608526052,
          0.03374852132767379,
          0.031308703819661866,
          0.018763029881862403,
          0.012854363535297387,
          0.008712622847982156,
          0.0076997780244173145,
          0.006455643481882549,
          0.00674547983310153,
          0.006816917084028937,
          0.005568316280364725,
          0.005384991957479544,
          0.00574792243767313,
          0.004320557491289199,
          0.004443827246215803,
          0.005554012774229381,
          0.007463207086559252,
          0.004859761177450708,
          0.003358063256540414,
          0.003475842891901286,
          0.0029813492338625807,
          0.00447021023957533,
          0.004315445117282661,
          0.003899178387411224,
          0.004169851970255056,
          0.004205900816070308
         ],
         "yaxis": "y"
        },
        {
         "alignmentgroup": "True",
         "hovertemplate": "requester=Extreme DA<br>week_id=%{x}<br>prop=%{y}<extra></extra>",
         "legendgroup": "Extreme DA",
         "marker": {
          "color": "#FF97FF",
          "pattern": {
           "shape": ""
          }
         },
         "name": "Extreme DA",
         "offsetgroup": "Extreme DA",
         "orientation": "v",
         "showlegend": true,
         "textposition": "auto",
         "type": "bar",
         "x": [
          "2021-week_33",
          "2021-week_34",
          "2021-week_35",
          "2021-week_36",
          "2021-week_37",
          "2021-week_38",
          "2021-week_39",
          "2021-week_40",
          "2021-week_41",
          "2021-week_42",
          "2021-week_43",
          "2021-week_44",
          "2021-week_45",
          "2021-week_46",
          "2021-week_47",
          "2021-week_48",
          "2021-week_49",
          "2021-week_50",
          "2021-week_51",
          "2022-week_01",
          "2022-week_02",
          "2022-week_03",
          "2022-week_04",
          "2022-week_05",
          "2022-week_06",
          "2022-week_52"
         ],
         "xaxis": "x",
         "y": [
          0.03517692950682642,
          0.08892909331292186,
          0.09601335838029638,
          0.09263377345378736,
          0.0883129516397999,
          0.14776608350177736,
          0.170019422863485,
          0.1646536165486603,
          0.1588317107093185,
          0.14322481914301613,
          0.15653929143175332,
          0.16791384012868033,
          0.18421052631578946,
          0.19658536585365854,
          0.20844327176781002,
          0.18286587059150236,
          0.12582827648741018,
          0.13843376839766733,
          0.21288559156579462,
          0.20208550573514078,
          0.19663038202870414,
          0.17531605783334497,
          0.16906800306257394,
          0.17156384904609387,
          0.16686357634303983,
          0.16064030131826743
         ],
         "yaxis": "y"
        },
        {
         "alignmentgroup": "True",
         "hovertemplate": "requester=iDreamsky Technology<br>week_id=%{x}<br>prop=%{y}<extra></extra>",
         "legendgroup": "iDreamsky Technology",
         "marker": {
          "color": "#FECB52",
          "pattern": {
           "shape": ""
          }
         },
         "name": "iDreamsky Technology",
         "offsetgroup": "iDreamsky Technology",
         "orientation": "v",
         "showlegend": true,
         "textposition": "auto",
         "type": "bar",
         "x": [
          "2021-week_33",
          "2021-week_34",
          "2021-week_35",
          "2021-week_36",
          "2021-week_37",
          "2021-week_38",
          "2021-week_39",
          "2021-week_40",
          "2021-week_41",
          "2021-week_42",
          "2021-week_43",
          "2021-week_44",
          "2021-week_45",
          "2021-week_46",
          "2021-week_47",
          "2021-week_48",
          "2021-week_49",
          "2021-week_50",
          "2021-week_51",
          "2022-week_01",
          "2022-week_02",
          "2022-week_03",
          "2022-week_04",
          "2022-week_05",
          "2022-week_06",
          "2022-week_52"
         ],
         "xaxis": "x",
         "y": [
          0.021872387851769294,
          0.021153712337346045,
          0.035761497251791556,
          0.04211257817929118,
          0.04175931072818232,
          0.05123022234613508,
          0.04557436182019978,
          0.042759961127308066,
          0.032753824756606396,
          0.018433500278241515,
          0.018932275353240064,
          0.020560878383103713,
          0.0260387811634349,
          0.04494773519163763,
          0.08734897930842939,
          0.036239933351846706,
          0.02483085722257097,
          0.02513190780338795,
          0.026395939086294416,
          0.024261383385470976,
          0.021770782777508147,
          0.01990640497310889,
          0.016356929073571377,
          0.016362623590029244,
          0.018555841267634997,
          0.02366603892027621
         ],
         "yaxis": "y"
        },
        {
         "alignmentgroup": "True",
         "hovertemplate": "requester=Fry Multimedia<br>week_id=%{x}<br>prop=%{y}<extra></extra>",
         "legendgroup": "Fry Multimedia",
         "marker": {
          "color": "#636efa",
          "pattern": {
           "shape": ""
          }
         },
         "name": "Fry Multimedia",
         "offsetgroup": "Fry Multimedia",
         "orientation": "v",
         "showlegend": true,
         "textposition": "auto",
         "type": "bar",
         "x": [
          "2021-week_33",
          "2021-week_34",
          "2021-week_35",
          "2021-week_36",
          "2021-week_37",
          "2021-week_38",
          "2021-week_39",
          "2021-week_40",
          "2021-week_41",
          "2021-week_42",
          "2021-week_43",
          "2021-week_44",
          "2021-week_45",
          "2021-week_46",
          "2021-week_47",
          "2021-week_48",
          "2021-week_49",
          "2021-week_50",
          "2021-week_51",
          "2022-week_01",
          "2022-week_02",
          "2022-week_03",
          "2022-week_04",
          "2022-week_05",
          "2022-week_06",
          "2022-week_52"
         ],
         "xaxis": "x",
         "y": [
          0.01567288938422959,
          0.017744067914550136,
          0.017950323523272804,
          0.01716469770674079,
          0.017857142857142856,
          0.01575242210915174,
          0.014567147613762486,
          0.018256282104678605,
          0.0196105702364395,
          0.0134251530328325,
          0.012111087909793277,
          0.01258829288761452,
          0.010110803324099723,
          0.00975609756097561,
          0.011803916122760728,
          0.014509858372674257,
          0.012624677408104903,
          0.009233546237156345,
          0.01101132370167903,
          0.016336461591936045,
          0.016501421340913817,
          0.014178948103653,
          0.012041483956288717,
          0.009956830524996518,
          0.012162068246577246,
          0.006528562460765851
         ],
         "yaxis": "y"
        },
        {
         "alignmentgroup": "True",
         "hovertemplate": "requester=LocalVox Media<br>week_id=%{x}<br>prop=%{y}<extra></extra>",
         "legendgroup": "LocalVox Media",
         "marker": {
          "color": "#EF553B",
          "pattern": {
           "shape": ""
          }
         },
         "name": "LocalVox Media",
         "offsetgroup": "LocalVox Media",
         "orientation": "v",
         "showlegend": true,
         "textposition": "auto",
         "type": "bar",
         "x": [
          "2021-week_33",
          "2021-week_34",
          "2021-week_35",
          "2021-week_36",
          "2021-week_37",
          "2021-week_38",
          "2021-week_39",
          "2021-week_40",
          "2021-week_41",
          "2021-week_42",
          "2021-week_43",
          "2021-week_44",
          "2021-week_45",
          "2021-week_46",
          "2021-week_47",
          "2021-week_48",
          "2021-week_49",
          "2021-week_50",
          "2021-week_51",
          "2022-week_01",
          "2022-week_02",
          "2022-week_03",
          "2022-week_04",
          "2022-week_05",
          "2022-week_06",
          "2022-week_52"
         ],
         "xaxis": "x",
         "y": [
          0.015254945667316801,
          0.020875374017117806,
          0.01551520211507688,
          0.01535788742182071,
          0.01764869371873263,
          0.015961525057503312,
          0.013665371809100999,
          0.016034985422740525,
          0.015716272600834493,
          0.011268781302170284,
          0.009396533723115472,
          0.014546471781243443,
          0.017243767313019392,
          0.016445993031358887,
          0.017914178586307457,
          0.01825881699527909,
          0.02218037246285834,
          0.016870313801721742,
          0.01663412729402577,
          0.016127911018421967,
          0.01504541357553907,
          0.011175525598938325,
          0.0119022760492796,
          0.011001253307338811,
          0.010146639794287303,
          0.021468926553672316
         ],
         "yaxis": "y"
        },
        {
         "alignmentgroup": "True",
         "hovertemplate": "requester=Modanisa<br>week_id=%{x}<br>prop=%{y}<extra></extra>",
         "legendgroup": "Modanisa",
         "marker": {
          "color": "#00cc96",
          "pattern": {
           "shape": ""
          }
         },
         "name": "Modanisa",
         "offsetgroup": "Modanisa",
         "orientation": "v",
         "showlegend": true,
         "textposition": "auto",
         "type": "bar",
         "x": [
          "2021-week_33",
          "2021-week_34",
          "2021-week_35",
          "2021-week_36",
          "2021-week_37",
          "2021-week_38",
          "2021-week_39",
          "2021-week_40",
          "2021-week_41",
          "2021-week_42",
          "2021-week_43",
          "2021-week_44",
          "2021-week_45",
          "2021-week_46",
          "2021-week_47",
          "2021-week_48",
          "2021-week_49",
          "2021-week_50",
          "2021-week_51",
          "2022-week_01",
          "2022-week_02",
          "2022-week_03",
          "2022-week_04",
          "2022-week_05",
          "2022-week_06",
          "2022-week_52"
         ],
         "xaxis": "x",
         "y": [
          0.009055447199777097,
          0.008141395866675945,
          0.007583663814095874,
          0.007157748436414177,
          0.006461923290717065,
          0.005854882553844009,
          0.02746947835738069,
          0.024711925586561156,
          0.026564673157162728,
          0.022746243739565943,
          0.03048653163499687,
          0.01594517099097839,
          0.006232686980609419,
          0.006480836236933798,
          0.007290654075822803,
          0.006525965009719522,
          0.006277463904582548,
          0.005762288253262983,
          0.004919953143303397,
          0.004449078901633646,
          0.003328017749427997,
          0.0034923517496682267,
          0.0027841581401823624,
          0.004108062943879683,
          0.0025714087149906178,
          0.004331450094161958
         ],
         "yaxis": "y"
        },
        {
         "alignmentgroup": "True",
         "hovertemplate": "requester=Bizanga<br>week_id=%{x}<br>prop=%{y}<extra></extra>",
         "legendgroup": "Bizanga",
         "marker": {
          "color": "#ab63fa",
          "pattern": {
           "shape": ""
          }
         },
         "name": "Bizanga",
         "offsetgroup": "Bizanga",
         "orientation": "v",
         "showlegend": true,
         "textposition": "auto",
         "type": "bar",
         "x": [
          "2021-week_33",
          "2021-week_34",
          "2021-week_35",
          "2021-week_36",
          "2021-week_37",
          "2021-week_38",
          "2021-week_39",
          "2021-week_40",
          "2021-week_41",
          "2021-week_42",
          "2021-week_43",
          "2021-week_44",
          "2021-week_45",
          "2021-week_46",
          "2021-week_47",
          "2021-week_48",
          "2021-week_49",
          "2021-week_50",
          "2021-week_51",
          "2022-week_01",
          "2022-week_02",
          "2022-week_03",
          "2022-week_04",
          "2022-week_05",
          "2022-week_06",
          "2022-week_52"
         ],
         "xaxis": "x",
         "y": [
          0.007174700473669545,
          0.006888873425648877,
          0.005705141584916162,
          0.005281445448227936,
          0.005350194552529183,
          0.005436676657140866,
          0.004786348501664817,
          0.004442593363876163,
          0.005980528511821975,
          0.006886477462437396,
          0.004941880698823693,
          0.004126162668718092,
          0.004224376731301939,
          0.006202090592334495,
          0.007082349673656437,
          0.006248264371008053,
          0.0076724558833786705,
          0.006803665648430992,
          0.006794221007418977,
          0.007438303788668752,
          0.006378700686403661,
          0.004540057274568694,
          0.003758613489246189,
          0.0034117810889848213,
          0.003891861838904719,
          0.006089139987445072
         ],
         "yaxis": "y"
        },
        {
         "alignmentgroup": "True",
         "hovertemplate": "requester=Glory Medical<br>week_id=%{x}<br>prop=%{y}<extra></extra>",
         "legendgroup": "Glory Medical",
         "marker": {
          "color": "#FFA15A",
          "pattern": {
           "shape": ""
          }
         },
         "name": "Glory Medical",
         "offsetgroup": "Glory Medical",
         "orientation": "v",
         "showlegend": true,
         "textposition": "auto",
         "type": "bar",
         "x": [
          "2021-week_33",
          "2021-week_34",
          "2021-week_35",
          "2021-week_36",
          "2021-week_37",
          "2021-week_38",
          "2021-week_39",
          "2021-week_40",
          "2021-week_41",
          "2021-week_42",
          "2021-week_43",
          "2021-week_44",
          "2021-week_46",
          "2021-week_47",
          "2021-week_48",
          "2021-week_49",
          "2021-week_50",
          "2021-week_51",
          "2022-week_01",
          "2022-week_02",
          "2022-week_03",
          "2022-week_05",
          "2022-week_52"
         ],
         "xaxis": "x",
         "y": [
          0.0034132070214544443,
          0.0007654303806276529,
          0.00013914979475405275,
          0.0006254343293954135,
          0.0002084491384102279,
          0.00034850491391928625,
          0.0002081021087680355,
          0.00020824656393169514,
          6.954102920723227e-05,
          6.956037840845854e-05,
          6.960395350455906e-05,
          0.0003496748024337366,
          0.00013937282229965157,
          0.00020830440216636578,
          0.00027770063871146905,
          0.0004184975936388366,
          0.0003471257983893363,
          0.00031237797735259666,
          0.00013903371567605143,
          0.00013866740622616653,
          6.984703499336453e-05,
          0.0001392563709789723,
          6.277463904582549e-05
         ],
         "yaxis": "y"
        },
        {
         "alignmentgroup": "True",
         "hovertemplate": "requester=Crescendo Networks<br>week_id=%{x}<br>prop=%{y}<extra></extra>",
         "legendgroup": "Crescendo Networks",
         "marker": {
          "color": "#19d3f3",
          "pattern": {
           "shape": ""
          }
         },
         "name": "Crescendo Networks",
         "offsetgroup": "Crescendo Networks",
         "orientation": "v",
         "showlegend": true,
         "textposition": "auto",
         "type": "bar",
         "x": [
          "2021-week_33",
          "2021-week_34",
          "2021-week_35",
          "2021-week_36",
          "2021-week_37",
          "2021-week_38",
          "2021-week_39",
          "2021-week_40",
          "2021-week_41",
          "2021-week_42",
          "2021-week_43",
          "2021-week_44",
          "2021-week_45",
          "2021-week_46",
          "2021-week_47",
          "2021-week_48",
          "2021-week_49",
          "2021-week_50",
          "2021-week_51",
          "2022-week_01",
          "2022-week_02",
          "2022-week_03",
          "2022-week_04",
          "2022-week_05",
          "2022-week_06",
          "2022-week_52"
         ],
         "xaxis": "x",
         "y": [
          0.0030649205906937865,
          0.0057059355646788676,
          0.00480066791901482,
          0.007366226546212648,
          0.006183991106170094,
          0.006482191398898725,
          0.0054106548279689234,
          0.017700957934194086,
          0.006397774687065368,
          0.0034084585420144685,
          0.004106633256768985,
          0.004685642352612071,
          0.0033240997229916896,
          0.010871080139372822,
          0.003749479238994584,
          0.003748958622604832,
          0.004463974332147591,
          0.003957234101638433,
          0.006247559547051933,
          0.0026416405978449773,
          0.0033973514525410804,
          0.002584340294754488,
          0.0030625739542005986,
          0.003342152903495335,
          0.002084925985127528,
          0.005712492153170119
         ],
         "yaxis": "y"
        },
        {
         "alignmentgroup": "True",
         "hovertemplate": "requester=Pole Star<br>week_id=%{x}<br>prop=%{y}<extra></extra>",
         "legendgroup": "Pole Star",
         "marker": {
          "color": "#FF6692",
          "pattern": {
           "shape": ""
          }
         },
         "name": "Pole Star",
         "offsetgroup": "Pole Star",
         "orientation": "v",
         "showlegend": true,
         "textposition": "auto",
         "type": "bar",
         "x": [
          "2021-week_33",
          "2021-week_34",
          "2021-week_37",
          "2021-week_38",
          "2021-week_39",
          "2021-week_40",
          "2021-week_41",
          "2021-week_42",
          "2021-week_43",
          "2021-week_44",
          "2021-week_45",
          "2021-week_46",
          "2021-week_49",
          "2021-week_50",
          "2021-week_51",
          "2022-week_01",
          "2022-week_02",
          "2022-week_03",
          "2022-week_04",
          "2022-week_05",
          "2022-week_06",
          "2022-week_52"
         ],
         "xaxis": "x",
         "y": [
          0.0030649205906937865,
          0.0017396145014264839,
          6.948304613674263e-05,
          6.970098278385725e-05,
          0.00013873473917869035,
          6.941552131056504e-05,
          0.0011821974965229485,
          0.00020868113522537563,
          0.00020881186051367718,
          0.0006294146443807259,
          0.0017313019390581717,
          0.0011149825783972125,
          0.0001394991978796122,
          6.942515967786726e-05,
          7.809449433814917e-05,
          0.0003475842891901286,
          0.0003466685155654163,
          0.00034923517496682265,
          0.0015312869771002993,
          0.001392563709789723,
          0.0016679407881020224,
          0.00012554927809165097
         ],
         "yaxis": "y"
        },
        {
         "alignmentgroup": "True",
         "hovertemplate": "requester=aPriori Technologies<br>week_id=%{x}<br>prop=%{y}<extra></extra>",
         "legendgroup": "aPriori Technologies",
         "marker": {
          "color": "#B6E880",
          "pattern": {
           "shape": ""
          }
         },
         "name": "aPriori Technologies",
         "offsetgroup": "aPriori Technologies",
         "orientation": "v",
         "showlegend": true,
         "textposition": "auto",
         "type": "bar",
         "x": [
          "2021-week_33",
          "2021-week_34",
          "2021-week_35",
          "2021-week_36",
          "2021-week_37",
          "2021-week_38",
          "2021-week_39",
          "2021-week_40",
          "2021-week_41",
          "2021-week_42",
          "2021-week_43",
          "2021-week_44",
          "2021-week_45",
          "2021-week_46",
          "2021-week_47",
          "2021-week_48",
          "2021-week_49",
          "2021-week_50",
          "2021-week_51",
          "2022-week_01",
          "2022-week_02",
          "2022-week_03",
          "2022-week_04",
          "2022-week_05",
          "2022-week_06",
          "2022-week_52"
         ],
         "xaxis": "x",
         "y": [
          0.002995263304541655,
          0.0029225523623964927,
          0.003965769150490503,
          0.0029881862404447534,
          0.0027098387993329627,
          0.002439534397435004,
          0.0039539400665926745,
          0.004442593363876163,
          0.0035465924895688454,
          0.002295492487479132,
          0.002853762093686921,
          0.002307853696062662,
          0.003670360110803324,
          0.005156794425087108,
          0.004999305651992779,
          0.003262982504859761,
          0.0034874799469903047,
          0.00354068314357123,
          0.004139008199921906,
          0.0032672923183872087,
          0.002010677390279415,
          0.0017461758748341133,
          0.0020881186051367718,
          0.002297730121153043,
          0.002015428452289944,
          0.0038292529817953547
         ],
         "yaxis": "y"
        },
        {
         "alignmentgroup": "True",
         "hovertemplate": "requester=G-mode<br>week_id=%{x}<br>prop=%{y}<extra></extra>",
         "legendgroup": "G-mode",
         "marker": {
          "color": "#FF97FF",
          "pattern": {
           "shape": ""
          }
         },
         "name": "G-mode",
         "offsetgroup": "G-mode",
         "orientation": "v",
         "showlegend": true,
         "textposition": "auto",
         "type": "bar",
         "x": [
          "2021-week_33",
          "2021-week_34",
          "2021-week_35",
          "2021-week_36",
          "2021-week_37",
          "2021-week_38",
          "2021-week_39",
          "2021-week_40",
          "2021-week_41",
          "2021-week_42",
          "2021-week_43",
          "2021-week_44",
          "2021-week_45",
          "2021-week_46",
          "2021-week_47",
          "2021-week_48",
          "2021-week_49",
          "2021-week_50",
          "2021-week_51",
          "2022-week_01",
          "2022-week_02",
          "2022-week_03",
          "2022-week_04",
          "2022-week_05",
          "2022-week_06",
          "2022-week_52"
         ],
         "xaxis": "x",
         "y": [
          0.0026469768737809973,
          0.0026442140421682556,
          0.0030612954845891604,
          0.005628908964558721,
          0.005350194552529183,
          0.002997142259705862,
          0.004786348501664817,
          0.004928502013050118,
          0.005563282336578581,
          0.0025041736227045075,
          0.0021577225586413306,
          0.002587593538009651,
          0.004293628808864266,
          0.0029965156794425087,
          0.002846826829606999,
          0.0036101083032490976,
          0.00411522633744856,
          0.002360455429047487,
          0.004607575165950801,
          0.0022940563086548487,
          0.003328017749427997,
          0.002374799189774394,
          0.0027841581401823624,
          0.002297730121153043,
          0.0014594481895892695,
          0.004331450094161958
         ],
         "yaxis": "y"
        },
        {
         "alignmentgroup": "True",
         "hovertemplate": "requester=VarVee<br>week_id=%{x}<br>prop=%{y}<extra></extra>",
         "legendgroup": "VarVee",
         "marker": {
          "color": "#FECB52",
          "pattern": {
           "shape": ""
          }
         },
         "name": "VarVee",
         "offsetgroup": "VarVee",
         "orientation": "v",
         "showlegend": true,
         "textposition": "auto",
         "type": "bar",
         "x": [
          "2021-week_33",
          "2021-week_34",
          "2021-week_35",
          "2021-week_36",
          "2021-week_37",
          "2021-week_38",
          "2021-week_39",
          "2021-week_40",
          "2021-week_41",
          "2021-week_42",
          "2021-week_43",
          "2021-week_44",
          "2021-week_45",
          "2021-week_46",
          "2021-week_47",
          "2021-week_48",
          "2021-week_49",
          "2021-week_50",
          "2021-week_51",
          "2022-week_01",
          "2022-week_02",
          "2022-week_03",
          "2022-week_04",
          "2022-week_05",
          "2022-week_06",
          "2022-week_52"
         ],
         "xaxis": "x",
         "y": [
          0.00229869044302034,
          0.004662166863822976,
          0.004870242816391846,
          0.006879777623349548,
          0.0074346859366314615,
          0.007179201226737297,
          0.005063817980022198,
          0.004789670970428988,
          0.005563282336578581,
          0.0023650528658875902,
          0.0029929700006960393,
          0.003217008182390377,
          0.003601108033240997,
          0.0024390243902439024,
          0.002707957228162755,
          0.0017356289919466814,
          0.0004882471925786427,
          0.0006248264371008053,
          0.00046856696602889497,
          0.00027806743135210286,
          0.0006933370311308326,
          0.0007683173849270099,
          0.0010440593025683859,
          0.0007659100403843476,
          0.0006949753283758427,
          0.0003766478342749529
         ],
         "yaxis": "y"
        },
        {
         "alignmentgroup": "True",
         "hovertemplate": "requester=PageBites<br>week_id=%{x}<br>prop=%{y}<extra></extra>",
         "legendgroup": "PageBites",
         "marker": {
          "color": "#636efa",
          "pattern": {
           "shape": ""
          }
         },
         "name": "PageBites",
         "offsetgroup": "PageBites",
         "orientation": "v",
         "showlegend": true,
         "textposition": "auto",
         "type": "bar",
         "x": [
          "2021-week_33",
          "2021-week_34",
          "2021-week_35",
          "2021-week_36",
          "2021-week_37",
          "2021-week_38",
          "2021-week_39",
          "2021-week_40",
          "2021-week_41",
          "2021-week_42",
          "2021-week_43",
          "2021-week_44",
          "2022-week_02",
          "2022-week_03",
          "2022-week_04",
          "2022-week_05",
          "2022-week_06"
         ],
         "xaxis": "x",
         "y": [
          0.0016021175814990248,
          0.0006958458005705936,
          0.001113198358032422,
          0.0008339124391938846,
          0.0012506948304613673,
          0.0007667108106224297,
          0.00048557158712541623,
          6.941552131056504e-05,
          0.0004867872044506259,
          0.0005564830272676684,
          0.00027841581401823624,
          0.00020980488146024197,
          0.00013866740622616653,
          0.0002095411049800936,
          0.00020881186051367718,
          0.00020888455646845844,
          0.00027799013135033706
         ],
         "yaxis": "y"
        },
        {
         "alignmentgroup": "True",
         "hovertemplate": "requester=Mission Street Manufacturing<br>week_id=%{x}<br>prop=%{y}<extra></extra>",
         "legendgroup": "Mission Street Manufacturing",
         "marker": {
          "color": "#EF553B",
          "pattern": {
           "shape": ""
          }
         },
         "name": "Mission Street Manufacturing",
         "offsetgroup": "Mission Street Manufacturing",
         "orientation": "v",
         "showlegend": true,
         "textposition": "auto",
         "type": "bar",
         "x": [
          "2021-week_33",
          "2021-week_34",
          "2021-week_35",
          "2021-week_36",
          "2021-week_37",
          "2021-week_38",
          "2021-week_39",
          "2021-week_40",
          "2021-week_41",
          "2021-week_42",
          "2021-week_43",
          "2021-week_44",
          "2021-week_45",
          "2021-week_46",
          "2021-week_47",
          "2021-week_48",
          "2021-week_49",
          "2021-week_50",
          "2021-week_51",
          "2022-week_01",
          "2022-week_02",
          "2022-week_03",
          "2022-week_04",
          "2022-week_05",
          "2022-week_06",
          "2022-week_52"
         ],
         "xaxis": "x",
         "y": [
          0.0009752020061298412,
          0.0006958458005705936,
          0.0010436234606553956,
          0.00034746351633078526,
          0.0003474152306837132,
          0.0006273088450547153,
          0.000416204217536071,
          0.0003470776065528252,
          0.0004172461752433936,
          0.00041736227045075126,
          0.00041762372102735435,
          0.0009091544863277152,
          0.0006232686980609418,
          0.0005574912891986063,
          0.0005554784057769754,
          0.00041655095806720355,
          0.0009067447862174793,
          0.00041655095806720355,
          0.0003904724716907458,
          0.0003475842891901286,
          0.00020800110933924982,
          0.0004889292449535517,
          6.960395350455906e-05,
          0.00020888455646845844,
          0.0005559802627006741,
          0.00025109855618330194
         ],
         "yaxis": "y"
        },
        {
         "alignmentgroup": "True",
         "hovertemplate": "requester=Allthetopbananas.com<br>week_id=%{x}<br>prop=%{y}<extra></extra>",
         "legendgroup": "Allthetopbananas.com",
         "marker": {
          "color": "#00cc96",
          "pattern": {
           "shape": ""
          }
         },
         "name": "Allthetopbananas.com",
         "offsetgroup": "Allthetopbananas.com",
         "orientation": "v",
         "showlegend": true,
         "textposition": "auto",
         "type": "bar",
         "x": [
          "2021-week_33",
          "2021-week_34",
          "2021-week_35",
          "2021-week_36",
          "2021-week_37",
          "2021-week_38",
          "2021-week_39",
          "2021-week_40",
          "2021-week_41",
          "2021-week_42",
          "2021-week_43",
          "2021-week_44",
          "2021-week_45",
          "2021-week_46",
          "2021-week_47",
          "2021-week_48",
          "2021-week_49",
          "2021-week_50",
          "2021-week_51",
          "2022-week_01",
          "2022-week_02",
          "2022-week_03",
          "2022-week_04",
          "2022-week_05",
          "2022-week_06",
          "2022-week_52"
         ],
         "xaxis": "x",
         "y": [
          0.0004876010030649206,
          0.00020875374017117806,
          0.0004870242816391846,
          0.0009728978457261987,
          0.000764313507504169,
          0.0009758137589740016,
          0.000416204217536071,
          0.0009718172983479105,
          0.0006954102920723226,
          0.0002782415136338342,
          0.00020881186051367718,
          0.0006993496048674732,
          0.00110803324099723,
          0.0007665505226480836,
          0.00034717400361060965,
          0.0004859761177450708,
          0.0005579967915184488,
          0.0005554012774229381,
          0.00046856696602889497,
          0.0004171011470281543,
          0.0004853359217915829,
          0.0005587762799469162,
          0.0005568316280364725,
          0.00034814092744743074,
          0.00027799013135033706,
          0.0008788449466415569
         ],
         "yaxis": "y"
        },
        {
         "alignmentgroup": "True",
         "hovertemplate": "requester=OpenDesks, Inc.<br>week_id=%{x}<br>prop=%{y}<extra></extra>",
         "legendgroup": "OpenDesks, Inc.",
         "marker": {
          "color": "#ab63fa",
          "pattern": {
           "shape": ""
          }
         },
         "name": "OpenDesks, Inc.",
         "offsetgroup": "OpenDesks, Inc.",
         "orientation": "v",
         "showlegend": true,
         "textposition": "auto",
         "type": "bar",
         "x": [
          "2021-week_33",
          "2021-week_34",
          "2021-week_35",
          "2021-week_36",
          "2021-week_37",
          "2021-week_38",
          "2021-week_39",
          "2021-week_40",
          "2021-week_41",
          "2021-week_42",
          "2021-week_43",
          "2021-week_44",
          "2021-week_45",
          "2021-week_46",
          "2021-week_47",
          "2021-week_48",
          "2021-week_49",
          "2021-week_50",
          "2021-week_51",
          "2022-week_01",
          "2022-week_02",
          "2022-week_03",
          "2022-week_04",
          "2022-week_05",
          "2022-week_06",
          "2022-week_52"
         ],
         "xaxis": "x",
         "y": [
          0.00041794371691278906,
          0.0004175074803423561,
          0.0004870242816391846,
          0.001320361362056984,
          0.0009032795997776543,
          0.0012546176901094305,
          0.00201165371809101,
          0.0023601277245592113,
          0.0018080667593880389,
          0.0019476905954368391,
          0.001113663256072945,
          0.0018882439331421778,
          0.001592797783933518,
          0.0029965156794425087,
          0.002569087626718511,
          0.0014579283532352124,
          0.0015344911766757342,
          0.0008331019161344071,
          0.002420929324482624,
          0.00145985401459854,
          0.0016640088747139985,
          0.001187399594887197,
          0.0009048513955592678,
          0.0008355382258738338,
          0.0009034679268885954,
          0.0018832391713747645
         ],
         "yaxis": "y"
        },
        {
         "alignmentgroup": "True",
         "hovertemplate": "requester=Joules Clothing<br>week_id=%{x}<br>prop=%{y}<extra></extra>",
         "legendgroup": "Joules Clothing",
         "marker": {
          "color": "#FFA15A",
          "pattern": {
           "shape": ""
          }
         },
         "name": "Joules Clothing",
         "offsetgroup": "Joules Clothing",
         "orientation": "v",
         "showlegend": true,
         "textposition": "auto",
         "type": "bar",
         "x": [
          "2021-week_33",
          "2021-week_34",
          "2021-week_35",
          "2021-week_36",
          "2021-week_38",
          "2021-week_41",
          "2021-week_42",
          "2021-week_44",
          "2021-week_45",
          "2021-week_46",
          "2021-week_47",
          "2022-week_02"
         ],
         "xaxis": "x",
         "y": [
          0.00027862914460852607,
          6.958458005705935e-05,
          0.00034787448688513185,
          0.00020847810979847116,
          6.970098278385725e-05,
          6.954102920723227e-05,
          0.0001391207568169171,
          0.00020980488146024197,
          6.925207756232688e-05,
          0.00013937282229965157,
          6.943480072212192e-05,
          6.933370311308327e-05
         ],
         "yaxis": "y"
        },
        {
         "alignmentgroup": "True",
         "hovertemplate": "requester=Metranome<br>week_id=%{x}<br>prop=%{y}<extra></extra>",
         "legendgroup": "Metranome",
         "marker": {
          "color": "#19d3f3",
          "pattern": {
           "shape": ""
          }
         },
         "name": "Metranome",
         "offsetgroup": "Metranome",
         "orientation": "v",
         "showlegend": true,
         "textposition": "auto",
         "type": "bar",
         "x": [
          "2021-week_33",
          "2021-week_34",
          "2021-week_35",
          "2021-week_36",
          "2021-week_37",
          "2021-week_38",
          "2021-week_39",
          "2021-week_40",
          "2021-week_44",
          "2021-week_46",
          "2021-week_49",
          "2021-week_50",
          "2021-week_51",
          "2022-week_04",
          "2022-week_05",
          "2022-week_06",
          "2022-week_52"
         ],
         "xaxis": "x",
         "y": [
          0.00027862914460852607,
          0.00020875374017117806,
          0.0002782995895081055,
          0.00034746351633078526,
          6.948304613674263e-05,
          6.970098278385725e-05,
          0.00013873473917869035,
          0.00013883104262113008,
          6.993496048674733e-05,
          6.968641114982578e-05,
          0.0001394991978796122,
          0.00013885031935573453,
          7.809449433814917e-05,
          0.00013920790700911812,
          6.962818548948615e-05,
          6.949753283758427e-05,
          6.277463904582549e-05
         ],
         "yaxis": "y"
        },
        {
         "alignmentgroup": "True",
         "hovertemplate": "requester=FlagTap<br>week_id=%{x}<br>prop=%{y}<extra></extra>",
         "legendgroup": "FlagTap",
         "marker": {
          "color": "#FF6692",
          "pattern": {
           "shape": ""
          }
         },
         "name": "FlagTap",
         "offsetgroup": "FlagTap",
         "orientation": "v",
         "showlegend": true,
         "textposition": "auto",
         "type": "bar",
         "x": [
          "2021-week_33"
         ],
         "xaxis": "x",
         "y": [
          0.00013931457230426304
         ],
         "yaxis": "y"
        },
        {
         "alignmentgroup": "True",
         "hovertemplate": "requester=Cuiker<br>week_id=%{x}<br>prop=%{y}<extra></extra>",
         "legendgroup": "Cuiker",
         "marker": {
          "color": "#B6E880",
          "pattern": {
           "shape": ""
          }
         },
         "name": "Cuiker",
         "offsetgroup": "Cuiker",
         "orientation": "v",
         "showlegend": true,
         "textposition": "auto",
         "type": "bar",
         "x": [
          "2021-week_33",
          "2021-week_34",
          "2021-week_35",
          "2021-week_36",
          "2021-week_41",
          "2021-week_42",
          "2021-week_43",
          "2021-week_45",
          "2021-week_46",
          "2021-week_47",
          "2021-week_49",
          "2021-week_50",
          "2021-week_51",
          "2022-week_01",
          "2022-week_02",
          "2022-week_03",
          "2022-week_06",
          "2022-week_52"
         ],
         "xaxis": "x",
         "y": [
          6.965728615213152e-05,
          6.958458005705935e-05,
          6.957489737702637e-05,
          6.949270326615705e-05,
          6.954102920723227e-05,
          6.956037840845854e-05,
          6.960395350455906e-05,
          6.925207756232688e-05,
          6.968641114982578e-05,
          0.00013886960144424384,
          0.0002092487968194183,
          0.00013885031935573453,
          7.809449433814917e-05,
          6.951685783802571e-05,
          6.933370311308327e-05,
          6.984703499336453e-05,
          6.949753283758427e-05,
          6.277463904582549e-05
         ],
         "yaxis": "y"
        },
        {
         "alignmentgroup": "True",
         "hovertemplate": "requester=Cue<br>week_id=%{x}<br>prop=%{y}<extra></extra>",
         "legendgroup": "Cue",
         "marker": {
          "color": "#FF97FF",
          "pattern": {
           "shape": ""
          }
         },
         "name": "Cue",
         "offsetgroup": "Cue",
         "orientation": "v",
         "showlegend": true,
         "textposition": "auto",
         "type": "bar",
         "x": [
          "2021-week_34",
          "2021-week_38",
          "2021-week_40"
         ],
         "xaxis": "x",
         "y": [
          6.958458005705935e-05,
          0.0001394019655677145,
          6.941552131056504e-05
         ],
         "yaxis": "y"
        },
        {
         "alignmentgroup": "True",
         "hovertemplate": "requester=Doctorfun Entertainment, Ltd<br>week_id=%{x}<br>prop=%{y}<extra></extra>",
         "legendgroup": "Doctorfun Entertainment, Ltd",
         "marker": {
          "color": "#FECB52",
          "pattern": {
           "shape": ""
          }
         },
         "name": "Doctorfun Entertainment, Ltd",
         "offsetgroup": "Doctorfun Entertainment, Ltd",
         "orientation": "v",
         "showlegend": true,
         "textposition": "auto",
         "type": "bar",
         "x": [
          "2021-week_35",
          "2021-week_36",
          "2021-week_37",
          "2021-week_38",
          "2021-week_39",
          "2021-week_40",
          "2021-week_41",
          "2021-week_42",
          "2021-week_43",
          "2021-week_44",
          "2021-week_45",
          "2021-week_46",
          "2021-week_48",
          "2021-week_49",
          "2021-week_51",
          "2022-week_01",
          "2022-week_02",
          "2022-week_03",
          "2022-week_04",
          "2022-week_05",
          "2022-week_06",
          "2022-week_52"
         ],
         "xaxis": "x",
         "y": [
          0.0002782995895081055,
          0.00048644892286309936,
          0.0009032795997776543,
          0.0010455147417578587,
          0.0012486126526082132,
          0.0009718172983479105,
          0.0012517385257301808,
          0.0017390094602114635,
          0.0009744553490638268,
          0.0009091544863277152,
          6.925207756232688e-05,
          6.968641114982578e-05,
          0.00013885031935573453,
          0.0002092487968194183,
          7.809449433814917e-05,
          6.951685783802571e-05,
          0.0004853359217915829,
          0.0007683173849270099,
          0.0008352474420547087,
          0.0007659100403843476,
          0.0008339703940510112,
          6.277463904582549e-05
         ],
         "yaxis": "y"
        },
        {
         "alignmentgroup": "True",
         "hovertemplate": "requester=Altammune<br>week_id=%{x}<br>prop=%{y}<extra></extra>",
         "legendgroup": "Altammune",
         "marker": {
          "color": "#636efa",
          "pattern": {
           "shape": ""
          }
         },
         "name": "Altammune",
         "offsetgroup": "Altammune",
         "orientation": "v",
         "showlegend": true,
         "textposition": "auto",
         "type": "bar",
         "x": [
          "2021-week_35",
          "2021-week_38",
          "2021-week_40",
          "2021-week_42"
         ],
         "xaxis": "x",
         "y": [
          6.957489737702637e-05,
          6.970098278385725e-05,
          0.00013883104262113008,
          6.956037840845854e-05
         ],
         "yaxis": "y"
        },
        {
         "alignmentgroup": "True",
         "hovertemplate": "requester=Earth Networks<br>week_id=%{x}<br>prop=%{y}<extra></extra>",
         "legendgroup": "Earth Networks",
         "marker": {
          "color": "#EF553B",
          "pattern": {
           "shape": ""
          }
         },
         "name": "Earth Networks",
         "offsetgroup": "Earth Networks",
         "orientation": "v",
         "showlegend": true,
         "textposition": "auto",
         "type": "bar",
         "x": [
          "2021-week_35",
          "2021-week_36",
          "2021-week_41"
         ],
         "xaxis": "x",
         "y": [
          6.957489737702637e-05,
          0.0001389854065323141,
          6.954102920723227e-05
         ],
         "yaxis": "y"
        },
        {
         "alignmentgroup": "True",
         "hovertemplate": "requester=Derceto<br>week_id=%{x}<br>prop=%{y}<extra></extra>",
         "legendgroup": "Derceto",
         "marker": {
          "color": "#00cc96",
          "pattern": {
           "shape": ""
          }
         },
         "name": "Derceto",
         "offsetgroup": "Derceto",
         "orientation": "v",
         "showlegend": true,
         "textposition": "auto",
         "type": "bar",
         "x": [
          "2021-week_37"
         ],
         "xaxis": "x",
         "y": [
          6.948304613674263e-05
         ],
         "yaxis": "y"
        },
        {
         "alignmentgroup": "True",
         "hovertemplate": "requester=Marketo Japan<br>week_id=%{x}<br>prop=%{y}<extra></extra>",
         "legendgroup": "Marketo Japan",
         "marker": {
          "color": "#ab63fa",
          "pattern": {
           "shape": ""
          }
         },
         "name": "Marketo Japan",
         "offsetgroup": "Marketo Japan",
         "orientation": "v",
         "showlegend": true,
         "textposition": "auto",
         "type": "bar",
         "x": [
          "2021-week_37"
         ],
         "xaxis": "x",
         "y": [
          6.948304613674263e-05
         ],
         "yaxis": "y"
        },
        {
         "alignmentgroup": "True",
         "hovertemplate": "requester=Jun Group<br>week_id=%{x}<br>prop=%{y}<extra></extra>",
         "legendgroup": "Jun Group",
         "marker": {
          "color": "#FFA15A",
          "pattern": {
           "shape": ""
          }
         },
         "name": "Jun Group",
         "offsetgroup": "Jun Group",
         "orientation": "v",
         "showlegend": true,
         "textposition": "auto",
         "type": "bar",
         "x": [
          "2021-week_44",
          "2021-week_51",
          "2022-week_04"
         ],
         "xaxis": "x",
         "y": [
          6.993496048674733e-05,
          7.809449433814917e-05,
          0.00013920790700911812
         ],
         "yaxis": "y"
        },
        {
         "alignmentgroup": "True",
         "hovertemplate": "requester=PureSafe water systems<br>week_id=%{x}<br>prop=%{y}<extra></extra>",
         "legendgroup": "PureSafe water systems",
         "marker": {
          "color": "#19d3f3",
          "pattern": {
           "shape": ""
          }
         },
         "name": "PureSafe water systems",
         "offsetgroup": "PureSafe water systems",
         "orientation": "v",
         "showlegend": true,
         "textposition": "auto",
         "type": "bar",
         "x": [
          "2022-week_05"
         ],
         "xaxis": "x",
         "y": [
          6.962818548948615e-05
         ],
         "yaxis": "y"
        }
       ],
       "layout": {
        "autosize": true,
        "barmode": "relative",
        "legend": {
         "title": {
          "text": "requester"
         },
         "tracegroupgap": 0
        },
        "margin": {
         "t": 60
        },
        "template": {
         "data": {
          "bar": [
           {
            "error_x": {
             "color": "#2a3f5f"
            },
            "error_y": {
             "color": "#2a3f5f"
            },
            "marker": {
             "line": {
              "color": "#E5ECF6",
              "width": 0.5
             },
             "pattern": {
              "fillmode": "overlay",
              "size": 10,
              "solidity": 0.2
             }
            },
            "type": "bar"
           }
          ],
          "barpolar": [
           {
            "marker": {
             "line": {
              "color": "#E5ECF6",
              "width": 0.5
             },
             "pattern": {
              "fillmode": "overlay",
              "size": 10,
              "solidity": 0.2
             }
            },
            "type": "barpolar"
           }
          ],
          "carpet": [
           {
            "aaxis": {
             "endlinecolor": "#2a3f5f",
             "gridcolor": "white",
             "linecolor": "white",
             "minorgridcolor": "white",
             "startlinecolor": "#2a3f5f"
            },
            "baxis": {
             "endlinecolor": "#2a3f5f",
             "gridcolor": "white",
             "linecolor": "white",
             "minorgridcolor": "white",
             "startlinecolor": "#2a3f5f"
            },
            "type": "carpet"
           }
          ],
          "choropleth": [
           {
            "colorbar": {
             "outlinewidth": 0,
             "ticks": ""
            },
            "type": "choropleth"
           }
          ],
          "contour": [
           {
            "colorbar": {
             "outlinewidth": 0,
             "ticks": ""
            },
            "colorscale": [
             [
              0,
              "#0d0887"
             ],
             [
              0.1111111111111111,
              "#46039f"
             ],
             [
              0.2222222222222222,
              "#7201a8"
             ],
             [
              0.3333333333333333,
              "#9c179e"
             ],
             [
              0.4444444444444444,
              "#bd3786"
             ],
             [
              0.5555555555555556,
              "#d8576b"
             ],
             [
              0.6666666666666666,
              "#ed7953"
             ],
             [
              0.7777777777777778,
              "#fb9f3a"
             ],
             [
              0.8888888888888888,
              "#fdca26"
             ],
             [
              1,
              "#f0f921"
             ]
            ],
            "type": "contour"
           }
          ],
          "contourcarpet": [
           {
            "colorbar": {
             "outlinewidth": 0,
             "ticks": ""
            },
            "type": "contourcarpet"
           }
          ],
          "heatmap": [
           {
            "colorbar": {
             "outlinewidth": 0,
             "ticks": ""
            },
            "colorscale": [
             [
              0,
              "#0d0887"
             ],
             [
              0.1111111111111111,
              "#46039f"
             ],
             [
              0.2222222222222222,
              "#7201a8"
             ],
             [
              0.3333333333333333,
              "#9c179e"
             ],
             [
              0.4444444444444444,
              "#bd3786"
             ],
             [
              0.5555555555555556,
              "#d8576b"
             ],
             [
              0.6666666666666666,
              "#ed7953"
             ],
             [
              0.7777777777777778,
              "#fb9f3a"
             ],
             [
              0.8888888888888888,
              "#fdca26"
             ],
             [
              1,
              "#f0f921"
             ]
            ],
            "type": "heatmap"
           }
          ],
          "heatmapgl": [
           {
            "colorbar": {
             "outlinewidth": 0,
             "ticks": ""
            },
            "colorscale": [
             [
              0,
              "#0d0887"
             ],
             [
              0.1111111111111111,
              "#46039f"
             ],
             [
              0.2222222222222222,
              "#7201a8"
             ],
             [
              0.3333333333333333,
              "#9c179e"
             ],
             [
              0.4444444444444444,
              "#bd3786"
             ],
             [
              0.5555555555555556,
              "#d8576b"
             ],
             [
              0.6666666666666666,
              "#ed7953"
             ],
             [
              0.7777777777777778,
              "#fb9f3a"
             ],
             [
              0.8888888888888888,
              "#fdca26"
             ],
             [
              1,
              "#f0f921"
             ]
            ],
            "type": "heatmapgl"
           }
          ],
          "histogram": [
           {
            "marker": {
             "pattern": {
              "fillmode": "overlay",
              "size": 10,
              "solidity": 0.2
             }
            },
            "type": "histogram"
           }
          ],
          "histogram2d": [
           {
            "colorbar": {
             "outlinewidth": 0,
             "ticks": ""
            },
            "colorscale": [
             [
              0,
              "#0d0887"
             ],
             [
              0.1111111111111111,
              "#46039f"
             ],
             [
              0.2222222222222222,
              "#7201a8"
             ],
             [
              0.3333333333333333,
              "#9c179e"
             ],
             [
              0.4444444444444444,
              "#bd3786"
             ],
             [
              0.5555555555555556,
              "#d8576b"
             ],
             [
              0.6666666666666666,
              "#ed7953"
             ],
             [
              0.7777777777777778,
              "#fb9f3a"
             ],
             [
              0.8888888888888888,
              "#fdca26"
             ],
             [
              1,
              "#f0f921"
             ]
            ],
            "type": "histogram2d"
           }
          ],
          "histogram2dcontour": [
           {
            "colorbar": {
             "outlinewidth": 0,
             "ticks": ""
            },
            "colorscale": [
             [
              0,
              "#0d0887"
             ],
             [
              0.1111111111111111,
              "#46039f"
             ],
             [
              0.2222222222222222,
              "#7201a8"
             ],
             [
              0.3333333333333333,
              "#9c179e"
             ],
             [
              0.4444444444444444,
              "#bd3786"
             ],
             [
              0.5555555555555556,
              "#d8576b"
             ],
             [
              0.6666666666666666,
              "#ed7953"
             ],
             [
              0.7777777777777778,
              "#fb9f3a"
             ],
             [
              0.8888888888888888,
              "#fdca26"
             ],
             [
              1,
              "#f0f921"
             ]
            ],
            "type": "histogram2dcontour"
           }
          ],
          "mesh3d": [
           {
            "colorbar": {
             "outlinewidth": 0,
             "ticks": ""
            },
            "type": "mesh3d"
           }
          ],
          "parcoords": [
           {
            "line": {
             "colorbar": {
              "outlinewidth": 0,
              "ticks": ""
             }
            },
            "type": "parcoords"
           }
          ],
          "pie": [
           {
            "automargin": true,
            "type": "pie"
           }
          ],
          "scatter": [
           {
            "marker": {
             "colorbar": {
              "outlinewidth": 0,
              "ticks": ""
             }
            },
            "type": "scatter"
           }
          ],
          "scatter3d": [
           {
            "line": {
             "colorbar": {
              "outlinewidth": 0,
              "ticks": ""
             }
            },
            "marker": {
             "colorbar": {
              "outlinewidth": 0,
              "ticks": ""
             }
            },
            "type": "scatter3d"
           }
          ],
          "scattercarpet": [
           {
            "marker": {
             "colorbar": {
              "outlinewidth": 0,
              "ticks": ""
             }
            },
            "type": "scattercarpet"
           }
          ],
          "scattergeo": [
           {
            "marker": {
             "colorbar": {
              "outlinewidth": 0,
              "ticks": ""
             }
            },
            "type": "scattergeo"
           }
          ],
          "scattergl": [
           {
            "marker": {
             "colorbar": {
              "outlinewidth": 0,
              "ticks": ""
             }
            },
            "type": "scattergl"
           }
          ],
          "scattermapbox": [
           {
            "marker": {
             "colorbar": {
              "outlinewidth": 0,
              "ticks": ""
             }
            },
            "type": "scattermapbox"
           }
          ],
          "scatterpolar": [
           {
            "marker": {
             "colorbar": {
              "outlinewidth": 0,
              "ticks": ""
             }
            },
            "type": "scatterpolar"
           }
          ],
          "scatterpolargl": [
           {
            "marker": {
             "colorbar": {
              "outlinewidth": 0,
              "ticks": ""
             }
            },
            "type": "scatterpolargl"
           }
          ],
          "scatterternary": [
           {
            "marker": {
             "colorbar": {
              "outlinewidth": 0,
              "ticks": ""
             }
            },
            "type": "scatterternary"
           }
          ],
          "surface": [
           {
            "colorbar": {
             "outlinewidth": 0,
             "ticks": ""
            },
            "colorscale": [
             [
              0,
              "#0d0887"
             ],
             [
              0.1111111111111111,
              "#46039f"
             ],
             [
              0.2222222222222222,
              "#7201a8"
             ],
             [
              0.3333333333333333,
              "#9c179e"
             ],
             [
              0.4444444444444444,
              "#bd3786"
             ],
             [
              0.5555555555555556,
              "#d8576b"
             ],
             [
              0.6666666666666666,
              "#ed7953"
             ],
             [
              0.7777777777777778,
              "#fb9f3a"
             ],
             [
              0.8888888888888888,
              "#fdca26"
             ],
             [
              1,
              "#f0f921"
             ]
            ],
            "type": "surface"
           }
          ],
          "table": [
           {
            "cells": {
             "fill": {
              "color": "#EBF0F8"
             },
             "line": {
              "color": "white"
             }
            },
            "header": {
             "fill": {
              "color": "#C8D4E3"
             },
             "line": {
              "color": "white"
             }
            },
            "type": "table"
           }
          ]
         },
         "layout": {
          "annotationdefaults": {
           "arrowcolor": "#2a3f5f",
           "arrowhead": 0,
           "arrowwidth": 1
          },
          "autotypenumbers": "strict",
          "coloraxis": {
           "colorbar": {
            "outlinewidth": 0,
            "ticks": ""
           }
          },
          "colorscale": {
           "diverging": [
            [
             0,
             "#8e0152"
            ],
            [
             0.1,
             "#c51b7d"
            ],
            [
             0.2,
             "#de77ae"
            ],
            [
             0.3,
             "#f1b6da"
            ],
            [
             0.4,
             "#fde0ef"
            ],
            [
             0.5,
             "#f7f7f7"
            ],
            [
             0.6,
             "#e6f5d0"
            ],
            [
             0.7,
             "#b8e186"
            ],
            [
             0.8,
             "#7fbc41"
            ],
            [
             0.9,
             "#4d9221"
            ],
            [
             1,
             "#276419"
            ]
           ],
           "sequential": [
            [
             0,
             "#0d0887"
            ],
            [
             0.1111111111111111,
             "#46039f"
            ],
            [
             0.2222222222222222,
             "#7201a8"
            ],
            [
             0.3333333333333333,
             "#9c179e"
            ],
            [
             0.4444444444444444,
             "#bd3786"
            ],
            [
             0.5555555555555556,
             "#d8576b"
            ],
            [
             0.6666666666666666,
             "#ed7953"
            ],
            [
             0.7777777777777778,
             "#fb9f3a"
            ],
            [
             0.8888888888888888,
             "#fdca26"
            ],
            [
             1,
             "#f0f921"
            ]
           ],
           "sequentialminus": [
            [
             0,
             "#0d0887"
            ],
            [
             0.1111111111111111,
             "#46039f"
            ],
            [
             0.2222222222222222,
             "#7201a8"
            ],
            [
             0.3333333333333333,
             "#9c179e"
            ],
            [
             0.4444444444444444,
             "#bd3786"
            ],
            [
             0.5555555555555556,
             "#d8576b"
            ],
            [
             0.6666666666666666,
             "#ed7953"
            ],
            [
             0.7777777777777778,
             "#fb9f3a"
            ],
            [
             0.8888888888888888,
             "#fdca26"
            ],
            [
             1,
             "#f0f921"
            ]
           ]
          },
          "colorway": [
           "#636efa",
           "#EF553B",
           "#00cc96",
           "#ab63fa",
           "#FFA15A",
           "#19d3f3",
           "#FF6692",
           "#B6E880",
           "#FF97FF",
           "#FECB52"
          ],
          "font": {
           "color": "#2a3f5f"
          },
          "geo": {
           "bgcolor": "white",
           "lakecolor": "white",
           "landcolor": "#E5ECF6",
           "showlakes": true,
           "showland": true,
           "subunitcolor": "white"
          },
          "hoverlabel": {
           "align": "left"
          },
          "hovermode": "closest",
          "mapbox": {
           "style": "light"
          },
          "paper_bgcolor": "white",
          "plot_bgcolor": "#E5ECF6",
          "polar": {
           "angularaxis": {
            "gridcolor": "white",
            "linecolor": "white",
            "ticks": ""
           },
           "bgcolor": "#E5ECF6",
           "radialaxis": {
            "gridcolor": "white",
            "linecolor": "white",
            "ticks": ""
           }
          },
          "scene": {
           "xaxis": {
            "backgroundcolor": "#E5ECF6",
            "gridcolor": "white",
            "gridwidth": 2,
            "linecolor": "white",
            "showbackground": true,
            "ticks": "",
            "zerolinecolor": "white"
           },
           "yaxis": {
            "backgroundcolor": "#E5ECF6",
            "gridcolor": "white",
            "gridwidth": 2,
            "linecolor": "white",
            "showbackground": true,
            "ticks": "",
            "zerolinecolor": "white"
           },
           "zaxis": {
            "backgroundcolor": "#E5ECF6",
            "gridcolor": "white",
            "gridwidth": 2,
            "linecolor": "white",
            "showbackground": true,
            "ticks": "",
            "zerolinecolor": "white"
           }
          },
          "shapedefaults": {
           "line": {
            "color": "#2a3f5f"
           }
          },
          "ternary": {
           "aaxis": {
            "gridcolor": "white",
            "linecolor": "white",
            "ticks": ""
           },
           "baxis": {
            "gridcolor": "white",
            "linecolor": "white",
            "ticks": ""
           },
           "bgcolor": "#E5ECF6",
           "caxis": {
            "gridcolor": "white",
            "linecolor": "white",
            "ticks": ""
           }
          },
          "title": {
           "x": 0.05
          },
          "xaxis": {
           "automargin": true,
           "gridcolor": "white",
           "linecolor": "white",
           "ticks": "",
           "title": {
            "standoff": 15
           },
           "zerolinecolor": "white",
           "zerolinewidth": 2
          },
          "yaxis": {
           "automargin": true,
           "gridcolor": "white",
           "linecolor": "white",
           "ticks": "",
           "title": {
            "standoff": 15
           },
           "zerolinecolor": "white",
           "zerolinewidth": 2
          }
         }
        },
        "title": {
         "text": "Weekly requests count by requester",
         "x": 0.5
        },
        "xaxis": {
         "anchor": "y",
         "autorange": true,
         "domain": [
          0,
          1
         ],
         "range": [
          -0.5,
          25.5
         ],
         "title": {
          "text": "week_id"
         },
         "type": "category"
        },
        "yaxis": {
         "anchor": "x",
         "autorange": true,
         "domain": [
          0,
          1
         ],
         "range": [
          0,
          1.0526315789473688
         ],
         "title": {
          "text": "prop"
         },
         "type": "linear"
        }
       }
      },
      "image/png": "[encoded data removed]",
      "text/html": [
       "<div>                            <div id=\"7787cde6-1aaa-4e7e-8e5d-a8ed3947be0e\" class=\"plotly-graph-div\" style=\"height:525px; width:100%;\"></div>            <script type=\"text/javascript\">                require([\"plotly\"], function(Plotly) {                    window.PLOTLYENV=window.PLOTLYENV || {};                                    if (document.getElementById(\"7787cde6-1aaa-4e7e-8e5d-a8ed3947be0e\")) {                    Plotly.newPlot(                        \"7787cde6-1aaa-4e7e-8e5d-a8ed3947be0e\",                        [{\"alignmentgroup\":\"True\",\"hovertemplate\":\"requester=Search Million Culture<br>week_id=%{x}<br>prop=%{y}<extra></extra>\",\"legendgroup\":\"Search Million Culture\",\"marker\":{\"color\":\"#636efa\",\"pattern\":{\"shape\":\"\"}},\"name\":\"Search Million Culture\",\"offsetgroup\":\"Search Million Culture\",\"orientation\":\"v\",\"showlegend\":true,\"textposition\":\"auto\",\"x\":[\"2021-week_33\",\"2021-week_34\",\"2021-week_35\",\"2021-week_36\",\"2021-week_37\",\"2021-week_38\",\"2021-week_39\",\"2021-week_40\",\"2021-week_41\",\"2021-week_42\",\"2021-week_43\",\"2021-week_44\",\"2021-week_45\",\"2021-week_46\",\"2021-week_47\",\"2021-week_48\",\"2021-week_49\",\"2021-week_50\",\"2021-week_51\",\"2022-week_01\",\"2022-week_02\",\"2022-week_03\",\"2022-week_04\",\"2022-week_05\",\"2022-week_06\",\"2022-week_52\"],\"xaxis\":\"x\",\"y\":[0.35218723878517694,0.39043907870016004,0.35030960829332775,0.35392633773453785,0.3494302390216787,0.33372830556910854,0.3140260821309656,0.3306261280022213,0.3364394993045897,0.25994713411240955,0.24110809493979257,0.1897335478005455,0.0853185595567867,0.09337979094076655,0.09665324260519373,0.11538461538461539,0.13287298598033062,0.12350735906692585,0.12526356891839124,0.19443865137295793,0.2046730915898218,0.23342879094782426,0.25440245005916334,0.25163626235900294,0.23816804503440128,0.0743879472693032],\"yaxis\":\"y\",\"type\":\"bar\"},{\"alignmentgroup\":\"True\",\"hovertemplate\":\"requester=RelayFoods<br>week_id=%{x}<br>prop=%{y}<extra></extra>\",\"legendgroup\":\"RelayFoods\",\"marker\":{\"color\":\"#EF553B\",\"pattern\":{\"shape\":\"\"}},\"name\":\"RelayFoods\",\"offsetgroup\":\"RelayFoods\",\"orientation\":\"v\",\"showlegend\":true,\"textposition\":\"auto\",\"x\":[\"2021-week_33\",\"2021-week_34\",\"2021-week_35\",\"2021-week_36\",\"2021-week_37\",\"2021-week_38\",\"2021-week_39\",\"2021-week_40\",\"2021-week_41\",\"2021-week_42\",\"2021-week_43\",\"2021-week_44\",\"2021-week_45\",\"2021-week_46\",\"2021-week_47\",\"2021-week_48\",\"2021-week_49\",\"2021-week_50\",\"2021-week_51\",\"2022-week_01\",\"2022-week_02\",\"2022-week_03\",\"2022-week_04\",\"2022-week_05\",\"2022-week_06\",\"2022-week_52\"],\"xaxis\":\"x\",\"y\":[0.10929228197269435,0.06297404495163872,0.06880957350587907,0.06949270326615706,0.06663424124513619,0.06754025231755768,0.052372364039955606,0.04602249062890462,0.05660639777468707,0.2598775737340011,0.24131690680030626,0.2721169312539338,0.3479224376731302,0.31679442508710803,0.3327315650604083,0.2905442932518745,0.32370788867964007,0.3126214940294363,0.28621632174931666,0.26930830726451166,0.2656867503293351,0.24760773905147726,0.247511658662212,0.22629160284082997,0.23650010424629925,0.3747018204645323],\"yaxis\":\"y\",\"type\":\"bar\"},{\"alignmentgroup\":\"True\",\"hovertemplate\":\"requester=Puentes Company<br>week_id=%{x}<br>prop=%{y}<extra></extra>\",\"legendgroup\":\"Puentes Company\",\"marker\":{\"color\":\"#00cc96\",\"pattern\":{\"shape\":\"\"}},\"name\":\"Puentes Company\",\"offsetgroup\":\"Puentes Company\",\"orientation\":\"v\",\"showlegend\":true,\"textposition\":\"auto\",\"x\":[\"2021-week_33\",\"2021-week_34\",\"2021-week_35\",\"2021-week_36\",\"2021-week_37\",\"2021-week_38\",\"2021-week_39\",\"2021-week_40\",\"2021-week_41\",\"2021-week_42\",\"2021-week_43\",\"2021-week_44\",\"2021-week_45\",\"2021-week_46\",\"2021-week_47\",\"2021-week_48\",\"2021-week_49\",\"2021-week_50\",\"2021-week_51\",\"2022-week_01\",\"2022-week_02\",\"2022-week_03\",\"2022-week_04\",\"2022-week_05\",\"2022-week_06\",\"2022-week_52\"],\"xaxis\":\"x\",\"y\":[0.09452493730844247,0.08197063530721592,0.07521046406456551,0.07588603196664351,0.07406892718176765,0.0683069631281801,0.06804938956714761,0.06976259891711786,0.08817802503477051,0.07206455203116305,0.06333959768914875,0.07720819637736905,0.10297783933518005,0.0932404181184669,0.09061241494236912,0.0814357123021383,0.09130222501220618,0.08497639544570952,0.10378758297540024,0.09336114007646855,0.09061914996879983,0.06635468324369631,0.05902415257186608,0.05653808661746275,0.0583084300507332,0.06936597614563716],\"yaxis\":\"y\",\"type\":\"bar\"},{\"alignmentgroup\":\"True\",\"hovertemplate\":\"requester=MoJoe Brewing Company<br>week_id=%{x}<br>prop=%{y}<extra></extra>\",\"legendgroup\":\"MoJoe Brewing Company\",\"marker\":{\"color\":\"#ab63fa\",\"pattern\":{\"shape\":\"\"}},\"name\":\"MoJoe Brewing Company\",\"offsetgroup\":\"MoJoe Brewing Company\",\"orientation\":\"v\",\"showlegend\":true,\"textposition\":\"auto\",\"x\":[\"2021-week_33\",\"2021-week_34\",\"2021-week_35\",\"2021-week_36\",\"2021-week_37\",\"2021-week_38\",\"2021-week_39\",\"2021-week_40\",\"2021-week_41\",\"2021-week_42\",\"2021-week_43\",\"2021-week_44\",\"2021-week_45\",\"2021-week_46\",\"2021-week_47\",\"2021-week_48\",\"2021-week_49\",\"2021-week_50\",\"2021-week_51\",\"2022-week_01\",\"2022-week_02\",\"2022-week_03\",\"2022-week_04\",\"2022-week_05\",\"2022-week_06\",\"2022-week_52\"],\"xaxis\":\"x\",\"y\":[0.09424630816383393,0.07890891378470531,0.10387532178390037,0.08881167477414871,0.09672040022234575,0.0759740712344044,0.08011931187569367,0.07309454394002499,0.05744089012517385,0.041666666666666664,0.0680030625739542,0.06007413105811595,0.056509695290858725,0.09874564459930314,0.0611026246354673,0.13732296584282144,0.0823045267489712,0.12454873646209386,0.07169074580242094,0.07897115050399722,0.08028842820495043,0.10169728295033875,0.06507969652676272,0.08174348976465673,0.06393773021057753,0.14055241682360325],\"yaxis\":\"y\",\"type\":\"bar\"},{\"alignmentgroup\":\"True\",\"hovertemplate\":\"requester=Tab Solutions<br>week_id=%{x}<br>prop=%{y}<extra></extra>\",\"legendgroup\":\"Tab Solutions\",\"marker\":{\"color\":\"#FFA15A\",\"pattern\":{\"shape\":\"\"}},\"name\":\"Tab Solutions\",\"offsetgroup\":\"Tab Solutions\",\"orientation\":\"v\",\"showlegend\":true,\"textposition\":\"auto\",\"x\":[\"2021-week_33\",\"2021-week_34\",\"2021-week_35\",\"2021-week_36\",\"2021-week_37\",\"2021-week_38\",\"2021-week_39\",\"2021-week_40\",\"2021-week_41\",\"2021-week_42\",\"2021-week_43\",\"2021-week_44\",\"2021-week_45\",\"2021-week_46\",\"2021-week_47\",\"2021-week_48\",\"2021-week_49\",\"2021-week_50\",\"2021-week_51\",\"2022-week_01\",\"2022-week_02\",\"2022-week_03\",\"2022-week_04\",\"2022-week_05\",\"2022-week_06\",\"2022-week_52\"],\"xaxis\":\"x\",\"y\":[0.0672192811368069,0.054345557024563354,0.04981562652195088,0.055524669909659485,0.05885214007782101,0.04000836411793406,0.05292730299667037,0.06774954879911148,0.0672461752433936,0.047996661101836396,0.04719148047609104,0.05063291139240506,0.04113573407202216,0.014355400696864112,0.016594917372587142,0.0197167453485143,0.031317569923972936,0.02256317689530686,0.019992190550566186,0.010983663538408064,0.012618733966581155,0.01494726548858001,0.016565740934085055,0.01392563709789723,0.01709639307804573,0.013998744507219083],\"yaxis\":\"y\",\"type\":\"bar\"},{\"alignmentgroup\":\"True\",\"hovertemplate\":\"requester=Fancy<br>week_id=%{x}<br>prop=%{y}<extra></extra>\",\"legendgroup\":\"Fancy\",\"marker\":{\"color\":\"#19d3f3\",\"pattern\":{\"shape\":\"\"}},\"name\":\"Fancy\",\"offsetgroup\":\"Fancy\",\"orientation\":\"v\",\"showlegend\":true,\"textposition\":\"auto\",\"x\":[\"2021-week_33\",\"2021-week_34\",\"2021-week_35\",\"2021-week_36\",\"2021-week_37\",\"2021-week_38\",\"2021-week_39\",\"2021-week_40\",\"2021-week_41\",\"2021-week_42\",\"2021-week_43\",\"2021-week_44\",\"2021-week_45\",\"2021-week_46\",\"2021-week_47\",\"2021-week_48\",\"2021-week_49\",\"2021-week_50\",\"2021-week_51\",\"2022-week_01\",\"2022-week_02\",\"2022-week_03\",\"2022-week_04\",\"2022-week_05\",\"2022-week_06\",\"2022-week_52\"],\"xaxis\":\"x\",\"y\":[0.06485093340763444,0.05260594252313687,0.06129548458916023,0.0739402362751911,0.0821289605336298,0.08106224297762599,0.07450055493895671,0.08322921005136749,0.10069541029207232,0.07957707289927657,0.08561286281060765,0.0904259039093643,0.09217451523545707,0.0713588850174216,0.039786140813775864,0.07025826159400167,0.11494733905280044,0.11170508192168842,0.09160484185864896,0.06743135210288495,0.0704430423628926,0.09170915694628763,0.12382543328461057,0.13681938448684028,0.15671693654875252,0.08242310106716887],\"yaxis\":\"y\",\"type\":\"bar\"},{\"alignmentgroup\":\"True\",\"hovertemplate\":\"requester=SOLOMO365<br>week_id=%{x}<br>prop=%{y}<extra></extra>\",\"legendgroup\":\"SOLOMO365\",\"marker\":{\"color\":\"#FF6692\",\"pattern\":{\"shape\":\"\"}},\"name\":\"SOLOMO365\",\"offsetgroup\":\"SOLOMO365\",\"orientation\":\"v\",\"showlegend\":true,\"textposition\":\"auto\",\"x\":[\"2021-week_33\",\"2021-week_34\",\"2021-week_35\",\"2021-week_36\",\"2021-week_37\",\"2021-week_38\",\"2021-week_39\",\"2021-week_40\"],\"xaxis\":\"x\",\"y\":[0.05544719977709668,0.06039941548952752,0.05976483684686565,0.05573314801945796,0.055586436909394105,0.05813061964173695,0.049944506104328525,0.014993752603082049],\"yaxis\":\"y\",\"type\":\"bar\"},{\"alignmentgroup\":\"True\",\"hovertemplate\":\"requester=Sensor Tower<br>week_id=%{x}<br>prop=%{y}<extra></extra>\",\"legendgroup\":\"Sensor Tower\",\"marker\":{\"color\":\"#B6E880\",\"pattern\":{\"shape\":\"\"}},\"name\":\"Sensor Tower\",\"offsetgroup\":\"Sensor Tower\",\"orientation\":\"v\",\"showlegend\":true,\"textposition\":\"auto\",\"x\":[\"2021-week_33\",\"2021-week_34\",\"2021-week_35\",\"2021-week_36\",\"2021-week_37\",\"2021-week_38\",\"2021-week_39\",\"2021-week_40\",\"2021-week_41\",\"2021-week_42\",\"2021-week_43\",\"2021-week_44\",\"2021-week_45\",\"2021-week_46\",\"2021-week_47\",\"2021-week_48\",\"2021-week_49\",\"2021-week_50\",\"2021-week_51\",\"2022-week_01\",\"2022-week_02\",\"2022-week_03\",\"2022-week_04\",\"2022-week_05\",\"2022-week_06\",\"2022-week_52\"],\"xaxis\":\"x\",\"y\":[0.03629144608526052,0.03374852132767379,0.031308703819661866,0.018763029881862403,0.012854363535297387,0.008712622847982156,0.0076997780244173145,0.006455643481882549,0.00674547983310153,0.006816917084028937,0.005568316280364725,0.005384991957479544,0.00574792243767313,0.004320557491289199,0.004443827246215803,0.005554012774229381,0.007463207086559252,0.004859761177450708,0.003358063256540414,0.003475842891901286,0.0029813492338625807,0.00447021023957533,0.004315445117282661,0.003899178387411224,0.004169851970255056,0.004205900816070308],\"yaxis\":\"y\",\"type\":\"bar\"},{\"alignmentgroup\":\"True\",\"hovertemplate\":\"requester=Extreme DA<br>week_id=%{x}<br>prop=%{y}<extra></extra>\",\"legendgroup\":\"Extreme DA\",\"marker\":{\"color\":\"#FF97FF\",\"pattern\":{\"shape\":\"\"}},\"name\":\"Extreme DA\",\"offsetgroup\":\"Extreme DA\",\"orientation\":\"v\",\"showlegend\":true,\"textposition\":\"auto\",\"x\":[\"2021-week_33\",\"2021-week_34\",\"2021-week_35\",\"2021-week_36\",\"2021-week_37\",\"2021-week_38\",\"2021-week_39\",\"2021-week_40\",\"2021-week_41\",\"2021-week_42\",\"2021-week_43\",\"2021-week_44\",\"2021-week_45\",\"2021-week_46\",\"2021-week_47\",\"2021-week_48\",\"2021-week_49\",\"2021-week_50\",\"2021-week_51\",\"2022-week_01\",\"2022-week_02\",\"2022-week_03\",\"2022-week_04\",\"2022-week_05\",\"2022-week_06\",\"2022-week_52\"],\"xaxis\":\"x\",\"y\":[0.03517692950682642,0.08892909331292186,0.09601335838029638,0.09263377345378736,0.0883129516397999,0.14776608350177736,0.170019422863485,0.1646536165486603,0.1588317107093185,0.14322481914301613,0.15653929143175332,0.16791384012868033,0.18421052631578946,0.19658536585365854,0.20844327176781002,0.18286587059150236,0.12582827648741018,0.13843376839766733,0.21288559156579462,0.20208550573514078,0.19663038202870414,0.17531605783334497,0.16906800306257394,0.17156384904609387,0.16686357634303983,0.16064030131826743],\"yaxis\":\"y\",\"type\":\"bar\"},{\"alignmentgroup\":\"True\",\"hovertemplate\":\"requester=iDreamsky Technology<br>week_id=%{x}<br>prop=%{y}<extra></extra>\",\"legendgroup\":\"iDreamsky Technology\",\"marker\":{\"color\":\"#FECB52\",\"pattern\":{\"shape\":\"\"}},\"name\":\"iDreamsky Technology\",\"offsetgroup\":\"iDreamsky Technology\",\"orientation\":\"v\",\"showlegend\":true,\"textposition\":\"auto\",\"x\":[\"2021-week_33\",\"2021-week_34\",\"2021-week_35\",\"2021-week_36\",\"2021-week_37\",\"2021-week_38\",\"2021-week_39\",\"2021-week_40\",\"2021-week_41\",\"2021-week_42\",\"2021-week_43\",\"2021-week_44\",\"2021-week_45\",\"2021-week_46\",\"2021-week_47\",\"2021-week_48\",\"2021-week_49\",\"2021-week_50\",\"2021-week_51\",\"2022-week_01\",\"2022-week_02\",\"2022-week_03\",\"2022-week_04\",\"2022-week_05\",\"2022-week_06\",\"2022-week_52\"],\"xaxis\":\"x\",\"y\":[0.021872387851769294,0.021153712337346045,0.035761497251791556,0.04211257817929118,0.04175931072818232,0.05123022234613508,0.04557436182019978,0.042759961127308066,0.032753824756606396,0.018433500278241515,0.018932275353240064,0.020560878383103713,0.0260387811634349,0.04494773519163763,0.08734897930842939,0.036239933351846706,0.02483085722257097,0.02513190780338795,0.026395939086294416,0.024261383385470976,0.021770782777508147,0.01990640497310889,0.016356929073571377,0.016362623590029244,0.018555841267634997,0.02366603892027621],\"yaxis\":\"y\",\"type\":\"bar\"},{\"alignmentgroup\":\"True\",\"hovertemplate\":\"requester=Fry Multimedia<br>week_id=%{x}<br>prop=%{y}<extra></extra>\",\"legendgroup\":\"Fry Multimedia\",\"marker\":{\"color\":\"#636efa\",\"pattern\":{\"shape\":\"\"}},\"name\":\"Fry Multimedia\",\"offsetgroup\":\"Fry Multimedia\",\"orientation\":\"v\",\"showlegend\":true,\"textposition\":\"auto\",\"x\":[\"2021-week_33\",\"2021-week_34\",\"2021-week_35\",\"2021-week_36\",\"2021-week_37\",\"2021-week_38\",\"2021-week_39\",\"2021-week_40\",\"2021-week_41\",\"2021-week_42\",\"2021-week_43\",\"2021-week_44\",\"2021-week_45\",\"2021-week_46\",\"2021-week_47\",\"2021-week_48\",\"2021-week_49\",\"2021-week_50\",\"2021-week_51\",\"2022-week_01\",\"2022-week_02\",\"2022-week_03\",\"2022-week_04\",\"2022-week_05\",\"2022-week_06\",\"2022-week_52\"],\"xaxis\":\"x\",\"y\":[0.01567288938422959,0.017744067914550136,0.017950323523272804,0.01716469770674079,0.017857142857142856,0.01575242210915174,0.014567147613762486,0.018256282104678605,0.0196105702364395,0.0134251530328325,0.012111087909793277,0.01258829288761452,0.010110803324099723,0.00975609756097561,0.011803916122760728,0.014509858372674257,0.012624677408104903,0.009233546237156345,0.01101132370167903,0.016336461591936045,0.016501421340913817,0.014178948103653,0.012041483956288717,0.009956830524996518,0.012162068246577246,0.006528562460765851],\"yaxis\":\"y\",\"type\":\"bar\"},{\"alignmentgroup\":\"True\",\"hovertemplate\":\"requester=LocalVox Media<br>week_id=%{x}<br>prop=%{y}<extra></extra>\",\"legendgroup\":\"LocalVox Media\",\"marker\":{\"color\":\"#EF553B\",\"pattern\":{\"shape\":\"\"}},\"name\":\"LocalVox Media\",\"offsetgroup\":\"LocalVox Media\",\"orientation\":\"v\",\"showlegend\":true,\"textposition\":\"auto\",\"x\":[\"2021-week_33\",\"2021-week_34\",\"2021-week_35\",\"2021-week_36\",\"2021-week_37\",\"2021-week_38\",\"2021-week_39\",\"2021-week_40\",\"2021-week_41\",\"2021-week_42\",\"2021-week_43\",\"2021-week_44\",\"2021-week_45\",\"2021-week_46\",\"2021-week_47\",\"2021-week_48\",\"2021-week_49\",\"2021-week_50\",\"2021-week_51\",\"2022-week_01\",\"2022-week_02\",\"2022-week_03\",\"2022-week_04\",\"2022-week_05\",\"2022-week_06\",\"2022-week_52\"],\"xaxis\":\"x\",\"y\":[0.015254945667316801,0.020875374017117806,0.01551520211507688,0.01535788742182071,0.01764869371873263,0.015961525057503312,0.013665371809100999,0.016034985422740525,0.015716272600834493,0.011268781302170284,0.009396533723115472,0.014546471781243443,0.017243767313019392,0.016445993031358887,0.017914178586307457,0.01825881699527909,0.02218037246285834,0.016870313801721742,0.01663412729402577,0.016127911018421967,0.01504541357553907,0.011175525598938325,0.0119022760492796,0.011001253307338811,0.010146639794287303,0.021468926553672316],\"yaxis\":\"y\",\"type\":\"bar\"},{\"alignmentgroup\":\"True\",\"hovertemplate\":\"requester=Modanisa<br>week_id=%{x}<br>prop=%{y}<extra></extra>\",\"legendgroup\":\"Modanisa\",\"marker\":{\"color\":\"#00cc96\",\"pattern\":{\"shape\":\"\"}},\"name\":\"Modanisa\",\"offsetgroup\":\"Modanisa\",\"orientation\":\"v\",\"showlegend\":true,\"textposition\":\"auto\",\"x\":[\"2021-week_33\",\"2021-week_34\",\"2021-week_35\",\"2021-week_36\",\"2021-week_37\",\"2021-week_38\",\"2021-week_39\",\"2021-week_40\",\"2021-week_41\",\"2021-week_42\",\"2021-week_43\",\"2021-week_44\",\"2021-week_45\",\"2021-week_46\",\"2021-week_47\",\"2021-week_48\",\"2021-week_49\",\"2021-week_50\",\"2021-week_51\",\"2022-week_01\",\"2022-week_02\",\"2022-week_03\",\"2022-week_04\",\"2022-week_05\",\"2022-week_06\",\"2022-week_52\"],\"xaxis\":\"x\",\"y\":[0.009055447199777097,0.008141395866675945,0.007583663814095874,0.007157748436414177,0.006461923290717065,0.005854882553844009,0.02746947835738069,0.024711925586561156,0.026564673157162728,0.022746243739565943,0.03048653163499687,0.01594517099097839,0.006232686980609419,0.006480836236933798,0.007290654075822803,0.006525965009719522,0.006277463904582548,0.005762288253262983,0.004919953143303397,0.004449078901633646,0.003328017749427997,0.0034923517496682267,0.0027841581401823624,0.004108062943879683,0.0025714087149906178,0.004331450094161958],\"yaxis\":\"y\",\"type\":\"bar\"},{\"alignmentgroup\":\"True\",\"hovertemplate\":\"requester=Bizanga<br>week_id=%{x}<br>prop=%{y}<extra></extra>\",\"legendgroup\":\"Bizanga\",\"marker\":{\"color\":\"#ab63fa\",\"pattern\":{\"shape\":\"\"}},\"name\":\"Bizanga\",\"offsetgroup\":\"Bizanga\",\"orientation\":\"v\",\"showlegend\":true,\"textposition\":\"auto\",\"x\":[\"2021-week_33\",\"2021-week_34\",\"2021-week_35\",\"2021-week_36\",\"2021-week_37\",\"2021-week_38\",\"2021-week_39\",\"2021-week_40\",\"2021-week_41\",\"2021-week_42\",\"2021-week_43\",\"2021-week_44\",\"2021-week_45\",\"2021-week_46\",\"2021-week_47\",\"2021-week_48\",\"2021-week_49\",\"2021-week_50\",\"2021-week_51\",\"2022-week_01\",\"2022-week_02\",\"2022-week_03\",\"2022-week_04\",\"2022-week_05\",\"2022-week_06\",\"2022-week_52\"],\"xaxis\":\"x\",\"y\":[0.007174700473669545,0.006888873425648877,0.005705141584916162,0.005281445448227936,0.005350194552529183,0.005436676657140866,0.004786348501664817,0.004442593363876163,0.005980528511821975,0.006886477462437396,0.004941880698823693,0.004126162668718092,0.004224376731301939,0.006202090592334495,0.007082349673656437,0.006248264371008053,0.0076724558833786705,0.006803665648430992,0.006794221007418977,0.007438303788668752,0.006378700686403661,0.004540057274568694,0.003758613489246189,0.0034117810889848213,0.003891861838904719,0.006089139987445072],\"yaxis\":\"y\",\"type\":\"bar\"},{\"alignmentgroup\":\"True\",\"hovertemplate\":\"requester=Glory Medical<br>week_id=%{x}<br>prop=%{y}<extra></extra>\",\"legendgroup\":\"Glory Medical\",\"marker\":{\"color\":\"#FFA15A\",\"pattern\":{\"shape\":\"\"}},\"name\":\"Glory Medical\",\"offsetgroup\":\"Glory Medical\",\"orientation\":\"v\",\"showlegend\":true,\"textposition\":\"auto\",\"x\":[\"2021-week_33\",\"2021-week_34\",\"2021-week_35\",\"2021-week_36\",\"2021-week_37\",\"2021-week_38\",\"2021-week_39\",\"2021-week_40\",\"2021-week_41\",\"2021-week_42\",\"2021-week_43\",\"2021-week_44\",\"2021-week_46\",\"2021-week_47\",\"2021-week_48\",\"2021-week_49\",\"2021-week_50\",\"2021-week_51\",\"2022-week_01\",\"2022-week_02\",\"2022-week_03\",\"2022-week_05\",\"2022-week_52\"],\"xaxis\":\"x\",\"y\":[0.0034132070214544443,0.0007654303806276529,0.00013914979475405275,0.0006254343293954135,0.0002084491384102279,0.00034850491391928625,0.0002081021087680355,0.00020824656393169514,6.954102920723227e-05,6.956037840845854e-05,6.960395350455906e-05,0.0003496748024337366,0.00013937282229965157,0.00020830440216636578,0.00027770063871146905,0.0004184975936388366,0.0003471257983893363,0.00031237797735259666,0.00013903371567605143,0.00013866740622616653,6.984703499336453e-05,0.0001392563709789723,6.277463904582549e-05],\"yaxis\":\"y\",\"type\":\"bar\"},{\"alignmentgroup\":\"True\",\"hovertemplate\":\"requester=Crescendo Networks<br>week_id=%{x}<br>prop=%{y}<extra></extra>\",\"legendgroup\":\"Crescendo Networks\",\"marker\":{\"color\":\"#19d3f3\",\"pattern\":{\"shape\":\"\"}},\"name\":\"Crescendo Networks\",\"offsetgroup\":\"Crescendo Networks\",\"orientation\":\"v\",\"showlegend\":true,\"textposition\":\"auto\",\"x\":[\"2021-week_33\",\"2021-week_34\",\"2021-week_35\",\"2021-week_36\",\"2021-week_37\",\"2021-week_38\",\"2021-week_39\",\"2021-week_40\",\"2021-week_41\",\"2021-week_42\",\"2021-week_43\",\"2021-week_44\",\"2021-week_45\",\"2021-week_46\",\"2021-week_47\",\"2021-week_48\",\"2021-week_49\",\"2021-week_50\",\"2021-week_51\",\"2022-week_01\",\"2022-week_02\",\"2022-week_03\",\"2022-week_04\",\"2022-week_05\",\"2022-week_06\",\"2022-week_52\"],\"xaxis\":\"x\",\"y\":[0.0030649205906937865,0.0057059355646788676,0.00480066791901482,0.007366226546212648,0.006183991106170094,0.006482191398898725,0.0054106548279689234,0.017700957934194086,0.006397774687065368,0.0034084585420144685,0.004106633256768985,0.004685642352612071,0.0033240997229916896,0.010871080139372822,0.003749479238994584,0.003748958622604832,0.004463974332147591,0.003957234101638433,0.006247559547051933,0.0026416405978449773,0.0033973514525410804,0.002584340294754488,0.0030625739542005986,0.003342152903495335,0.002084925985127528,0.005712492153170119],\"yaxis\":\"y\",\"type\":\"bar\"},{\"alignmentgroup\":\"True\",\"hovertemplate\":\"requester=Pole Star<br>week_id=%{x}<br>prop=%{y}<extra></extra>\",\"legendgroup\":\"Pole Star\",\"marker\":{\"color\":\"#FF6692\",\"pattern\":{\"shape\":\"\"}},\"name\":\"Pole Star\",\"offsetgroup\":\"Pole Star\",\"orientation\":\"v\",\"showlegend\":true,\"textposition\":\"auto\",\"x\":[\"2021-week_33\",\"2021-week_34\",\"2021-week_37\",\"2021-week_38\",\"2021-week_39\",\"2021-week_40\",\"2021-week_41\",\"2021-week_42\",\"2021-week_43\",\"2021-week_44\",\"2021-week_45\",\"2021-week_46\",\"2021-week_49\",\"2021-week_50\",\"2021-week_51\",\"2022-week_01\",\"2022-week_02\",\"2022-week_03\",\"2022-week_04\",\"2022-week_05\",\"2022-week_06\",\"2022-week_52\"],\"xaxis\":\"x\",\"y\":[0.0030649205906937865,0.0017396145014264839,6.948304613674263e-05,6.970098278385725e-05,0.00013873473917869035,6.941552131056504e-05,0.0011821974965229485,0.00020868113522537563,0.00020881186051367718,0.0006294146443807259,0.0017313019390581717,0.0011149825783972125,0.0001394991978796122,6.942515967786726e-05,7.809449433814917e-05,0.0003475842891901286,0.0003466685155654163,0.00034923517496682265,0.0015312869771002993,0.001392563709789723,0.0016679407881020224,0.00012554927809165097],\"yaxis\":\"y\",\"type\":\"bar\"},{\"alignmentgroup\":\"True\",\"hovertemplate\":\"requester=aPriori Technologies<br>week_id=%{x}<br>prop=%{y}<extra></extra>\",\"legendgroup\":\"aPriori Technologies\",\"marker\":{\"color\":\"#B6E880\",\"pattern\":{\"shape\":\"\"}},\"name\":\"aPriori Technologies\",\"offsetgroup\":\"aPriori Technologies\",\"orientation\":\"v\",\"showlegend\":true,\"textposition\":\"auto\",\"x\":[\"2021-week_33\",\"2021-week_34\",\"2021-week_35\",\"2021-week_36\",\"2021-week_37\",\"2021-week_38\",\"2021-week_39\",\"2021-week_40\",\"2021-week_41\",\"2021-week_42\",\"2021-week_43\",\"2021-week_44\",\"2021-week_45\",\"2021-week_46\",\"2021-week_47\",\"2021-week_48\",\"2021-week_49\",\"2021-week_50\",\"2021-week_51\",\"2022-week_01\",\"2022-week_02\",\"2022-week_03\",\"2022-week_04\",\"2022-week_05\",\"2022-week_06\",\"2022-week_52\"],\"xaxis\":\"x\",\"y\":[0.002995263304541655,0.0029225523623964927,0.003965769150490503,0.0029881862404447534,0.0027098387993329627,0.002439534397435004,0.0039539400665926745,0.004442593363876163,0.0035465924895688454,0.002295492487479132,0.002853762093686921,0.002307853696062662,0.003670360110803324,0.005156794425087108,0.004999305651992779,0.003262982504859761,0.0034874799469903047,0.00354068314357123,0.004139008199921906,0.0032672923183872087,0.002010677390279415,0.0017461758748341133,0.0020881186051367718,0.002297730121153043,0.002015428452289944,0.0038292529817953547],\"yaxis\":\"y\",\"type\":\"bar\"},{\"alignmentgroup\":\"True\",\"hovertemplate\":\"requester=G-mode<br>week_id=%{x}<br>prop=%{y}<extra></extra>\",\"legendgroup\":\"G-mode\",\"marker\":{\"color\":\"#FF97FF\",\"pattern\":{\"shape\":\"\"}},\"name\":\"G-mode\",\"offsetgroup\":\"G-mode\",\"orientation\":\"v\",\"showlegend\":true,\"textposition\":\"auto\",\"x\":[\"2021-week_33\",\"2021-week_34\",\"2021-week_35\",\"2021-week_36\",\"2021-week_37\",\"2021-week_38\",\"2021-week_39\",\"2021-week_40\",\"2021-week_41\",\"2021-week_42\",\"2021-week_43\",\"2021-week_44\",\"2021-week_45\",\"2021-week_46\",\"2021-week_47\",\"2021-week_48\",\"2021-week_49\",\"2021-week_50\",\"2021-week_51\",\"2022-week_01\",\"2022-week_02\",\"2022-week_03\",\"2022-week_04\",\"2022-week_05\",\"2022-week_06\",\"2022-week_52\"],\"xaxis\":\"x\",\"y\":[0.0026469768737809973,0.0026442140421682556,0.0030612954845891604,0.005628908964558721,0.005350194552529183,0.002997142259705862,0.004786348501664817,0.004928502013050118,0.005563282336578581,0.0025041736227045075,0.0021577225586413306,0.002587593538009651,0.004293628808864266,0.0029965156794425087,0.002846826829606999,0.0036101083032490976,0.00411522633744856,0.002360455429047487,0.004607575165950801,0.0022940563086548487,0.003328017749427997,0.002374799189774394,0.0027841581401823624,0.002297730121153043,0.0014594481895892695,0.004331450094161958],\"yaxis\":\"y\",\"type\":\"bar\"},{\"alignmentgroup\":\"True\",\"hovertemplate\":\"requester=VarVee<br>week_id=%{x}<br>prop=%{y}<extra></extra>\",\"legendgroup\":\"VarVee\",\"marker\":{\"color\":\"#FECB52\",\"pattern\":{\"shape\":\"\"}},\"name\":\"VarVee\",\"offsetgroup\":\"VarVee\",\"orientation\":\"v\",\"showlegend\":true,\"textposition\":\"auto\",\"x\":[\"2021-week_33\",\"2021-week_34\",\"2021-week_35\",\"2021-week_36\",\"2021-week_37\",\"2021-week_38\",\"2021-week_39\",\"2021-week_40\",\"2021-week_41\",\"2021-week_42\",\"2021-week_43\",\"2021-week_44\",\"2021-week_45\",\"2021-week_46\",\"2021-week_47\",\"2021-week_48\",\"2021-week_49\",\"2021-week_50\",\"2021-week_51\",\"2022-week_01\",\"2022-week_02\",\"2022-week_03\",\"2022-week_04\",\"2022-week_05\",\"2022-week_06\",\"2022-week_52\"],\"xaxis\":\"x\",\"y\":[0.00229869044302034,0.004662166863822976,0.004870242816391846,0.006879777623349548,0.0074346859366314615,0.007179201226737297,0.005063817980022198,0.004789670970428988,0.005563282336578581,0.0023650528658875902,0.0029929700006960393,0.003217008182390377,0.003601108033240997,0.0024390243902439024,0.002707957228162755,0.0017356289919466814,0.0004882471925786427,0.0006248264371008053,0.00046856696602889497,0.00027806743135210286,0.0006933370311308326,0.0007683173849270099,0.0010440593025683859,0.0007659100403843476,0.0006949753283758427,0.0003766478342749529],\"yaxis\":\"y\",\"type\":\"bar\"},{\"alignmentgroup\":\"True\",\"hovertemplate\":\"requester=PageBites<br>week_id=%{x}<br>prop=%{y}<extra></extra>\",\"legendgroup\":\"PageBites\",\"marker\":{\"color\":\"#636efa\",\"pattern\":{\"shape\":\"\"}},\"name\":\"PageBites\",\"offsetgroup\":\"PageBites\",\"orientation\":\"v\",\"showlegend\":true,\"textposition\":\"auto\",\"x\":[\"2021-week_33\",\"2021-week_34\",\"2021-week_35\",\"2021-week_36\",\"2021-week_37\",\"2021-week_38\",\"2021-week_39\",\"2021-week_40\",\"2021-week_41\",\"2021-week_42\",\"2021-week_43\",\"2021-week_44\",\"2022-week_02\",\"2022-week_03\",\"2022-week_04\",\"2022-week_05\",\"2022-week_06\"],\"xaxis\":\"x\",\"y\":[0.0016021175814990248,0.0006958458005705936,0.001113198358032422,0.0008339124391938846,0.0012506948304613673,0.0007667108106224297,0.00048557158712541623,6.941552131056504e-05,0.0004867872044506259,0.0005564830272676684,0.00027841581401823624,0.00020980488146024197,0.00013866740622616653,0.0002095411049800936,0.00020881186051367718,0.00020888455646845844,0.00027799013135033706],\"yaxis\":\"y\",\"type\":\"bar\"},{\"alignmentgroup\":\"True\",\"hovertemplate\":\"requester=Mission Street Manufacturing<br>week_id=%{x}<br>prop=%{y}<extra></extra>\",\"legendgroup\":\"Mission Street Manufacturing\",\"marker\":{\"color\":\"#EF553B\",\"pattern\":{\"shape\":\"\"}},\"name\":\"Mission Street Manufacturing\",\"offsetgroup\":\"Mission Street Manufacturing\",\"orientation\":\"v\",\"showlegend\":true,\"textposition\":\"auto\",\"x\":[\"2021-week_33\",\"2021-week_34\",\"2021-week_35\",\"2021-week_36\",\"2021-week_37\",\"2021-week_38\",\"2021-week_39\",\"2021-week_40\",\"2021-week_41\",\"2021-week_42\",\"2021-week_43\",\"2021-week_44\",\"2021-week_45\",\"2021-week_46\",\"2021-week_47\",\"2021-week_48\",\"2021-week_49\",\"2021-week_50\",\"2021-week_51\",\"2022-week_01\",\"2022-week_02\",\"2022-week_03\",\"2022-week_04\",\"2022-week_05\",\"2022-week_06\",\"2022-week_52\"],\"xaxis\":\"x\",\"y\":[0.0009752020061298412,0.0006958458005705936,0.0010436234606553956,0.00034746351633078526,0.0003474152306837132,0.0006273088450547153,0.000416204217536071,0.0003470776065528252,0.0004172461752433936,0.00041736227045075126,0.00041762372102735435,0.0009091544863277152,0.0006232686980609418,0.0005574912891986063,0.0005554784057769754,0.00041655095806720355,0.0009067447862174793,0.00041655095806720355,0.0003904724716907458,0.0003475842891901286,0.00020800110933924982,0.0004889292449535517,6.960395350455906e-05,0.00020888455646845844,0.0005559802627006741,0.00025109855618330194],\"yaxis\":\"y\",\"type\":\"bar\"},{\"alignmentgroup\":\"True\",\"hovertemplate\":\"requester=Allthetopbananas.com<br>week_id=%{x}<br>prop=%{y}<extra></extra>\",\"legendgroup\":\"Allthetopbananas.com\",\"marker\":{\"color\":\"#00cc96\",\"pattern\":{\"shape\":\"\"}},\"name\":\"Allthetopbananas.com\",\"offsetgroup\":\"Allthetopbananas.com\",\"orientation\":\"v\",\"showlegend\":true,\"textposition\":\"auto\",\"x\":[\"2021-week_33\",\"2021-week_34\",\"2021-week_35\",\"2021-week_36\",\"2021-week_37\",\"2021-week_38\",\"2021-week_39\",\"2021-week_40\",\"2021-week_41\",\"2021-week_42\",\"2021-week_43\",\"2021-week_44\",\"2021-week_45\",\"2021-week_46\",\"2021-week_47\",\"2021-week_48\",\"2021-week_49\",\"2021-week_50\",\"2021-week_51\",\"2022-week_01\",\"2022-week_02\",\"2022-week_03\",\"2022-week_04\",\"2022-week_05\",\"2022-week_06\",\"2022-week_52\"],\"xaxis\":\"x\",\"y\":[0.0004876010030649206,0.00020875374017117806,0.0004870242816391846,0.0009728978457261987,0.000764313507504169,0.0009758137589740016,0.000416204217536071,0.0009718172983479105,0.0006954102920723226,0.0002782415136338342,0.00020881186051367718,0.0006993496048674732,0.00110803324099723,0.0007665505226480836,0.00034717400361060965,0.0004859761177450708,0.0005579967915184488,0.0005554012774229381,0.00046856696602889497,0.0004171011470281543,0.0004853359217915829,0.0005587762799469162,0.0005568316280364725,0.00034814092744743074,0.00027799013135033706,0.0008788449466415569],\"yaxis\":\"y\",\"type\":\"bar\"},{\"alignmentgroup\":\"True\",\"hovertemplate\":\"requester=OpenDesks, Inc.<br>week_id=%{x}<br>prop=%{y}<extra></extra>\",\"legendgroup\":\"OpenDesks, Inc.\",\"marker\":{\"color\":\"#ab63fa\",\"pattern\":{\"shape\":\"\"}},\"name\":\"OpenDesks, Inc.\",\"offsetgroup\":\"OpenDesks, Inc.\",\"orientation\":\"v\",\"showlegend\":true,\"textposition\":\"auto\",\"x\":[\"2021-week_33\",\"2021-week_34\",\"2021-week_35\",\"2021-week_36\",\"2021-week_37\",\"2021-week_38\",\"2021-week_39\",\"2021-week_40\",\"2021-week_41\",\"2021-week_42\",\"2021-week_43\",\"2021-week_44\",\"2021-week_45\",\"2021-week_46\",\"2021-week_47\",\"2021-week_48\",\"2021-week_49\",\"2021-week_50\",\"2021-week_51\",\"2022-week_01\",\"2022-week_02\",\"2022-week_03\",\"2022-week_04\",\"2022-week_05\",\"2022-week_06\",\"2022-week_52\"],\"xaxis\":\"x\",\"y\":[0.00041794371691278906,0.0004175074803423561,0.0004870242816391846,0.001320361362056984,0.0009032795997776543,0.0012546176901094305,0.00201165371809101,0.0023601277245592113,0.0018080667593880389,0.0019476905954368391,0.001113663256072945,0.0018882439331421778,0.001592797783933518,0.0029965156794425087,0.002569087626718511,0.0014579283532352124,0.0015344911766757342,0.0008331019161344071,0.002420929324482624,0.00145985401459854,0.0016640088747139985,0.001187399594887197,0.0009048513955592678,0.0008355382258738338,0.0009034679268885954,0.0018832391713747645],\"yaxis\":\"y\",\"type\":\"bar\"},{\"alignmentgroup\":\"True\",\"hovertemplate\":\"requester=Joules Clothing<br>week_id=%{x}<br>prop=%{y}<extra></extra>\",\"legendgroup\":\"Joules Clothing\",\"marker\":{\"color\":\"#FFA15A\",\"pattern\":{\"shape\":\"\"}},\"name\":\"Joules Clothing\",\"offsetgroup\":\"Joules Clothing\",\"orientation\":\"v\",\"showlegend\":true,\"textposition\":\"auto\",\"x\":[\"2021-week_33\",\"2021-week_34\",\"2021-week_35\",\"2021-week_36\",\"2021-week_38\",\"2021-week_41\",\"2021-week_42\",\"2021-week_44\",\"2021-week_45\",\"2021-week_46\",\"2021-week_47\",\"2022-week_02\"],\"xaxis\":\"x\",\"y\":[0.00027862914460852607,6.958458005705935e-05,0.00034787448688513185,0.00020847810979847116,6.970098278385725e-05,6.954102920723227e-05,0.0001391207568169171,0.00020980488146024197,6.925207756232688e-05,0.00013937282229965157,6.943480072212192e-05,6.933370311308327e-05],\"yaxis\":\"y\",\"type\":\"bar\"},{\"alignmentgroup\":\"True\",\"hovertemplate\":\"requester=Metranome<br>week_id=%{x}<br>prop=%{y}<extra></extra>\",\"legendgroup\":\"Metranome\",\"marker\":{\"color\":\"#19d3f3\",\"pattern\":{\"shape\":\"\"}},\"name\":\"Metranome\",\"offsetgroup\":\"Metranome\",\"orientation\":\"v\",\"showlegend\":true,\"textposition\":\"auto\",\"x\":[\"2021-week_33\",\"2021-week_34\",\"2021-week_35\",\"2021-week_36\",\"2021-week_37\",\"2021-week_38\",\"2021-week_39\",\"2021-week_40\",\"2021-week_44\",\"2021-week_46\",\"2021-week_49\",\"2021-week_50\",\"2021-week_51\",\"2022-week_04\",\"2022-week_05\",\"2022-week_06\",\"2022-week_52\"],\"xaxis\":\"x\",\"y\":[0.00027862914460852607,0.00020875374017117806,0.0002782995895081055,0.00034746351633078526,6.948304613674263e-05,6.970098278385725e-05,0.00013873473917869035,0.00013883104262113008,6.993496048674733e-05,6.968641114982578e-05,0.0001394991978796122,0.00013885031935573453,7.809449433814917e-05,0.00013920790700911812,6.962818548948615e-05,6.949753283758427e-05,6.277463904582549e-05],\"yaxis\":\"y\",\"type\":\"bar\"},{\"alignmentgroup\":\"True\",\"hovertemplate\":\"requester=FlagTap<br>week_id=%{x}<br>prop=%{y}<extra></extra>\",\"legendgroup\":\"FlagTap\",\"marker\":{\"color\":\"#FF6692\",\"pattern\":{\"shape\":\"\"}},\"name\":\"FlagTap\",\"offsetgroup\":\"FlagTap\",\"orientation\":\"v\",\"showlegend\":true,\"textposition\":\"auto\",\"x\":[\"2021-week_33\"],\"xaxis\":\"x\",\"y\":[0.00013931457230426304],\"yaxis\":\"y\",\"type\":\"bar\"},{\"alignmentgroup\":\"True\",\"hovertemplate\":\"requester=Cuiker<br>week_id=%{x}<br>prop=%{y}<extra></extra>\",\"legendgroup\":\"Cuiker\",\"marker\":{\"color\":\"#B6E880\",\"pattern\":{\"shape\":\"\"}},\"name\":\"Cuiker\",\"offsetgroup\":\"Cuiker\",\"orientation\":\"v\",\"showlegend\":true,\"textposition\":\"auto\",\"x\":[\"2021-week_33\",\"2021-week_34\",\"2021-week_35\",\"2021-week_36\",\"2021-week_41\",\"2021-week_42\",\"2021-week_43\",\"2021-week_45\",\"2021-week_46\",\"2021-week_47\",\"2021-week_49\",\"2021-week_50\",\"2021-week_51\",\"2022-week_01\",\"2022-week_02\",\"2022-week_03\",\"2022-week_06\",\"2022-week_52\"],\"xaxis\":\"x\",\"y\":[6.965728615213152e-05,6.958458005705935e-05,6.957489737702637e-05,6.949270326615705e-05,6.954102920723227e-05,6.956037840845854e-05,6.960395350455906e-05,6.925207756232688e-05,6.968641114982578e-05,0.00013886960144424384,0.0002092487968194183,0.00013885031935573453,7.809449433814917e-05,6.951685783802571e-05,6.933370311308327e-05,6.984703499336453e-05,6.949753283758427e-05,6.277463904582549e-05],\"yaxis\":\"y\",\"type\":\"bar\"},{\"alignmentgroup\":\"True\",\"hovertemplate\":\"requester=Cue<br>week_id=%{x}<br>prop=%{y}<extra></extra>\",\"legendgroup\":\"Cue\",\"marker\":{\"color\":\"#FF97FF\",\"pattern\":{\"shape\":\"\"}},\"name\":\"Cue\",\"offsetgroup\":\"Cue\",\"orientation\":\"v\",\"showlegend\":true,\"textposition\":\"auto\",\"x\":[\"2021-week_34\",\"2021-week_38\",\"2021-week_40\"],\"xaxis\":\"x\",\"y\":[6.958458005705935e-05,0.0001394019655677145,6.941552131056504e-05],\"yaxis\":\"y\",\"type\":\"bar\"},{\"alignmentgroup\":\"True\",\"hovertemplate\":\"requester=Doctorfun Entertainment, Ltd<br>week_id=%{x}<br>prop=%{y}<extra></extra>\",\"legendgroup\":\"Doctorfun Entertainment, Ltd\",\"marker\":{\"color\":\"#FECB52\",\"pattern\":{\"shape\":\"\"}},\"name\":\"Doctorfun Entertainment, Ltd\",\"offsetgroup\":\"Doctorfun Entertainment, Ltd\",\"orientation\":\"v\",\"showlegend\":true,\"textposition\":\"auto\",\"x\":[\"2021-week_35\",\"2021-week_36\",\"2021-week_37\",\"2021-week_38\",\"2021-week_39\",\"2021-week_40\",\"2021-week_41\",\"2021-week_42\",\"2021-week_43\",\"2021-week_44\",\"2021-week_45\",\"2021-week_46\",\"2021-week_48\",\"2021-week_49\",\"2021-week_51\",\"2022-week_01\",\"2022-week_02\",\"2022-week_03\",\"2022-week_04\",\"2022-week_05\",\"2022-week_06\",\"2022-week_52\"],\"xaxis\":\"x\",\"y\":[0.0002782995895081055,0.00048644892286309936,0.0009032795997776543,0.0010455147417578587,0.0012486126526082132,0.0009718172983479105,0.0012517385257301808,0.0017390094602114635,0.0009744553490638268,0.0009091544863277152,6.925207756232688e-05,6.968641114982578e-05,0.00013885031935573453,0.0002092487968194183,7.809449433814917e-05,6.951685783802571e-05,0.0004853359217915829,0.0007683173849270099,0.0008352474420547087,0.0007659100403843476,0.0008339703940510112,6.277463904582549e-05],\"yaxis\":\"y\",\"type\":\"bar\"},{\"alignmentgroup\":\"True\",\"hovertemplate\":\"requester=Altammune<br>week_id=%{x}<br>prop=%{y}<extra></extra>\",\"legendgroup\":\"Altammune\",\"marker\":{\"color\":\"#636efa\",\"pattern\":{\"shape\":\"\"}},\"name\":\"Altammune\",\"offsetgroup\":\"Altammune\",\"orientation\":\"v\",\"showlegend\":true,\"textposition\":\"auto\",\"x\":[\"2021-week_35\",\"2021-week_38\",\"2021-week_40\",\"2021-week_42\"],\"xaxis\":\"x\",\"y\":[6.957489737702637e-05,6.970098278385725e-05,0.00013883104262113008,6.956037840845854e-05],\"yaxis\":\"y\",\"type\":\"bar\"},{\"alignmentgroup\":\"True\",\"hovertemplate\":\"requester=Earth Networks<br>week_id=%{x}<br>prop=%{y}<extra></extra>\",\"legendgroup\":\"Earth Networks\",\"marker\":{\"color\":\"#EF553B\",\"pattern\":{\"shape\":\"\"}},\"name\":\"Earth Networks\",\"offsetgroup\":\"Earth Networks\",\"orientation\":\"v\",\"showlegend\":true,\"textposition\":\"auto\",\"x\":[\"2021-week_35\",\"2021-week_36\",\"2021-week_41\"],\"xaxis\":\"x\",\"y\":[6.957489737702637e-05,0.0001389854065323141,6.954102920723227e-05],\"yaxis\":\"y\",\"type\":\"bar\"},{\"alignmentgroup\":\"True\",\"hovertemplate\":\"requester=Derceto<br>week_id=%{x}<br>prop=%{y}<extra></extra>\",\"legendgroup\":\"Derceto\",\"marker\":{\"color\":\"#00cc96\",\"pattern\":{\"shape\":\"\"}},\"name\":\"Derceto\",\"offsetgroup\":\"Derceto\",\"orientation\":\"v\",\"showlegend\":true,\"textposition\":\"auto\",\"x\":[\"2021-week_37\"],\"xaxis\":\"x\",\"y\":[6.948304613674263e-05],\"yaxis\":\"y\",\"type\":\"bar\"},{\"alignmentgroup\":\"True\",\"hovertemplate\":\"requester=Marketo Japan<br>week_id=%{x}<br>prop=%{y}<extra></extra>\",\"legendgroup\":\"Marketo Japan\",\"marker\":{\"color\":\"#ab63fa\",\"pattern\":{\"shape\":\"\"}},\"name\":\"Marketo Japan\",\"offsetgroup\":\"Marketo Japan\",\"orientation\":\"v\",\"showlegend\":true,\"textposition\":\"auto\",\"x\":[\"2021-week_37\"],\"xaxis\":\"x\",\"y\":[6.948304613674263e-05],\"yaxis\":\"y\",\"type\":\"bar\"},{\"alignmentgroup\":\"True\",\"hovertemplate\":\"requester=Jun Group<br>week_id=%{x}<br>prop=%{y}<extra></extra>\",\"legendgroup\":\"Jun Group\",\"marker\":{\"color\":\"#FFA15A\",\"pattern\":{\"shape\":\"\"}},\"name\":\"Jun Group\",\"offsetgroup\":\"Jun Group\",\"orientation\":\"v\",\"showlegend\":true,\"textposition\":\"auto\",\"x\":[\"2021-week_44\",\"2021-week_51\",\"2022-week_04\"],\"xaxis\":\"x\",\"y\":[6.993496048674733e-05,7.809449433814917e-05,0.00013920790700911812],\"yaxis\":\"y\",\"type\":\"bar\"},{\"alignmentgroup\":\"True\",\"hovertemplate\":\"requester=PureSafe water systems<br>week_id=%{x}<br>prop=%{y}<extra></extra>\",\"legendgroup\":\"PureSafe water systems\",\"marker\":{\"color\":\"#19d3f3\",\"pattern\":{\"shape\":\"\"}},\"name\":\"PureSafe water systems\",\"offsetgroup\":\"PureSafe water systems\",\"orientation\":\"v\",\"showlegend\":true,\"textposition\":\"auto\",\"x\":[\"2022-week_05\"],\"xaxis\":\"x\",\"y\":[6.962818548948615e-05],\"yaxis\":\"y\",\"type\":\"bar\"}],                        {\"template\":{\"data\":{\"bar\":[{\"error_x\":{\"color\":\"#2a3f5f\"},\"error_y\":{\"color\":\"#2a3f5f\"},\"marker\":{\"line\":{\"color\":\"#E5ECF6\",\"width\":0.5},\"pattern\":{\"fillmode\":\"overlay\",\"size\":10,\"solidity\":0.2}},\"type\":\"bar\"}],\"barpolar\":[{\"marker\":{\"line\":{\"color\":\"#E5ECF6\",\"width\":0.5},\"pattern\":{\"fillmode\":\"overlay\",\"size\":10,\"solidity\":0.2}},\"type\":\"barpolar\"}],\"carpet\":[{\"aaxis\":{\"endlinecolor\":\"#2a3f5f\",\"gridcolor\":\"white\",\"linecolor\":\"white\",\"minorgridcolor\":\"white\",\"startlinecolor\":\"#2a3f5f\"},\"baxis\":{\"endlinecolor\":\"#2a3f5f\",\"gridcolor\":\"white\",\"linecolor\":\"white\",\"minorgridcolor\":\"white\",\"startlinecolor\":\"#2a3f5f\"},\"type\":\"carpet\"}],\"choropleth\":[{\"colorbar\":{\"outlinewidth\":0,\"ticks\":\"\"},\"type\":\"choropleth\"}],\"contour\":[{\"colorbar\":{\"outlinewidth\":0,\"ticks\":\"\"},\"colorscale\":[[0.0,\"#0d0887\"],[0.1111111111111111,\"#46039f\"],[0.2222222222222222,\"#7201a8\"],[0.3333333333333333,\"#9c179e\"],[0.4444444444444444,\"#bd3786\"],[0.5555555555555556,\"#d8576b\"],[0.6666666666666666,\"#ed7953\"],[0.7777777777777778,\"#fb9f3a\"],[0.8888888888888888,\"#fdca26\"],[1.0,\"#f0f921\"]],\"type\":\"contour\"}],\"contourcarpet\":[{\"colorbar\":{\"outlinewidth\":0,\"ticks\":\"\"},\"type\":\"contourcarpet\"}],\"heatmap\":[{\"colorbar\":{\"outlinewidth\":0,\"ticks\":\"\"},\"colorscale\":[[0.0,\"#0d0887\"],[0.1111111111111111,\"#46039f\"],[0.2222222222222222,\"#7201a8\"],[0.3333333333333333,\"#9c179e\"],[0.4444444444444444,\"#bd3786\"],[0.5555555555555556,\"#d8576b\"],[0.6666666666666666,\"#ed7953\"],[0.7777777777777778,\"#fb9f3a\"],[0.8888888888888888,\"#fdca26\"],[1.0,\"#f0f921\"]],\"type\":\"heatmap\"}],\"heatmapgl\":[{\"colorbar\":{\"outlinewidth\":0,\"ticks\":\"\"},\"colorscale\":[[0.0,\"#0d0887\"],[0.1111111111111111,\"#46039f\"],[0.2222222222222222,\"#7201a8\"],[0.3333333333333333,\"#9c179e\"],[0.4444444444444444,\"#bd3786\"],[0.5555555555555556,\"#d8576b\"],[0.6666666666666666,\"#ed7953\"],[0.7777777777777778,\"#fb9f3a\"],[0.8888888888888888,\"#fdca26\"],[1.0,\"#f0f921\"]],\"type\":\"heatmapgl\"}],\"histogram\":[{\"marker\":{\"pattern\":{\"fillmode\":\"overlay\",\"size\":10,\"solidity\":0.2}},\"type\":\"histogram\"}],\"histogram2d\":[{\"colorbar\":{\"outlinewidth\":0,\"ticks\":\"\"},\"colorscale\":[[0.0,\"#0d0887\"],[0.1111111111111111,\"#46039f\"],[0.2222222222222222,\"#7201a8\"],[0.3333333333333333,\"#9c179e\"],[0.4444444444444444,\"#bd3786\"],[0.5555555555555556,\"#d8576b\"],[0.6666666666666666,\"#ed7953\"],[0.7777777777777778,\"#fb9f3a\"],[0.8888888888888888,\"#fdca26\"],[1.0,\"#f0f921\"]],\"type\":\"histogram2d\"}],\"histogram2dcontour\":[{\"colorbar\":{\"outlinewidth\":0,\"ticks\":\"\"},\"colorscale\":[[0.0,\"#0d0887\"],[0.1111111111111111,\"#46039f\"],[0.2222222222222222,\"#7201a8\"],[0.3333333333333333,\"#9c179e\"],[0.4444444444444444,\"#bd3786\"],[0.5555555555555556,\"#d8576b\"],[0.6666666666666666,\"#ed7953\"],[0.7777777777777778,\"#fb9f3a\"],[0.8888888888888888,\"#fdca26\"],[1.0,\"#f0f921\"]],\"type\":\"histogram2dcontour\"}],\"mesh3d\":[{\"colorbar\":{\"outlinewidth\":0,\"ticks\":\"\"},\"type\":\"mesh3d\"}],\"parcoords\":[{\"line\":{\"colorbar\":{\"outlinewidth\":0,\"ticks\":\"\"}},\"type\":\"parcoords\"}],\"pie\":[{\"automargin\":true,\"type\":\"pie\"}],\"scatter\":[{\"marker\":{\"colorbar\":{\"outlinewidth\":0,\"ticks\":\"\"}},\"type\":\"scatter\"}],\"scatter3d\":[{\"line\":{\"colorbar\":{\"outlinewidth\":0,\"ticks\":\"\"}},\"marker\":{\"colorbar\":{\"outlinewidth\":0,\"ticks\":\"\"}},\"type\":\"scatter3d\"}],\"scattercarpet\":[{\"marker\":{\"colorbar\":{\"outlinewidth\":0,\"ticks\":\"\"}},\"type\":\"scattercarpet\"}],\"scattergeo\":[{\"marker\":{\"colorbar\":{\"outlinewidth\":0,\"ticks\":\"\"}},\"type\":\"scattergeo\"}],\"scattergl\":[{\"marker\":{\"colorbar\":{\"outlinewidth\":0,\"ticks\":\"\"}},\"type\":\"scattergl\"}],\"scattermapbox\":[{\"marker\":{\"colorbar\":{\"outlinewidth\":0,\"ticks\":\"\"}},\"type\":\"scattermapbox\"}],\"scatterpolar\":[{\"marker\":{\"colorbar\":{\"outlinewidth\":0,\"ticks\":\"\"}},\"type\":\"scatterpolar\"}],\"scatterpolargl\":[{\"marker\":{\"colorbar\":{\"outlinewidth\":0,\"ticks\":\"\"}},\"type\":\"scatterpolargl\"}],\"scatterternary\":[{\"marker\":{\"colorbar\":{\"outlinewidth\":0,\"ticks\":\"\"}},\"type\":\"scatterternary\"}],\"surface\":[{\"colorbar\":{\"outlinewidth\":0,\"ticks\":\"\"},\"colorscale\":[[0.0,\"#0d0887\"],[0.1111111111111111,\"#46039f\"],[0.2222222222222222,\"#7201a8\"],[0.3333333333333333,\"#9c179e\"],[0.4444444444444444,\"#bd3786\"],[0.5555555555555556,\"#d8576b\"],[0.6666666666666666,\"#ed7953\"],[0.7777777777777778,\"#fb9f3a\"],[0.8888888888888888,\"#fdca26\"],[1.0,\"#f0f921\"]],\"type\":\"surface\"}],\"table\":[{\"cells\":{\"fill\":{\"color\":\"#EBF0F8\"},\"line\":{\"color\":\"white\"}},\"header\":{\"fill\":{\"color\":\"#C8D4E3\"},\"line\":{\"color\":\"white\"}},\"type\":\"table\"}]},\"layout\":{\"annotationdefaults\":{\"arrowcolor\":\"#2a3f5f\",\"arrowhead\":0,\"arrowwidth\":1},\"autotypenumbers\":\"strict\",\"coloraxis\":{\"colorbar\":{\"outlinewidth\":0,\"ticks\":\"\"}},\"colorscale\":{\"diverging\":[[0,\"#8e0152\"],[0.1,\"#c51b7d\"],[0.2,\"#de77ae\"],[0.3,\"#f1b6da\"],[0.4,\"#fde0ef\"],[0.5,\"#f7f7f7\"],[0.6,\"#e6f5d0\"],[0.7,\"#b8e186\"],[0.8,\"#7fbc41\"],[0.9,\"#4d9221\"],[1,\"#276419\"]],\"sequential\":[[0.0,\"#0d0887\"],[0.1111111111111111,\"#46039f\"],[0.2222222222222222,\"#7201a8\"],[0.3333333333333333,\"#9c179e\"],[0.4444444444444444,\"#bd3786\"],[0.5555555555555556,\"#d8576b\"],[0.6666666666666666,\"#ed7953\"],[0.7777777777777778,\"#fb9f3a\"],[0.8888888888888888,\"#fdca26\"],[1.0,\"#f0f921\"]],\"sequentialminus\":[[0.0,\"#0d0887\"],[0.1111111111111111,\"#46039f\"],[0.2222222222222222,\"#7201a8\"],[0.3333333333333333,\"#9c179e\"],[0.4444444444444444,\"#bd3786\"],[0.5555555555555556,\"#d8576b\"],[0.6666666666666666,\"#ed7953\"],[0.7777777777777778,\"#fb9f3a\"],[0.8888888888888888,\"#fdca26\"],[1.0,\"#f0f921\"]]},\"colorway\":[\"#636efa\",\"#EF553B\",\"#00cc96\",\"#ab63fa\",\"#FFA15A\",\"#19d3f3\",\"#FF6692\",\"#B6E880\",\"#FF97FF\",\"#FECB52\"],\"font\":{\"color\":\"#2a3f5f\"},\"geo\":{\"bgcolor\":\"white\",\"lakecolor\":\"white\",\"landcolor\":\"#E5ECF6\",\"showlakes\":true,\"showland\":true,\"subunitcolor\":\"white\"},\"hoverlabel\":{\"align\":\"left\"},\"hovermode\":\"closest\",\"mapbox\":{\"style\":\"light\"},\"paper_bgcolor\":\"white\",\"plot_bgcolor\":\"#E5ECF6\",\"polar\":{\"angularaxis\":{\"gridcolor\":\"white\",\"linecolor\":\"white\",\"ticks\":\"\"},\"bgcolor\":\"#E5ECF6\",\"radialaxis\":{\"gridcolor\":\"white\",\"linecolor\":\"white\",\"ticks\":\"\"}},\"scene\":{\"xaxis\":{\"backgroundcolor\":\"#E5ECF6\",\"gridcolor\":\"white\",\"gridwidth\":2,\"linecolor\":\"white\",\"showbackground\":true,\"ticks\":\"\",\"zerolinecolor\":\"white\"},\"yaxis\":{\"backgroundcolor\":\"#E5ECF6\",\"gridcolor\":\"white\",\"gridwidth\":2,\"linecolor\":\"white\",\"showbackground\":true,\"ticks\":\"\",\"zerolinecolor\":\"white\"},\"zaxis\":{\"backgroundcolor\":\"#E5ECF6\",\"gridcolor\":\"white\",\"gridwidth\":2,\"linecolor\":\"white\",\"showbackground\":true,\"ticks\":\"\",\"zerolinecolor\":\"white\"}},\"shapedefaults\":{\"line\":{\"color\":\"#2a3f5f\"}},\"ternary\":{\"aaxis\":{\"gridcolor\":\"white\",\"linecolor\":\"white\",\"ticks\":\"\"},\"baxis\":{\"gridcolor\":\"white\",\"linecolor\":\"white\",\"ticks\":\"\"},\"bgcolor\":\"#E5ECF6\",\"caxis\":{\"gridcolor\":\"white\",\"linecolor\":\"white\",\"ticks\":\"\"}},\"title\":{\"x\":0.05},\"xaxis\":{\"automargin\":true,\"gridcolor\":\"white\",\"linecolor\":\"white\",\"ticks\":\"\",\"title\":{\"standoff\":15},\"zerolinecolor\":\"white\",\"zerolinewidth\":2},\"yaxis\":{\"automargin\":true,\"gridcolor\":\"white\",\"linecolor\":\"white\",\"ticks\":\"\",\"title\":{\"standoff\":15},\"zerolinecolor\":\"white\",\"zerolinewidth\":2}}},\"xaxis\":{\"anchor\":\"y\",\"domain\":[0.0,1.0],\"title\":{\"text\":\"week_id\"}},\"yaxis\":{\"anchor\":\"x\",\"domain\":[0.0,1.0],\"title\":{\"text\":\"prop\"}},\"legend\":{\"title\":{\"text\":\"requester\"},\"tracegroupgap\":0},\"margin\":{\"t\":60},\"barmode\":\"relative\",\"title\":{\"text\":\"Weekly requests count by requester\",\"x\":0.5}},                        {\"responsive\": true}                    ).then(function(){\n",
       "                            \n",
       "var gd = document.getElementById('7787cde6-1aaa-4e7e-8e5d-a8ed3947be0e');\n",
       "var x = new MutationObserver(function (mutations, observer) {{\n",
       "        var display = window.getComputedStyle(gd).display;\n",
       "        if (!display || display === 'none') {{\n",
       "            console.log([gd, 'removed!']);\n",
       "            Plotly.purge(gd);\n",
       "            observer.disconnect();\n",
       "        }}\n",
       "}});\n",
       "\n",
       "// Listen for the removal of the full notebook cells\n",
       "var notebookContainer = gd.closest('#notebook-container');\n",
       "if (notebookContainer) {{\n",
       "    x.observe(notebookContainer, {childList: true});\n",
       "}}\n",
       "\n",
       "// Listen for the clearing of the current output cell\n",
       "var outputEl = gd.closest('.output');\n",
       "if (outputEl) {{\n",
       "    x.observe(outputEl, {childList: true});\n",
       "}}\n",
       "\n",
       "                        })                };                });            </script>        </div>"
      ]
     },
     "metadata": {},
     "output_type": "display_data"
    }
   ],
   "source": [
    "req_weekly = ad_recs_annotated.groupby(['week_id']).requester.value_counts(normalize=True).to_frame()\n",
    "req_weekly.rename(columns={'requester':'prop'},inplace=True)\n",
    "req_weekly=req_weekly.reset_index()\n",
    "req_weekly\n",
    "\n",
    "fig = px.bar(req_weekly , x='week_id',y='prop', color='requester')\n",
    "fig.update_layout(title_text='Weekly requests count by requester', title_x=0.5)"
   ]
  },
  {
   "cell_type": "markdown",
   "metadata": {},
   "source": [
    "## Appendix"
   ]
  },
  {
   "cell_type": "markdown",
   "metadata": {},
   "source": [
    "Code to create weekly files:"
   ]
  },
  {
   "cell_type": "code",
   "execution_count": null,
   "metadata": {},
   "outputs": [],
   "source": [
    "# for l in ad_recs_annotated.region.unique():\n",
    "#     for w in ad_recs_annotated.week_id.unique():\n",
    "#         w_id = w.split('_')[1]\n",
    "#         y = w.split('-')[0]\n",
    "#         query = f'week_id == \"{w}\" and region == \"{l}\"'\n",
    "#         sample_f_name = f'{y}_{w_id}_{l}__Sample.csv'\n",
    "#         ad_recs_annotated.query(query)[['week_id','ad_id','requester','region','recommendation_type', 'rec_provider']].to_csv(f'data/weekly/{sample_f_name}', index=False)\n",
    "#         for s in ad_recs_annotated.recommendation_type.unique():\n",
    "#             ann_f_name = f'{y}_{w_id}_{l}_{s}_annotation_result.csv'\n",
    "#             query = f'week_id == \"{w}\" and region == \"{l}\" and recommendation_type == \"{s}\"'\n",
    "#             sss = ad_recs_annotated.query(query)\n",
    "#             if sss.empty:\n",
    "#                 continue            \n",
    "#             sss[['region','ad_id','is_success','is_sever']].drop_duplicates(subset=['ad_id']).to_csv(f'data/weekly/{ann_f_name}', index=False)"
   ]
  },
  {
   "cell_type": "code",
   "execution_count": null,
   "metadata": {},
   "outputs": [],
   "source": []
  }
 ],
 "metadata": {
  "kernelspec": {
   "display_name": "Python 3",
   "language": "python",
   "name": "python3"
  },
  "language_info": {
   "codemirror_mode": {
    "name": "ipython",
    "version": 3
   },
   "file_extension": ".py",
   "mimetype": "text/x-python",
   "name": "python",
   "nbconvert_exporter": "python",
   "pygments_lexer": "ipython3",
   "version": "3.8.5"
  }
 },
 "nbformat": 4,
 "nbformat_minor": 5
}
