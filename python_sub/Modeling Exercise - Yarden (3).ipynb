{
 "cells": [
  {
   "cell_type": "markdown",
   "metadata": {},
   "source": [
    "# Modeling exercise"
   ]
  },
  {
   "cell_type": "code",
   "execution_count": 6,
   "metadata": {},
   "outputs": [],
   "source": [
    "import pandas as pd\n",
    "import numpy as np\n",
    "import plotly_express as px\n",
    "import ipywidgets as widgets"
   ]
  },
  {
   "cell_type": "code",
   "execution_count": 7,
   "metadata": {},
   "outputs": [],
   "source": [
    "import seaborn as sns"
   ]
  },
  {
   "cell_type": "code",
   "execution_count": 8,
   "metadata": {},
   "outputs": [],
   "source": [
    "from sklearn.linear_model import LogisticRegression\n",
    "from sklearn.model_selection import train_test_split\n",
    "from sklearn.metrics import accuracy_score"
   ]
  },
  {
   "cell_type": "code",
   "execution_count": 9,
   "metadata": {},
   "outputs": [],
   "source": [
    "from sklearn.model_selection import KFold\n",
    "from sklearn.svm import SVC"
   ]
  },
  {
   "cell_type": "code",
   "execution_count": 14,
   "metadata": {},
   "outputs": [],
   "source": [
    "import matplotlib.pyplot as plt\n",
    "from mpl_toolkits.mplot3d import Axes3D\n",
    "from sklearn import datasets\n",
    "from sklearn.decomposition import PCA\n",
    "from sklearn.svm import SVC"
   ]
  },
  {
   "cell_type": "code",
   "execution_count": 15,
   "metadata": {},
   "outputs": [],
   "source": [
    "from sklearn.datasets import make_moons\n",
    "from sklearn.datasets import make_circles"
   ]
  },
  {
   "cell_type": "markdown",
   "metadata": {
    "tags": []
   },
   "source": [
    "## Fitting and Overfiting "
   ]
  },
  {
   "cell_type": "markdown",
   "metadata": {},
   "source": [
    "The goal of the following exercise is to:\n",
    "* Observe overfitting due to insuffient data\n",
    "* Observe Overfitting due to overly complex model\n",
    "* Identify the overfitting point by looking at Train vs Test error dynamic\n",
    "* Observe how noise levels effect the needed data samples and model capacity"
   ]
  },
  {
   "cell_type": "markdown",
   "metadata": {},
   "source": [
    "To do so, you'll code an experiment in the first part, and analyze the experiment result in the second part."
   ]
  },
  {
   "cell_type": "markdown",
   "metadata": {},
   "source": [
    "### Building an experiment"
   ]
  },
  {
   "cell_type": "markdown",
   "metadata": {},
   "source": [
    "Code:\n",
    "\n",
    "1. Create data of size N with noise level of magnitude NL from datasets DS_NAME. \n",
    "1. Split it to training and validation data (no need for test set), use 80%-20%. \n",
    "1. Use Logistic regression and Choose one complex model of your choice: [KNN](https://scikit-learn.org/stable/modules/generated/sklearn.neighbors.KNeighborsClassifier.html), [SVM with RBF kernel](https://scikit-learn.org/stable/modules/svm.html) with different `gamma` values or [Random forest classifier](https://scikit-learn.org/stable/modules/generated/sklearn.ensemble.RandomForestClassifier.html) with differnt number of `min_samples_split`. \n",
    "1. Train on the train set for different hyper parameter values. compute:\n",
    "   1. Classification accuracy on the training set (TRE)\n",
    "   1. Classification accuracy on the validation set (TESTE)\n",
    "   1. The difference beteen the two above (E_DIFF)\n",
    "1. Save DS_NAME, N, NL, CLF_NAME, K, TRE, TESTE, E_DIFF and the regularization/hyper param (K, gamma or min_samples_split and regularization value for the linear regression classifier)\n",
    "\n",
    "Repeat for:\n",
    "* DS_NAME in Moons, Circles\n",
    "* N (number of samples) in [5, 10, 50, 100, 1000, 10000]\n",
    "* NL (noise level) in [0, 0.1, 0.2, 0.3, 0.4, 0.5]\n",
    "* For the complex model: 10 Values of hyper parameter of the complex model you've chosen.\n",
    "* For the linear model: 5 values of ridge (l2) regularization - [0.001, 0.01, 0.1, 1, 10, 100, 1000]"
   ]
  },
  {
   "cell_type": "markdown",
   "metadata": {},
   "source": [
    "### Analysing the expermient results"
   ]
  },
  {
   "cell_type": "markdown",
   "metadata": {},
   "source": [
    "1. For SVM only, For dataset of size 10k and for each dataset, What are the best model params? How stable is it? \n",
    "1. For SVM only, For dataset of size 10k and for each dataset, What is the most stable model and model params? How good is it in comparison to other models? Explain using bias and variance terminoligy.\n",
    "1. Does regularization help for linear models? consider different datasets sizes. \n",
    "1. For a given noise level of your chioce, How does the train, test and difference error changes with increasing data sizes? (answer for svm and LR seperatly)\n",
    "1. For a given noise level of your chioce, How does the train, test and difference error changes with increasing model complexity? (answer for svm and LR seperatly)\n",
    "1. Are the noise level effect the number of datapoints needed to reach optimal test results? "
   ]
  },
  {
   "cell_type": "markdown",
   "metadata": {},
   "source": [
    "Bonus:\n",
    "\n",
    "* For SVM: Select one dataset and with 0.2 noise level. Identify the optimal model params, and visualize the decision boundry learned. \n",
    "  * Hint: Use a grid. See classification models notebook "
   ]
  },
  {
   "cell_type": "markdown",
   "metadata": {},
   "source": [
    "## Tips and Hints"
   ]
  },
  {
   "cell_type": "markdown",
   "metadata": {},
   "source": [
    "For buliding the experiment:\n",
    "\n",
    "* Start with one dataframe holding all the data for both datastes with different noise level. Use the `make_<dataset_name>_dataframe()` functions below, and add two columns, dataset_name and noise_level, before appending the new dataset to the rest of the datasets. Use `df = pd.DataFrame()` to start with an empty dataframe and using a loop, add data to it using `df = df.append(<the needed df here>)`. Verify that you have 10k samples for each dataset type and noise level by a proper `.value_counts()`. You can modify the \n",
    "* When you'll need an N samples data with a specific noise level, use `query()` and `head(n)` to get the needed dataset. \n",
    "* Use sklearn `train_test_split()` method to split the data with `test_size` and `random_state` parameters set correctly to ensure you are always splitting the data the same why for a given fold `k`. Read [the docs](https://scikit-learn.org/stable/modules/generated/sklearn.model_selection.train_test_split.html) if needed. \n",
    "* You can also not create your own data splitter, and instead use `model_selection.cross_validate()` from sklearn. You'll need to ask for the train erros as well as the test errors, see [here](https://scikit-learn.org/stable/modules/generated/sklearn.model_selection.cross_validate.html).\n",
    "* Use prints in proper location to ensure the progress of the experiment. "
   ]
  },
  {
   "cell_type": "markdown",
   "metadata": {},
   "source": [
    "**If you get stuck, and need refernce, scroll to the end of the notebook to see more hints!**"
   ]
  },
  {
   "cell_type": "code",
   "execution_count": null,
   "metadata": {},
   "outputs": [],
   "source": []
  },
  {
   "cell_type": "code",
   "execution_count": null,
   "metadata": {},
   "outputs": [],
   "source": []
  },
  {
   "cell_type": "code",
   "execution_count": 2,
   "metadata": {},
   "outputs": [],
   "source": [
    "# slope, intercept = 2.5, 6"
   ]
  },
  {
   "cell_type": "code",
   "execution_count": null,
   "metadata": {},
   "outputs": [],
   "source": []
  },
  {
   "cell_type": "code",
   "execution_count": 24,
   "metadata": {},
   "outputs": [],
   "source": [
    "# x_1, x_2 = 0.2, 0.6\n",
    "# on_line = [[x, x*slope + intercept,'on_line'] for x in np.linspace(-1,2,100)]\n",
    "\n",
    "# above_line = [[x_1, x_1*slope + intercept + 2, 'Above'], \n",
    "#               [x_2, x_2*slope + intercept + 2, 'Above']] \n",
    "\n",
    "# below_line = [[x_1, x_1*slope + intercept - 2, 'Below'], \n",
    "#               [x_2, x_2*slope + intercept - 2, 'Below']] "
   ]
  },
  {
   "cell_type": "code",
   "execution_count": 25,
   "metadata": {},
   "outputs": [],
   "source": [
    "# columns = ['x','y','label']\n",
    "# data = pd.DataFrame(on_line + above_line + below_line, columns = columns)"
   ]
  },
  {
   "cell_type": "code",
   "execution_count": 10,
   "metadata": {},
   "outputs": [],
   "source": [
    "# px.scatter(data, x='x', y='y', color = 'label')"
   ]
  },
  {
   "cell_type": "markdown",
   "metadata": {},
   "source": [
    "## Fitting and Overfiting "
   ]
  },
  {
   "cell_type": "markdown",
   "metadata": {},
   "source": [
    "## Moons dataset"
   ]
  },
  {
   "cell_type": "code",
   "execution_count": 11,
   "metadata": {},
   "outputs": [],
   "source": [
    "from sklearn.datasets import make_moons"
   ]
  },
  {
   "cell_type": "code",
   "execution_count": 12,
   "metadata": {},
   "outputs": [],
   "source": [
    "# points, label = make_moons(n_samples=10, noise=0.7)\n",
    "# moons_df = pd.DataFrame(points, columns=['x','y'])\n",
    "# moons_df['label'] = label\n",
    "# moons_df.label = moons_df.label.map({0:'A', 1:'B'})\n",
    "# moons_df.head()"
   ]
  },
  {
   "cell_type": "code",
   "execution_count": 13,
   "metadata": {},
   "outputs": [],
   "source": [
    "# px.scatter(moons_df, x='x', y='y', color = 'label')"
   ]
  },
  {
   "cell_type": "code",
   "execution_count": 55,
   "metadata": {},
   "outputs": [
    {
     "data": {
      "application/vnd.jupyter.widget-view+json": {
       "model_id": "b69ad8d649414d7eaf53a4efd4fc3bb7",
       "version_major": 2,
       "version_minor": 0
      },
      "text/plain": [
       "interactive(children=(FloatSlider(value=0.0, description='noise_level', max=0.5, step=0.05), Output()), _dom_c…"
      ]
     },
     "metadata": {},
     "output_type": "display_data"
    }
   ],
   "source": [
    "# @widgets.interact\n",
    "# def plot_noisy_moons(noise_level = widgets.FloatSlider(value=0, min=0, max=0.5, step=0.05)):\n",
    "#     points, label = make_moons(n_samples=1000, noise=noise_level)\n",
    "#     moons_df = pd.DataFrame(points, columns=['x','y'])\n",
    "#     moons_df['label'] = label\n",
    "#     moons_df.label = moons_df.label.map({0:'A', 1:'B'})\n",
    "#     return px.scatter(moons_df, x='x', y='y', color = 'label')"
   ]
  },
  {
   "cell_type": "code",
   "execution_count": null,
   "metadata": {},
   "outputs": [],
   "source": [
    "# Logistic regresssion "
   ]
  },
  {
   "cell_type": "code",
   "execution_count": 36,
   "metadata": {},
   "outputs": [
    {
     "data": {
      "text/plain": [
       "LogisticRegression(C=2.0)"
      ]
     },
     "execution_count": 36,
     "metadata": {},
     "output_type": "execute_result"
    }
   ],
   "source": [
    "# from sklearn.linear_model import LogisticRegression\n",
    "# log_reg = LogisticRegression(penalty='l2', C=2.0)\n",
    "# log_reg.fit(moons_df[['x','y']], moons_df['label'])"
   ]
  },
  {
   "cell_type": "code",
   "execution_count": 37,
   "metadata": {},
   "outputs": [],
   "source": [
    "# # Retrieve the model parameters.\n",
    "# b = log_reg.intercept_[0]\n",
    "# w1, w2 = log_reg.coef_[0]\n",
    "\n",
    "# # Calculate the intercept and gradient of the decision boundary.\n",
    "# c = -b/w2\n",
    "# m = -w1/w2"
   ]
  },
  {
   "cell_type": "code",
   "execution_count": 38,
   "metadata": {},
   "outputs": [],
   "source": [
    "# moons_df['predicted_class'] = log_reg.predict(moons_df[['x','y']])\n",
    "# moons_df[['prob_A','prob_B']] = log_reg.predict_proba(moons_df[['x','y']])\n",
    "# moons_df['log_regression_value'] = moons_df.x.apply(lambda x: m*x + c)"
   ]
  },
  {
   "cell_type": "code",
   "execution_count": 39,
   "metadata": {},
   "outputs": [
    {
     "data": {
      "text/plain": [
       "0.9"
      ]
     },
     "execution_count": 39,
     "metadata": {},
     "output_type": "execute_result"
    }
   ],
   "source": [
    "# accuracy = moons_df[moons_df.label==moons_df.predicted_class].shape[0]/moons_df.shape[0]\n",
    "# accuracy"
   ]
  },
  {
   "cell_type": "code",
   "execution_count": 19,
   "metadata": {},
   "outputs": [],
   "source": [
    "#Notes for myself :\n",
    "# my random split isn't too much good since it uses a random test train split- Hence each point can come more than once in each fold\n",
    "# In Oren's code he uses K-fold which ensures a split without repitition. \n",
    "# After applying k-fold its better to save each K data and then run aggregarions ( instead doing AVG of accuracy) "
   ]
  },
  {
   "cell_type": "code",
   "execution_count": null,
   "metadata": {},
   "outputs": [],
   "source": [
    "# SVM"
   ]
  },
  {
   "cell_type": "code",
   "execution_count": 1,
   "metadata": {},
   "outputs": [],
   "source": []
  },
  {
   "cell_type": "code",
   "execution_count": 9,
   "metadata": {},
   "outputs": [],
   "source": [
    "from sklearn.datasets import make_moons\n",
    "from sklearn.datasets import make_circles"
   ]
  },
  {
   "cell_type": "code",
   "execution_count": 204,
   "metadata": {},
   "outputs": [],
   "source": [
    "# n_s=1000\n",
    "# noise=0.25"
   ]
  },
  {
   "cell_type": "code",
   "execution_count": 135,
   "metadata": {},
   "outputs": [],
   "source": [
    "# points, label = make_moons(n_samples=n_s, noise=noise)\n",
    "# moons_df = pd.DataFrame(points, columns=['x','y'])\n",
    "# moons_df['label'] = label\n",
    "# moons_df.label = moons_df.label.map({0:'A', 1:'B'})"
   ]
  },
  {
   "cell_type": "code",
   "execution_count": 251,
   "metadata": {},
   "outputs": [
    {
     "name": "stdout",
     "output_type": "stream",
     "text": [
      "0.25\n",
      "0.5\n"
     ]
    }
   ],
   "source": [
    "# n_s=[10,1000]\n",
    "# noise=[0.25,0.5]\n",
    "# for n in noise:\n",
    "#     print(n)\n"
   ]
  },
  {
   "cell_type": "code",
   "execution_count": null,
   "metadata": {},
   "outputs": [],
   "source": []
  },
  {
   "cell_type": "code",
   "execution_count": 16,
   "metadata": {},
   "outputs": [],
   "source": [
    "# # Yarden Answer - OLD\n",
    "# datasets=['moons','circles']\n",
    "# regulation_method = 'l2'\n",
    "# #n_s=[50,100,1000,10000]\n",
    "# n_s=[50,100,1000] \n",
    "# #noise=[0,0.1,0.2,0.3,0.4,0.5]\n",
    "# noise=[0.2,0.3]\n",
    "# C_range =  [0.001, 0.01, 0.1, 0.5,1,10,100] \n",
    "# #gamma_range = [1e-8,1e-6,1e-4,1e-3,1e-1, 1,2,6,10,100]\n",
    "# gamma_range = [0.001,0.005,0.01,0.05,0.1,0.5,5,10,50]\n",
    "# models=['svm','logistic_regression']\n",
    "# k_folds = 10\n",
    "# classifiers = []\n",
    "# for size in n_s:\n",
    "#     for n in noise:\n",
    "#         for i in datasets:\n",
    "#             if i=='moons':\n",
    "#                     points, label = make_moons(n_samples=size, noise=n)\n",
    "#                     moons_df = pd.DataFrame(points, columns=['x','y'])\n",
    "#                     moons_df['label'] = label\n",
    "#                     moons_df.label = moons_df.label.map({0:'A', 1:'B'})\n",
    "#             if i=='circles':\n",
    "#                     points, label = make_circles(n_samples=size, noise=n)\n",
    "#                     moons_df = pd.DataFrame(points, columns=['x','y'])\n",
    "#                     moons_df['label'] = label\n",
    "#                     moons_df.label = moons_df.label.map({0:'A', 1:'B'})\n",
    "#             for k in range(k_folds):\n",
    "#                 x_train,x_test,y_train,y_test=train_test_split(moons_df[['x','y']],moons_df['label'],test_size=0.3,random_state=k)\n",
    "#                 for model in models:\n",
    "#                     if model=='svm':\n",
    "#                         for gamma in gamma_range:\n",
    "#                             clf = SVC(gamma=gamma)\n",
    "#                             clf.fit(x_train, y_train)\n",
    "#                             y_test_pred = clf.predict(x_test)\n",
    "#                             y_train_pred=clf.predict(x_train)\n",
    "#                             classifiers.append((model,size,n,i, gamma, k_folds,k, accuracy_score(y_test, y_test_pred),accuracy_score(y_train,y_train_pred)))\n",
    "#                     if model=='logistic_regression':\n",
    "#                         for C in C_range:\n",
    "#                             log_reg = LogisticRegression(penalty=regulation_method, C=C)\n",
    "#                             log_reg.fit(x_train,y_train)\n",
    "#                             y_test_pred=log_reg.predict(x_test)\n",
    "#                             y_train_pred=log_reg.predict(x_train)\n",
    "#                             # X = moons_df.iloc[:,:-1] #without label\n",
    "#                             # y = moons_df.iloc[:,-1]  #only label\n",
    "#                             # cv_results = cross_validate(log_reg, X, y, cv = kf, return_train_score=True)\n",
    "#                             # TRE = sum(cv_results['train_score'])/k_folds\n",
    "#                             # TESTE = sum(cv_results['test_score'])/k_folds\n",
    "#                             classifiers.append((model,size,n,i, C, k_folds,k, accuracy_score(y_test, y_test_pred),accuracy_score(y_train,y_train_pred)))"
   ]
  },
  {
   "cell_type": "code",
   "execution_count": 18,
   "metadata": {},
   "outputs": [],
   "source": [
    "# results = pd.DataFrame(classifiers, columns = ['model','size','noise','data','regularization','k_folds','k','acc_test','acc_train'])\n",
    "# results"
   ]
  },
  {
   "cell_type": "code",
   "execution_count": 19,
   "metadata": {},
   "outputs": [],
   "source": [
    "# results = pd.DataFrame(classifiers, columns = ['model','size','noise','data','regularization','k_folds','k','acc_test','acc_train'])\n",
    "\n",
    "# results=results.groupby(['model','regularization','k_folds','size','noise','data']).agg(['mean','std'])[['acc_test','acc_train']]\n",
    "# #results_2=results.groupby(['model','regularization','k_folds','size','noise','data']).agg(['std'])[['acc_test','acc_train']]\n",
    "# t=results.pivot_table(values = ['acc_test','acc_train'], index=['model','k_folds','size','noise','data'], columns='regularization')"
   ]
  },
  {
   "cell_type": "code",
   "execution_count": 20,
   "metadata": {},
   "outputs": [],
   "source": [
    "# acc_test=t['acc_train'].stack()\n",
    "# acc_test=acc_test.rename(columns={'mean': 'TRE','std':'TRE_STD'}).reset_index()\n",
    "\n",
    "# #accstd_test=z['acc_test']\n",
    "\n",
    "# acc_train=t['acc_test'].stack()\n",
    "# acc_train=acc_train.rename(columns={'mean': 'TESTE','std':'TESTE_STD'}).reset_index()\n",
    "\n",
    "\n",
    "\n"
   ]
  },
  {
   "cell_type": "code",
   "execution_count": 16,
   "metadata": {},
   "outputs": [],
   "source": [
    "# almost_final=acc_test.merge(acc_train, how='inner', on = ['model','k_folds','size','noise','data','regularization'])\n",
    "# almost_final['E_DIFF']=almost_final['TESTE']-almost_final['TRE']\n",
    "# almost_final['E_STD_DIFF']=almost_final['TESTE_STD']-almost_final['TRE_STD']"
   ]
  },
  {
   "cell_type": "code",
   "execution_count": 24,
   "metadata": {},
   "outputs": [],
   "source": [
    "# from IPython.display import display, clear_output\n",
    "\n",
    "# for j in almost_final['model'].unique():  \n",
    "#     for i in almost_final['size'].unique(): \n",
    "#         for k in almost_final['noise'].unique():\n",
    "#                 for t in almost_final['data'].unique():\n",
    "#                     ds_data = almost_final[(almost_final.model==j) & (almost_final.data==t) & (almost_final['noise']==k)  &(almost_final['size']==i)   ]\n",
    "#                     fig = px.line(ds_data, x='regularization', y=['TRE', 'TESTE'])\n",
    "#                     fig.update_layout(title_text=f'Test Accuracy by {ds_data.model.unique()[0]} Hyperparamter - Dataset: {ds_data.data.unique()[0]} , noise ={k}, size=  {i}, model={j}')\n",
    "#                     fig.update_yaxes(title_text='Accuracy', secondary_y=False)\n",
    "#                     fig.show()"
   ]
  },
  {
   "cell_type": "code",
   "execution_count": null,
   "metadata": {},
   "outputs": [],
   "source": [
    "#almost_final.to_csv(r'C:\\Users\\yarden.ayalon\\python_ml\\Python_ML-2022 - New version\\Final project\\model_vars.csv')"
   ]
  },
  {
   "cell_type": "code",
   "execution_count": null,
   "metadata": {},
   "outputs": [],
   "source": []
  },
  {
   "cell_type": "code",
   "execution_count": null,
   "metadata": {},
   "outputs": [],
   "source": [
    "datasets=['moons','circles']\n",
    "regulation_method = 'l2'\n",
    "#n_s=[50,100,1000,10000]\n",
    "n_s=[50,100,1000] \n",
    "#noise=[0,0.1,0.2,0.3,0.4,0.5]\n",
    "noise=[0.2,0.3]\n",
    "C_range =  [0.001, 0.01, 0.1, 0.5,1,10,100] \n",
    "#gamma_range = [1e-8,1e-6,1e-4,1e-3,1e-1, 1,2,6,10,100]\n",
    "gamma_range = [0.001,0.005,0.01,0.05,0.1,0.5,5,10,50]"
   ]
  },
  {
   "cell_type": "markdown",
   "metadata": {},
   "source": [
    "Another  Method - The differance is how i split to train and test - > Using the build in cross_validate ensure that each fold will be unique. For sake of better analysis in he future it might be smarter to save each fold's data and then run an aggregation, rather than aggregating already in the in the loop"
   ]
  },
  {
   "cell_type": "code",
   "execution_count": null,
   "metadata": {},
   "outputs": [],
   "source": [
    "#Importing required libraries\n",
    "from sklearn.datasets import make_moons, make_circles\n",
    "#from src.modeling_util import creat_dataset, accuracy\n",
    "from sklearn import svm\n",
    "from sklearn.model_selection import *\n",
    "from sklearn.model_selection import train_test_split, KFold, cross_val_score, StratifiedKFold, cross_validate\n",
    "from sklearn.metrics import accuracy_score\n",
    "from sklearn.linear_model import LogisticRegression\n",
    "import statistics"
   ]
  },
  {
   "cell_type": "code",
   "execution_count": null,
   "metadata": {},
   "outputs": [],
   "source": [
    "rdata_lst = []"
   ]
  },
  {
   "cell_type": "code",
   "execution_count": 25,
   "metadata": {},
   "outputs": [
    {
     "name": "stdout",
     "output_type": "stream",
     "text": [
      "Cross validation for circles dataset with 5 samples and noise level 0\n",
      "Cross validation for moons dataset with 5 samples and noise level 0\n",
      "Cross validation for circles dataset with 5 samples and noise level 0.1\n",
      "Cross validation for moons dataset with 5 samples and noise level 0.1\n",
      "Cross validation for circles dataset with 5 samples and noise level 0.2\n",
      "Cross validation for moons dataset with 5 samples and noise level 0.2\n",
      "Cross validation for circles dataset with 5 samples and noise level 0.3\n",
      "Cross validation for moons dataset with 5 samples and noise level 0.3\n",
      "Cross validation for circles dataset with 5 samples and noise level 0.4\n",
      "Cross validation for moons dataset with 5 samples and noise level 0.4\n",
      "Cross validation for circles dataset with 5 samples and noise level 0.5\n",
      "Cross validation for moons dataset with 5 samples and noise level 0.5\n",
      "Cross validation for circles dataset with 10 samples and noise level 0\n",
      "Cross validation for moons dataset with 10 samples and noise level 0\n",
      "Cross validation for circles dataset with 10 samples and noise level 0.1\n",
      "Cross validation for moons dataset with 10 samples and noise level 0.1\n",
      "Cross validation for circles dataset with 10 samples and noise level 0.2\n",
      "Cross validation for moons dataset with 10 samples and noise level 0.2\n",
      "Cross validation for circles dataset with 10 samples and noise level 0.3\n",
      "Cross validation for moons dataset with 10 samples and noise level 0.3\n",
      "Cross validation for circles dataset with 10 samples and noise level 0.4\n",
      "Cross validation for moons dataset with 10 samples and noise level 0.4\n",
      "Cross validation for circles dataset with 10 samples and noise level 0.5\n",
      "Cross validation for moons dataset with 10 samples and noise level 0.5\n",
      "Cross validation for circles dataset with 50 samples and noise level 0\n",
      "Cross validation for moons dataset with 50 samples and noise level 0\n",
      "Cross validation for circles dataset with 50 samples and noise level 0.1\n",
      "Cross validation for moons dataset with 50 samples and noise level 0.1\n",
      "Cross validation for circles dataset with 50 samples and noise level 0.2\n",
      "Cross validation for moons dataset with 50 samples and noise level 0.2\n",
      "Cross validation for circles dataset with 50 samples and noise level 0.3\n",
      "Cross validation for moons dataset with 50 samples and noise level 0.3\n",
      "Cross validation for circles dataset with 50 samples and noise level 0.4\n",
      "Cross validation for moons dataset with 50 samples and noise level 0.4\n",
      "Cross validation for circles dataset with 50 samples and noise level 0.5\n",
      "Cross validation for moons dataset with 50 samples and noise level 0.5\n",
      "Cross validation for circles dataset with 100 samples and noise level 0\n",
      "Cross validation for moons dataset with 100 samples and noise level 0\n",
      "Cross validation for circles dataset with 100 samples and noise level 0.1\n",
      "Cross validation for moons dataset with 100 samples and noise level 0.1\n",
      "Cross validation for circles dataset with 100 samples and noise level 0.2\n",
      "Cross validation for moons dataset with 100 samples and noise level 0.2\n",
      "Cross validation for circles dataset with 100 samples and noise level 0.3\n",
      "Cross validation for moons dataset with 100 samples and noise level 0.3\n",
      "Cross validation for circles dataset with 100 samples and noise level 0.4\n",
      "Cross validation for moons dataset with 100 samples and noise level 0.4\n",
      "Cross validation for circles dataset with 100 samples and noise level 0.5\n",
      "Cross validation for moons dataset with 100 samples and noise level 0.5\n",
      "Cross validation for circles dataset with 1000 samples and noise level 0\n",
      "Cross validation for moons dataset with 1000 samples and noise level 0\n",
      "Cross validation for circles dataset with 1000 samples and noise level 0.1\n",
      "Cross validation for moons dataset with 1000 samples and noise level 0.1\n",
      "Cross validation for circles dataset with 1000 samples and noise level 0.2\n",
      "Cross validation for moons dataset with 1000 samples and noise level 0.2\n",
      "Cross validation for circles dataset with 1000 samples and noise level 0.3\n",
      "Cross validation for moons dataset with 1000 samples and noise level 0.3\n",
      "Cross validation for circles dataset with 1000 samples and noise level 0.4\n",
      "Cross validation for moons dataset with 1000 samples and noise level 0.4\n",
      "Cross validation for circles dataset with 1000 samples and noise level 0.5\n",
      "Cross validation for moons dataset with 1000 samples and noise level 0.5\n",
      "Cross validation for circles dataset with 10000 samples and noise level 0\n"
     ]
    },
    {
     "ename": "KeyboardInterrupt",
     "evalue": "",
     "output_type": "error",
     "traceback": [
      "\u001b[1;31m---------------------------------------------------------------------------\u001b[0m",
      "\u001b[1;31mKeyboardInterrupt\u001b[0m                         Traceback (most recent call last)",
      "\u001b[1;32mC:\\Users\\YARDEN~1.AYA\\AppData\\Local\\Temp/ipykernel_15196/2367986140.py\u001b[0m in \u001b[0;36m<module>\u001b[1;34m\u001b[0m\n\u001b[0;32m     43\u001b[0m                         \u001b[0mX\u001b[0m \u001b[1;33m=\u001b[0m \u001b[0mdf\u001b[0m\u001b[1;33m.\u001b[0m\u001b[0miloc\u001b[0m\u001b[1;33m[\u001b[0m\u001b[1;33m:\u001b[0m\u001b[1;33m,\u001b[0m\u001b[1;33m:\u001b[0m\u001b[1;33m-\u001b[0m\u001b[1;36m1\u001b[0m\u001b[1;33m]\u001b[0m \u001b[1;31m#without label\u001b[0m\u001b[1;33m\u001b[0m\u001b[1;33m\u001b[0m\u001b[0m\n\u001b[0;32m     44\u001b[0m                         \u001b[0my\u001b[0m \u001b[1;33m=\u001b[0m \u001b[0mdf\u001b[0m\u001b[1;33m.\u001b[0m\u001b[0miloc\u001b[0m\u001b[1;33m[\u001b[0m\u001b[1;33m:\u001b[0m\u001b[1;33m,\u001b[0m\u001b[1;33m-\u001b[0m\u001b[1;36m1\u001b[0m\u001b[1;33m]\u001b[0m  \u001b[1;31m#only label\u001b[0m\u001b[1;33m\u001b[0m\u001b[1;33m\u001b[0m\u001b[0m\n\u001b[1;32m---> 45\u001b[1;33m                         \u001b[0mcv_results\u001b[0m \u001b[1;33m=\u001b[0m \u001b[0mcross_validate\u001b[0m\u001b[1;33m(\u001b[0m\u001b[0msvm_clf\u001b[0m\u001b[1;33m,\u001b[0m \u001b[0mX\u001b[0m\u001b[1;33m,\u001b[0m \u001b[0my\u001b[0m\u001b[1;33m,\u001b[0m \u001b[0mcv\u001b[0m \u001b[1;33m=\u001b[0m \u001b[0mkf\u001b[0m\u001b[1;33m,\u001b[0m \u001b[0mreturn_train_score\u001b[0m\u001b[1;33m=\u001b[0m\u001b[1;32mTrue\u001b[0m\u001b[1;33m)\u001b[0m\u001b[1;33m\u001b[0m\u001b[1;33m\u001b[0m\u001b[0m\n\u001b[0m\u001b[0;32m     46\u001b[0m                         \u001b[0mTRE\u001b[0m \u001b[1;33m=\u001b[0m \u001b[0msum\u001b[0m\u001b[1;33m(\u001b[0m\u001b[0mcv_results\u001b[0m\u001b[1;33m[\u001b[0m\u001b[1;34m'train_score'\u001b[0m\u001b[1;33m]\u001b[0m\u001b[1;33m)\u001b[0m\u001b[1;33m/\u001b[0m\u001b[0mk_folds\u001b[0m\u001b[1;33m\u001b[0m\u001b[1;33m\u001b[0m\u001b[0m\n\u001b[0;32m     47\u001b[0m                         \u001b[0mTRE_STD\u001b[0m \u001b[1;33m=\u001b[0m \u001b[0mstatistics\u001b[0m\u001b[1;33m.\u001b[0m\u001b[0mpstdev\u001b[0m\u001b[1;33m(\u001b[0m\u001b[0mcv_results\u001b[0m\u001b[1;33m[\u001b[0m\u001b[1;34m'train_score'\u001b[0m\u001b[1;33m]\u001b[0m\u001b[1;33m)\u001b[0m\u001b[1;33m\u001b[0m\u001b[1;33m\u001b[0m\u001b[0m\n",
      "\u001b[1;32m~\\anaconda3V2\\envs\\Yard\\lib\\site-packages\\sklearn\\model_selection\\_validation.py\u001b[0m in \u001b[0;36mcross_validate\u001b[1;34m(estimator, X, y, groups, scoring, cv, n_jobs, verbose, fit_params, pre_dispatch, return_train_score, return_estimator, error_score)\u001b[0m\n\u001b[0;32m    265\u001b[0m     \u001b[1;31m# independent, and that it is pickle-able.\u001b[0m\u001b[1;33m\u001b[0m\u001b[1;33m\u001b[0m\u001b[0m\n\u001b[0;32m    266\u001b[0m     \u001b[0mparallel\u001b[0m \u001b[1;33m=\u001b[0m \u001b[0mParallel\u001b[0m\u001b[1;33m(\u001b[0m\u001b[0mn_jobs\u001b[0m\u001b[1;33m=\u001b[0m\u001b[0mn_jobs\u001b[0m\u001b[1;33m,\u001b[0m \u001b[0mverbose\u001b[0m\u001b[1;33m=\u001b[0m\u001b[0mverbose\u001b[0m\u001b[1;33m,\u001b[0m \u001b[0mpre_dispatch\u001b[0m\u001b[1;33m=\u001b[0m\u001b[0mpre_dispatch\u001b[0m\u001b[1;33m)\u001b[0m\u001b[1;33m\u001b[0m\u001b[1;33m\u001b[0m\u001b[0m\n\u001b[1;32m--> 267\u001b[1;33m     results = parallel(\n\u001b[0m\u001b[0;32m    268\u001b[0m         delayed(_fit_and_score)(\n\u001b[0;32m    269\u001b[0m             \u001b[0mclone\u001b[0m\u001b[1;33m(\u001b[0m\u001b[0mestimator\u001b[0m\u001b[1;33m)\u001b[0m\u001b[1;33m,\u001b[0m\u001b[1;33m\u001b[0m\u001b[1;33m\u001b[0m\u001b[0m\n",
      "\u001b[1;32m~\\anaconda3V2\\envs\\Yard\\lib\\site-packages\\joblib\\parallel.py\u001b[0m in \u001b[0;36m__call__\u001b[1;34m(self, iterable)\u001b[0m\n\u001b[0;32m   1044\u001b[0m                 \u001b[0mself\u001b[0m\u001b[1;33m.\u001b[0m\u001b[0m_iterating\u001b[0m \u001b[1;33m=\u001b[0m \u001b[0mself\u001b[0m\u001b[1;33m.\u001b[0m\u001b[0m_original_iterator\u001b[0m \u001b[1;32mis\u001b[0m \u001b[1;32mnot\u001b[0m \u001b[1;32mNone\u001b[0m\u001b[1;33m\u001b[0m\u001b[1;33m\u001b[0m\u001b[0m\n\u001b[0;32m   1045\u001b[0m \u001b[1;33m\u001b[0m\u001b[0m\n\u001b[1;32m-> 1046\u001b[1;33m             \u001b[1;32mwhile\u001b[0m \u001b[0mself\u001b[0m\u001b[1;33m.\u001b[0m\u001b[0mdispatch_one_batch\u001b[0m\u001b[1;33m(\u001b[0m\u001b[0miterator\u001b[0m\u001b[1;33m)\u001b[0m\u001b[1;33m:\u001b[0m\u001b[1;33m\u001b[0m\u001b[1;33m\u001b[0m\u001b[0m\n\u001b[0m\u001b[0;32m   1047\u001b[0m                 \u001b[1;32mpass\u001b[0m\u001b[1;33m\u001b[0m\u001b[1;33m\u001b[0m\u001b[0m\n\u001b[0;32m   1048\u001b[0m \u001b[1;33m\u001b[0m\u001b[0m\n",
      "\u001b[1;32m~\\anaconda3V2\\envs\\Yard\\lib\\site-packages\\joblib\\parallel.py\u001b[0m in \u001b[0;36mdispatch_one_batch\u001b[1;34m(self, iterator)\u001b[0m\n\u001b[0;32m    859\u001b[0m                 \u001b[1;32mreturn\u001b[0m \u001b[1;32mFalse\u001b[0m\u001b[1;33m\u001b[0m\u001b[1;33m\u001b[0m\u001b[0m\n\u001b[0;32m    860\u001b[0m             \u001b[1;32melse\u001b[0m\u001b[1;33m:\u001b[0m\u001b[1;33m\u001b[0m\u001b[1;33m\u001b[0m\u001b[0m\n\u001b[1;32m--> 861\u001b[1;33m                 \u001b[0mself\u001b[0m\u001b[1;33m.\u001b[0m\u001b[0m_dispatch\u001b[0m\u001b[1;33m(\u001b[0m\u001b[0mtasks\u001b[0m\u001b[1;33m)\u001b[0m\u001b[1;33m\u001b[0m\u001b[1;33m\u001b[0m\u001b[0m\n\u001b[0m\u001b[0;32m    862\u001b[0m                 \u001b[1;32mreturn\u001b[0m \u001b[1;32mTrue\u001b[0m\u001b[1;33m\u001b[0m\u001b[1;33m\u001b[0m\u001b[0m\n\u001b[0;32m    863\u001b[0m \u001b[1;33m\u001b[0m\u001b[0m\n",
      "\u001b[1;32m~\\anaconda3V2\\envs\\Yard\\lib\\site-packages\\joblib\\parallel.py\u001b[0m in \u001b[0;36m_dispatch\u001b[1;34m(self, batch)\u001b[0m\n\u001b[0;32m    777\u001b[0m         \u001b[1;32mwith\u001b[0m \u001b[0mself\u001b[0m\u001b[1;33m.\u001b[0m\u001b[0m_lock\u001b[0m\u001b[1;33m:\u001b[0m\u001b[1;33m\u001b[0m\u001b[1;33m\u001b[0m\u001b[0m\n\u001b[0;32m    778\u001b[0m             \u001b[0mjob_idx\u001b[0m \u001b[1;33m=\u001b[0m \u001b[0mlen\u001b[0m\u001b[1;33m(\u001b[0m\u001b[0mself\u001b[0m\u001b[1;33m.\u001b[0m\u001b[0m_jobs\u001b[0m\u001b[1;33m)\u001b[0m\u001b[1;33m\u001b[0m\u001b[1;33m\u001b[0m\u001b[0m\n\u001b[1;32m--> 779\u001b[1;33m             \u001b[0mjob\u001b[0m \u001b[1;33m=\u001b[0m \u001b[0mself\u001b[0m\u001b[1;33m.\u001b[0m\u001b[0m_backend\u001b[0m\u001b[1;33m.\u001b[0m\u001b[0mapply_async\u001b[0m\u001b[1;33m(\u001b[0m\u001b[0mbatch\u001b[0m\u001b[1;33m,\u001b[0m \u001b[0mcallback\u001b[0m\u001b[1;33m=\u001b[0m\u001b[0mcb\u001b[0m\u001b[1;33m)\u001b[0m\u001b[1;33m\u001b[0m\u001b[1;33m\u001b[0m\u001b[0m\n\u001b[0m\u001b[0;32m    780\u001b[0m             \u001b[1;31m# A job can complete so quickly than its callback is\u001b[0m\u001b[1;33m\u001b[0m\u001b[1;33m\u001b[0m\u001b[0m\n\u001b[0;32m    781\u001b[0m             \u001b[1;31m# called before we get here, causing self._jobs to\u001b[0m\u001b[1;33m\u001b[0m\u001b[1;33m\u001b[0m\u001b[0m\n",
      "\u001b[1;32m~\\anaconda3V2\\envs\\Yard\\lib\\site-packages\\joblib\\_parallel_backends.py\u001b[0m in \u001b[0;36mapply_async\u001b[1;34m(self, func, callback)\u001b[0m\n\u001b[0;32m    206\u001b[0m     \u001b[1;32mdef\u001b[0m \u001b[0mapply_async\u001b[0m\u001b[1;33m(\u001b[0m\u001b[0mself\u001b[0m\u001b[1;33m,\u001b[0m \u001b[0mfunc\u001b[0m\u001b[1;33m,\u001b[0m \u001b[0mcallback\u001b[0m\u001b[1;33m=\u001b[0m\u001b[1;32mNone\u001b[0m\u001b[1;33m)\u001b[0m\u001b[1;33m:\u001b[0m\u001b[1;33m\u001b[0m\u001b[1;33m\u001b[0m\u001b[0m\n\u001b[0;32m    207\u001b[0m         \u001b[1;34m\"\"\"Schedule a func to be run\"\"\"\u001b[0m\u001b[1;33m\u001b[0m\u001b[1;33m\u001b[0m\u001b[0m\n\u001b[1;32m--> 208\u001b[1;33m         \u001b[0mresult\u001b[0m \u001b[1;33m=\u001b[0m \u001b[0mImmediateResult\u001b[0m\u001b[1;33m(\u001b[0m\u001b[0mfunc\u001b[0m\u001b[1;33m)\u001b[0m\u001b[1;33m\u001b[0m\u001b[1;33m\u001b[0m\u001b[0m\n\u001b[0m\u001b[0;32m    209\u001b[0m         \u001b[1;32mif\u001b[0m \u001b[0mcallback\u001b[0m\u001b[1;33m:\u001b[0m\u001b[1;33m\u001b[0m\u001b[1;33m\u001b[0m\u001b[0m\n\u001b[0;32m    210\u001b[0m             \u001b[0mcallback\u001b[0m\u001b[1;33m(\u001b[0m\u001b[0mresult\u001b[0m\u001b[1;33m)\u001b[0m\u001b[1;33m\u001b[0m\u001b[1;33m\u001b[0m\u001b[0m\n",
      "\u001b[1;32m~\\anaconda3V2\\envs\\Yard\\lib\\site-packages\\joblib\\_parallel_backends.py\u001b[0m in \u001b[0;36m__init__\u001b[1;34m(self, batch)\u001b[0m\n\u001b[0;32m    570\u001b[0m         \u001b[1;31m# Don't delay the application, to avoid keeping the input\u001b[0m\u001b[1;33m\u001b[0m\u001b[1;33m\u001b[0m\u001b[0m\n\u001b[0;32m    571\u001b[0m         \u001b[1;31m# arguments in memory\u001b[0m\u001b[1;33m\u001b[0m\u001b[1;33m\u001b[0m\u001b[0m\n\u001b[1;32m--> 572\u001b[1;33m         \u001b[0mself\u001b[0m\u001b[1;33m.\u001b[0m\u001b[0mresults\u001b[0m \u001b[1;33m=\u001b[0m \u001b[0mbatch\u001b[0m\u001b[1;33m(\u001b[0m\u001b[1;33m)\u001b[0m\u001b[1;33m\u001b[0m\u001b[1;33m\u001b[0m\u001b[0m\n\u001b[0m\u001b[0;32m    573\u001b[0m \u001b[1;33m\u001b[0m\u001b[0m\n\u001b[0;32m    574\u001b[0m     \u001b[1;32mdef\u001b[0m \u001b[0mget\u001b[0m\u001b[1;33m(\u001b[0m\u001b[0mself\u001b[0m\u001b[1;33m)\u001b[0m\u001b[1;33m:\u001b[0m\u001b[1;33m\u001b[0m\u001b[1;33m\u001b[0m\u001b[0m\n",
      "\u001b[1;32m~\\anaconda3V2\\envs\\Yard\\lib\\site-packages\\joblib\\parallel.py\u001b[0m in \u001b[0;36m__call__\u001b[1;34m(self)\u001b[0m\n\u001b[0;32m    260\u001b[0m         \u001b[1;31m# change the default number of processes to -1\u001b[0m\u001b[1;33m\u001b[0m\u001b[1;33m\u001b[0m\u001b[0m\n\u001b[0;32m    261\u001b[0m         \u001b[1;32mwith\u001b[0m \u001b[0mparallel_backend\u001b[0m\u001b[1;33m(\u001b[0m\u001b[0mself\u001b[0m\u001b[1;33m.\u001b[0m\u001b[0m_backend\u001b[0m\u001b[1;33m,\u001b[0m \u001b[0mn_jobs\u001b[0m\u001b[1;33m=\u001b[0m\u001b[0mself\u001b[0m\u001b[1;33m.\u001b[0m\u001b[0m_n_jobs\u001b[0m\u001b[1;33m)\u001b[0m\u001b[1;33m:\u001b[0m\u001b[1;33m\u001b[0m\u001b[1;33m\u001b[0m\u001b[0m\n\u001b[1;32m--> 262\u001b[1;33m             return [func(*args, **kwargs)\n\u001b[0m\u001b[0;32m    263\u001b[0m                     for func, args, kwargs in self.items]\n\u001b[0;32m    264\u001b[0m \u001b[1;33m\u001b[0m\u001b[0m\n",
      "\u001b[1;32m~\\anaconda3V2\\envs\\Yard\\lib\\site-packages\\joblib\\parallel.py\u001b[0m in \u001b[0;36m<listcomp>\u001b[1;34m(.0)\u001b[0m\n\u001b[0;32m    260\u001b[0m         \u001b[1;31m# change the default number of processes to -1\u001b[0m\u001b[1;33m\u001b[0m\u001b[1;33m\u001b[0m\u001b[0m\n\u001b[0;32m    261\u001b[0m         \u001b[1;32mwith\u001b[0m \u001b[0mparallel_backend\u001b[0m\u001b[1;33m(\u001b[0m\u001b[0mself\u001b[0m\u001b[1;33m.\u001b[0m\u001b[0m_backend\u001b[0m\u001b[1;33m,\u001b[0m \u001b[0mn_jobs\u001b[0m\u001b[1;33m=\u001b[0m\u001b[0mself\u001b[0m\u001b[1;33m.\u001b[0m\u001b[0m_n_jobs\u001b[0m\u001b[1;33m)\u001b[0m\u001b[1;33m:\u001b[0m\u001b[1;33m\u001b[0m\u001b[1;33m\u001b[0m\u001b[0m\n\u001b[1;32m--> 262\u001b[1;33m             return [func(*args, **kwargs)\n\u001b[0m\u001b[0;32m    263\u001b[0m                     for func, args, kwargs in self.items]\n\u001b[0;32m    264\u001b[0m \u001b[1;33m\u001b[0m\u001b[0m\n",
      "\u001b[1;32m~\\anaconda3V2\\envs\\Yard\\lib\\site-packages\\sklearn\\utils\\fixes.py\u001b[0m in \u001b[0;36m__call__\u001b[1;34m(self, *args, **kwargs)\u001b[0m\n\u001b[0;32m    214\u001b[0m     \u001b[1;32mdef\u001b[0m \u001b[0m__call__\u001b[0m\u001b[1;33m(\u001b[0m\u001b[0mself\u001b[0m\u001b[1;33m,\u001b[0m \u001b[1;33m*\u001b[0m\u001b[0margs\u001b[0m\u001b[1;33m,\u001b[0m \u001b[1;33m**\u001b[0m\u001b[0mkwargs\u001b[0m\u001b[1;33m)\u001b[0m\u001b[1;33m:\u001b[0m\u001b[1;33m\u001b[0m\u001b[1;33m\u001b[0m\u001b[0m\n\u001b[0;32m    215\u001b[0m         \u001b[1;32mwith\u001b[0m \u001b[0mconfig_context\u001b[0m\u001b[1;33m(\u001b[0m\u001b[1;33m**\u001b[0m\u001b[0mself\u001b[0m\u001b[1;33m.\u001b[0m\u001b[0mconfig\u001b[0m\u001b[1;33m)\u001b[0m\u001b[1;33m:\u001b[0m\u001b[1;33m\u001b[0m\u001b[1;33m\u001b[0m\u001b[0m\n\u001b[1;32m--> 216\u001b[1;33m             \u001b[1;32mreturn\u001b[0m \u001b[0mself\u001b[0m\u001b[1;33m.\u001b[0m\u001b[0mfunction\u001b[0m\u001b[1;33m(\u001b[0m\u001b[1;33m*\u001b[0m\u001b[0margs\u001b[0m\u001b[1;33m,\u001b[0m \u001b[1;33m**\u001b[0m\u001b[0mkwargs\u001b[0m\u001b[1;33m)\u001b[0m\u001b[1;33m\u001b[0m\u001b[1;33m\u001b[0m\u001b[0m\n\u001b[0m\u001b[0;32m    217\u001b[0m \u001b[1;33m\u001b[0m\u001b[0m\n\u001b[0;32m    218\u001b[0m \u001b[1;33m\u001b[0m\u001b[0m\n",
      "\u001b[1;32m~\\anaconda3V2\\envs\\Yard\\lib\\site-packages\\sklearn\\model_selection\\_validation.py\u001b[0m in \u001b[0;36m_fit_and_score\u001b[1;34m(estimator, X, y, scorer, train, test, verbose, parameters, fit_params, return_train_score, return_parameters, return_n_test_samples, return_times, return_estimator, split_progress, candidate_progress, error_score)\u001b[0m\n\u001b[0;32m    678\u001b[0m             \u001b[0mestimator\u001b[0m\u001b[1;33m.\u001b[0m\u001b[0mfit\u001b[0m\u001b[1;33m(\u001b[0m\u001b[0mX_train\u001b[0m\u001b[1;33m,\u001b[0m \u001b[1;33m**\u001b[0m\u001b[0mfit_params\u001b[0m\u001b[1;33m)\u001b[0m\u001b[1;33m\u001b[0m\u001b[1;33m\u001b[0m\u001b[0m\n\u001b[0;32m    679\u001b[0m         \u001b[1;32melse\u001b[0m\u001b[1;33m:\u001b[0m\u001b[1;33m\u001b[0m\u001b[1;33m\u001b[0m\u001b[0m\n\u001b[1;32m--> 680\u001b[1;33m             \u001b[0mestimator\u001b[0m\u001b[1;33m.\u001b[0m\u001b[0mfit\u001b[0m\u001b[1;33m(\u001b[0m\u001b[0mX_train\u001b[0m\u001b[1;33m,\u001b[0m \u001b[0my_train\u001b[0m\u001b[1;33m,\u001b[0m \u001b[1;33m**\u001b[0m\u001b[0mfit_params\u001b[0m\u001b[1;33m)\u001b[0m\u001b[1;33m\u001b[0m\u001b[1;33m\u001b[0m\u001b[0m\n\u001b[0m\u001b[0;32m    681\u001b[0m \u001b[1;33m\u001b[0m\u001b[0m\n\u001b[0;32m    682\u001b[0m     \u001b[1;32mexcept\u001b[0m \u001b[0mException\u001b[0m\u001b[1;33m:\u001b[0m\u001b[1;33m\u001b[0m\u001b[1;33m\u001b[0m\u001b[0m\n",
      "\u001b[1;32m~\\anaconda3V2\\envs\\Yard\\lib\\site-packages\\sklearn\\svm\\_base.py\u001b[0m in \u001b[0;36mfit\u001b[1;34m(self, X, y, sample_weight)\u001b[0m\n\u001b[0;32m    253\u001b[0m \u001b[1;33m\u001b[0m\u001b[0m\n\u001b[0;32m    254\u001b[0m         \u001b[0mseed\u001b[0m \u001b[1;33m=\u001b[0m \u001b[0mrnd\u001b[0m\u001b[1;33m.\u001b[0m\u001b[0mrandint\u001b[0m\u001b[1;33m(\u001b[0m\u001b[0mnp\u001b[0m\u001b[1;33m.\u001b[0m\u001b[0miinfo\u001b[0m\u001b[1;33m(\u001b[0m\u001b[1;34m\"i\"\u001b[0m\u001b[1;33m)\u001b[0m\u001b[1;33m.\u001b[0m\u001b[0mmax\u001b[0m\u001b[1;33m)\u001b[0m\u001b[1;33m\u001b[0m\u001b[1;33m\u001b[0m\u001b[0m\n\u001b[1;32m--> 255\u001b[1;33m         \u001b[0mfit\u001b[0m\u001b[1;33m(\u001b[0m\u001b[0mX\u001b[0m\u001b[1;33m,\u001b[0m \u001b[0my\u001b[0m\u001b[1;33m,\u001b[0m \u001b[0msample_weight\u001b[0m\u001b[1;33m,\u001b[0m \u001b[0msolver_type\u001b[0m\u001b[1;33m,\u001b[0m \u001b[0mkernel\u001b[0m\u001b[1;33m,\u001b[0m \u001b[0mrandom_seed\u001b[0m\u001b[1;33m=\u001b[0m\u001b[0mseed\u001b[0m\u001b[1;33m)\u001b[0m\u001b[1;33m\u001b[0m\u001b[1;33m\u001b[0m\u001b[0m\n\u001b[0m\u001b[0;32m    256\u001b[0m         \u001b[1;31m# see comment on the other call to np.iinfo in this file\u001b[0m\u001b[1;33m\u001b[0m\u001b[1;33m\u001b[0m\u001b[0m\n\u001b[0;32m    257\u001b[0m \u001b[1;33m\u001b[0m\u001b[0m\n",
      "\u001b[1;32m~\\anaconda3V2\\envs\\Yard\\lib\\site-packages\\sklearn\\svm\\_base.py\u001b[0m in \u001b[0;36m_dense_fit\u001b[1;34m(self, X, y, sample_weight, solver_type, kernel, random_seed)\u001b[0m\n\u001b[0;32m    313\u001b[0m             \u001b[0mself\u001b[0m\u001b[1;33m.\u001b[0m\u001b[0m_probB\u001b[0m\u001b[1;33m,\u001b[0m\u001b[1;33m\u001b[0m\u001b[1;33m\u001b[0m\u001b[0m\n\u001b[0;32m    314\u001b[0m             \u001b[0mself\u001b[0m\u001b[1;33m.\u001b[0m\u001b[0mfit_status_\u001b[0m\u001b[1;33m,\u001b[0m\u001b[1;33m\u001b[0m\u001b[1;33m\u001b[0m\u001b[0m\n\u001b[1;32m--> 315\u001b[1;33m         \u001b[1;33m)\u001b[0m \u001b[1;33m=\u001b[0m \u001b[0mlibsvm\u001b[0m\u001b[1;33m.\u001b[0m\u001b[0mfit\u001b[0m\u001b[1;33m(\u001b[0m\u001b[1;33m\u001b[0m\u001b[1;33m\u001b[0m\u001b[0m\n\u001b[0m\u001b[0;32m    316\u001b[0m             \u001b[0mX\u001b[0m\u001b[1;33m,\u001b[0m\u001b[1;33m\u001b[0m\u001b[1;33m\u001b[0m\u001b[0m\n\u001b[0;32m    317\u001b[0m             \u001b[0my\u001b[0m\u001b[1;33m,\u001b[0m\u001b[1;33m\u001b[0m\u001b[1;33m\u001b[0m\u001b[0m\n",
      "\u001b[1;31mKeyboardInterrupt\u001b[0m: "
     ]
    }
   ],
   "source": [
    "C_range =  [0.001, 0.01, 0.1, 0.5,1,10,100] \n",
    "Gamma_range = [0.001,0.005,0.01,0.05,0.1,0.5,5,10,50]\n",
    "n_samples = [5, 10, 50, 100,1000,10000]\n",
    "noise_lvl = [0, 0.1, 0.2, 0.3, 0.4, 0.5]\n",
    "\n",
    "regulation_method = 'l2'\n",
    "svm_kernel = 'rbf'\n",
    "k_folds = 10 \n",
    "classifiers = ['logistic', 'svm']\n",
    "data_types = ['circles', 'moons']\n",
    "#constants\n",
    "train_test_por = 0.2\n",
    "rndm_seed = 42\n",
    "#loop util vars\n",
    "iter_count = 0\n",
    "rdata_lst = []\n",
    "#looping\n",
    "for n in n_samples:\n",
    "    for nl in noise_lvl:\n",
    "        for i in data_types:\n",
    "            if i=='moons':\n",
    "                    points, label = make_moons(n_samples=n, noise=nl)\n",
    "                    df = pd.DataFrame(points, columns=['x','y'])\n",
    "                    df['label'] = label\n",
    "                    df.label = df.label.map({0:'A', 1:'B'})\n",
    "            if i=='circles':\n",
    "                    points, label = make_circles(n_samples=n, noise=nl)\n",
    "                    df = pd.DataFrame(points, columns=['x','y'])\n",
    "                    df['label'] = label\n",
    "                    df.label = df.label.map({0:'A', 1:'B'})      \n",
    "            print(f'Cross validation for {i} dataset with {n} samples and noise level {nl}')\n",
    "            if n < k_folds:           #is num of samples smaller than k_fold use n\n",
    "                kf = KFold(n_splits=n)\n",
    "            else:\n",
    "                kf = KFold(n_splits=k_folds)           #no shuffling \n",
    "            \n",
    "            acc_score = []         #to keep a list of all cross val scores\n",
    "            for clf_type in classifiers:\n",
    "               \n",
    "                if clf_type == 'svm':\n",
    "                    for Gamma in Gamma_range:\n",
    "                        svm_clf = svm.SVC(kernel=svm_kernel, gamma=Gamma)\n",
    "                        X = df.iloc[:,:-1] #without label\n",
    "                        y = df.iloc[:,-1]  #only label\n",
    "                        cv_results = cross_validate(svm_clf, X, y, cv = kf, return_train_score=True)\n",
    "                        TRE = sum(cv_results['train_score'])/k_folds\n",
    "                        TRE_STD = statistics.pstdev(cv_results['train_score'])\n",
    "                        #obtain test scores\n",
    "                        TESTE = sum(cv_results['test_score'])/k_folds\n",
    "                        TESTE_STD = statistics.pstdev(cv_results['test_score'])\n",
    "                        E_DIFF = TRE - TESTE\n",
    "                        iter_dic = {}\n",
    "                        iter_dic.update({\"n\": n, \"noise_lvl\": nl, \"data_type\": i, \"model\": clf_type,\n",
    "                                         \"TRE\": TRE, \"TRE_STD\": TRE_STD, \"TESTE\": TESTE,\n",
    "                                         \"TESTE_STD\": TESTE_STD, \"E_DIFF\": E_DIFF, \"model_param\": Gamma})\n",
    "                                      \n",
    "                        rdata_lst.append(iter_dic)\n",
    "                if clf_type == 'logistic':\n",
    "                    for C in C_range:\n",
    "                        log_reg = LogisticRegression(penalty=regulation_method, C=C)\n",
    "                        X = df.iloc[:,:-1] #without label\n",
    "                        y = df.iloc[:,-1]  #only label\n",
    "                        cv_results = cross_validate(log_reg, X, y, cv = kf, return_train_score=True)\n",
    "                        #obtain train scores\n",
    "                        TRE = sum(cv_results['train_score'])/k_folds\n",
    "                        TRE_STD = statistics.pstdev(cv_results['train_score'])\n",
    "                        #obtain test scores\n",
    "                        TESTE = sum(cv_results['test_score'])/k_folds\n",
    "                        TESTE_STD = statistics.pstdev(cv_results['test_score'])\n",
    "                        E_DIFF = TRE - TESTE\n",
    "                        iter_dic = {}\n",
    "                        iter_dic.update({\"n\": n, \"noise_lvl\": nl, \"data_type\": i, \"model\": clf_type,\n",
    "                                         \"TRE\": TRE, \"TRE_STD\": TRE_STD, \"TESTE\": TESTE,\n",
    "                                         \"TESTE_STD\": TESTE_STD, \"E_DIFF\": E_DIFF, \"model_param\": C})\n",
    "                        rdata_lst.append(iter_dic)\n",
    "                \n",
    "\n",
    "#results list of dict into a dataframe\n",
    "rdata_df = pd.DataFrame.from_dict(rdata_lst)\n",
    "   "
   ]
  },
  {
   "cell_type": "code",
   "execution_count": 40,
   "metadata": {},
   "outputs": [],
   "source": [
    "rdata_df.to_csv(r'C:\\Users\\yarden.ayalon\\python_ml\\Python_ML-2022 - New version\\Final project\\model_vars.csv')"
   ]
  },
  {
   "cell_type": "code",
   "execution_count": 28,
   "metadata": {},
   "outputs": [
    {
     "data": {
      "text/html": [
       "<div>\n",
       "<style scoped>\n",
       "    .dataframe tbody tr th:only-of-type {\n",
       "        vertical-align: middle;\n",
       "    }\n",
       "\n",
       "    .dataframe tbody tr th {\n",
       "        vertical-align: top;\n",
       "    }\n",
       "\n",
       "    .dataframe thead th {\n",
       "        text-align: right;\n",
       "    }\n",
       "</style>\n",
       "<table border=\"1\" class=\"dataframe\">\n",
       "  <thead>\n",
       "    <tr style=\"text-align: right;\">\n",
       "      <th></th>\n",
       "      <th>Unnamed: 0</th>\n",
       "      <th>n</th>\n",
       "      <th>noise_lvl</th>\n",
       "      <th>data_type</th>\n",
       "      <th>model</th>\n",
       "      <th>TRE</th>\n",
       "      <th>TRE_STD</th>\n",
       "      <th>TESTE</th>\n",
       "      <th>TESTE_STD</th>\n",
       "      <th>E_DIFF</th>\n",
       "      <th>model_param</th>\n",
       "    </tr>\n",
       "  </thead>\n",
       "  <tbody>\n",
       "    <tr>\n",
       "      <th>576</th>\n",
       "      <td>576</td>\n",
       "      <td>100</td>\n",
       "      <td>0.0</td>\n",
       "      <td>circles</td>\n",
       "      <td>logistic</td>\n",
       "      <td>0.503444</td>\n",
       "      <td>0.007895</td>\n",
       "      <td>0.436</td>\n",
       "      <td>0.034409</td>\n",
       "      <td>0.067444</td>\n",
       "      <td>0.001</td>\n",
       "    </tr>\n",
       "    <tr>\n",
       "      <th>592</th>\n",
       "      <td>592</td>\n",
       "      <td>100</td>\n",
       "      <td>0.0</td>\n",
       "      <td>moons</td>\n",
       "      <td>logistic</td>\n",
       "      <td>0.792667</td>\n",
       "      <td>0.007323</td>\n",
       "      <td>0.784</td>\n",
       "      <td>0.047159</td>\n",
       "      <td>0.008667</td>\n",
       "      <td>0.001</td>\n",
       "    </tr>\n",
       "    <tr>\n",
       "      <th>577</th>\n",
       "      <td>577</td>\n",
       "      <td>100</td>\n",
       "      <td>0.0</td>\n",
       "      <td>circles</td>\n",
       "      <td>logistic</td>\n",
       "      <td>0.500222</td>\n",
       "      <td>0.014123</td>\n",
       "      <td>0.424</td>\n",
       "      <td>0.048826</td>\n",
       "      <td>0.076222</td>\n",
       "      <td>0.010</td>\n",
       "    </tr>\n",
       "    <tr>\n",
       "      <th>593</th>\n",
       "      <td>593</td>\n",
       "      <td>100</td>\n",
       "      <td>0.0</td>\n",
       "      <td>moons</td>\n",
       "      <td>logistic</td>\n",
       "      <td>0.818111</td>\n",
       "      <td>0.006046</td>\n",
       "      <td>0.814</td>\n",
       "      <td>0.046733</td>\n",
       "      <td>0.004111</td>\n",
       "      <td>0.010</td>\n",
       "    </tr>\n",
       "    <tr>\n",
       "      <th>578</th>\n",
       "      <td>578</td>\n",
       "      <td>100</td>\n",
       "      <td>0.0</td>\n",
       "      <td>circles</td>\n",
       "      <td>logistic</td>\n",
       "      <td>0.507889</td>\n",
       "      <td>0.005632</td>\n",
       "      <td>0.425</td>\n",
       "      <td>0.046314</td>\n",
       "      <td>0.082889</td>\n",
       "      <td>0.100</td>\n",
       "    </tr>\n",
       "    <tr>\n",
       "      <th>594</th>\n",
       "      <td>594</td>\n",
       "      <td>100</td>\n",
       "      <td>0.0</td>\n",
       "      <td>moons</td>\n",
       "      <td>logistic</td>\n",
       "      <td>0.854889</td>\n",
       "      <td>0.003189</td>\n",
       "      <td>0.854</td>\n",
       "      <td>0.035270</td>\n",
       "      <td>0.000889</td>\n",
       "      <td>0.100</td>\n",
       "    </tr>\n",
       "    <tr>\n",
       "      <th>579</th>\n",
       "      <td>579</td>\n",
       "      <td>100</td>\n",
       "      <td>0.0</td>\n",
       "      <td>circles</td>\n",
       "      <td>logistic</td>\n",
       "      <td>0.508111</td>\n",
       "      <td>0.006593</td>\n",
       "      <td>0.425</td>\n",
       "      <td>0.050448</td>\n",
       "      <td>0.083111</td>\n",
       "      <td>0.500</td>\n",
       "    </tr>\n",
       "    <tr>\n",
       "      <th>595</th>\n",
       "      <td>595</td>\n",
       "      <td>100</td>\n",
       "      <td>0.0</td>\n",
       "      <td>moons</td>\n",
       "      <td>logistic</td>\n",
       "      <td>0.861000</td>\n",
       "      <td>0.003199</td>\n",
       "      <td>0.858</td>\n",
       "      <td>0.034293</td>\n",
       "      <td>0.003000</td>\n",
       "      <td>0.500</td>\n",
       "    </tr>\n",
       "    <tr>\n",
       "      <th>580</th>\n",
       "      <td>580</td>\n",
       "      <td>100</td>\n",
       "      <td>0.0</td>\n",
       "      <td>circles</td>\n",
       "      <td>logistic</td>\n",
       "      <td>0.508222</td>\n",
       "      <td>0.006444</td>\n",
       "      <td>0.425</td>\n",
       "      <td>0.050448</td>\n",
       "      <td>0.083222</td>\n",
       "      <td>1.000</td>\n",
       "    </tr>\n",
       "    <tr>\n",
       "      <th>596</th>\n",
       "      <td>596</td>\n",
       "      <td>100</td>\n",
       "      <td>0.0</td>\n",
       "      <td>moons</td>\n",
       "      <td>logistic</td>\n",
       "      <td>0.861222</td>\n",
       "      <td>0.003633</td>\n",
       "      <td>0.862</td>\n",
       "      <td>0.035440</td>\n",
       "      <td>-0.000778</td>\n",
       "      <td>1.000</td>\n",
       "    </tr>\n",
       "    <tr>\n",
       "      <th>581</th>\n",
       "      <td>581</td>\n",
       "      <td>100</td>\n",
       "      <td>0.0</td>\n",
       "      <td>circles</td>\n",
       "      <td>logistic</td>\n",
       "      <td>0.507778</td>\n",
       "      <td>0.006344</td>\n",
       "      <td>0.425</td>\n",
       "      <td>0.048631</td>\n",
       "      <td>0.082778</td>\n",
       "      <td>10.000</td>\n",
       "    </tr>\n",
       "    <tr>\n",
       "      <th>597</th>\n",
       "      <td>597</td>\n",
       "      <td>100</td>\n",
       "      <td>0.0</td>\n",
       "      <td>moons</td>\n",
       "      <td>logistic</td>\n",
       "      <td>0.861333</td>\n",
       "      <td>0.004240</td>\n",
       "      <td>0.862</td>\n",
       "      <td>0.035440</td>\n",
       "      <td>-0.000667</td>\n",
       "      <td>10.000</td>\n",
       "    </tr>\n",
       "    <tr>\n",
       "      <th>582</th>\n",
       "      <td>582</td>\n",
       "      <td>100</td>\n",
       "      <td>0.0</td>\n",
       "      <td>circles</td>\n",
       "      <td>logistic</td>\n",
       "      <td>0.507778</td>\n",
       "      <td>0.006344</td>\n",
       "      <td>0.425</td>\n",
       "      <td>0.048631</td>\n",
       "      <td>0.082778</td>\n",
       "      <td>100.000</td>\n",
       "    </tr>\n",
       "    <tr>\n",
       "      <th>598</th>\n",
       "      <td>598</td>\n",
       "      <td>100</td>\n",
       "      <td>0.0</td>\n",
       "      <td>moons</td>\n",
       "      <td>logistic</td>\n",
       "      <td>0.861556</td>\n",
       "      <td>0.004613</td>\n",
       "      <td>0.862</td>\n",
       "      <td>0.035440</td>\n",
       "      <td>-0.000444</td>\n",
       "      <td>100.000</td>\n",
       "    </tr>\n",
       "  </tbody>\n",
       "</table>\n",
       "</div>"
      ],
      "text/plain": [
       "     Unnamed: 0    n  noise_lvl data_type     model       TRE   TRE_STD  \\\n",
       "576         576  100        0.0   circles  logistic  0.503444  0.007895   \n",
       "592         592  100        0.0     moons  logistic  0.792667  0.007323   \n",
       "577         577  100        0.0   circles  logistic  0.500222  0.014123   \n",
       "593         593  100        0.0     moons  logistic  0.818111  0.006046   \n",
       "578         578  100        0.0   circles  logistic  0.507889  0.005632   \n",
       "594         594  100        0.0     moons  logistic  0.854889  0.003189   \n",
       "579         579  100        0.0   circles  logistic  0.508111  0.006593   \n",
       "595         595  100        0.0     moons  logistic  0.861000  0.003199   \n",
       "580         580  100        0.0   circles  logistic  0.508222  0.006444   \n",
       "596         596  100        0.0     moons  logistic  0.861222  0.003633   \n",
       "581         581  100        0.0   circles  logistic  0.507778  0.006344   \n",
       "597         597  100        0.0     moons  logistic  0.861333  0.004240   \n",
       "582         582  100        0.0   circles  logistic  0.507778  0.006344   \n",
       "598         598  100        0.0     moons  logistic  0.861556  0.004613   \n",
       "\n",
       "     TESTE  TESTE_STD    E_DIFF  model_param  \n",
       "576  0.436   0.034409  0.067444        0.001  \n",
       "592  0.784   0.047159  0.008667        0.001  \n",
       "577  0.424   0.048826  0.076222        0.010  \n",
       "593  0.814   0.046733  0.004111        0.010  \n",
       "578  0.425   0.046314  0.082889        0.100  \n",
       "594  0.854   0.035270  0.000889        0.100  \n",
       "579  0.425   0.050448  0.083111        0.500  \n",
       "595  0.858   0.034293  0.003000        0.500  \n",
       "580  0.425   0.050448  0.083222        1.000  \n",
       "596  0.862   0.035440 -0.000778        1.000  \n",
       "581  0.425   0.048631  0.082778       10.000  \n",
       "597  0.862   0.035440 -0.000667       10.000  \n",
       "582  0.425   0.048631  0.082778      100.000  \n",
       "598  0.862   0.035440 -0.000444      100.000  "
      ]
     },
     "execution_count": 28,
     "metadata": {},
     "output_type": "execute_result"
    }
   ],
   "source": [
    "rdata_df[(rdata_df.model=='logistic') &(rdata_df.noise_lvl==0) & (rdata_df.n==100)].sort_values(by='model_param')"
   ]
  },
  {
   "cell_type": "code",
   "execution_count": 29,
   "metadata": {},
   "outputs": [],
   "source": [
    "# from IPython.display import display, clear_output\n",
    "\n",
    "# for j in rdata_df['model'].unique():  \n",
    "#     for i in rdata_df['n'].unique(): \n",
    "#         for k in rdata_df['noise_lvl'].unique():\n",
    "#                 for t in rdata_df['data_type'].unique():\n",
    "#                     ds_data = rdata_df[(rdata_df.model==j) & (rdata_df.data_type==t) & (rdata_df['noise_lvl']==k)  &(rdata_df['n']==i)   ]\n",
    "#                     fig = px.line(ds_data, x='model_param', y=['TRE', 'TESTE'])\n",
    "#                     fig.update_layout(title_text=f'Test Accuracy by {ds_data.model.unique()[0]} Hyperparamter - Dataset: {ds_data.data_type.unique()[0]} , noise ={k}, size=  {i}, model={j}')\n",
    "#                     fig.update_yaxes(title_text='Accuracy', secondary_y=False)\n",
    "#                     fig.show()"
   ]
  },
  {
   "cell_type": "markdown",
   "metadata": {},
   "source": [
    "### Analysis  "
   ]
  },
  {
   "cell_type": "code",
   "execution_count": 31,
   "metadata": {},
   "outputs": [],
   "source": [
    "df=pd.read_csv(r'C:\\Users\\yarden.ayalon\\python_ml\\Python_ML-2022 - New version\\Final project\\model_vars.csv')"
   ]
  },
  {
   "cell_type": "code",
   "execution_count": 8,
   "metadata": {},
   "outputs": [
    {
     "data": {
      "text/html": [
       "<div>\n",
       "<style scoped>\n",
       "    .dataframe tbody tr th:only-of-type {\n",
       "        vertical-align: middle;\n",
       "    }\n",
       "\n",
       "    .dataframe tbody tr th {\n",
       "        vertical-align: top;\n",
       "    }\n",
       "\n",
       "    .dataframe thead th {\n",
       "        text-align: right;\n",
       "    }\n",
       "</style>\n",
       "<table border=\"1\" class=\"dataframe\">\n",
       "  <thead>\n",
       "    <tr style=\"text-align: right;\">\n",
       "      <th></th>\n",
       "      <th>Unnamed: 0</th>\n",
       "      <th>n</th>\n",
       "      <th>noise_lvl</th>\n",
       "      <th>data_type</th>\n",
       "      <th>model</th>\n",
       "      <th>TRE</th>\n",
       "      <th>TRE_STD</th>\n",
       "      <th>TESTE</th>\n",
       "      <th>TESTE_STD</th>\n",
       "      <th>E_DIFF</th>\n",
       "      <th>model_param</th>\n",
       "    </tr>\n",
       "  </thead>\n",
       "  <tbody>\n",
       "    <tr>\n",
       "      <th>0</th>\n",
       "      <td>0</td>\n",
       "      <td>5</td>\n",
       "      <td>0.0</td>\n",
       "      <td>circles</td>\n",
       "      <td>logistic</td>\n",
       "      <td>0.252375</td>\n",
       "      <td>0.008782</td>\n",
       "      <td>0.2340</td>\n",
       "      <td>0.019391</td>\n",
       "      <td>0.018375</td>\n",
       "      <td>0.001</td>\n",
       "    </tr>\n",
       "    <tr>\n",
       "      <th>1</th>\n",
       "      <td>1</td>\n",
       "      <td>5</td>\n",
       "      <td>0.0</td>\n",
       "      <td>circles</td>\n",
       "      <td>logistic</td>\n",
       "      <td>0.256750</td>\n",
       "      <td>0.029595</td>\n",
       "      <td>0.2405</td>\n",
       "      <td>0.042942</td>\n",
       "      <td>0.016250</td>\n",
       "      <td>0.010</td>\n",
       "    </tr>\n",
       "    <tr>\n",
       "      <th>2</th>\n",
       "      <td>2</td>\n",
       "      <td>5</td>\n",
       "      <td>0.0</td>\n",
       "      <td>circles</td>\n",
       "      <td>logistic</td>\n",
       "      <td>0.256625</td>\n",
       "      <td>0.009104</td>\n",
       "      <td>0.2375</td>\n",
       "      <td>0.046152</td>\n",
       "      <td>0.019125</td>\n",
       "      <td>0.100</td>\n",
       "    </tr>\n",
       "    <tr>\n",
       "      <th>3</th>\n",
       "      <td>3</td>\n",
       "      <td>5</td>\n",
       "      <td>0.0</td>\n",
       "      <td>circles</td>\n",
       "      <td>logistic</td>\n",
       "      <td>0.257250</td>\n",
       "      <td>0.011028</td>\n",
       "      <td>0.2400</td>\n",
       "      <td>0.043012</td>\n",
       "      <td>0.017250</td>\n",
       "      <td>0.500</td>\n",
       "    </tr>\n",
       "    <tr>\n",
       "      <th>4</th>\n",
       "      <td>4</td>\n",
       "      <td>5</td>\n",
       "      <td>0.0</td>\n",
       "      <td>circles</td>\n",
       "      <td>logistic</td>\n",
       "      <td>0.257250</td>\n",
       "      <td>0.010326</td>\n",
       "      <td>0.2400</td>\n",
       "      <td>0.043012</td>\n",
       "      <td>0.017250</td>\n",
       "      <td>1.000</td>\n",
       "    </tr>\n",
       "    <tr>\n",
       "      <th>...</th>\n",
       "      <td>...</td>\n",
       "      <td>...</td>\n",
       "      <td>...</td>\n",
       "      <td>...</td>\n",
       "      <td>...</td>\n",
       "      <td>...</td>\n",
       "      <td>...</td>\n",
       "      <td>...</td>\n",
       "      <td>...</td>\n",
       "      <td>...</td>\n",
       "      <td>...</td>\n",
       "    </tr>\n",
       "    <tr>\n",
       "      <th>1147</th>\n",
       "      <td>1147</td>\n",
       "      <td>10000</td>\n",
       "      <td>0.5</td>\n",
       "      <td>moons</td>\n",
       "      <td>svm</td>\n",
       "      <td>0.856889</td>\n",
       "      <td>0.003810</td>\n",
       "      <td>0.8550</td>\n",
       "      <td>0.031064</td>\n",
       "      <td>0.001889</td>\n",
       "      <td>0.100</td>\n",
       "    </tr>\n",
       "    <tr>\n",
       "      <th>1148</th>\n",
       "      <td>1148</td>\n",
       "      <td>10000</td>\n",
       "      <td>0.5</td>\n",
       "      <td>moons</td>\n",
       "      <td>svm</td>\n",
       "      <td>0.931778</td>\n",
       "      <td>0.003758</td>\n",
       "      <td>0.9260</td>\n",
       "      <td>0.022000</td>\n",
       "      <td>0.005778</td>\n",
       "      <td>0.500</td>\n",
       "    </tr>\n",
       "    <tr>\n",
       "      <th>1149</th>\n",
       "      <td>1149</td>\n",
       "      <td>10000</td>\n",
       "      <td>0.5</td>\n",
       "      <td>moons</td>\n",
       "      <td>svm</td>\n",
       "      <td>0.950111</td>\n",
       "      <td>0.002959</td>\n",
       "      <td>0.9460</td>\n",
       "      <td>0.021071</td>\n",
       "      <td>0.004111</td>\n",
       "      <td>5.000</td>\n",
       "    </tr>\n",
       "    <tr>\n",
       "      <th>1150</th>\n",
       "      <td>1150</td>\n",
       "      <td>10000</td>\n",
       "      <td>0.5</td>\n",
       "      <td>moons</td>\n",
       "      <td>svm</td>\n",
       "      <td>0.949889</td>\n",
       "      <td>0.002917</td>\n",
       "      <td>0.9450</td>\n",
       "      <td>0.023345</td>\n",
       "      <td>0.004889</td>\n",
       "      <td>10.000</td>\n",
       "    </tr>\n",
       "    <tr>\n",
       "      <th>1151</th>\n",
       "      <td>1151</td>\n",
       "      <td>10000</td>\n",
       "      <td>0.5</td>\n",
       "      <td>moons</td>\n",
       "      <td>svm</td>\n",
       "      <td>0.956222</td>\n",
       "      <td>0.002685</td>\n",
       "      <td>0.9430</td>\n",
       "      <td>0.022825</td>\n",
       "      <td>0.013222</td>\n",
       "      <td>50.000</td>\n",
       "    </tr>\n",
       "  </tbody>\n",
       "</table>\n",
       "<p>1152 rows × 11 columns</p>\n",
       "</div>"
      ],
      "text/plain": [
       "      Unnamed: 0      n  noise_lvl data_type     model       TRE   TRE_STD  \\\n",
       "0              0      5        0.0   circles  logistic  0.252375  0.008782   \n",
       "1              1      5        0.0   circles  logistic  0.256750  0.029595   \n",
       "2              2      5        0.0   circles  logistic  0.256625  0.009104   \n",
       "3              3      5        0.0   circles  logistic  0.257250  0.011028   \n",
       "4              4      5        0.0   circles  logistic  0.257250  0.010326   \n",
       "...          ...    ...        ...       ...       ...       ...       ...   \n",
       "1147        1147  10000        0.5     moons       svm  0.856889  0.003810   \n",
       "1148        1148  10000        0.5     moons       svm  0.931778  0.003758   \n",
       "1149        1149  10000        0.5     moons       svm  0.950111  0.002959   \n",
       "1150        1150  10000        0.5     moons       svm  0.949889  0.002917   \n",
       "1151        1151  10000        0.5     moons       svm  0.956222  0.002685   \n",
       "\n",
       "       TESTE  TESTE_STD    E_DIFF  model_param  \n",
       "0     0.2340   0.019391  0.018375        0.001  \n",
       "1     0.2405   0.042942  0.016250        0.010  \n",
       "2     0.2375   0.046152  0.019125        0.100  \n",
       "3     0.2400   0.043012  0.017250        0.500  \n",
       "4     0.2400   0.043012  0.017250        1.000  \n",
       "...      ...        ...       ...          ...  \n",
       "1147  0.8550   0.031064  0.001889        0.100  \n",
       "1148  0.9260   0.022000  0.005778        0.500  \n",
       "1149  0.9460   0.021071  0.004111        5.000  \n",
       "1150  0.9450   0.023345  0.004889       10.000  \n",
       "1151  0.9430   0.022825  0.013222       50.000  \n",
       "\n",
       "[1152 rows x 11 columns]"
      ]
     },
     "execution_count": 8,
     "metadata": {},
     "output_type": "execute_result"
    }
   ],
   "source": []
  },
  {
   "cell_type": "code",
   "execution_count": 32,
   "metadata": {},
   "outputs": [],
   "source": [
    "import ipywidgets as widgets"
   ]
  },
  {
   "cell_type": "markdown",
   "metadata": {},
   "source": [
    "### Q1\n",
    "### For SVM only, For dataset of size 10k and for each dataset, What are the best model params? How stable is it?"
   ]
  },
  {
   "cell_type": "code",
   "execution_count": 33,
   "metadata": {},
   "outputs": [
    {
     "data": {
      "application/vnd.jupyter.widget-view+json": {
       "model_id": "0c6a8049aac44e5d9dcc6cf43b3bc06d",
       "version_major": 2,
       "version_minor": 0
      },
      "text/plain": [
       "interactive(children=(Dropdown(description='data_type', options=('circles', 'moons'), value='circles'), Output…"
      ]
     },
     "metadata": {},
     "output_type": "display_data"
    }
   ],
   "source": [
    "@widgets.interact\n",
    "def show_date_type(data_type=df.data_type.unique()):\n",
    "    data = df[(df.data_type == data_type) &(df.model == 'svm') &(df.n == 10000)]\n",
    "    #print(data)\n",
    "    fig = px.line(data, x='model_param',y='TESTE', color='noise_lvl',hover_data=['TESTE_STD'],template='plotly_white')\n",
    "    return fig"
   ]
  },
  {
   "cell_type": "code",
   "execution_count": 37,
   "metadata": {},
   "outputs": [],
   "source": [
    "# For circles Data best param is where gamma=50,TESTE = 0.654 ,with noise level of 0.3- STD 0.041 - Even less than without any noise!  \n",
    "# For moons Data  best param is where gamma=50, TESTE = 0.943 with noise level of 0.5 - STD = 0.022 -> More than without any noise\n",
    "\n",
    "### Q in this section:\n",
    "### In circles - > Looking only on gamma = 50, how come no noise has higher STD than no noise ? I think it is because when you have noise in the train set it will be more relevant to any other test set\n",
    "### In mooon -> Why higher noise give a worse STD ( The opposite of what happened in circles)"
   ]
  },
  {
   "cell_type": "markdown",
   "metadata": {},
   "source": [
    "### Q2 For SVM only, For dataset of size 10k and for each dataset, What is the most stable model and model params? How good is it in comparison to other models? Explain using bias and variance terminoligy."
   ]
  },
  {
   "cell_type": "code",
   "execution_count": 42,
   "metadata": {},
   "outputs": [
    {
     "data": {
      "application/vnd.jupyter.widget-view+json": {
       "model_id": "5f044b3a402e42a1a0d2c43438396b1e",
       "version_major": 2,
       "version_minor": 0
      },
      "text/plain": [
       "interactive(children=(Dropdown(description='data_type', options=('circles', 'moons'), value='circles'), Output…"
      ]
     },
     "metadata": {},
     "output_type": "display_data"
    }
   ],
   "source": [
    "@widgets.interact\n",
    "def show_date_type(data_type=df.data_type.unique()):\n",
    "    data = df[(df.data_type == data_type) &(df.model == 'svm') &(df.n == 10000) ]\n",
    "    #print(data)\n",
    "    fig = px.line(data, x='model_param',y='TESTE_STD', color='noise_lvl',hover_data=['TESTE'],template='plotly_white')\n",
    "    return fig"
   ]
  },
  {
   "cell_type": "markdown",
   "metadata": {},
   "source": []
  },
  {
   "cell_type": "code",
   "execution_count": 41,
   "metadata": {},
   "outputs": [],
   "source": [
    "# For Cicles Data set the most stable model is with no noise, gamma at its minimal level.STD is 0.0126. Test accuracy is 0.47 ( VS 0.63 for the highest gamma).\n",
    "# This happens since in lower gammas the model is more conservative- Less accuracte ( high bias) but very consisten( low variance)\n",
    "# For Moons Data the minimal TESTTE_STD is actually for the highest gamma, with no noise.STD is 0.0137 .\n",
    "#I belive this is due to the distribution of points of that specific model where. It is interesting to see the STD trend for no noise, between the two data sets:\n",
    "# As seen in previous answer classification in cicles Data set is much harder- The low gamma might result with a slight better STD but the accuracy is worse than in Moons data set. When the gamma is higher moons data set is a superior in all measures "
   ]
  },
  {
   "cell_type": "code",
   "execution_count": 43,
   "metadata": {},
   "outputs": [],
   "source": [
    "###  ??What makes circles act differantly then moons?? - > Why high complexity in moons data set gives lower STD?"
   ]
  },
  {
   "cell_type": "markdown",
   "metadata": {},
   "source": [
    "### Q3 - Does regularization helps in linear models?\n",
    "### Does regularization help for linear models? consider different datasets sizes."
   ]
  },
  {
   "cell_type": "code",
   "execution_count": 44,
   "metadata": {},
   "outputs": [
    {
     "data": {
      "application/vnd.jupyter.widget-view+json": {
       "model_id": "94406cdef49d409c8cb3ed241e6766e3",
       "version_major": 2,
       "version_minor": 0
      },
      "text/plain": [
       "interactive(children=(Dropdown(description='noise_lvl', options=(0.0, 0.1, 0.2, 0.3, 0.4, 0.5), value=0.0), Dr…"
      ]
     },
     "metadata": {},
     "output_type": "display_data"
    }
   ],
   "source": [
    "@widgets.interact\n",
    "def show_date_type(noise_lvl=df.noise_lvl.unique(),data_type=df.data_type.unique()):\n",
    "    data = df[(df.noise_lvl == noise_lvl) &(df.model == 'logistic') &   (df.data_type == data_type) &(df.model_param < 100)]\n",
    "    fig=px.line(data, x='model_param',y='TESTE', color='n',hover_data=['TESTE'],template='plotly_white')\n",
    "    return fig"
   ]
  },
  {
   "cell_type": "code",
   "execution_count": 79,
   "metadata": {},
   "outputs": [],
   "source": [
    "### Regularization in the linear model stops improving model's accuracy in one point. Since it is a linear model, and ridge only adjust the slope of that line, at some point it gets to the best slope. \n"
   ]
  },
  {
   "cell_type": "code",
   "execution_count": 81,
   "metadata": {},
   "outputs": [],
   "source": [
    "### ??Why the higher penalty doensn't reduce the model accuracy??  Would expect to see lower STD with time, and then a point when it goes up"
   ]
  },
  {
   "cell_type": "markdown",
   "metadata": {},
   "source": [
    "### Q4 + 5\n",
    "### For a given noise level of your chioce, How does the train, test and difference error changes with increasing data sizes? (answer for svm and LR seperatly)\n",
    "### For a given noise level of your chioce, How does the train, test and difference error changes with increasing model complexity? (answer for svm and LR seperatly)"
   ]
  },
  {
   "cell_type": "code",
   "execution_count": 45,
   "metadata": {},
   "outputs": [
    {
     "data": {
      "application/vnd.jupyter.widget-view+json": {
       "model_id": "d5e68a1232bd43cfb0240e7f89f94188",
       "version_major": 2,
       "version_minor": 0
      },
      "text/plain": [
       "interactive(children=(Dropdown(description='model', options=('logistic', 'svm'), value='logistic'), Dropdown(d…"
      ]
     },
     "metadata": {},
     "output_type": "display_data"
    }
   ],
   "source": [
    "@widgets.interact\n",
    "def show_date_type(model=df.model.unique(),data_type=df.data_type.unique()):\n",
    "    data = df[(df.noise_lvl == 0.1) &(df.model == model) &   (df.data_type == data_type)  ]\n",
    "    fig=px.line(data, x='model_param',y=['TRE','TESTE','E_DIFF'], facet_col='n',template='plotly_white')\n",
    "    return fig"
   ]
  },
  {
   "cell_type": "code",
   "execution_count": null,
   "metadata": {},
   "outputs": [],
   "source": [
    "### SVM, Moons- With higher n the test and the train errors are getting higher also. but why in bigger n the differance is getting higher also ? Doesn't overfit happens in lower n?\n",
    "### SVM, circles- Same. Why the overfit have worse affect with larger data sets?\n",
    "\n",
    "##logistic, Moons -Only when the n is very low (5) there is a difference in test/train scores. With bigger N the measures act pretty much the same. \n",
    "##logistic, Circles -Interesting to see that with a n=100 the test-train diff is the highest. "
   ]
  },
  {
   "cell_type": "code",
   "execution_count": null,
   "metadata": {},
   "outputs": [],
   "source": []
  },
  {
   "cell_type": "code",
   "execution_count": 48,
   "metadata": {},
   "outputs": [
    {
     "data": {
      "application/vnd.jupyter.widget-view+json": {
       "model_id": "dc8fb3eb9c1048b28a7de357a6360413",
       "version_major": 2,
       "version_minor": 0
      },
      "text/plain": [
       "interactive(children=(Dropdown(description='model', options=('logistic', 'svm'), value='logistic'), Dropdown(d…"
      ]
     },
     "metadata": {},
     "output_type": "display_data"
    }
   ],
   "source": [
    "##Q6\n",
    "@widgets.interact\n",
    "def show_date_type(model=df.model.unique(),data_type=df.data_type.unique()):\n",
    "    data = df[(df.model == model) &   (df.data_type == data_type)    ]\n",
    "    fig=px.scatter(data, x='model_param',y=['noise_lvl'], color='TESTE',template='plotly_white')\n",
    "    return fig"
   ]
  },
  {
   "cell_type": "code",
   "execution_count": 53,
   "metadata": {},
   "outputs": [
    {
     "data": {
      "text/html": [
       "<div>\n",
       "<style scoped>\n",
       "    .dataframe tbody tr th:only-of-type {\n",
       "        vertical-align: middle;\n",
       "    }\n",
       "\n",
       "    .dataframe tbody tr th {\n",
       "        vertical-align: top;\n",
       "    }\n",
       "\n",
       "    .dataframe thead th {\n",
       "        text-align: right;\n",
       "    }\n",
       "</style>\n",
       "<table border=\"1\" class=\"dataframe\">\n",
       "  <thead>\n",
       "    <tr style=\"text-align: right;\">\n",
       "      <th></th>\n",
       "      <th>n</th>\n",
       "      <th>data_type</th>\n",
       "      <th>model</th>\n",
       "      <th>model_param</th>\n",
       "      <th>TESTE</th>\n",
       "    </tr>\n",
       "  </thead>\n",
       "  <tbody>\n",
       "    <tr>\n",
       "      <th>94</th>\n",
       "      <td>50</td>\n",
       "      <td>moons</td>\n",
       "      <td>svm</td>\n",
       "      <td>10.0</td>\n",
       "      <td>0.942500</td>\n",
       "    </tr>\n",
       "    <tr>\n",
       "      <th>93</th>\n",
       "      <td>50</td>\n",
       "      <td>moons</td>\n",
       "      <td>svm</td>\n",
       "      <td>5.0</td>\n",
       "      <td>0.941500</td>\n",
       "    </tr>\n",
       "    <tr>\n",
       "      <th>61</th>\n",
       "      <td>10</td>\n",
       "      <td>moons</td>\n",
       "      <td>svm</td>\n",
       "      <td>5.0</td>\n",
       "      <td>0.938500</td>\n",
       "    </tr>\n",
       "    <tr>\n",
       "      <th>95</th>\n",
       "      <td>50</td>\n",
       "      <td>moons</td>\n",
       "      <td>svm</td>\n",
       "      <td>50.0</td>\n",
       "      <td>0.937833</td>\n",
       "    </tr>\n",
       "    <tr>\n",
       "      <th>62</th>\n",
       "      <td>10</td>\n",
       "      <td>moons</td>\n",
       "      <td>svm</td>\n",
       "      <td>10.0</td>\n",
       "      <td>0.937667</td>\n",
       "    </tr>\n",
       "    <tr>\n",
       "      <th>...</th>\n",
       "      <td>...</td>\n",
       "      <td>...</td>\n",
       "      <td>...</td>\n",
       "      <td>...</td>\n",
       "      <td>...</td>\n",
       "    </tr>\n",
       "    <tr>\n",
       "      <th>4</th>\n",
       "      <td>5</td>\n",
       "      <td>circles</td>\n",
       "      <td>logistic</td>\n",
       "      <td>1.0</td>\n",
       "      <td>0.234417</td>\n",
       "    </tr>\n",
       "    <tr>\n",
       "      <th>3</th>\n",
       "      <td>5</td>\n",
       "      <td>circles</td>\n",
       "      <td>logistic</td>\n",
       "      <td>0.5</td>\n",
       "      <td>0.234417</td>\n",
       "    </tr>\n",
       "    <tr>\n",
       "      <th>2</th>\n",
       "      <td>5</td>\n",
       "      <td>circles</td>\n",
       "      <td>logistic</td>\n",
       "      <td>0.1</td>\n",
       "      <td>0.234333</td>\n",
       "    </tr>\n",
       "    <tr>\n",
       "      <th>6</th>\n",
       "      <td>5</td>\n",
       "      <td>circles</td>\n",
       "      <td>logistic</td>\n",
       "      <td>100.0</td>\n",
       "      <td>0.234250</td>\n",
       "    </tr>\n",
       "    <tr>\n",
       "      <th>5</th>\n",
       "      <td>5</td>\n",
       "      <td>circles</td>\n",
       "      <td>logistic</td>\n",
       "      <td>10.0</td>\n",
       "      <td>0.234167</td>\n",
       "    </tr>\n",
       "  </tbody>\n",
       "</table>\n",
       "<p>192 rows × 5 columns</p>\n",
       "</div>"
      ],
      "text/plain": [
       "     n data_type     model  model_param     TESTE\n",
       "94  50     moons       svm         10.0  0.942500\n",
       "93  50     moons       svm          5.0  0.941500\n",
       "61  10     moons       svm          5.0  0.938500\n",
       "95  50     moons       svm         50.0  0.937833\n",
       "62  10     moons       svm         10.0  0.937667\n",
       "..  ..       ...       ...          ...       ...\n",
       "4    5   circles  logistic          1.0  0.234417\n",
       "3    5   circles  logistic          0.5  0.234417\n",
       "2    5   circles  logistic          0.1  0.234333\n",
       "6    5   circles  logistic        100.0  0.234250\n",
       "5    5   circles  logistic         10.0  0.234167\n",
       "\n",
       "[192 rows x 5 columns]"
      ]
     },
     "execution_count": 53,
     "metadata": {},
     "output_type": "execute_result"
    }
   ],
   "source": [
    "df.groupby(['n','data_type','model','model_param']).TESTE.mean().to_frame().reset_index().sort_values(by=['TESTE'],ascending=False)"
   ]
  },
  {
   "cell_type": "code",
   "execution_count": 54,
   "metadata": {},
   "outputs": [
    {
     "data": {
      "application/vnd.jupyter.widget-view+json": {
       "model_id": "b67026d6ca574cdcb177ec4595b77a0d",
       "version_major": 2,
       "version_minor": 0
      },
      "text/plain": [
       "interactive(children=(Dropdown(description='model', options=('logistic', 'svm'), value='logistic'), Dropdown(d…"
      ]
     },
     "metadata": {},
     "output_type": "display_data"
    }
   ],
   "source": [
    "@widgets.interact\n",
    "def show_date_type(model=q6.model.unique(),data_type=q6.data_type.unique(),model_param=q6.model_param.unique()):\n",
    "    data = df[(q6.model == model) &   (q6.data_type == data_type) &   (q6.model_param == model_param)  ]\n",
    "    fig=px.bar(data.sort_values(by=['noise_lvl','TESTE'],ascending=False), x='noise_lvl',y=['TESTE'], color='n',template='plotly_white')\n",
    "    return fig"
   ]
  },
  {
   "cell_type": "code",
   "execution_count": null,
   "metadata": {},
   "outputs": [],
   "source": []
  },
  {
   "cell_type": "code",
   "execution_count": null,
   "metadata": {},
   "outputs": [],
   "source": []
  },
  {
   "cell_type": "markdown",
   "metadata": {},
   "source": [
    "## Circles Dataset"
   ]
  },
  {
   "cell_type": "code",
   "execution_count": 56,
   "metadata": {},
   "outputs": [],
   "source": [
    "from sklearn.datasets import make_circles"
   ]
  },
  {
   "cell_type": "code",
   "execution_count": 57,
   "metadata": {},
   "outputs": [],
   "source": [
    "def make_circles_dataframe(n_samples, noise_level):\n",
    "    points, label = make_circles(n_samples=n_samples, noise=noise_level)\n",
    "    circles_df = pd.DataFrame(points, columns=['x','y'])\n",
    "    circles_df['label'] = label\n",
    "    circles_df.label = circles_df.label.map({0:'A', 1:'B'})\n",
    "    return circles_df"
   ]
  },
  {
   "cell_type": "code",
   "execution_count": 58,
   "metadata": {},
   "outputs": [
    {
     "data": {
      "text/html": [
       "<div>\n",
       "<style scoped>\n",
       "    .dataframe tbody tr th:only-of-type {\n",
       "        vertical-align: middle;\n",
       "    }\n",
       "\n",
       "    .dataframe tbody tr th {\n",
       "        vertical-align: top;\n",
       "    }\n",
       "\n",
       "    .dataframe thead th {\n",
       "        text-align: right;\n",
       "    }\n",
       "</style>\n",
       "<table border=\"1\" class=\"dataframe\">\n",
       "  <thead>\n",
       "    <tr style=\"text-align: right;\">\n",
       "      <th></th>\n",
       "      <th>x</th>\n",
       "      <th>y</th>\n",
       "      <th>label</th>\n",
       "    </tr>\n",
       "  </thead>\n",
       "  <tbody>\n",
       "    <tr>\n",
       "      <th>0</th>\n",
       "      <td>0.974527</td>\n",
       "      <td>-0.224271</td>\n",
       "      <td>A</td>\n",
       "    </tr>\n",
       "    <tr>\n",
       "      <th>1</th>\n",
       "      <td>-0.303823</td>\n",
       "      <td>0.740062</td>\n",
       "      <td>B</td>\n",
       "    </tr>\n",
       "    <tr>\n",
       "      <th>2</th>\n",
       "      <td>0.823533</td>\n",
       "      <td>-0.567269</td>\n",
       "      <td>A</td>\n",
       "    </tr>\n",
       "    <tr>\n",
       "      <th>3</th>\n",
       "      <td>0.779621</td>\n",
       "      <td>0.179417</td>\n",
       "      <td>B</td>\n",
       "    </tr>\n",
       "    <tr>\n",
       "      <th>4</th>\n",
       "      <td>0.260842</td>\n",
       "      <td>0.965382</td>\n",
       "      <td>A</td>\n",
       "    </tr>\n",
       "  </tbody>\n",
       "</table>\n",
       "</div>"
      ],
      "text/plain": [
       "          x         y label\n",
       "0  0.974527 -0.224271     A\n",
       "1 -0.303823  0.740062     B\n",
       "2  0.823533 -0.567269     A\n",
       "3  0.779621  0.179417     B\n",
       "4  0.260842  0.965382     A"
      ]
     },
     "execution_count": 58,
     "metadata": {},
     "output_type": "execute_result"
    }
   ],
   "source": [
    "circles_df = make_circles_dataframe(n_samples=500, noise_level=0)\n",
    "circles_df.head()"
   ]
  },
  {
   "cell_type": "code",
   "execution_count": 59,
   "metadata": {},
   "outputs": [
    {
     "data": {
      "application/vnd.plotly.v1+json": {
       "config": {
        "plotlyServerURL": "https://plot.ly"
       },
       "data": [
        {
         "hovertemplate": "label=A<br>x=%{x}<br>y=%{y}<extra></extra>",
         "legendgroup": "A",
         "marker": {
          "color": "#636efa",
          "symbol": "circle"
         },
         "mode": "markers",
         "name": "A",
         "orientation": "v",
         "showlegend": true,
         "type": "scatter",
         "x": [
          0.9745268727865772,
          0.8235325976284275,
          0.260841506289897,
          -0.4927273415482916,
          -0.954864544746643,
          -0.08785119655074321,
          0.6374239897486897,
          0.6753328081210244,
          -0.06279051952931321,
          -0.30901699437494756,
          0.08785119655074285,
          0.7115356772092856,
          0.9202318473658704,
          0.7624425110114479,
          0.5144395337815064,
          0.9949510169813002,
          0.7939903986478354,
          -0.8763066800438636,
          -0.7784623015670232,
          0.9987369566060175,
          -0.6374239897486897,
          -0.37977909552180106,
          -0.9987369566060175,
          -0.21200710992205485,
          0.23649899702372473,
          -0.3328195445229868,
          0.44838321609003223,
          -0.23649899702372423,
          0.4707039321653329,
          0.26084150628989716,
          -0.0878511965507432,
          0.5358267949789965,
          0.18738131458572452,
          -0.6565857557529566,
          -0.988651744737914,
          0.4707039321653325,
          -0.30901699437494756,
          0.6565857557529569,
          0.63742398974869,
          -0.5358267949789963,
          -0.5568756164881878,
          0.8881364488135445,
          0.9996841892832999,
          0.3564118787132509,
          0.9101059706849955,
          -0.9745268727865772,
          0.18738131458572513,
          -0.745941145424182,
          -0.6753328081210244,
          -0.5144395337815068,
          -0.9620276715860859,
          0.8763066800438636,
          0.30901699437494723,
          0.30901699437494745,
          -0.7939903986478353,
          -0.8235325976284275,
          0.40290643571366247,
          -0.9971589002606139,
          0.5775727034222675,
          0.7784623015670236,
          -0.012566039883352653,
          0.9620276715860859,
          -0.988651744737914,
          -0.9685831611286311,
          -0.7115356772092851,
          -0.9297764858882515,
          -0.9202318473658704,
          0.2850192624699766,
          0.6753328081210244,
          -0.9798550523842469,
          -0.037690182669934576,
          0.8881364488135446,
          0.11285638487348157,
          0.0627905195293133,
          0.7784623015670233,
          0.8375280400421419,
          0.8235325976284275,
          0.9745268727865771,
          -0.8375280400421417,
          -0.2850192624699761,
          -0.6936533058128049,
          -0.9387338576538741,
          -0.44838321609003196,
          -0.9996841892832999,
          -0.9845643345292053,
          0.1626371651948835,
          0.9798550523842469,
          -0.4483832160900321,
          0.9798550523842469,
          -0.3564118787132508,
          -0.8639234171928354,
          -0.1873813145857246,
          0.745941145424182,
          -0.8235325976284273,
          0.9101059706849957,
          0.8639234171928353,
          -0.9470983049947443,
          -0.7459411454241821,
          -0.8375280400421418,
          0.9921147013144779,
          -0.7115356772092853,
          -0.2608415062898969,
          -0.9745268727865771,
          0.9387338576538742,
          -0.1128563848734817,
          0.954864544746643,
          0.3797790955218011,
          0.0878511965507431,
          -1,
          -0.03769018266993415,
          -0.617859613090334,
          -0.4029064357136628,
          0.9297764858882515,
          -0.13779029068463763,
          -0.9387338576538741,
          0.5979049830575188,
          0.9470983049947445,
          -0.7939903986478354,
          0.8639234171928352,
          0.8509944817946921,
          -0.16263716519488358,
          0.13779029068463797,
          -0.8090169943749473,
          -0.9921147013144779,
          -0.47070393216533246,
          0.012566039883352531,
          -0.9971589002606139,
          0.21200710992205452,
          -0.8639234171928353,
          -0.899405251566371,
          0.5144395337815064,
          -0.9996841892832999,
          -0.850994481794692,
          -0.9101059706849958,
          -0.7624425110114479,
          -0.762442511011448,
          0.7289686274214116,
          -0.3564118787132504,
          0.9387338576538741,
          -0.18738131458572463,
          -0.8881364488135446,
          0.03769018266993467,
          -0.49272734154829145,
          0.693653305812805,
          -0.8509944817946918,
          -0.6374239897486895,
          0.6178596130903344,
          -0.8994052515663711,
          -0.9987369566060175,
          0.9470983049947443,
          -0.5775727034222677,
          0.4483832160900324,
          0.6565857557529564,
          0.7115356772092853,
          -0.9921147013144779,
          -0.5144395337815065,
          0.9297764858882513,
          0.9987369566060175,
          0.6178596130903343,
          0.9685831611286312,
          0.3797790955218015,
          0.5979049830575189,
          -0.8090169943749472,
          -0.7784623015670233,
          0.012566039883352554,
          -0.693653305812805,
          -0.3797790955218012,
          1,
          -0.26084150628989666,
          0.954864544746643,
          -0.9202318473658703,
          0.7289686274214119,
          0.9202318473658703,
          -0.9798550523842469,
          0.4257792915650726,
          0.8994052515663711,
          0.9971589002606139,
          -0.9297764858882515,
          0.8375280400421418,
          -0.954864544746643,
          0.9620276715860859,
          0.9996841892832999,
          0.6936533058128049,
          0.5775727034222673,
          -0.9101059706849957,
          0.23649899702372476,
          0.5568756164881883,
          0.13779029068463816,
          0.8090169943749473,
          0.8994052515663712,
          0.16263716519488391,
          -0.5358267949789964,
          0.7939903986478356,
          -0.9470983049947443,
          -0.2120071099220546,
          0.1128563848734816,
          -0.6565857557529564,
          -0.8763066800438636,
          -0.28501926246997605,
          0.28501926246997616,
          0.03769018266993447,
          0.35641187871325075,
          -0.7289686274214117,
          -0.9949510169813002,
          0.3328195445229867,
          0.8763066800438636,
          -0.9949510169813002,
          -0.7289686274214116,
          0.8090169943749475,
          0.7459411454241821,
          0.06279051952931372,
          0.9886517447379141,
          0.9971589002606139,
          0.8509944817946918,
          0.5358267949789968,
          -0.8881364488135445,
          0.3328195445229867,
          0.49272734154829134,
          0.9845643345292053,
          0.9949510169813002,
          -0.1626371651948834,
          -0.9620276715860859,
          0.4029064357136627,
          0.9845643345292054,
          -0.9845643345292054,
          -0.0627905195293134,
          0.9921147013144779,
          -0.597904983057519,
          -0.012566039883352897,
          -0.47070393216533263,
          0.42577929156507266,
          0.556875616488188,
          -0.23649899702372465,
          -0.6178596130903345,
          -0.11285638487348193,
          -0.5568756164881881,
          -0.4257792915650727,
          -0.3328195445229862,
          -0.9685831611286311,
          -0.5979049830575189,
          -0.5775727034222676,
          0.2120071099220545,
          -0.40290643571366275,
          -0.42577929156507294,
          0.9886517447379141,
          0.9685831611286311,
          -0.13779029068463805,
          0.49272734154829156,
          -0.6753328081210243,
          0.7624425110114479
         ],
         "xaxis": "x",
         "y": [
          -0.2242707609493807,
          -0.5672689491267565,
          0.9653816388332739,
          -0.8701837546695256,
          -0.2970415815770351,
          -0.9961336091431725,
          0.7705132427757893,
          0.7375131173581739,
          -0.9980267284282716,
          -0.9510565162951535,
          -0.9961336091431725,
          -0.702649969798849,
          0.3913736668372024,
          0.6470559615694443,
          0.8575266561936523,
          0.1003617148512149,
          0.6079302976946054,
          0.4817536741017152,
          -0.6276913612907007,
          -0.05024431817976934,
          0.7705132427757893,
          -0.925077206834458,
          -0.05024431817976942,
          -0.9772681235681934,
          -0.971631732914674,
          0.9429905358928644,
          0.8938414241512638,
          -0.9716317329146741,
          -0.8822912264349531,
          -0.9653816388332738,
          0.9961336091431725,
          0.8443279255020151,
          0.9822872507286887,
          0.7542513807361036,
          -0.1502255891207573,
          0.8822912264349533,
          0.9510565162951535,
          -0.7542513807361034,
          -0.770513242775789,
          -0.8443279255020153,
          -0.8305958991958127,
          0.45957986062148787,
          0.02513009544333748,
          -0.9343289424566119,
          -0.4143755809932844,
          0.224270760949381,
          -0.9822872507286886,
          -0.6660118674342518,
          0.7375131173581739,
          -0.8575266561936521,
          -0.2729519355173252,
          0.4817536741017153,
          -0.9510565162951536,
          0.9510565162951535,
          -0.6079302976946055,
          0.5672689491267564,
          -0.9152411726209176,
          -0.07532680552793279,
          0.816339250717184,
          -0.6276913612907002,
          0.9999210442038161,
          -0.27295193551732516,
          0.15022558912075712,
          -0.24868988716485502,
          -0.7026499697988493,
          -0.3681245526846779,
          0.39137366683720237,
          -0.9585217890173757,
          -0.737513117358174,
          -0.19970998051440725,
          0.9992894726405892,
          -0.4595798606214877,
          -0.9936113105200084,
          0.9980267284282716,
          0.6276913612907006,
          -0.5463943467342689,
          0.5672689491267565,
          0.22427076094938117,
          0.5463943467342692,
          -0.958521789017376,
          -0.7203090248879069,
          -0.3446429231745172,
          -0.8938414241512639,
          -0.02513009544333757,
          -0.1750230589752761,
          0.986685944207868,
          0.19970998051440703,
          0.8938414241512639,
          -0.1997099805144072,
          0.934328942456612,
          -0.5036232016357607,
          0.9822872507286887,
          -0.6660118674342518,
          -0.5672689491267565,
          0.41437558099328414,
          0.5036232016357608,
          -0.3209436098072095,
          0.6660118674342517,
          -0.546394346734269,
          -0.1253332335643038,
          0.7026499697988492,
          0.9653816388332739,
          -0.2242707609493812,
          -0.3446429231745167,
          0.9936113105200084,
          -0.29704158157703503,
          0.925077206834458,
          0.9961336091431725,
          1.2246467991473532e-16,
          -0.9992894726405893,
          -0.7862884321366191,
          -0.9152411726209175,
          -0.36812455268467786,
          -0.9904614256966513,
          0.34464292317451706,
          -0.8015669848708766,
          -0.320943609807209,
          0.6079302976946053,
          -0.503623201635761,
          -0.5251746299612954,
          0.986685944207868,
          0.9904614256966512,
          0.5877852522924732,
          -0.12533323356430429,
          -0.8822912264349534,
          -0.9999210442038161,
          0.0753268055279326,
          0.9772681235681935,
          0.5036232016357609,
          -0.43711576665093305,
          -0.8575266561936523,
          0.02513009544333737,
          0.5251746299612956,
          0.41437558099328387,
          -0.6470559615694443,
          0.6470559615694442,
          0.6845471059286887,
          -0.9343289424566121,
          0.34464292317451706,
          -0.9822872507286887,
          -0.45957986062148776,
          -0.9992894726405892,
          0.8701837546695257,
          -0.7203090248879068,
          -0.5251746299612958,
          -0.7705132427757894,
          -0.7862884321366188,
          0.4371157666509329,
          0.05024431817976966,
          0.3209436098072095,
          0.8163392507171838,
          -0.8938414241512637,
          0.7542513807361038,
          0.7026499697988492,
          0.1253332335643041,
          0.8575266561936522,
          0.368124552684678,
          0.050244318179769556,
          0.7862884321366189,
          -0.2486898871648545,
          -0.9250772068344579,
          0.8015669848708765,
          -0.5877852522924734,
          0.6276913612907006,
          0.9999210442038161,
          0.7203090248879067,
          0.925077206834458,
          0,
          -0.965381638833274,
          0.2970415815770349,
          -0.3913736668372026,
          -0.6845471059286883,
          -0.3913736668372025,
          0.19970998051440705,
          -0.9048270524660196,
          0.4371157666509329,
          -0.07532680552793272,
          0.36812455268467775,
          0.5463943467342691,
          0.2970415815770349,
          0.2729519355173252,
          -0.02513009544333705,
          0.7203090248879069,
          -0.8163392507171842,
          -0.4143755809932841,
          0.9716317329146739,
          -0.8305958991958124,
          -0.9904614256966512,
          -0.5877852522924734,
          -0.43711576665093255,
          -0.986685944207868,
          0.8443279255020152,
          -0.607930297694605,
          0.32094360980720926,
          0.9772681235681935,
          0.9936113105200084,
          -0.7542513807361038,
          -0.4817536741017154,
          0.958521789017376,
          0.9585217890173758,
          0.9992894726405892,
          0.934328942456612,
          0.6845471059286885,
          0.10036171485121498,
          0.9429905358928644,
          -0.4817536741017153,
          -0.10036171485121517,
          -0.6845471059286887,
          0.5877852522924731,
          0.6660118674342517,
          -0.9980267284282716,
          -0.1502255891207568,
          0.07532680552793272,
          0.5251746299612957,
          -0.844327925502015,
          0.459579860621488,
          -0.9429905358928644,
          -0.8701837546695258,
          0.17502305897527606,
          -0.10036171485121509,
          -0.9866859442078681,
          0.27295193551732505,
          0.9152411726209175,
          -0.175023058975276,
          0.17502305897527587,
          0.9980267284282716,
          0.12533323356430426,
          -0.8015669848708764,
          -0.9999210442038161,
          0.8822912264349533,
          0.9048270524660196,
          0.8305958991958127,
          0.971631732914674,
          0.7862884321366188,
          -0.9936113105200084,
          0.8305958991958127,
          0.9048270524660195,
          -0.9429905358928646,
          0.24868988716485482,
          0.8015669848708765,
          -0.8163392507171839,
          -0.9772681235681935,
          0.9152411726209175,
          -0.9048270524660194,
          0.15022558912075706,
          0.2486898871648548,
          0.9904614256966512,
          0.8701837546695257,
          -0.737513117358174,
          -0.6470559615694443
         ],
         "yaxis": "y"
        },
        {
         "hovertemplate": "label=B<br>x=%{x}<br>y=%{y}<extra></extra>",
         "legendgroup": "B",
         "marker": {
          "color": "#EF553B",
          "symbol": "circle"
         },
         "mode": "markers",
         "name": "B",
         "orientation": "v",
         "showlegend": true,
         "type": "scatter",
         "x": [
          -0.303823276417441,
          0.7796214982292617,
          -0.7876514676233644,
          -0.3941818732386333,
          -0.1696056879376437,
          -0.6700224320337135,
          -0.7876514676233644,
          -0.7010453440350909,
          -0.5831749019371293,
          0.11023223254771053,
          -0.34062343325205835,
          0.7576786439957957,
          -0.6700224320337134,
          0.14990505166858012,
          -0.24721359549995806,
          0.5967529163393457,
          0.7748665289029049,
          -0.6099540088091584,
          0.5831749019371293,
          -0.3038232764174409,
          0.3406234332520581,
          -0.47832398644601526,
          -0.7438211887106012,
          0.7936917610515823,
          0.5831749019371295,
          -0.24721359549995806,
          0.6227698412536189,
          -0.7696221372688687,
          0.07028095724059448,
          0.658826078102742,
          -0.7748665289029049,
          -0.6227698412536187,
          0.3038232764174409,
          -0.5692285417674281,
          0.26625563561838933,
          0.49428769047226756,
          0.7509870861230993,
          0.6351923189182683,
          -0.35870657287202556,
          -0.5967529163393456,
          0.05023241562345098,
          0.6099540088091584,
          -0.7796214982292617,
          -0.26625563561838944,
          -0.16960568793764388,
          -0.5252686046023651,
          -0.47832398644601515,
          -0.3765631457322661,
          0.7909213957903313,
          -0.010052831906682123,
          -0.7195242012530969,
          0.6227698412536187,
          0.010052831906682026,
          -0.6472135954999578,
          -0.7576786439957955,
          0.554922644650244,
          0.28512950297060063,
          -0.14990505166857968,
          -0.35870657287202573,
          0.7876514676233644,
          -0.41155162702520526,
          -0.11023223254771011,
          0.14990505166857962,
          -0.8,
          -0.7361854778926964,
          0.7438211887106011,
          0.16960568793764363,
          -0.7796214982292619,
          0.3406234332520581,
          0.7796214982292619,
          -0.7909213957903312,
          0.79974735142664,
          0.774866528902905,
          0.6351923189182686,
          0.09028510789878526,
          0.6700224320337135,
          0.2280154099759813,
          -0.7509870861230993,
          0.6099540088091584,
          0.35870657287202595,
          -0.7638916357973144,
          0.7576786439957955,
          0.010052831906682044,
          0.42866143598319745,
          -0.7838840419073976,
          -0.1891991976189794,
          0.5099391917989519,
          0.7280847765479965,
          -0.7959608135850402,
          0.7010453440350909,
          0.44550049319055063,
          -0.3941818732386332,
          0.6472135954999579,
          -0.4942876904722672,
          0.8,
          -0.7280847765479965,
          -0.07028095724059456,
          -0.7638916357973144,
          0.462058162737814,
          0.7838840419073976,
          -0.6807955854357536,
          0.7509870861230994,
          0.7361854778926964,
          0.7977271202084912,
          -0.79974735142664,
          -0.28512950297060036,
          -0.6472135954999579,
          0.3223251485709302,
          -0.09028510789878555,
          -0.7977271202084912,
          -0.09028510789878536,
          -0.7105091590508357,
          0.3038232764174412,
          -0.6911387337542683,
          -0.5692285417674283,
          0.7361854778926963,
          0.5402662464968195,
          -0.030152146135947324,
          0.376563145732266,
          -0.4620581627378142,
          -0.5402662464968194,
          0.030152146135947577,
          0.6911387337542682,
          0.4942876904722675,
          -0.7838840419073976,
          0.3941818732386331,
          0.7638916357973144,
          0.7959608135850402,
          0.7105091590508357,
          -0.7977271202084912,
          -0.13010973215590688,
          -0.7936917610515823,
          -0.28512950297060063,
          -0.22801540997598085,
          -0.7361854778926963,
          -0.20867320503191752,
          0.6807955854357535,
          -0.18919919761897974,
          0.7280847765479965,
          0.41155162702520515,
          -0.79974735142664,
          0.798989565284814,
          -0.42866143598319706,
          -0.32232514857093025,
          -0.6911387337542684,
          -0.5252686046023654,
          0.6911387337542683,
          0.5967529163393456,
          0.22801540997598094,
          -0.7438211887106012,
          -0.5402662464968195,
          -0.4115516270252054,
          0.3941818732386333,
          0.09028510789878529,
          0.05023241562345065,
          -0.7105091590508357,
          -0.5831749019371294,
          0.1301097321559068,
          0.7838840419073976,
          -0.6099540088091584,
          0.4783239864460151,
          0.41155162702520515,
          -0.6351923189182682,
          -0.44550049319055046,
          0.509939191798952,
          0.719524201253097,
          0.658826078102742,
          0.5549226446502441,
          -0.7959608135850402,
          0.7977271202084912,
          0.7909213957903313,
          -0.7696221372688687,
          0.7105091590508357,
          -0.798989565284814,
          0.7936917610515823,
          -0.49428769047226767,
          0.26625563561838933,
          0.3587065728720258,
          -0.3223251485709302,
          -0.7576786439957955,
          0.2086732050319176,
          -0.1301097321559067,
          0.32232514857093,
          0.7438211887106012,
          0.20867320503191775,
          0.79974735142664,
          -0.7936917610515823,
          -0.26625563561838894,
          0.5402662464968195,
          0.647213595499958,
          0.5252686046023651,
          -0.5549226446502441,
          -0.4455004931905503,
          0.7195242012530969,
          0.1696056879376436,
          -0.798989565284814,
          0.7696221372688687,
          -0.050232415623450724,
          -0.010052831906682318,
          -0.6227698412536187,
          -0.7509870861230993,
          0.1891991976189798,
          0.13010973215590713,
          0.5692285417674284,
          0.6700224320337136,
          0.6807955854357537,
          0.03015214613594774,
          0.24721359549995797,
          0.7959608135850402,
          -0.20867320503191733,
          -0.03015214613594766,
          -0.2280154099759809,
          0.07028095724059429,
          -0.376563145732266,
          -0.7195242012530968,
          -0.05023241562345057,
          0.7010453440350909,
          -0.5099391917989516,
          0.28512950297060075,
          0.4455004931905504,
          0.5252686046023655,
          0.37656314573226635,
          -0.07028095724059456,
          -0.7010453440350909,
          0.7696221372688687,
          0.7638916357973144,
          -0.658826078102742,
          0.11023223254771038,
          0.2472135954999578,
          -0.5099391917989519,
          -0.554922644650244,
          -0.42866143598319717,
          0.18919919761897983,
          -0.11023223254771045,
          -0.658826078102742,
          -0.7748665289029049,
          -0.3406234332520582,
          0.798989565284814,
          -0.6807955854357535,
          -0.1499050516685797,
          -0.46205816273781414,
          -0.6351923189182683,
          0.46205816273781386,
          -0.7909213957903312,
          0.4286614359831973,
          0.47832398644601515,
          -0.5967529163393457,
          0.7876514676233644,
          0.5692285417674283,
          -0.7280847765479966
         ],
         "xaxis": "x",
         "y": [
          0.7400617654675665,
          0.17941660875950494,
          -0.14001844718022088,
          -0.6961470037356206,
          0.7818144988545548,
          -0.43711547738741524,
          0.1400184471802207,
          -0.3854029392813723,
          -0.547637684742951,
          -0.792369140557321,
          -0.7238616419728156,
          -0.2567548878457672,
          0.4371154773874154,
          -0.7858298005829509,
          0.7608452130361228,
          0.5328094939474014,
          0.19895190973188384,
          -0.5176447692555555,
          0.547637684742951,
          -0.7400617654675665,
          0.7238616419728157,
          -0.6412535878967012,
          -0.2944996421477423,
          -0.10026658685144303,
          -0.5476376847429506,
          -0.7608452130361228,
          -0.5021530890325602,
          0.21836154841386005,
          0.7969068873145381,
          -0.45381515930140526,
          -0.19895190973188404,
          0.5021530890325605,
          0.7400617654675665,
          -0.5621199758390795,
          0.7543924287142916,
          -0.6290307457092951,
          0.27571433853961363,
          0.48634423815568434,
          -0.7150731393210111,
          -0.5328094939474014,
          -0.7984213827426173,
          -0.5176447692555555,
          -0.17941660875950496,
          0.7543924287142916,
          -0.7818144988545548,
          -0.6034011045888831,
          0.6412535878967013,
          0.7058329811479627,
          -0.12018047129660543,
          0.7999368353630529,
          0.3496926133207463,
          0.5021530890325605,
          -0.7999368353630529,
          -0.47022820183397873,
          0.25675488784576744,
          0.5762472199103256,
          0.7474631539652896,
          0.785829800582951,
          0.7150731393210111,
          -0.1400184471802208,
          0.6860213249549219,
          -0.7923691405573211,
          0.785829800582951,
          9.797174393178826e-17,
          0.3130989334697619,
          0.2944996421477424,
          0.7818144988545548,
          0.17941660875950483,
          -0.7238616419728157,
          -0.17941660875950458,
          -0.12018047129660586,
          -0.02010407635466964,
          -0.1989519097318836,
          -0.48634423815568406,
          -0.7948890484160067,
          0.4371154773874153,
          -0.7668174312139007,
          0.27571433853961363,
          0.5176447692555555,
          -0.715073139321011,
          0.23763326526162795,
          0.2567548878457676,
          0.7999368353630529,
          -0.675462340401612,
          -0.15976798441152582,
          -0.7773053863317393,
          0.6164105942206315,
          0.33150046479462736,
          -0.08028937188097214,
          -0.38540293928137226,
          -0.66447671935665,
          0.6961470037356206,
          -0.47022820183397873,
          -0.6290307457092954,
          0,
          -0.3315004647946273,
          -0.7969068873145381,
          -0.2376332652616281,
          0.6530714005737472,
          0.15976798441152562,
          0.4201397039690365,
          -0.2757143385396134,
          0.313098933469762,
          -0.06026144442234618,
          0.020104076354669896,
          -0.7474631539652897,
          0.4702282018339786,
          0.732192938096734,
          -0.7948890484160067,
          -0.06026144442234624,
          0.7948890484160067,
          0.3676638884971904,
          -0.7400617654675664,
          0.40289856130860874,
          0.5621199758390794,
          -0.31309893346976203,
          0.5900104938865391,
          -0.7994315781124715,
          0.7058329811479627,
          0.6530714005737471,
          -0.5900104938865393,
          0.7994315781124715,
          -0.40289856130860885,
          0.6290307457092952,
          0.15976798441152565,
          -0.6961470037356207,
          0.23763326526162795,
          -0.08028937188097207,
          0.36766388849719034,
          0.06026144442234608,
          0.7893487553662945,
          -0.10026658685144343,
          0.7474631539652896,
          0.7668174312139008,
          -0.3130989334697621,
          0.7723053110666191,
          0.4201397039690366,
          0.7773053863317392,
          -0.3315004647946276,
          -0.6860213249549219,
          -0.020104076354670056,
          0.04019545454381565,
          -0.6754623404016122,
          -0.732192938096734,
          -0.40289856130860857,
          0.603401104588883,
          0.4028985613086087,
          -0.5328094939474014,
          0.7668174312139007,
          0.2944996421477422,
          0.5900104938865391,
          -0.6860213249549217,
          0.6961470037356206,
          0.7948890484160067,
          0.7984213827426173,
          -0.3676638884971902,
          0.5476376847429508,
          0.7893487553662945,
          -0.15976798441152576,
          0.5176447692555554,
          -0.6412535878967014,
          0.6860213249549219,
          -0.4863442381556844,
          0.6644767193566502,
          -0.6164105942206313,
          -0.3496926133207461,
          0.45381515930140526,
          -0.5762472199103255,
          0.08028937188097199,
          0.06026144442234618,
          0.12018047129660565,
          -0.21836154841386018,
          -0.36766388849719017,
          0.040195454543815734,
          0.1002665868514434,
          0.6290307457092951,
          -0.7543924287142916,
          0.715073139321011,
          0.732192938096734,
          -0.2567548878457676,
          0.7723053110666191,
          -0.7893487553662946,
          -0.7321929380967341,
          -0.2944996421477423,
          -0.772305311066619,
          0.020104076354669986,
          0.10026658685144328,
          -0.7543924287142918,
          -0.5900104938865393,
          0.4702282018339785,
          0.6034011045888831,
          0.5762472199103253,
          -0.6644767193566502,
          0.3496926133207463,
          -0.7818144988545548,
          -0.04019545454381554,
          0.21836154841386018,
          0.7984213827426173,
          -0.7999368353630529,
          -0.5021530890325606,
          -0.2757143385396138,
          -0.7773053863317392,
          -0.7893487553662945,
          -0.5621199758390792,
          -0.43711547738741513,
          -0.4201397039690363,
          -0.7994315781124715,
          0.7608452130361228,
          0.08028937188097192,
          -0.7723053110666193,
          0.7994315781124715,
          -0.7668174312139008,
          -0.7969068873145381,
          -0.7058329811479628,
          -0.34969261332074647,
          -0.7984213827426173,
          0.38540293928137226,
          -0.6164105942206315,
          -0.7474631539652896,
          0.6644767193566502,
          -0.6034011045888827,
          -0.7058329811479624,
          0.7969068873145381,
          0.3854029392813722,
          -0.21836154841386013,
          -0.23763326526162803,
          -0.45381515930140526,
          0.792369140557321,
          -0.760845213036123,
          0.6164105942206315,
          -0.5762472199103256,
          0.6754623404016122,
          0.7773053863317392,
          0.792369140557321,
          0.45381515930140515,
          0.19895190973188387,
          0.7238616419728157,
          -0.04019545454381548,
          -0.42013970396903666,
          -0.785829800582951,
          -0.6530714005737472,
          0.4863442381556842,
          -0.6530714005737474,
          0.1201804712966057,
          0.6754623404016121,
          0.6412535878967013,
          0.5328094939474014,
          0.14001844718022086,
          0.5621199758390794,
          0.33150046479462714
         ],
         "yaxis": "y"
        }
       ],
       "layout": {
        "autosize": true,
        "legend": {
         "title": {
          "text": "label"
         },
         "tracegroupgap": 0
        },
        "margin": {
         "t": 60
        },
        "template": {
         "data": {
          "bar": [
           {
            "error_x": {
             "color": "#2a3f5f"
            },
            "error_y": {
             "color": "#2a3f5f"
            },
            "marker": {
             "line": {
              "color": "#E5ECF6",
              "width": 0.5
             },
             "pattern": {
              "fillmode": "overlay",
              "size": 10,
              "solidity": 0.2
             }
            },
            "type": "bar"
           }
          ],
          "barpolar": [
           {
            "marker": {
             "line": {
              "color": "#E5ECF6",
              "width": 0.5
             },
             "pattern": {
              "fillmode": "overlay",
              "size": 10,
              "solidity": 0.2
             }
            },
            "type": "barpolar"
           }
          ],
          "carpet": [
           {
            "aaxis": {
             "endlinecolor": "#2a3f5f",
             "gridcolor": "white",
             "linecolor": "white",
             "minorgridcolor": "white",
             "startlinecolor": "#2a3f5f"
            },
            "baxis": {
             "endlinecolor": "#2a3f5f",
             "gridcolor": "white",
             "linecolor": "white",
             "minorgridcolor": "white",
             "startlinecolor": "#2a3f5f"
            },
            "type": "carpet"
           }
          ],
          "choropleth": [
           {
            "colorbar": {
             "outlinewidth": 0,
             "ticks": ""
            },
            "type": "choropleth"
           }
          ],
          "contour": [
           {
            "colorbar": {
             "outlinewidth": 0,
             "ticks": ""
            },
            "colorscale": [
             [
              0,
              "#0d0887"
             ],
             [
              0.1111111111111111,
              "#46039f"
             ],
             [
              0.2222222222222222,
              "#7201a8"
             ],
             [
              0.3333333333333333,
              "#9c179e"
             ],
             [
              0.4444444444444444,
              "#bd3786"
             ],
             [
              0.5555555555555556,
              "#d8576b"
             ],
             [
              0.6666666666666666,
              "#ed7953"
             ],
             [
              0.7777777777777778,
              "#fb9f3a"
             ],
             [
              0.8888888888888888,
              "#fdca26"
             ],
             [
              1,
              "#f0f921"
             ]
            ],
            "type": "contour"
           }
          ],
          "contourcarpet": [
           {
            "colorbar": {
             "outlinewidth": 0,
             "ticks": ""
            },
            "type": "contourcarpet"
           }
          ],
          "heatmap": [
           {
            "colorbar": {
             "outlinewidth": 0,
             "ticks": ""
            },
            "colorscale": [
             [
              0,
              "#0d0887"
             ],
             [
              0.1111111111111111,
              "#46039f"
             ],
             [
              0.2222222222222222,
              "#7201a8"
             ],
             [
              0.3333333333333333,
              "#9c179e"
             ],
             [
              0.4444444444444444,
              "#bd3786"
             ],
             [
              0.5555555555555556,
              "#d8576b"
             ],
             [
              0.6666666666666666,
              "#ed7953"
             ],
             [
              0.7777777777777778,
              "#fb9f3a"
             ],
             [
              0.8888888888888888,
              "#fdca26"
             ],
             [
              1,
              "#f0f921"
             ]
            ],
            "type": "heatmap"
           }
          ],
          "heatmapgl": [
           {
            "colorbar": {
             "outlinewidth": 0,
             "ticks": ""
            },
            "colorscale": [
             [
              0,
              "#0d0887"
             ],
             [
              0.1111111111111111,
              "#46039f"
             ],
             [
              0.2222222222222222,
              "#7201a8"
             ],
             [
              0.3333333333333333,
              "#9c179e"
             ],
             [
              0.4444444444444444,
              "#bd3786"
             ],
             [
              0.5555555555555556,
              "#d8576b"
             ],
             [
              0.6666666666666666,
              "#ed7953"
             ],
             [
              0.7777777777777778,
              "#fb9f3a"
             ],
             [
              0.8888888888888888,
              "#fdca26"
             ],
             [
              1,
              "#f0f921"
             ]
            ],
            "type": "heatmapgl"
           }
          ],
          "histogram": [
           {
            "marker": {
             "pattern": {
              "fillmode": "overlay",
              "size": 10,
              "solidity": 0.2
             }
            },
            "type": "histogram"
           }
          ],
          "histogram2d": [
           {
            "colorbar": {
             "outlinewidth": 0,
             "ticks": ""
            },
            "colorscale": [
             [
              0,
              "#0d0887"
             ],
             [
              0.1111111111111111,
              "#46039f"
             ],
             [
              0.2222222222222222,
              "#7201a8"
             ],
             [
              0.3333333333333333,
              "#9c179e"
             ],
             [
              0.4444444444444444,
              "#bd3786"
             ],
             [
              0.5555555555555556,
              "#d8576b"
             ],
             [
              0.6666666666666666,
              "#ed7953"
             ],
             [
              0.7777777777777778,
              "#fb9f3a"
             ],
             [
              0.8888888888888888,
              "#fdca26"
             ],
             [
              1,
              "#f0f921"
             ]
            ],
            "type": "histogram2d"
           }
          ],
          "histogram2dcontour": [
           {
            "colorbar": {
             "outlinewidth": 0,
             "ticks": ""
            },
            "colorscale": [
             [
              0,
              "#0d0887"
             ],
             [
              0.1111111111111111,
              "#46039f"
             ],
             [
              0.2222222222222222,
              "#7201a8"
             ],
             [
              0.3333333333333333,
              "#9c179e"
             ],
             [
              0.4444444444444444,
              "#bd3786"
             ],
             [
              0.5555555555555556,
              "#d8576b"
             ],
             [
              0.6666666666666666,
              "#ed7953"
             ],
             [
              0.7777777777777778,
              "#fb9f3a"
             ],
             [
              0.8888888888888888,
              "#fdca26"
             ],
             [
              1,
              "#f0f921"
             ]
            ],
            "type": "histogram2dcontour"
           }
          ],
          "mesh3d": [
           {
            "colorbar": {
             "outlinewidth": 0,
             "ticks": ""
            },
            "type": "mesh3d"
           }
          ],
          "parcoords": [
           {
            "line": {
             "colorbar": {
              "outlinewidth": 0,
              "ticks": ""
             }
            },
            "type": "parcoords"
           }
          ],
          "pie": [
           {
            "automargin": true,
            "type": "pie"
           }
          ],
          "scatter": [
           {
            "marker": {
             "colorbar": {
              "outlinewidth": 0,
              "ticks": ""
             }
            },
            "type": "scatter"
           }
          ],
          "scatter3d": [
           {
            "line": {
             "colorbar": {
              "outlinewidth": 0,
              "ticks": ""
             }
            },
            "marker": {
             "colorbar": {
              "outlinewidth": 0,
              "ticks": ""
             }
            },
            "type": "scatter3d"
           }
          ],
          "scattercarpet": [
           {
            "marker": {
             "colorbar": {
              "outlinewidth": 0,
              "ticks": ""
             }
            },
            "type": "scattercarpet"
           }
          ],
          "scattergeo": [
           {
            "marker": {
             "colorbar": {
              "outlinewidth": 0,
              "ticks": ""
             }
            },
            "type": "scattergeo"
           }
          ],
          "scattergl": [
           {
            "marker": {
             "colorbar": {
              "outlinewidth": 0,
              "ticks": ""
             }
            },
            "type": "scattergl"
           }
          ],
          "scattermapbox": [
           {
            "marker": {
             "colorbar": {
              "outlinewidth": 0,
              "ticks": ""
             }
            },
            "type": "scattermapbox"
           }
          ],
          "scatterpolar": [
           {
            "marker": {
             "colorbar": {
              "outlinewidth": 0,
              "ticks": ""
             }
            },
            "type": "scatterpolar"
           }
          ],
          "scatterpolargl": [
           {
            "marker": {
             "colorbar": {
              "outlinewidth": 0,
              "ticks": ""
             }
            },
            "type": "scatterpolargl"
           }
          ],
          "scatterternary": [
           {
            "marker": {
             "colorbar": {
              "outlinewidth": 0,
              "ticks": ""
             }
            },
            "type": "scatterternary"
           }
          ],
          "surface": [
           {
            "colorbar": {
             "outlinewidth": 0,
             "ticks": ""
            },
            "colorscale": [
             [
              0,
              "#0d0887"
             ],
             [
              0.1111111111111111,
              "#46039f"
             ],
             [
              0.2222222222222222,
              "#7201a8"
             ],
             [
              0.3333333333333333,
              "#9c179e"
             ],
             [
              0.4444444444444444,
              "#bd3786"
             ],
             [
              0.5555555555555556,
              "#d8576b"
             ],
             [
              0.6666666666666666,
              "#ed7953"
             ],
             [
              0.7777777777777778,
              "#fb9f3a"
             ],
             [
              0.8888888888888888,
              "#fdca26"
             ],
             [
              1,
              "#f0f921"
             ]
            ],
            "type": "surface"
           }
          ],
          "table": [
           {
            "cells": {
             "fill": {
              "color": "#EBF0F8"
             },
             "line": {
              "color": "white"
             }
            },
            "header": {
             "fill": {
              "color": "#C8D4E3"
             },
             "line": {
              "color": "white"
             }
            },
            "type": "table"
           }
          ]
         },
         "layout": {
          "annotationdefaults": {
           "arrowcolor": "#2a3f5f",
           "arrowhead": 0,
           "arrowwidth": 1
          },
          "autotypenumbers": "strict",
          "coloraxis": {
           "colorbar": {
            "outlinewidth": 0,
            "ticks": ""
           }
          },
          "colorscale": {
           "diverging": [
            [
             0,
             "#8e0152"
            ],
            [
             0.1,
             "#c51b7d"
            ],
            [
             0.2,
             "#de77ae"
            ],
            [
             0.3,
             "#f1b6da"
            ],
            [
             0.4,
             "#fde0ef"
            ],
            [
             0.5,
             "#f7f7f7"
            ],
            [
             0.6,
             "#e6f5d0"
            ],
            [
             0.7,
             "#b8e186"
            ],
            [
             0.8,
             "#7fbc41"
            ],
            [
             0.9,
             "#4d9221"
            ],
            [
             1,
             "#276419"
            ]
           ],
           "sequential": [
            [
             0,
             "#0d0887"
            ],
            [
             0.1111111111111111,
             "#46039f"
            ],
            [
             0.2222222222222222,
             "#7201a8"
            ],
            [
             0.3333333333333333,
             "#9c179e"
            ],
            [
             0.4444444444444444,
             "#bd3786"
            ],
            [
             0.5555555555555556,
             "#d8576b"
            ],
            [
             0.6666666666666666,
             "#ed7953"
            ],
            [
             0.7777777777777778,
             "#fb9f3a"
            ],
            [
             0.8888888888888888,
             "#fdca26"
            ],
            [
             1,
             "#f0f921"
            ]
           ],
           "sequentialminus": [
            [
             0,
             "#0d0887"
            ],
            [
             0.1111111111111111,
             "#46039f"
            ],
            [
             0.2222222222222222,
             "#7201a8"
            ],
            [
             0.3333333333333333,
             "#9c179e"
            ],
            [
             0.4444444444444444,
             "#bd3786"
            ],
            [
             0.5555555555555556,
             "#d8576b"
            ],
            [
             0.6666666666666666,
             "#ed7953"
            ],
            [
             0.7777777777777778,
             "#fb9f3a"
            ],
            [
             0.8888888888888888,
             "#fdca26"
            ],
            [
             1,
             "#f0f921"
            ]
           ]
          },
          "colorway": [
           "#636efa",
           "#EF553B",
           "#00cc96",
           "#ab63fa",
           "#FFA15A",
           "#19d3f3",
           "#FF6692",
           "#B6E880",
           "#FF97FF",
           "#FECB52"
          ],
          "font": {
           "color": "#2a3f5f"
          },
          "geo": {
           "bgcolor": "white",
           "lakecolor": "white",
           "landcolor": "#E5ECF6",
           "showlakes": true,
           "showland": true,
           "subunitcolor": "white"
          },
          "hoverlabel": {
           "align": "left"
          },
          "hovermode": "closest",
          "mapbox": {
           "style": "light"
          },
          "paper_bgcolor": "white",
          "plot_bgcolor": "#E5ECF6",
          "polar": {
           "angularaxis": {
            "gridcolor": "white",
            "linecolor": "white",
            "ticks": ""
           },
           "bgcolor": "#E5ECF6",
           "radialaxis": {
            "gridcolor": "white",
            "linecolor": "white",
            "ticks": ""
           }
          },
          "scene": {
           "xaxis": {
            "backgroundcolor": "#E5ECF6",
            "gridcolor": "white",
            "gridwidth": 2,
            "linecolor": "white",
            "showbackground": true,
            "ticks": "",
            "zerolinecolor": "white"
           },
           "yaxis": {
            "backgroundcolor": "#E5ECF6",
            "gridcolor": "white",
            "gridwidth": 2,
            "linecolor": "white",
            "showbackground": true,
            "ticks": "",
            "zerolinecolor": "white"
           },
           "zaxis": {
            "backgroundcolor": "#E5ECF6",
            "gridcolor": "white",
            "gridwidth": 2,
            "linecolor": "white",
            "showbackground": true,
            "ticks": "",
            "zerolinecolor": "white"
           }
          },
          "shapedefaults": {
           "line": {
            "color": "#2a3f5f"
           }
          },
          "ternary": {
           "aaxis": {
            "gridcolor": "white",
            "linecolor": "white",
            "ticks": ""
           },
           "baxis": {
            "gridcolor": "white",
            "linecolor": "white",
            "ticks": ""
           },
           "bgcolor": "#E5ECF6",
           "caxis": {
            "gridcolor": "white",
            "linecolor": "white",
            "ticks": ""
           }
          },
          "title": {
           "x": 0.05
          },
          "xaxis": {
           "automargin": true,
           "gridcolor": "white",
           "linecolor": "white",
           "ticks": "",
           "title": {
            "standoff": 15
           },
           "zerolinecolor": "white",
           "zerolinewidth": 2
          },
          "yaxis": {
           "automargin": true,
           "gridcolor": "white",
           "linecolor": "white",
           "ticks": "",
           "title": {
            "standoff": 15
           },
           "zerolinecolor": "white",
           "zerolinewidth": 2
          }
         }
        },
        "xaxis": {
         "anchor": "y",
         "autorange": true,
         "domain": [
          0,
          1
         ],
         "range": [
          -1.1167823601469988,
          1.1167823601469988
         ],
         "title": {
          "text": "x"
         },
         "type": "linear"
        },
        "yaxis": {
         "anchor": "x",
         "autorange": true,
         "domain": [
          0,
          1
         ],
         "range": [
          -1.1547644604978453,
          1.1547644604978453
         ],
         "title": {
          "text": "y"
         },
         "type": "linear"
        }
       }
      },
      "image/png": "[encoded data removed]",
      "text/html": [
       "<div>                            <div id=\"6db8385c-2e58-4434-af49-23b4efb41cab\" class=\"plotly-graph-div\" style=\"height:525px; width:100%;\"></div>            <script type=\"text/javascript\">                require([\"plotly\"], function(Plotly) {                    window.PLOTLYENV=window.PLOTLYENV || {};                                    if (document.getElementById(\"6db8385c-2e58-4434-af49-23b4efb41cab\")) {                    Plotly.newPlot(                        \"6db8385c-2e58-4434-af49-23b4efb41cab\",                        [{\"hovertemplate\":\"label=A<br>x=%{x}<br>y=%{y}<extra></extra>\",\"legendgroup\":\"A\",\"marker\":{\"color\":\"#636efa\",\"symbol\":\"circle\"},\"mode\":\"markers\",\"name\":\"A\",\"orientation\":\"v\",\"showlegend\":true,\"x\":[0.9745268727865772,0.8235325976284275,0.260841506289897,-0.4927273415482916,-0.954864544746643,-0.08785119655074321,0.6374239897486897,0.6753328081210244,-0.06279051952931321,-0.30901699437494756,0.08785119655074285,0.7115356772092856,0.9202318473658704,0.7624425110114479,0.5144395337815064,0.9949510169813002,0.7939903986478354,-0.8763066800438636,-0.7784623015670232,0.9987369566060175,-0.6374239897486897,-0.37977909552180106,-0.9987369566060175,-0.21200710992205485,0.23649899702372473,-0.3328195445229868,0.44838321609003223,-0.23649899702372423,0.4707039321653329,0.26084150628989716,-0.0878511965507432,0.5358267949789965,0.18738131458572452,-0.6565857557529566,-0.988651744737914,0.4707039321653325,-0.30901699437494756,0.6565857557529569,0.63742398974869,-0.5358267949789963,-0.5568756164881878,0.8881364488135445,0.9996841892832999,0.3564118787132509,0.9101059706849955,-0.9745268727865772,0.18738131458572513,-0.745941145424182,-0.6753328081210244,-0.5144395337815068,-0.9620276715860859,0.8763066800438636,0.30901699437494723,0.30901699437494745,-0.7939903986478353,-0.8235325976284275,0.40290643571366247,-0.9971589002606139,0.5775727034222675,0.7784623015670236,-0.012566039883352653,0.9620276715860859,-0.988651744737914,-0.9685831611286311,-0.7115356772092851,-0.9297764858882515,-0.9202318473658704,0.2850192624699766,0.6753328081210244,-0.9798550523842469,-0.037690182669934576,0.8881364488135446,0.11285638487348157,0.0627905195293133,0.7784623015670233,0.8375280400421419,0.8235325976284275,0.9745268727865771,-0.8375280400421417,-0.2850192624699761,-0.6936533058128049,-0.9387338576538741,-0.44838321609003196,-0.9996841892832999,-0.9845643345292053,0.1626371651948835,0.9798550523842469,-0.4483832160900321,0.9798550523842469,-0.3564118787132508,-0.8639234171928354,-0.1873813145857246,0.745941145424182,-0.8235325976284273,0.9101059706849957,0.8639234171928353,-0.9470983049947443,-0.7459411454241821,-0.8375280400421418,0.9921147013144779,-0.7115356772092853,-0.2608415062898969,-0.9745268727865771,0.9387338576538742,-0.1128563848734817,0.954864544746643,0.3797790955218011,0.0878511965507431,-1.0,-0.03769018266993415,-0.617859613090334,-0.4029064357136628,0.9297764858882515,-0.13779029068463763,-0.9387338576538741,0.5979049830575188,0.9470983049947445,-0.7939903986478354,0.8639234171928352,0.8509944817946921,-0.16263716519488358,0.13779029068463797,-0.8090169943749473,-0.9921147013144779,-0.47070393216533246,0.012566039883352531,-0.9971589002606139,0.21200710992205452,-0.8639234171928353,-0.899405251566371,0.5144395337815064,-0.9996841892832999,-0.850994481794692,-0.9101059706849958,-0.7624425110114479,-0.762442511011448,0.7289686274214116,-0.3564118787132504,0.9387338576538741,-0.18738131458572463,-0.8881364488135446,0.03769018266993467,-0.49272734154829145,0.693653305812805,-0.8509944817946918,-0.6374239897486895,0.6178596130903344,-0.8994052515663711,-0.9987369566060175,0.9470983049947443,-0.5775727034222677,0.4483832160900324,0.6565857557529564,0.7115356772092853,-0.9921147013144779,-0.5144395337815065,0.9297764858882513,0.9987369566060175,0.6178596130903343,0.9685831611286312,0.3797790955218015,0.5979049830575189,-0.8090169943749472,-0.7784623015670233,0.012566039883352554,-0.693653305812805,-0.3797790955218012,1.0,-0.26084150628989666,0.954864544746643,-0.9202318473658703,0.7289686274214119,0.9202318473658703,-0.9798550523842469,0.4257792915650726,0.8994052515663711,0.9971589002606139,-0.9297764858882515,0.8375280400421418,-0.954864544746643,0.9620276715860859,0.9996841892832999,0.6936533058128049,0.5775727034222673,-0.9101059706849957,0.23649899702372476,0.5568756164881883,0.13779029068463816,0.8090169943749473,0.8994052515663712,0.16263716519488391,-0.5358267949789964,0.7939903986478356,-0.9470983049947443,-0.2120071099220546,0.1128563848734816,-0.6565857557529564,-0.8763066800438636,-0.28501926246997605,0.28501926246997616,0.03769018266993447,0.35641187871325075,-0.7289686274214117,-0.9949510169813002,0.3328195445229867,0.8763066800438636,-0.9949510169813002,-0.7289686274214116,0.8090169943749475,0.7459411454241821,0.06279051952931372,0.9886517447379141,0.9971589002606139,0.8509944817946918,0.5358267949789968,-0.8881364488135445,0.3328195445229867,0.49272734154829134,0.9845643345292053,0.9949510169813002,-0.1626371651948834,-0.9620276715860859,0.4029064357136627,0.9845643345292054,-0.9845643345292054,-0.0627905195293134,0.9921147013144779,-0.597904983057519,-0.012566039883352897,-0.47070393216533263,0.42577929156507266,0.556875616488188,-0.23649899702372465,-0.6178596130903345,-0.11285638487348193,-0.5568756164881881,-0.4257792915650727,-0.3328195445229862,-0.9685831611286311,-0.5979049830575189,-0.5775727034222676,0.2120071099220545,-0.40290643571366275,-0.42577929156507294,0.9886517447379141,0.9685831611286311,-0.13779029068463805,0.49272734154829156,-0.6753328081210243,0.7624425110114479],\"xaxis\":\"x\",\"y\":[-0.2242707609493807,-0.5672689491267565,0.9653816388332739,-0.8701837546695256,-0.2970415815770351,-0.9961336091431725,0.7705132427757893,0.7375131173581739,-0.9980267284282716,-0.9510565162951535,-0.9961336091431725,-0.702649969798849,0.3913736668372024,0.6470559615694443,0.8575266561936523,0.1003617148512149,0.6079302976946054,0.4817536741017152,-0.6276913612907007,-0.05024431817976934,0.7705132427757893,-0.925077206834458,-0.05024431817976942,-0.9772681235681934,-0.971631732914674,0.9429905358928644,0.8938414241512638,-0.9716317329146741,-0.8822912264349531,-0.9653816388332738,0.9961336091431725,0.8443279255020151,0.9822872507286887,0.7542513807361036,-0.1502255891207573,0.8822912264349533,0.9510565162951535,-0.7542513807361034,-0.770513242775789,-0.8443279255020153,-0.8305958991958127,0.45957986062148787,0.02513009544333748,-0.9343289424566119,-0.4143755809932844,0.224270760949381,-0.9822872507286886,-0.6660118674342518,0.7375131173581739,-0.8575266561936521,-0.2729519355173252,0.4817536741017153,-0.9510565162951536,0.9510565162951535,-0.6079302976946055,0.5672689491267564,-0.9152411726209176,-0.07532680552793279,0.816339250717184,-0.6276913612907002,0.9999210442038161,-0.27295193551732516,0.15022558912075712,-0.24868988716485502,-0.7026499697988493,-0.3681245526846779,0.39137366683720237,-0.9585217890173757,-0.737513117358174,-0.19970998051440725,0.9992894726405892,-0.4595798606214877,-0.9936113105200084,0.9980267284282716,0.6276913612907006,-0.5463943467342689,0.5672689491267565,0.22427076094938117,0.5463943467342692,-0.958521789017376,-0.7203090248879069,-0.3446429231745172,-0.8938414241512639,-0.02513009544333757,-0.1750230589752761,0.986685944207868,0.19970998051440703,0.8938414241512639,-0.1997099805144072,0.934328942456612,-0.5036232016357607,0.9822872507286887,-0.6660118674342518,-0.5672689491267565,0.41437558099328414,0.5036232016357608,-0.3209436098072095,0.6660118674342517,-0.546394346734269,-0.1253332335643038,0.7026499697988492,0.9653816388332739,-0.2242707609493812,-0.3446429231745167,0.9936113105200084,-0.29704158157703503,0.925077206834458,0.9961336091431725,1.2246467991473532e-16,-0.9992894726405893,-0.7862884321366191,-0.9152411726209175,-0.36812455268467786,-0.9904614256966513,0.34464292317451706,-0.8015669848708766,-0.320943609807209,0.6079302976946053,-0.503623201635761,-0.5251746299612954,0.986685944207868,0.9904614256966512,0.5877852522924732,-0.12533323356430429,-0.8822912264349534,-0.9999210442038161,0.0753268055279326,0.9772681235681935,0.5036232016357609,-0.43711576665093305,-0.8575266561936523,0.02513009544333737,0.5251746299612956,0.41437558099328387,-0.6470559615694443,0.6470559615694442,0.6845471059286887,-0.9343289424566121,0.34464292317451706,-0.9822872507286887,-0.45957986062148776,-0.9992894726405892,0.8701837546695257,-0.7203090248879068,-0.5251746299612958,-0.7705132427757894,-0.7862884321366188,0.4371157666509329,0.05024431817976966,0.3209436098072095,0.8163392507171838,-0.8938414241512637,0.7542513807361038,0.7026499697988492,0.1253332335643041,0.8575266561936522,0.368124552684678,0.050244318179769556,0.7862884321366189,-0.2486898871648545,-0.9250772068344579,0.8015669848708765,-0.5877852522924734,0.6276913612907006,0.9999210442038161,0.7203090248879067,0.925077206834458,0.0,-0.965381638833274,0.2970415815770349,-0.3913736668372026,-0.6845471059286883,-0.3913736668372025,0.19970998051440705,-0.9048270524660196,0.4371157666509329,-0.07532680552793272,0.36812455268467775,0.5463943467342691,0.2970415815770349,0.2729519355173252,-0.02513009544333705,0.7203090248879069,-0.8163392507171842,-0.4143755809932841,0.9716317329146739,-0.8305958991958124,-0.9904614256966512,-0.5877852522924734,-0.43711576665093255,-0.986685944207868,0.8443279255020152,-0.607930297694605,0.32094360980720926,0.9772681235681935,0.9936113105200084,-0.7542513807361038,-0.4817536741017154,0.958521789017376,0.9585217890173758,0.9992894726405892,0.934328942456612,0.6845471059286885,0.10036171485121498,0.9429905358928644,-0.4817536741017153,-0.10036171485121517,-0.6845471059286887,0.5877852522924731,0.6660118674342517,-0.9980267284282716,-0.1502255891207568,0.07532680552793272,0.5251746299612957,-0.844327925502015,0.459579860621488,-0.9429905358928644,-0.8701837546695258,0.17502305897527606,-0.10036171485121509,-0.9866859442078681,0.27295193551732505,0.9152411726209175,-0.175023058975276,0.17502305897527587,0.9980267284282716,0.12533323356430426,-0.8015669848708764,-0.9999210442038161,0.8822912264349533,0.9048270524660196,0.8305958991958127,0.971631732914674,0.7862884321366188,-0.9936113105200084,0.8305958991958127,0.9048270524660195,-0.9429905358928646,0.24868988716485482,0.8015669848708765,-0.8163392507171839,-0.9772681235681935,0.9152411726209175,-0.9048270524660194,0.15022558912075706,0.2486898871648548,0.9904614256966512,0.8701837546695257,-0.737513117358174,-0.6470559615694443],\"yaxis\":\"y\",\"type\":\"scatter\"},{\"hovertemplate\":\"label=B<br>x=%{x}<br>y=%{y}<extra></extra>\",\"legendgroup\":\"B\",\"marker\":{\"color\":\"#EF553B\",\"symbol\":\"circle\"},\"mode\":\"markers\",\"name\":\"B\",\"orientation\":\"v\",\"showlegend\":true,\"x\":[-0.303823276417441,0.7796214982292617,-0.7876514676233644,-0.3941818732386333,-0.1696056879376437,-0.6700224320337135,-0.7876514676233644,-0.7010453440350909,-0.5831749019371293,0.11023223254771053,-0.34062343325205835,0.7576786439957957,-0.6700224320337134,0.14990505166858012,-0.24721359549995806,0.5967529163393457,0.7748665289029049,-0.6099540088091584,0.5831749019371293,-0.3038232764174409,0.3406234332520581,-0.47832398644601526,-0.7438211887106012,0.7936917610515823,0.5831749019371295,-0.24721359549995806,0.6227698412536189,-0.7696221372688687,0.07028095724059448,0.658826078102742,-0.7748665289029049,-0.6227698412536187,0.3038232764174409,-0.5692285417674281,0.26625563561838933,0.49428769047226756,0.7509870861230993,0.6351923189182683,-0.35870657287202556,-0.5967529163393456,0.05023241562345098,0.6099540088091584,-0.7796214982292617,-0.26625563561838944,-0.16960568793764388,-0.5252686046023651,-0.47832398644601515,-0.3765631457322661,0.7909213957903313,-0.010052831906682123,-0.7195242012530969,0.6227698412536187,0.010052831906682026,-0.6472135954999578,-0.7576786439957955,0.554922644650244,0.28512950297060063,-0.14990505166857968,-0.35870657287202573,0.7876514676233644,-0.41155162702520526,-0.11023223254771011,0.14990505166857962,-0.8,-0.7361854778926964,0.7438211887106011,0.16960568793764363,-0.7796214982292619,0.3406234332520581,0.7796214982292619,-0.7909213957903312,0.79974735142664,0.774866528902905,0.6351923189182686,0.09028510789878526,0.6700224320337135,0.2280154099759813,-0.7509870861230993,0.6099540088091584,0.35870657287202595,-0.7638916357973144,0.7576786439957955,0.010052831906682044,0.42866143598319745,-0.7838840419073976,-0.1891991976189794,0.5099391917989519,0.7280847765479965,-0.7959608135850402,0.7010453440350909,0.44550049319055063,-0.3941818732386332,0.6472135954999579,-0.4942876904722672,0.8,-0.7280847765479965,-0.07028095724059456,-0.7638916357973144,0.462058162737814,0.7838840419073976,-0.6807955854357536,0.7509870861230994,0.7361854778926964,0.7977271202084912,-0.79974735142664,-0.28512950297060036,-0.6472135954999579,0.3223251485709302,-0.09028510789878555,-0.7977271202084912,-0.09028510789878536,-0.7105091590508357,0.3038232764174412,-0.6911387337542683,-0.5692285417674283,0.7361854778926963,0.5402662464968195,-0.030152146135947324,0.376563145732266,-0.4620581627378142,-0.5402662464968194,0.030152146135947577,0.6911387337542682,0.4942876904722675,-0.7838840419073976,0.3941818732386331,0.7638916357973144,0.7959608135850402,0.7105091590508357,-0.7977271202084912,-0.13010973215590688,-0.7936917610515823,-0.28512950297060063,-0.22801540997598085,-0.7361854778926963,-0.20867320503191752,0.6807955854357535,-0.18919919761897974,0.7280847765479965,0.41155162702520515,-0.79974735142664,0.798989565284814,-0.42866143598319706,-0.32232514857093025,-0.6911387337542684,-0.5252686046023654,0.6911387337542683,0.5967529163393456,0.22801540997598094,-0.7438211887106012,-0.5402662464968195,-0.4115516270252054,0.3941818732386333,0.09028510789878529,0.05023241562345065,-0.7105091590508357,-0.5831749019371294,0.1301097321559068,0.7838840419073976,-0.6099540088091584,0.4783239864460151,0.41155162702520515,-0.6351923189182682,-0.44550049319055046,0.509939191798952,0.719524201253097,0.658826078102742,0.5549226446502441,-0.7959608135850402,0.7977271202084912,0.7909213957903313,-0.7696221372688687,0.7105091590508357,-0.798989565284814,0.7936917610515823,-0.49428769047226767,0.26625563561838933,0.3587065728720258,-0.3223251485709302,-0.7576786439957955,0.2086732050319176,-0.1301097321559067,0.32232514857093,0.7438211887106012,0.20867320503191775,0.79974735142664,-0.7936917610515823,-0.26625563561838894,0.5402662464968195,0.647213595499958,0.5252686046023651,-0.5549226446502441,-0.4455004931905503,0.7195242012530969,0.1696056879376436,-0.798989565284814,0.7696221372688687,-0.050232415623450724,-0.010052831906682318,-0.6227698412536187,-0.7509870861230993,0.1891991976189798,0.13010973215590713,0.5692285417674284,0.6700224320337136,0.6807955854357537,0.03015214613594774,0.24721359549995797,0.7959608135850402,-0.20867320503191733,-0.03015214613594766,-0.2280154099759809,0.07028095724059429,-0.376563145732266,-0.7195242012530968,-0.05023241562345057,0.7010453440350909,-0.5099391917989516,0.28512950297060075,0.4455004931905504,0.5252686046023655,0.37656314573226635,-0.07028095724059456,-0.7010453440350909,0.7696221372688687,0.7638916357973144,-0.658826078102742,0.11023223254771038,0.2472135954999578,-0.5099391917989519,-0.554922644650244,-0.42866143598319717,0.18919919761897983,-0.11023223254771045,-0.658826078102742,-0.7748665289029049,-0.3406234332520582,0.798989565284814,-0.6807955854357535,-0.1499050516685797,-0.46205816273781414,-0.6351923189182683,0.46205816273781386,-0.7909213957903312,0.4286614359831973,0.47832398644601515,-0.5967529163393457,0.7876514676233644,0.5692285417674283,-0.7280847765479966],\"xaxis\":\"x\",\"y\":[0.7400617654675665,0.17941660875950494,-0.14001844718022088,-0.6961470037356206,0.7818144988545548,-0.43711547738741524,0.1400184471802207,-0.3854029392813723,-0.547637684742951,-0.792369140557321,-0.7238616419728156,-0.2567548878457672,0.4371154773874154,-0.7858298005829509,0.7608452130361228,0.5328094939474014,0.19895190973188384,-0.5176447692555555,0.547637684742951,-0.7400617654675665,0.7238616419728157,-0.6412535878967012,-0.2944996421477423,-0.10026658685144303,-0.5476376847429506,-0.7608452130361228,-0.5021530890325602,0.21836154841386005,0.7969068873145381,-0.45381515930140526,-0.19895190973188404,0.5021530890325605,0.7400617654675665,-0.5621199758390795,0.7543924287142916,-0.6290307457092951,0.27571433853961363,0.48634423815568434,-0.7150731393210111,-0.5328094939474014,-0.7984213827426173,-0.5176447692555555,-0.17941660875950496,0.7543924287142916,-0.7818144988545548,-0.6034011045888831,0.6412535878967013,0.7058329811479627,-0.12018047129660543,0.7999368353630529,0.3496926133207463,0.5021530890325605,-0.7999368353630529,-0.47022820183397873,0.25675488784576744,0.5762472199103256,0.7474631539652896,0.785829800582951,0.7150731393210111,-0.1400184471802208,0.6860213249549219,-0.7923691405573211,0.785829800582951,9.797174393178826e-17,0.3130989334697619,0.2944996421477424,0.7818144988545548,0.17941660875950483,-0.7238616419728157,-0.17941660875950458,-0.12018047129660586,-0.02010407635466964,-0.1989519097318836,-0.48634423815568406,-0.7948890484160067,0.4371154773874153,-0.7668174312139007,0.27571433853961363,0.5176447692555555,-0.715073139321011,0.23763326526162795,0.2567548878457676,0.7999368353630529,-0.675462340401612,-0.15976798441152582,-0.7773053863317393,0.6164105942206315,0.33150046479462736,-0.08028937188097214,-0.38540293928137226,-0.66447671935665,0.6961470037356206,-0.47022820183397873,-0.6290307457092954,0.0,-0.3315004647946273,-0.7969068873145381,-0.2376332652616281,0.6530714005737472,0.15976798441152562,0.4201397039690365,-0.2757143385396134,0.313098933469762,-0.06026144442234618,0.020104076354669896,-0.7474631539652897,0.4702282018339786,0.732192938096734,-0.7948890484160067,-0.06026144442234624,0.7948890484160067,0.3676638884971904,-0.7400617654675664,0.40289856130860874,0.5621199758390794,-0.31309893346976203,0.5900104938865391,-0.7994315781124715,0.7058329811479627,0.6530714005737471,-0.5900104938865393,0.7994315781124715,-0.40289856130860885,0.6290307457092952,0.15976798441152565,-0.6961470037356207,0.23763326526162795,-0.08028937188097207,0.36766388849719034,0.06026144442234608,0.7893487553662945,-0.10026658685144343,0.7474631539652896,0.7668174312139008,-0.3130989334697621,0.7723053110666191,0.4201397039690366,0.7773053863317392,-0.3315004647946276,-0.6860213249549219,-0.020104076354670056,0.04019545454381565,-0.6754623404016122,-0.732192938096734,-0.40289856130860857,0.603401104588883,0.4028985613086087,-0.5328094939474014,0.7668174312139007,0.2944996421477422,0.5900104938865391,-0.6860213249549217,0.6961470037356206,0.7948890484160067,0.7984213827426173,-0.3676638884971902,0.5476376847429508,0.7893487553662945,-0.15976798441152576,0.5176447692555554,-0.6412535878967014,0.6860213249549219,-0.4863442381556844,0.6644767193566502,-0.6164105942206313,-0.3496926133207461,0.45381515930140526,-0.5762472199103255,0.08028937188097199,0.06026144442234618,0.12018047129660565,-0.21836154841386018,-0.36766388849719017,0.040195454543815734,0.1002665868514434,0.6290307457092951,-0.7543924287142916,0.715073139321011,0.732192938096734,-0.2567548878457676,0.7723053110666191,-0.7893487553662946,-0.7321929380967341,-0.2944996421477423,-0.772305311066619,0.020104076354669986,0.10026658685144328,-0.7543924287142918,-0.5900104938865393,0.4702282018339785,0.6034011045888831,0.5762472199103253,-0.6644767193566502,0.3496926133207463,-0.7818144988545548,-0.04019545454381554,0.21836154841386018,0.7984213827426173,-0.7999368353630529,-0.5021530890325606,-0.2757143385396138,-0.7773053863317392,-0.7893487553662945,-0.5621199758390792,-0.43711547738741513,-0.4201397039690363,-0.7994315781124715,0.7608452130361228,0.08028937188097192,-0.7723053110666193,0.7994315781124715,-0.7668174312139008,-0.7969068873145381,-0.7058329811479628,-0.34969261332074647,-0.7984213827426173,0.38540293928137226,-0.6164105942206315,-0.7474631539652896,0.6644767193566502,-0.6034011045888827,-0.7058329811479624,0.7969068873145381,0.3854029392813722,-0.21836154841386013,-0.23763326526162803,-0.45381515930140526,0.792369140557321,-0.760845213036123,0.6164105942206315,-0.5762472199103256,0.6754623404016122,0.7773053863317392,0.792369140557321,0.45381515930140515,0.19895190973188387,0.7238616419728157,-0.04019545454381548,-0.42013970396903666,-0.785829800582951,-0.6530714005737472,0.4863442381556842,-0.6530714005737474,0.1201804712966057,0.6754623404016121,0.6412535878967013,0.5328094939474014,0.14001844718022086,0.5621199758390794,0.33150046479462714],\"yaxis\":\"y\",\"type\":\"scatter\"}],                        {\"template\":{\"data\":{\"bar\":[{\"error_x\":{\"color\":\"#2a3f5f\"},\"error_y\":{\"color\":\"#2a3f5f\"},\"marker\":{\"line\":{\"color\":\"#E5ECF6\",\"width\":0.5},\"pattern\":{\"fillmode\":\"overlay\",\"size\":10,\"solidity\":0.2}},\"type\":\"bar\"}],\"barpolar\":[{\"marker\":{\"line\":{\"color\":\"#E5ECF6\",\"width\":0.5},\"pattern\":{\"fillmode\":\"overlay\",\"size\":10,\"solidity\":0.2}},\"type\":\"barpolar\"}],\"carpet\":[{\"aaxis\":{\"endlinecolor\":\"#2a3f5f\",\"gridcolor\":\"white\",\"linecolor\":\"white\",\"minorgridcolor\":\"white\",\"startlinecolor\":\"#2a3f5f\"},\"baxis\":{\"endlinecolor\":\"#2a3f5f\",\"gridcolor\":\"white\",\"linecolor\":\"white\",\"minorgridcolor\":\"white\",\"startlinecolor\":\"#2a3f5f\"},\"type\":\"carpet\"}],\"choropleth\":[{\"colorbar\":{\"outlinewidth\":0,\"ticks\":\"\"},\"type\":\"choropleth\"}],\"contour\":[{\"colorbar\":{\"outlinewidth\":0,\"ticks\":\"\"},\"colorscale\":[[0.0,\"#0d0887\"],[0.1111111111111111,\"#46039f\"],[0.2222222222222222,\"#7201a8\"],[0.3333333333333333,\"#9c179e\"],[0.4444444444444444,\"#bd3786\"],[0.5555555555555556,\"#d8576b\"],[0.6666666666666666,\"#ed7953\"],[0.7777777777777778,\"#fb9f3a\"],[0.8888888888888888,\"#fdca26\"],[1.0,\"#f0f921\"]],\"type\":\"contour\"}],\"contourcarpet\":[{\"colorbar\":{\"outlinewidth\":0,\"ticks\":\"\"},\"type\":\"contourcarpet\"}],\"heatmap\":[{\"colorbar\":{\"outlinewidth\":0,\"ticks\":\"\"},\"colorscale\":[[0.0,\"#0d0887\"],[0.1111111111111111,\"#46039f\"],[0.2222222222222222,\"#7201a8\"],[0.3333333333333333,\"#9c179e\"],[0.4444444444444444,\"#bd3786\"],[0.5555555555555556,\"#d8576b\"],[0.6666666666666666,\"#ed7953\"],[0.7777777777777778,\"#fb9f3a\"],[0.8888888888888888,\"#fdca26\"],[1.0,\"#f0f921\"]],\"type\":\"heatmap\"}],\"heatmapgl\":[{\"colorbar\":{\"outlinewidth\":0,\"ticks\":\"\"},\"colorscale\":[[0.0,\"#0d0887\"],[0.1111111111111111,\"#46039f\"],[0.2222222222222222,\"#7201a8\"],[0.3333333333333333,\"#9c179e\"],[0.4444444444444444,\"#bd3786\"],[0.5555555555555556,\"#d8576b\"],[0.6666666666666666,\"#ed7953\"],[0.7777777777777778,\"#fb9f3a\"],[0.8888888888888888,\"#fdca26\"],[1.0,\"#f0f921\"]],\"type\":\"heatmapgl\"}],\"histogram\":[{\"marker\":{\"pattern\":{\"fillmode\":\"overlay\",\"size\":10,\"solidity\":0.2}},\"type\":\"histogram\"}],\"histogram2d\":[{\"colorbar\":{\"outlinewidth\":0,\"ticks\":\"\"},\"colorscale\":[[0.0,\"#0d0887\"],[0.1111111111111111,\"#46039f\"],[0.2222222222222222,\"#7201a8\"],[0.3333333333333333,\"#9c179e\"],[0.4444444444444444,\"#bd3786\"],[0.5555555555555556,\"#d8576b\"],[0.6666666666666666,\"#ed7953\"],[0.7777777777777778,\"#fb9f3a\"],[0.8888888888888888,\"#fdca26\"],[1.0,\"#f0f921\"]],\"type\":\"histogram2d\"}],\"histogram2dcontour\":[{\"colorbar\":{\"outlinewidth\":0,\"ticks\":\"\"},\"colorscale\":[[0.0,\"#0d0887\"],[0.1111111111111111,\"#46039f\"],[0.2222222222222222,\"#7201a8\"],[0.3333333333333333,\"#9c179e\"],[0.4444444444444444,\"#bd3786\"],[0.5555555555555556,\"#d8576b\"],[0.6666666666666666,\"#ed7953\"],[0.7777777777777778,\"#fb9f3a\"],[0.8888888888888888,\"#fdca26\"],[1.0,\"#f0f921\"]],\"type\":\"histogram2dcontour\"}],\"mesh3d\":[{\"colorbar\":{\"outlinewidth\":0,\"ticks\":\"\"},\"type\":\"mesh3d\"}],\"parcoords\":[{\"line\":{\"colorbar\":{\"outlinewidth\":0,\"ticks\":\"\"}},\"type\":\"parcoords\"}],\"pie\":[{\"automargin\":true,\"type\":\"pie\"}],\"scatter\":[{\"marker\":{\"colorbar\":{\"outlinewidth\":0,\"ticks\":\"\"}},\"type\":\"scatter\"}],\"scatter3d\":[{\"line\":{\"colorbar\":{\"outlinewidth\":0,\"ticks\":\"\"}},\"marker\":{\"colorbar\":{\"outlinewidth\":0,\"ticks\":\"\"}},\"type\":\"scatter3d\"}],\"scattercarpet\":[{\"marker\":{\"colorbar\":{\"outlinewidth\":0,\"ticks\":\"\"}},\"type\":\"scattercarpet\"}],\"scattergeo\":[{\"marker\":{\"colorbar\":{\"outlinewidth\":0,\"ticks\":\"\"}},\"type\":\"scattergeo\"}],\"scattergl\":[{\"marker\":{\"colorbar\":{\"outlinewidth\":0,\"ticks\":\"\"}},\"type\":\"scattergl\"}],\"scattermapbox\":[{\"marker\":{\"colorbar\":{\"outlinewidth\":0,\"ticks\":\"\"}},\"type\":\"scattermapbox\"}],\"scatterpolar\":[{\"marker\":{\"colorbar\":{\"outlinewidth\":0,\"ticks\":\"\"}},\"type\":\"scatterpolar\"}],\"scatterpolargl\":[{\"marker\":{\"colorbar\":{\"outlinewidth\":0,\"ticks\":\"\"}},\"type\":\"scatterpolargl\"}],\"scatterternary\":[{\"marker\":{\"colorbar\":{\"outlinewidth\":0,\"ticks\":\"\"}},\"type\":\"scatterternary\"}],\"surface\":[{\"colorbar\":{\"outlinewidth\":0,\"ticks\":\"\"},\"colorscale\":[[0.0,\"#0d0887\"],[0.1111111111111111,\"#46039f\"],[0.2222222222222222,\"#7201a8\"],[0.3333333333333333,\"#9c179e\"],[0.4444444444444444,\"#bd3786\"],[0.5555555555555556,\"#d8576b\"],[0.6666666666666666,\"#ed7953\"],[0.7777777777777778,\"#fb9f3a\"],[0.8888888888888888,\"#fdca26\"],[1.0,\"#f0f921\"]],\"type\":\"surface\"}],\"table\":[{\"cells\":{\"fill\":{\"color\":\"#EBF0F8\"},\"line\":{\"color\":\"white\"}},\"header\":{\"fill\":{\"color\":\"#C8D4E3\"},\"line\":{\"color\":\"white\"}},\"type\":\"table\"}]},\"layout\":{\"annotationdefaults\":{\"arrowcolor\":\"#2a3f5f\",\"arrowhead\":0,\"arrowwidth\":1},\"autotypenumbers\":\"strict\",\"coloraxis\":{\"colorbar\":{\"outlinewidth\":0,\"ticks\":\"\"}},\"colorscale\":{\"diverging\":[[0,\"#8e0152\"],[0.1,\"#c51b7d\"],[0.2,\"#de77ae\"],[0.3,\"#f1b6da\"],[0.4,\"#fde0ef\"],[0.5,\"#f7f7f7\"],[0.6,\"#e6f5d0\"],[0.7,\"#b8e186\"],[0.8,\"#7fbc41\"],[0.9,\"#4d9221\"],[1,\"#276419\"]],\"sequential\":[[0.0,\"#0d0887\"],[0.1111111111111111,\"#46039f\"],[0.2222222222222222,\"#7201a8\"],[0.3333333333333333,\"#9c179e\"],[0.4444444444444444,\"#bd3786\"],[0.5555555555555556,\"#d8576b\"],[0.6666666666666666,\"#ed7953\"],[0.7777777777777778,\"#fb9f3a\"],[0.8888888888888888,\"#fdca26\"],[1.0,\"#f0f921\"]],\"sequentialminus\":[[0.0,\"#0d0887\"],[0.1111111111111111,\"#46039f\"],[0.2222222222222222,\"#7201a8\"],[0.3333333333333333,\"#9c179e\"],[0.4444444444444444,\"#bd3786\"],[0.5555555555555556,\"#d8576b\"],[0.6666666666666666,\"#ed7953\"],[0.7777777777777778,\"#fb9f3a\"],[0.8888888888888888,\"#fdca26\"],[1.0,\"#f0f921\"]]},\"colorway\":[\"#636efa\",\"#EF553B\",\"#00cc96\",\"#ab63fa\",\"#FFA15A\",\"#19d3f3\",\"#FF6692\",\"#B6E880\",\"#FF97FF\",\"#FECB52\"],\"font\":{\"color\":\"#2a3f5f\"},\"geo\":{\"bgcolor\":\"white\",\"lakecolor\":\"white\",\"landcolor\":\"#E5ECF6\",\"showlakes\":true,\"showland\":true,\"subunitcolor\":\"white\"},\"hoverlabel\":{\"align\":\"left\"},\"hovermode\":\"closest\",\"mapbox\":{\"style\":\"light\"},\"paper_bgcolor\":\"white\",\"plot_bgcolor\":\"#E5ECF6\",\"polar\":{\"angularaxis\":{\"gridcolor\":\"white\",\"linecolor\":\"white\",\"ticks\":\"\"},\"bgcolor\":\"#E5ECF6\",\"radialaxis\":{\"gridcolor\":\"white\",\"linecolor\":\"white\",\"ticks\":\"\"}},\"scene\":{\"xaxis\":{\"backgroundcolor\":\"#E5ECF6\",\"gridcolor\":\"white\",\"gridwidth\":2,\"linecolor\":\"white\",\"showbackground\":true,\"ticks\":\"\",\"zerolinecolor\":\"white\"},\"yaxis\":{\"backgroundcolor\":\"#E5ECF6\",\"gridcolor\":\"white\",\"gridwidth\":2,\"linecolor\":\"white\",\"showbackground\":true,\"ticks\":\"\",\"zerolinecolor\":\"white\"},\"zaxis\":{\"backgroundcolor\":\"#E5ECF6\",\"gridcolor\":\"white\",\"gridwidth\":2,\"linecolor\":\"white\",\"showbackground\":true,\"ticks\":\"\",\"zerolinecolor\":\"white\"}},\"shapedefaults\":{\"line\":{\"color\":\"#2a3f5f\"}},\"ternary\":{\"aaxis\":{\"gridcolor\":\"white\",\"linecolor\":\"white\",\"ticks\":\"\"},\"baxis\":{\"gridcolor\":\"white\",\"linecolor\":\"white\",\"ticks\":\"\"},\"bgcolor\":\"#E5ECF6\",\"caxis\":{\"gridcolor\":\"white\",\"linecolor\":\"white\",\"ticks\":\"\"}},\"title\":{\"x\":0.05},\"xaxis\":{\"automargin\":true,\"gridcolor\":\"white\",\"linecolor\":\"white\",\"ticks\":\"\",\"title\":{\"standoff\":15},\"zerolinecolor\":\"white\",\"zerolinewidth\":2},\"yaxis\":{\"automargin\":true,\"gridcolor\":\"white\",\"linecolor\":\"white\",\"ticks\":\"\",\"title\":{\"standoff\":15},\"zerolinecolor\":\"white\",\"zerolinewidth\":2}}},\"xaxis\":{\"anchor\":\"y\",\"domain\":[0.0,1.0],\"title\":{\"text\":\"x\"}},\"yaxis\":{\"anchor\":\"x\",\"domain\":[0.0,1.0],\"title\":{\"text\":\"y\"}},\"legend\":{\"title\":{\"text\":\"label\"},\"tracegroupgap\":0},\"margin\":{\"t\":60}},                        {\"responsive\": true}                    ).then(function(){\n",
       "                            \n",
       "var gd = document.getElementById('6db8385c-2e58-4434-af49-23b4efb41cab');\n",
       "var x = new MutationObserver(function (mutations, observer) {{\n",
       "        var display = window.getComputedStyle(gd).display;\n",
       "        if (!display || display === 'none') {{\n",
       "            console.log([gd, 'removed!']);\n",
       "            Plotly.purge(gd);\n",
       "            observer.disconnect();\n",
       "        }}\n",
       "}});\n",
       "\n",
       "// Listen for the removal of the full notebook cells\n",
       "var notebookContainer = gd.closest('#notebook-container');\n",
       "if (notebookContainer) {{\n",
       "    x.observe(notebookContainer, {childList: true});\n",
       "}}\n",
       "\n",
       "// Listen for the clearing of the current output cell\n",
       "var outputEl = gd.closest('.output');\n",
       "if (outputEl) {{\n",
       "    x.observe(outputEl, {childList: true});\n",
       "}}\n",
       "\n",
       "                        })                };                });            </script>        </div>"
      ]
     },
     "metadata": {},
     "output_type": "display_data"
    }
   ],
   "source": [
    "px.scatter(circles_df, x='x', y='y', color = 'label')"
   ]
  },
  {
   "cell_type": "code",
   "execution_count": 60,
   "metadata": {},
   "outputs": [
    {
     "data": {
      "application/vnd.jupyter.widget-view+json": {
       "model_id": "5ef982c1c23840c599d137914a8aa335",
       "version_major": 2,
       "version_minor": 0
      },
      "text/plain": [
       "interactive(children=(FloatSlider(value=0.0, description='noise_level', max=0.5, step=0.05), Output()), _dom_c…"
      ]
     },
     "metadata": {},
     "output_type": "display_data"
    }
   ],
   "source": [
    "@widgets.interact\n",
    "def plot_noisy_circles(noise_level = widgets.FloatSlider(value=0, min=0, max=0.5, step=0.05)):\n",
    "    df = make_circles_dataframe(1000, noise_level)\n",
    "    return px.scatter(df, x='x', y='y', color = 'label')"
   ]
  }
 ],
 "metadata": {
  "kernelspec": {
   "display_name": "Python 3",
   "language": "python",
   "name": "python3"
  },
  "language_info": {
   "codemirror_mode": {
    "name": "ipython",
    "version": 3
   },
   "file_extension": ".py",
   "mimetype": "text/x-python",
   "name": "python",
   "nbconvert_exporter": "python",
   "pygments_lexer": "ipython3",
   "version": "3.8.5"
  }
 },
 "nbformat": 4,
 "nbformat_minor": 5
}
